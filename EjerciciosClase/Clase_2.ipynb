{
  "nbformat": 4,
  "nbformat_minor": 0,
  "metadata": {
    "colab": {
      "provenance": [],
      "authorship_tag": "ABX9TyMQ/p0ZmRleEdOIyvk2QilR",
      "include_colab_link": true
    },
    "kernelspec": {
      "name": "python3",
      "display_name": "Python 3"
    },
    "language_info": {
      "name": "python"
    }
  },
  "cells": [
    {
      "cell_type": "markdown",
      "metadata": {
        "id": "view-in-github",
        "colab_type": "text"
      },
      "source": [
        "<a href=\"https://colab.research.google.com/github/luciacasass/UFV-VisualizacionDatos/blob/main/EjerciciosClase/Clase_2.ipynb\" target=\"_parent\"><img src=\"https://colab.research.google.com/assets/colab-badge.svg\" alt=\"Open In Colab\"/></a>"
      ]
    },
    {
      "cell_type": "markdown",
      "source": [
        "## Visualización de Datos - Clase 2\n",
        "\n",
        "Lucía Casas Sierra"
      ],
      "metadata": {
        "id": "UIR0IpFR8zqH"
      }
    },
    {
      "cell_type": "markdown",
      "source": [
        "### Exploración inicial"
      ],
      "metadata": {
        "id": "G3Imfxtud3LL"
      }
    },
    {
      "cell_type": "code",
      "execution_count": 1,
      "metadata": {
        "id": "gJ8itk-e8wcA"
      },
      "outputs": [],
      "source": [
        "# Importación de librerías\n",
        "import pandas as pd\n",
        "import numpy as np\n",
        "import warnings\n",
        "\n",
        "import matplotlib.pyplot as plt\n",
        "import seaborn as sns\n",
        "\n",
        "import plotly.express as px\n",
        "import plotly.graph_objects as go\n",
        "from plotly.subplots import make_subplots\n",
        "\n",
        "warnings.filterwarnings(\"ignore\")\n"
      ]
    },
    {
      "cell_type": "markdown",
      "source": [
        "En el siguiente informe, se presenta una base de datos que contiene información sobre las ventas registradas para diferentes submarcas en distintos países de Europa a lo largo de una franja temporal. El objetivo principal del estudio es la identificación del comportamiento de las predicciones a partir de diferentes herramientas de representación gráfica. Para ello, se procederá a la carga de los datos y las transformaciones adecuadas de los campos para su procesamiento."
      ],
      "metadata": {
        "id": "lDeYfHM5roMX"
      }
    },
    {
      "cell_type": "code",
      "source": [
        "# Carga de datos\n",
        "df = pd.read_csv('datos_ejercicio_ventas.csv')\n",
        "print(df.head())\n",
        "\n",
        "countries = df['COUNTRY'].unique()\n",
        "brands = df['SUBBRAND'].unique()\n",
        "\n",
        "# Cálculo del tiempo que abarca cada escenario: ventas reales y predicciones\n",
        "df['DATE'] = pd.to_datetime(df['YEAR'].astype(str) + '-' + df['MONTH'].astype(str) + '-01')\n",
        "date_range_actual = [df['DATE'][df['SCENARIO']=='actual'].dt.date.min().strftime('%Y-%m'),\n",
        "                     df['DATE'][df['SCENARIO']=='actual'].dt.date.max().strftime('%Y-%m')]\n",
        "date_range_forecast = [df['DATE'][df['SCENARIO']=='AI_forecast'].dt.date.min().strftime('%Y-%m'),\n",
        "                       df['DATE'][df['SCENARIO']=='AI_forecast'].dt.date.max().strftime('%Y-%m')]\n",
        "\n",
        "print('\\nLista de países:\\n', countries)\n",
        "print('\\nLista de marcas:\\n', brands)\n",
        "print()\n",
        "print('Espacio temporal para datos reales de ventas: ', date_range_actual)\n",
        "print('Espacio temporal para predicciones de ventas: ', date_range_forecast)"
      ],
      "metadata": {
        "colab": {
          "base_uri": "https://localhost:8080/"
        },
        "id": "0EyHt2YcdbvQ",
        "outputId": "603eaaf8-9522-4cc8-c3eb-23ecd6161741"
      },
      "execution_count": 2,
      "outputs": [
        {
          "output_type": "stream",
          "name": "stdout",
          "text": [
            "         COUNTRY        SUBBRAND  YEAR  MONTH     SCENARIO FORECAST  \\\n",
            "0       Portugal     Lipton (L3)  2023     12  AI_forecast  AI_P02F   \n",
            "1  Great Britain     Lipton (L3)  2023     12  AI_forecast  AI_P10F   \n",
            "2          Spain  Pepsi Max (L3)  2023     12  AI_forecast  AI_P09F   \n",
            "3  Great Britain        7up (L3)  2024     12  AI_forecast  AI_P10F   \n",
            "4        Hungary     Lipton (L3)  2023      9  AI_forecast  AI_P03F   \n",
            "\n",
            "   FORECAST_YEAR         AMOUNT  \n",
            "0         2023.0  754356.237194  \n",
            "1         2023.0  560030.558029  \n",
            "2         2023.0   88501.980847  \n",
            "3         2023.0  363224.511516  \n",
            "4         2023.0  396176.120491  \n",
            "\n",
            "Lista de países:\n",
            " ['Portugal' 'Great Britain' 'Spain' 'Hungary' 'Norway' 'Denmark'\n",
            " 'Netherlands' 'Italy' 'Czech']\n",
            "\n",
            "Lista de marcas:\n",
            " ['Lipton (L3)' 'Pepsi Max (L3)' '7up (L3)' 'Pepsi Regular (L3)'\n",
            " 'Mountain Dew (L3)' '7up Free (L3)']\n",
            "\n",
            "Espacio temporal para datos reales de ventas:  ['2023-01', '2024-08']\n",
            "Espacio temporal para predicciones de ventas:  ['2023-01', '2025-05']\n"
          ]
        }
      ]
    },
    {
      "cell_type": "markdown",
      "source": [
        "A continuación, se analizará la información relativa a los valores de ventas: se evaluará la proporción de datos conocidos y cifras predecidas, y la viabilidad de la presencia de outliers en el resto del estudio ."
      ],
      "metadata": {
        "id": "N_vh46Ofs470"
      }
    },
    {
      "cell_type": "code",
      "source": [
        "# Resumen Ventas Reales vs Predicciones\n",
        "df_actual = df[df['SCENARIO'] == 'actual']\n",
        "df_forecast = df[df['SCENARIO'] == 'AI_forecast']\n",
        "\n",
        "print('VENTAS REALES:')\n",
        "print('Número de filas: ', len(df_actual))\n",
        "print(f'Representa el {(len(df_actual)/len(df)*100):.2f}% del archivo original')\n",
        "\n",
        "print('\\nDATOS DE PRONÓSTICO:')\n",
        "print('Número de filas: ', len(df_forecast))\n",
        "print(f'Representa el {(len(df_forecast)/len(df)*100):.2f}% del archivo original')"
      ],
      "metadata": {
        "colab": {
          "base_uri": "https://localhost:8080/"
        },
        "id": "52w_yY7KDIlG",
        "outputId": "6aa5b43b-4aef-402d-d4cb-995e8d270305"
      },
      "execution_count": 3,
      "outputs": [
        {
          "output_type": "stream",
          "name": "stdout",
          "text": [
            "VENTAS REALES:\n",
            "Número de filas:  900\n",
            "Representa el 4.82% del archivo original\n",
            "\n",
            "DATOS DE PRONÓSTICO:\n",
            "Número de filas:  17766\n",
            "Representa el 95.18% del archivo original\n"
          ]
        }
      ]
    },
    {
      "cell_type": "markdown",
      "source": [
        "Para la evaluación de los valores del DataFrame de registros reales, primero se obtendrá un resumen estadístico del comportamiento según la marca del producto.\n"
      ],
      "metadata": {
        "id": "zbdO0ZN0tr3d"
      }
    },
    {
      "cell_type": "code",
      "source": [
        "# Resumen estadístico\n",
        "stats_df = df_actual.groupby(['SUBBRAND'])['AMOUNT'].agg(\n",
        "    mean='mean',\n",
        "    std_dev='std',\n",
        "    median='median',\n",
        "    min='min',\n",
        "    max='max',\n",
        "    q25=lambda x: x.quantile(0.25),\n",
        "    q75=lambda x: x.quantile(0.75),\n",
        "    count='count'\n",
        ").reset_index()\n",
        "\n",
        "print(stats_df)"
      ],
      "metadata": {
        "colab": {
          "base_uri": "https://localhost:8080/"
        },
        "id": "hS3EYwgdAi67",
        "outputId": "f0cd8f02-86ce-4caf-df6e-019ec6fc1501"
      },
      "execution_count": 4,
      "outputs": [
        {
          "output_type": "stream",
          "name": "stdout",
          "text": [
            "             SUBBRAND          mean       std_dev         median  \\\n",
            "0            7up (L3)  1.203110e+05  1.402592e+05   75096.547801   \n",
            "1       7up Free (L3)  2.331721e+05  4.029420e+05   78712.619670   \n",
            "2         Lipton (L3)  5.318624e+05  5.459570e+05  330685.544633   \n",
            "3   Mountain Dew (L3)  7.474391e+04  6.212235e+04   54549.290082   \n",
            "4      Pepsi Max (L3)  2.203882e+06  3.788145e+06  487750.741443   \n",
            "5  Pepsi Regular (L3)  7.768370e+05  7.250352e+05  422975.358041   \n",
            "\n",
            "             min           max            q25           q75  count  \n",
            "0  -19481.652378  6.015346e+05   11022.415870  1.592700e+05    156  \n",
            "1      89.354912  1.533494e+06   43560.456630  1.366306e+05    147  \n",
            "2 -217120.103133  2.411276e+06   15308.024487  8.292715e+05    137  \n",
            "3    8073.094616  2.323776e+05   31081.687249  9.120060e+04    100  \n",
            "4   80772.495122  1.481563e+07  210154.618078  2.264963e+06    180  \n",
            "5   34297.395969  2.439380e+06  183688.229438  1.221954e+06    180  \n"
          ]
        }
      ]
    },
    {
      "cell_type": "markdown",
      "source": [
        "Se observa que algunos de los campos muestran valores negativos. Conociendo el dominio del estudio, se excluirán estos registros de la base de datos final, ya que presentan comportamientos demasiado atípicos. Además, se eliminarán las columnas que en el DataFrame original hacían referencia a campos atributos exclusivos de los escenarios de predicciones."
      ],
      "metadata": {
        "id": "WLfIF5JYxVky"
      }
    },
    {
      "cell_type": "code",
      "source": [
        "# Eliminar valores negativos de df_actual\n",
        "df_actual = df_actual[df_actual['AMOUNT'] > 0]\n",
        "print('Número de registros en Actuals: ', len(df_actual))\n",
        "\n",
        "# Eliminar columnas que no interesan\n",
        "df_actual = df_actual.drop(columns=['FORECAST', 'FORECAST_YEAR'])"
      ],
      "metadata": {
        "colab": {
          "base_uri": "https://localhost:8080/"
        },
        "id": "-6sOYx2wA12y",
        "outputId": "c1d4f2af-4875-42d3-b92f-8a52e9f35a04"
      },
      "execution_count": 5,
      "outputs": [
        {
          "output_type": "stream",
          "name": "stdout",
          "text": [
            "Número de registros en Actuals:  890\n"
          ]
        }
      ]
    },
    {
      "cell_type": "code",
      "source": [
        "# Comprobar si hay valores nulos\n",
        "null_counts = df_actual.isnull().sum()\n",
        "\n",
        "print(null_counts)"
      ],
      "metadata": {
        "colab": {
          "base_uri": "https://localhost:8080/"
        },
        "id": "92n7O_zaAS2N",
        "outputId": "def13017-fe29-4842-df38-987487246723"
      },
      "execution_count": 6,
      "outputs": [
        {
          "output_type": "stream",
          "name": "stdout",
          "text": [
            "COUNTRY     0\n",
            "SUBBRAND    0\n",
            "YEAR        0\n",
            "MONTH       0\n",
            "SCENARIO    0\n",
            "AMOUNT      0\n",
            "DATE        0\n",
            "dtype: int64\n"
          ]
        }
      ]
    },
    {
      "cell_type": "markdown",
      "source": [
        "Una vez se ha finalizado la primera inspección del DataFrame de los *Actuals*, se repite el mismo proceso para los datos de *Forecast*."
      ],
      "metadata": {
        "id": "O2MQZGQ0yAuC"
      }
    },
    {
      "cell_type": "code",
      "source": [
        "# Resumen estadístico\n",
        "stats_df = df_forecast.groupby(['SUBBRAND'])['AMOUNT'].agg(\n",
        "    mean='mean',\n",
        "    std_dev='std',\n",
        "    median='median',\n",
        "    min='min',\n",
        "    max='max',\n",
        "    q25=lambda x: x.quantile(0.25),\n",
        "    q75=lambda x: x.quantile(0.75),\n",
        "    count='count'\n",
        ").reset_index()\n",
        "\n",
        "print(stats_df)"
      ],
      "metadata": {
        "colab": {
          "base_uri": "https://localhost:8080/"
        },
        "id": "qXSyqHnlyUfo",
        "outputId": "da89129b-c146-4c2f-b9ae-931f0145acce"
      },
      "execution_count": 7,
      "outputs": [
        {
          "output_type": "stream",
          "name": "stdout",
          "text": [
            "             SUBBRAND          mean       std_dev         median  \\\n",
            "0            7up (L3)  1.075674e+05  1.268640e+05   63535.376374   \n",
            "1       7up Free (L3)  4.700942e+05  6.218755e+05  114672.402313   \n",
            "2         Lipton (L3)  6.295630e+05  5.486773e+05  560213.339785   \n",
            "3   Mountain Dew (L3)  7.752728e+04  7.291431e+04   47115.096998   \n",
            "4      Pepsi Max (L3)  2.196140e+06  3.031393e+06  991225.151914   \n",
            "5  Pepsi Regular (L3)  7.347977e+05  6.291315e+05  558913.258971   \n",
            "\n",
            "            min           max            q25           q75  count  \n",
            "0      0.000000  6.654884e+05   11108.087904  1.526276e+05   2538  \n",
            "1     13.736941  9.750512e+06   49990.802335  1.010236e+06   2196  \n",
            "2      0.000000  2.549642e+06  247696.897661  7.911472e+05   2556  \n",
            "3      0.000000  2.693993e+05   10969.049856  1.433676e+05   1602  \n",
            "4  61568.314722  1.373810e+07  406029.562025  2.511763e+06   5418  \n",
            "5  12997.861011  2.526327e+06  165409.577382  1.191550e+06   3456  \n"
          ]
        }
      ]
    },
    {
      "cell_type": "code",
      "source": [
        "# Eliminar registros de predicciones nulas\n",
        "df_forecast = df_forecast[df_forecast['AMOUNT'] > 0]\n",
        "print('Número de registros en Forecast: ', len(df_forecast))"
      ],
      "metadata": {
        "colab": {
          "base_uri": "https://localhost:8080/"
        },
        "id": "pslEOc10CKo3",
        "outputId": "5b86b1a0-0926-4ca0-f470-c85521a0c474"
      },
      "execution_count": 8,
      "outputs": [
        {
          "output_type": "stream",
          "name": "stdout",
          "text": [
            "Número de registros en Forecast:  17030\n"
          ]
        }
      ]
    },
    {
      "cell_type": "code",
      "source": [
        "# Columnas con valores nulos\n",
        "null_counts = df_forecast.isnull().sum()\n",
        "\n",
        "print(null_counts)"
      ],
      "metadata": {
        "colab": {
          "base_uri": "https://localhost:8080/"
        },
        "id": "jfEVaGVwAgzt",
        "outputId": "49c1eaf3-e130-4d32-a7a4-3795422557d6"
      },
      "execution_count": 9,
      "outputs": [
        {
          "output_type": "stream",
          "name": "stdout",
          "text": [
            "COUNTRY          0\n",
            "SUBBRAND         0\n",
            "YEAR             0\n",
            "MONTH            0\n",
            "SCENARIO         0\n",
            "FORECAST         0\n",
            "FORECAST_YEAR    0\n",
            "AMOUNT           0\n",
            "DATE             0\n",
            "dtype: int64\n"
          ]
        }
      ]
    },
    {
      "cell_type": "markdown",
      "source": [
        "Tras los cambios aplicados al contenido de la base de datos original, se actualiza la distribución de registros en función de la naturaleza del escenario."
      ],
      "metadata": {
        "id": "tAdTjg3Rykfp"
      }
    },
    {
      "cell_type": "code",
      "source": [
        "print('VENTAS REALES:')\n",
        "print('Número de filas: ', len(df_actual))\n",
        "print(f'Representa el {(len(df_actual)/(len(df_actual)+len(df_forecast))*100):.2f}% del archivo original')\n",
        "\n",
        "print('\\nDATOS DE PRONÓSTICO:')\n",
        "print('Número de filas: ', len(df_forecast))\n",
        "print(f'Representa el {(len(df_forecast)/(len(df_actual)+len(df_forecast))*100):.2f}% del archivo original')"
      ],
      "metadata": {
        "colab": {
          "base_uri": "https://localhost:8080/"
        },
        "id": "Wzds6z_bBmvn",
        "outputId": "d46c76ed-9744-4413-8418-0889c3bd7f20"
      },
      "execution_count": 10,
      "outputs": [
        {
          "output_type": "stream",
          "name": "stdout",
          "text": [
            "VENTAS REALES:\n",
            "Número de filas:  890\n",
            "Representa el 4.97% del archivo original\n",
            "\n",
            "DATOS DE PRONÓSTICO:\n",
            "Número de filas:  17030\n",
            "Representa el 95.03% del archivo original\n"
          ]
        }
      ]
    },
    {
      "cell_type": "markdown",
      "source": [
        "#### Horizontes de predicción\n",
        "\n",
        "Se procede al cálculo del horizonte de predicción para los datos de pronóstico disponibles para cada marca por país. Este indicador permite comprender la extensión máxima que adoptan las predicciones. De esta forma, se obtiene la mayor diferencia temporal entre la fecha en la que se lanza la predicción y la fecha sobre la que está prediciendo."
      ],
      "metadata": {
        "id": "fbeaJPmNd6NV"
      }
    },
    {
      "cell_type": "code",
      "source": [
        "# Se extrae el mes en el que se registró la predicción\n",
        "def horizon_months(df):\n",
        "  df['FORECAST_MONTH'] = pd.to_numeric(df['FORECAST'].str.extract('-(\\d+)')[0])\n",
        "  # Los campos que no contienen información numérica se refieren a las predicciones registradas en el primer mes\n",
        "  df['FORECAST_MONTH'] = df['FORECAST_MONTH'].fillna(1).astype(int)\n",
        "  df['FORECAST_YEAR'] = df['FORECAST_YEAR'].astype(int)\n",
        "\n",
        "  # Se unen en una sola columna con la fecha completa\n",
        "  df['FORECAST_DATE'] = pd.to_datetime(\n",
        "      df['FORECAST_YEAR'].astype(str) + '-' +\n",
        "      df['FORECAST_MONTH'].astype(str) + '-01'\n",
        "  )\n",
        "  # De acuerdo con el conocimiento de la base de datos, se resta un mes\n",
        "  df['FORECAST_DATE'] = df['FORECAST_DATE'] - pd.DateOffset(months=1)\n",
        "\n",
        "  # Horizonte (meses) = fecha para predicción - fecha de registro\n",
        "  df['HORIZON_MONTHS'] = (\n",
        "      (df['DATE'].dt.year - df['FORECAST_DATE'].dt.year) * 12\n",
        "      + (df['DATE'].dt.month - df['FORECAST_DATE'].dt.month)\n",
        "  )\n",
        "  return df\n",
        "\n",
        "df_forecast = horizon_months(df_forecast)\n",
        "\n",
        "print(df_forecast.head())\n"
      ],
      "metadata": {
        "colab": {
          "base_uri": "https://localhost:8080/"
        },
        "id": "kVq97Gf4EPO-",
        "outputId": "112f9b59-3970-4ae4-f7b4-e502e10022e9"
      },
      "execution_count": 11,
      "outputs": [
        {
          "output_type": "stream",
          "name": "stdout",
          "text": [
            "         COUNTRY        SUBBRAND  YEAR  MONTH     SCENARIO FORECAST  \\\n",
            "0       Portugal     Lipton (L3)  2023     12  AI_forecast  AI_P02F   \n",
            "1  Great Britain     Lipton (L3)  2023     12  AI_forecast  AI_P10F   \n",
            "2          Spain  Pepsi Max (L3)  2023     12  AI_forecast  AI_P09F   \n",
            "3  Great Britain        7up (L3)  2024     12  AI_forecast  AI_P10F   \n",
            "4        Hungary     Lipton (L3)  2023      9  AI_forecast  AI_P03F   \n",
            "\n",
            "   FORECAST_YEAR         AMOUNT       DATE  FORECAST_MONTH FORECAST_DATE  \\\n",
            "0           2023  754356.237194 2023-12-01               1    2022-12-01   \n",
            "1           2023  560030.558029 2023-12-01               1    2022-12-01   \n",
            "2           2023   88501.980847 2023-12-01               1    2022-12-01   \n",
            "3           2023  363224.511516 2024-12-01               1    2022-12-01   \n",
            "4           2023  396176.120491 2023-09-01               1    2022-12-01   \n",
            "\n",
            "   HORIZON_MONTHS  \n",
            "0              12  \n",
            "1              12  \n",
            "2              12  \n",
            "3              24  \n",
            "4               9  \n"
          ]
        }
      ]
    },
    {
      "cell_type": "code",
      "source": [
        "# Extracción del horizonte máximo por cada país y submarca\n",
        "subbrand_horizon_months = df_forecast.groupby(['COUNTRY', 'SUBBRAND'])['HORIZON_MONTHS'].max().reset_index()\n",
        "print('Horizonte de predicción para los pares Country + Subbrand: ', subbrand_horizon_months['HORIZON_MONTHS'].unique())\n",
        "print(subbrand_horizon_months)\n"
      ],
      "metadata": {
        "colab": {
          "base_uri": "https://localhost:8080/"
        },
        "id": "Z4TeqXlFRLB_",
        "outputId": "fc5d2de7-c092-44d5-eaa4-3dae02da52b1"
      },
      "execution_count": 12,
      "outputs": [
        {
          "output_type": "stream",
          "name": "stdout",
          "text": [
            "Horizonte de predicción para los pares Country + Subbrand:  [29 25 27]\n",
            "          COUNTRY            SUBBRAND  HORIZON_MONTHS\n",
            "0           Czech            7up (L3)              29\n",
            "1           Czech         Lipton (L3)              29\n",
            "2           Czech   Mountain Dew (L3)              29\n",
            "3           Czech      Pepsi Max (L3)              29\n",
            "4           Czech  Pepsi Regular (L3)              29\n",
            "5         Denmark       7up Free (L3)              29\n",
            "6         Denmark   Mountain Dew (L3)              29\n",
            "7         Denmark      Pepsi Max (L3)              29\n",
            "8         Denmark  Pepsi Regular (L3)              29\n",
            "9   Great Britain            7up (L3)              29\n",
            "10  Great Britain       7up Free (L3)              29\n",
            "11  Great Britain         Lipton (L3)              29\n",
            "12  Great Britain   Mountain Dew (L3)              29\n",
            "13  Great Britain      Pepsi Max (L3)              29\n",
            "14  Great Britain  Pepsi Regular (L3)              29\n",
            "15        Hungary            7up (L3)              25\n",
            "16        Hungary       7up Free (L3)              29\n",
            "17        Hungary         Lipton (L3)              29\n",
            "18        Hungary   Mountain Dew (L3)              29\n",
            "19        Hungary      Pepsi Max (L3)              29\n",
            "20        Hungary  Pepsi Regular (L3)              29\n",
            "21          Italy            7up (L3)              29\n",
            "22          Italy      Pepsi Max (L3)              29\n",
            "23          Italy  Pepsi Regular (L3)              29\n",
            "24    Netherlands            7up (L3)              29\n",
            "25    Netherlands       7up Free (L3)              29\n",
            "26    Netherlands         Lipton (L3)              29\n",
            "27    Netherlands      Pepsi Max (L3)              29\n",
            "28    Netherlands  Pepsi Regular (L3)              29\n",
            "29         Norway            7up (L3)              27\n",
            "30         Norway       7up Free (L3)              29\n",
            "31         Norway         Lipton (L3)              29\n",
            "32         Norway   Mountain Dew (L3)              29\n",
            "33         Norway      Pepsi Max (L3)              29\n",
            "34         Norway  Pepsi Regular (L3)              29\n",
            "35       Portugal            7up (L3)              29\n",
            "36       Portugal       7up Free (L3)              29\n",
            "37       Portugal         Lipton (L3)              29\n",
            "38       Portugal      Pepsi Max (L3)              29\n",
            "39       Portugal  Pepsi Regular (L3)              29\n",
            "40          Spain            7up (L3)              29\n",
            "41          Spain       7up Free (L3)              29\n",
            "42          Spain         Lipton (L3)              29\n",
            "43          Spain      Pepsi Max (L3)              29\n",
            "44          Spain  Pepsi Regular (L3)              29\n"
          ]
        }
      ]
    },
    {
      "cell_type": "markdown",
      "source": [
        "De acuerdo a los resultados obtenidos, el horizonte de predicción se corresponde con 29 meses en la mayoría de los casos. No obstante, existen algunas excepciones que reducen el horizonte a 25 y 27 meses. Vamos a estudiar esos casos particulares para evaluar si se han visto reducidos como consecuencia de la limpieza de datos previa."
      ],
      "metadata": {
        "id": "uVCrr6ALe5IU"
      }
    },
    {
      "cell_type": "code",
      "source": [
        "horizon_25 = subbrand_horizon_months[['COUNTRY', 'SUBBRAND']][subbrand_horizon_months['HORIZON_MONTHS'] == 25]\n",
        "horizon_25 = list(horizon_25.iloc[0, :])\n",
        "print(horizon_25)\n",
        "\n",
        "horizon_27 = subbrand_horizon_months[['COUNTRY', 'SUBBRAND']][subbrand_horizon_months['HORIZON_MONTHS'] == 27]\n",
        "horizon_27 = list(horizon_27.iloc[0, :])\n",
        "print(horizon_27)"
      ],
      "metadata": {
        "colab": {
          "base_uri": "https://localhost:8080/"
        },
        "id": "lf2LpOGsP7sT",
        "outputId": "5b1d07bc-46cc-4210-b7c8-fcdcc00bad2f"
      },
      "execution_count": 13,
      "outputs": [
        {
          "output_type": "stream",
          "name": "stdout",
          "text": [
            "['Hungary', '7up (L3)']\n",
            "['Norway', '7up (L3)']\n"
          ]
        }
      ]
    },
    {
      "cell_type": "code",
      "source": [
        "# Cálculo del horizonte\n",
        "df_25 = df[(df['SCENARIO']=='AI_forecast') & (df['COUNTRY'] == horizon_25[0]) & (df['SUBBRAND'] == horizon_25[1])]\n",
        "df_27 = df[(df['SCENARIO']=='AI_forecast') & (df['COUNTRY'] == horizon_27[0]) & (df['SUBBRAND'] == horizon_27[1])]\n",
        "\n",
        "df_25 = horizon_months(df_25)\n",
        "df_27 = horizon_months(df_27)"
      ],
      "metadata": {
        "id": "BZ8aTEhwQEPm"
      },
      "execution_count": 14,
      "outputs": []
    },
    {
      "cell_type": "code",
      "source": [
        "# Extracción del horizonte máximo\n",
        "df_25 = df_25.groupby(['COUNTRY', 'SUBBRAND'])['HORIZON_MONTHS'].max().reset_index()\n",
        "print('Horizonte de predicción para',\n",
        "      ', '.join(df_25['COUNTRY'].astype(str)),\n",
        "      'en',\n",
        "      ', '.join(df_25['SUBBRAND'].astype(str)),\n",
        "      ':',\n",
        "      ', '.join(df_25['HORIZON_MONTHS'].unique().astype(str)))\n",
        "\n",
        "df_27 = df_27.groupby(['COUNTRY', 'SUBBRAND'])['HORIZON_MONTHS'].max().reset_index()\n",
        "print('Horizonte de predicción para',\n",
        "      ', '.join(df_27['COUNTRY'].astype(str)),\n",
        "      'en',\n",
        "      ', '.join(df_27['SUBBRAND'].astype(str)),\n",
        "      ':',\n",
        "      ', '.join(df_27['HORIZON_MONTHS'].unique().astype(str)))"
      ],
      "metadata": {
        "colab": {
          "base_uri": "https://localhost:8080/"
        },
        "id": "JQU6kgp7RpKe",
        "outputId": "cfb686c6-eecd-4d12-dfab-0e11018e3d72"
      },
      "execution_count": 15,
      "outputs": [
        {
          "output_type": "stream",
          "name": "stdout",
          "text": [
            "Horizonte de predicción para Hungary en 7up (L3) : 29\n",
            "Horizonte de predicción para Norway en 7up (L3) : 29\n"
          ]
        }
      ]
    },
    {
      "cell_type": "markdown",
      "source": [
        "Así, se confirma que el horizonte de predicción para todos los casos de estudio únicos de **País + Submarca** son de 29 meses."
      ],
      "metadata": {
        "id": "o5KUp2b3S1h3"
      }
    },
    {
      "cell_type": "markdown",
      "source": [
        "### Distribución de ventas reales\n",
        "Una vez se ha llevado a cabo la primera adaptación y exploración de los datos de estudio, se continúa con la representación gráfica de la información con el fin de trazar los distintos perfiles de ventas en función del país de comercialización, la marca del producto y la línea temporal.\n",
        "#### Por país\n",
        "En este caso en concreto, se requiere la visualización de la comparativa del volumen de ventas entre países. Para ello, se recurre a su representación a partir del diagrama de barras apiladas."
      ],
      "metadata": {
        "id": "iHuf5A4dBNvG"
      }
    },
    {
      "cell_type": "code",
      "source": [
        "# Agrupar por país, sumando el total de ventas\n",
        "sales_by_country = df_actual.groupby('COUNTRY')['AMOUNT'].sum().reset_index()\n",
        "sales_by_country.columns = ['COUNTRY', 'TOTAL_SALES']\n",
        "\n",
        "# Crear el gráfico de barras apiladas\n",
        "fig = px.bar(\n",
        "    sales_by_country,\n",
        "    x='COUNTRY',\n",
        "    y='TOTAL_SALES',\n",
        "    color_discrete_sequence=['#457b9d'],\n",
        "    title='Total Sales by Country',\n",
        "    labels={'TOTAL_SALES': 'Total Sales', 'COUNTRY': 'Country'}\n",
        ")\n",
        "\n",
        "fig.update_layout(template='plotly_white')\n",
        "fig.show()"
      ],
      "metadata": {
        "colab": {
          "base_uri": "https://localhost:8080/",
          "height": 542
        },
        "id": "Oo92S1SQBNaB",
        "outputId": "9d68c92a-e841-49c5-a47c-a43c7522f56a"
      },
      "execution_count": 16,
      "outputs": [
        {
          "output_type": "display_data",
          "data": {
            "text/html": [
              "<html>\n",
              "<head><meta charset=\"utf-8\" /></head>\n",
              "<body>\n",
              "    <div>            <script src=\"https://cdnjs.cloudflare.com/ajax/libs/mathjax/2.7.5/MathJax.js?config=TeX-AMS-MML_SVG\"></script><script type=\"text/javascript\">if (window.MathJax && window.MathJax.Hub && window.MathJax.Hub.Config) {window.MathJax.Hub.Config({SVG: {font: \"STIX-Web\"}});}</script>                <script type=\"text/javascript\">window.PlotlyConfig = {MathJaxConfig: 'local'};</script>\n",
              "        <script charset=\"utf-8\" src=\"https://cdn.plot.ly/plotly-2.35.2.min.js\"></script>                <div id=\"2f261232-5944-4b98-998a-caec496bf104\" class=\"plotly-graph-div\" style=\"height:525px; width:100%;\"></div>            <script type=\"text/javascript\">                                    window.PLOTLYENV=window.PLOTLYENV || {};                                    if (document.getElementById(\"2f261232-5944-4b98-998a-caec496bf104\")) {                    Plotly.newPlot(                        \"2f261232-5944-4b98-998a-caec496bf104\",                        [{\"alignmentgroup\":\"True\",\"hovertemplate\":\"Country=%{x}\\u003cbr\\u003eTotal Sales=%{y}\\u003cextra\\u003e\\u003c\\u002fextra\\u003e\",\"legendgroup\":\"\",\"marker\":{\"color\":\"#457b9d\",\"pattern\":{\"shape\":\"\"}},\"name\":\"\",\"offsetgroup\":\"\",\"orientation\":\"v\",\"showlegend\":false,\"textposition\":\"auto\",\"x\":[\"Czech\",\"Denmark\",\"Great Britain\",\"Hungary\",\"Italy\",\"Netherlands\",\"Norway\",\"Portugal\",\"Spain\"],\"xaxis\":\"x\",\"y\":[35351639.56481399,56596675.75261528,334778603.75283086,41579473.66154638,43454036.96646074,63959428.7739604,51436967.401420735,34888069.81380808,8131265.977520084],\"yaxis\":\"y\",\"type\":\"bar\"}],                        {\"template\":{\"data\":{\"barpolar\":[{\"marker\":{\"line\":{\"color\":\"white\",\"width\":0.5},\"pattern\":{\"fillmode\":\"overlay\",\"size\":10,\"solidity\":0.2}},\"type\":\"barpolar\"}],\"bar\":[{\"error_x\":{\"color\":\"#2a3f5f\"},\"error_y\":{\"color\":\"#2a3f5f\"},\"marker\":{\"line\":{\"color\":\"white\",\"width\":0.5},\"pattern\":{\"fillmode\":\"overlay\",\"size\":10,\"solidity\":0.2}},\"type\":\"bar\"}],\"carpet\":[{\"aaxis\":{\"endlinecolor\":\"#2a3f5f\",\"gridcolor\":\"#C8D4E3\",\"linecolor\":\"#C8D4E3\",\"minorgridcolor\":\"#C8D4E3\",\"startlinecolor\":\"#2a3f5f\"},\"baxis\":{\"endlinecolor\":\"#2a3f5f\",\"gridcolor\":\"#C8D4E3\",\"linecolor\":\"#C8D4E3\",\"minorgridcolor\":\"#C8D4E3\",\"startlinecolor\":\"#2a3f5f\"},\"type\":\"carpet\"}],\"choropleth\":[{\"colorbar\":{\"outlinewidth\":0,\"ticks\":\"\"},\"type\":\"choropleth\"}],\"contourcarpet\":[{\"colorbar\":{\"outlinewidth\":0,\"ticks\":\"\"},\"type\":\"contourcarpet\"}],\"contour\":[{\"colorbar\":{\"outlinewidth\":0,\"ticks\":\"\"},\"colorscale\":[[0.0,\"#0d0887\"],[0.1111111111111111,\"#46039f\"],[0.2222222222222222,\"#7201a8\"],[0.3333333333333333,\"#9c179e\"],[0.4444444444444444,\"#bd3786\"],[0.5555555555555556,\"#d8576b\"],[0.6666666666666666,\"#ed7953\"],[0.7777777777777778,\"#fb9f3a\"],[0.8888888888888888,\"#fdca26\"],[1.0,\"#f0f921\"]],\"type\":\"contour\"}],\"heatmapgl\":[{\"colorbar\":{\"outlinewidth\":0,\"ticks\":\"\"},\"colorscale\":[[0.0,\"#0d0887\"],[0.1111111111111111,\"#46039f\"],[0.2222222222222222,\"#7201a8\"],[0.3333333333333333,\"#9c179e\"],[0.4444444444444444,\"#bd3786\"],[0.5555555555555556,\"#d8576b\"],[0.6666666666666666,\"#ed7953\"],[0.7777777777777778,\"#fb9f3a\"],[0.8888888888888888,\"#fdca26\"],[1.0,\"#f0f921\"]],\"type\":\"heatmapgl\"}],\"heatmap\":[{\"colorbar\":{\"outlinewidth\":0,\"ticks\":\"\"},\"colorscale\":[[0.0,\"#0d0887\"],[0.1111111111111111,\"#46039f\"],[0.2222222222222222,\"#7201a8\"],[0.3333333333333333,\"#9c179e\"],[0.4444444444444444,\"#bd3786\"],[0.5555555555555556,\"#d8576b\"],[0.6666666666666666,\"#ed7953\"],[0.7777777777777778,\"#fb9f3a\"],[0.8888888888888888,\"#fdca26\"],[1.0,\"#f0f921\"]],\"type\":\"heatmap\"}],\"histogram2dcontour\":[{\"colorbar\":{\"outlinewidth\":0,\"ticks\":\"\"},\"colorscale\":[[0.0,\"#0d0887\"],[0.1111111111111111,\"#46039f\"],[0.2222222222222222,\"#7201a8\"],[0.3333333333333333,\"#9c179e\"],[0.4444444444444444,\"#bd3786\"],[0.5555555555555556,\"#d8576b\"],[0.6666666666666666,\"#ed7953\"],[0.7777777777777778,\"#fb9f3a\"],[0.8888888888888888,\"#fdca26\"],[1.0,\"#f0f921\"]],\"type\":\"histogram2dcontour\"}],\"histogram2d\":[{\"colorbar\":{\"outlinewidth\":0,\"ticks\":\"\"},\"colorscale\":[[0.0,\"#0d0887\"],[0.1111111111111111,\"#46039f\"],[0.2222222222222222,\"#7201a8\"],[0.3333333333333333,\"#9c179e\"],[0.4444444444444444,\"#bd3786\"],[0.5555555555555556,\"#d8576b\"],[0.6666666666666666,\"#ed7953\"],[0.7777777777777778,\"#fb9f3a\"],[0.8888888888888888,\"#fdca26\"],[1.0,\"#f0f921\"]],\"type\":\"histogram2d\"}],\"histogram\":[{\"marker\":{\"pattern\":{\"fillmode\":\"overlay\",\"size\":10,\"solidity\":0.2}},\"type\":\"histogram\"}],\"mesh3d\":[{\"colorbar\":{\"outlinewidth\":0,\"ticks\":\"\"},\"type\":\"mesh3d\"}],\"parcoords\":[{\"line\":{\"colorbar\":{\"outlinewidth\":0,\"ticks\":\"\"}},\"type\":\"parcoords\"}],\"pie\":[{\"automargin\":true,\"type\":\"pie\"}],\"scatter3d\":[{\"line\":{\"colorbar\":{\"outlinewidth\":0,\"ticks\":\"\"}},\"marker\":{\"colorbar\":{\"outlinewidth\":0,\"ticks\":\"\"}},\"type\":\"scatter3d\"}],\"scattercarpet\":[{\"marker\":{\"colorbar\":{\"outlinewidth\":0,\"ticks\":\"\"}},\"type\":\"scattercarpet\"}],\"scattergeo\":[{\"marker\":{\"colorbar\":{\"outlinewidth\":0,\"ticks\":\"\"}},\"type\":\"scattergeo\"}],\"scattergl\":[{\"marker\":{\"colorbar\":{\"outlinewidth\":0,\"ticks\":\"\"}},\"type\":\"scattergl\"}],\"scattermapbox\":[{\"marker\":{\"colorbar\":{\"outlinewidth\":0,\"ticks\":\"\"}},\"type\":\"scattermapbox\"}],\"scatterpolargl\":[{\"marker\":{\"colorbar\":{\"outlinewidth\":0,\"ticks\":\"\"}},\"type\":\"scatterpolargl\"}],\"scatterpolar\":[{\"marker\":{\"colorbar\":{\"outlinewidth\":0,\"ticks\":\"\"}},\"type\":\"scatterpolar\"}],\"scatter\":[{\"fillpattern\":{\"fillmode\":\"overlay\",\"size\":10,\"solidity\":0.2},\"type\":\"scatter\"}],\"scatterternary\":[{\"marker\":{\"colorbar\":{\"outlinewidth\":0,\"ticks\":\"\"}},\"type\":\"scatterternary\"}],\"surface\":[{\"colorbar\":{\"outlinewidth\":0,\"ticks\":\"\"},\"colorscale\":[[0.0,\"#0d0887\"],[0.1111111111111111,\"#46039f\"],[0.2222222222222222,\"#7201a8\"],[0.3333333333333333,\"#9c179e\"],[0.4444444444444444,\"#bd3786\"],[0.5555555555555556,\"#d8576b\"],[0.6666666666666666,\"#ed7953\"],[0.7777777777777778,\"#fb9f3a\"],[0.8888888888888888,\"#fdca26\"],[1.0,\"#f0f921\"]],\"type\":\"surface\"}],\"table\":[{\"cells\":{\"fill\":{\"color\":\"#EBF0F8\"},\"line\":{\"color\":\"white\"}},\"header\":{\"fill\":{\"color\":\"#C8D4E3\"},\"line\":{\"color\":\"white\"}},\"type\":\"table\"}]},\"layout\":{\"annotationdefaults\":{\"arrowcolor\":\"#2a3f5f\",\"arrowhead\":0,\"arrowwidth\":1},\"autotypenumbers\":\"strict\",\"coloraxis\":{\"colorbar\":{\"outlinewidth\":0,\"ticks\":\"\"}},\"colorscale\":{\"diverging\":[[0,\"#8e0152\"],[0.1,\"#c51b7d\"],[0.2,\"#de77ae\"],[0.3,\"#f1b6da\"],[0.4,\"#fde0ef\"],[0.5,\"#f7f7f7\"],[0.6,\"#e6f5d0\"],[0.7,\"#b8e186\"],[0.8,\"#7fbc41\"],[0.9,\"#4d9221\"],[1,\"#276419\"]],\"sequential\":[[0.0,\"#0d0887\"],[0.1111111111111111,\"#46039f\"],[0.2222222222222222,\"#7201a8\"],[0.3333333333333333,\"#9c179e\"],[0.4444444444444444,\"#bd3786\"],[0.5555555555555556,\"#d8576b\"],[0.6666666666666666,\"#ed7953\"],[0.7777777777777778,\"#fb9f3a\"],[0.8888888888888888,\"#fdca26\"],[1.0,\"#f0f921\"]],\"sequentialminus\":[[0.0,\"#0d0887\"],[0.1111111111111111,\"#46039f\"],[0.2222222222222222,\"#7201a8\"],[0.3333333333333333,\"#9c179e\"],[0.4444444444444444,\"#bd3786\"],[0.5555555555555556,\"#d8576b\"],[0.6666666666666666,\"#ed7953\"],[0.7777777777777778,\"#fb9f3a\"],[0.8888888888888888,\"#fdca26\"],[1.0,\"#f0f921\"]]},\"colorway\":[\"#636efa\",\"#EF553B\",\"#00cc96\",\"#ab63fa\",\"#FFA15A\",\"#19d3f3\",\"#FF6692\",\"#B6E880\",\"#FF97FF\",\"#FECB52\"],\"font\":{\"color\":\"#2a3f5f\"},\"geo\":{\"bgcolor\":\"white\",\"lakecolor\":\"white\",\"landcolor\":\"white\",\"showlakes\":true,\"showland\":true,\"subunitcolor\":\"#C8D4E3\"},\"hoverlabel\":{\"align\":\"left\"},\"hovermode\":\"closest\",\"mapbox\":{\"style\":\"light\"},\"paper_bgcolor\":\"white\",\"plot_bgcolor\":\"white\",\"polar\":{\"angularaxis\":{\"gridcolor\":\"#EBF0F8\",\"linecolor\":\"#EBF0F8\",\"ticks\":\"\"},\"bgcolor\":\"white\",\"radialaxis\":{\"gridcolor\":\"#EBF0F8\",\"linecolor\":\"#EBF0F8\",\"ticks\":\"\"}},\"scene\":{\"xaxis\":{\"backgroundcolor\":\"white\",\"gridcolor\":\"#DFE8F3\",\"gridwidth\":2,\"linecolor\":\"#EBF0F8\",\"showbackground\":true,\"ticks\":\"\",\"zerolinecolor\":\"#EBF0F8\"},\"yaxis\":{\"backgroundcolor\":\"white\",\"gridcolor\":\"#DFE8F3\",\"gridwidth\":2,\"linecolor\":\"#EBF0F8\",\"showbackground\":true,\"ticks\":\"\",\"zerolinecolor\":\"#EBF0F8\"},\"zaxis\":{\"backgroundcolor\":\"white\",\"gridcolor\":\"#DFE8F3\",\"gridwidth\":2,\"linecolor\":\"#EBF0F8\",\"showbackground\":true,\"ticks\":\"\",\"zerolinecolor\":\"#EBF0F8\"}},\"shapedefaults\":{\"line\":{\"color\":\"#2a3f5f\"}},\"ternary\":{\"aaxis\":{\"gridcolor\":\"#DFE8F3\",\"linecolor\":\"#A2B1C6\",\"ticks\":\"\"},\"baxis\":{\"gridcolor\":\"#DFE8F3\",\"linecolor\":\"#A2B1C6\",\"ticks\":\"\"},\"bgcolor\":\"white\",\"caxis\":{\"gridcolor\":\"#DFE8F3\",\"linecolor\":\"#A2B1C6\",\"ticks\":\"\"}},\"title\":{\"x\":0.05},\"xaxis\":{\"automargin\":true,\"gridcolor\":\"#EBF0F8\",\"linecolor\":\"#EBF0F8\",\"ticks\":\"\",\"title\":{\"standoff\":15},\"zerolinecolor\":\"#EBF0F8\",\"zerolinewidth\":2},\"yaxis\":{\"automargin\":true,\"gridcolor\":\"#EBF0F8\",\"linecolor\":\"#EBF0F8\",\"ticks\":\"\",\"title\":{\"standoff\":15},\"zerolinecolor\":\"#EBF0F8\",\"zerolinewidth\":2}}},\"xaxis\":{\"anchor\":\"y\",\"domain\":[0.0,1.0],\"title\":{\"text\":\"Country\"}},\"yaxis\":{\"anchor\":\"x\",\"domain\":[0.0,1.0],\"title\":{\"text\":\"Total Sales\"}},\"legend\":{\"tracegroupgap\":0},\"title\":{\"text\":\"Total Sales by Country\"},\"barmode\":\"relative\"},                        {\"responsive\": true}                    ).then(function(){\n",
              "                            \n",
              "var gd = document.getElementById('2f261232-5944-4b98-998a-caec496bf104');\n",
              "var x = new MutationObserver(function (mutations, observer) {{\n",
              "        var display = window.getComputedStyle(gd).display;\n",
              "        if (!display || display === 'none') {{\n",
              "            console.log([gd, 'removed!']);\n",
              "            Plotly.purge(gd);\n",
              "            observer.disconnect();\n",
              "        }}\n",
              "}});\n",
              "\n",
              "// Listen for the removal of the full notebook cells\n",
              "var notebookContainer = gd.closest('#notebook-container');\n",
              "if (notebookContainer) {{\n",
              "    x.observe(notebookContainer, {childList: true});\n",
              "}}\n",
              "\n",
              "// Listen for the clearing of the current output cell\n",
              "var outputEl = gd.closest('.output');\n",
              "if (outputEl) {{\n",
              "    x.observe(outputEl, {childList: true});\n",
              "}}\n",
              "\n",
              "                        })                };                            </script>        </div>\n",
              "</body>\n",
              "</html>"
            ]
          },
          "metadata": {}
        }
      ]
    },
    {
      "cell_type": "markdown",
      "source": [
        "Asísmismo, se aprovecha esta característica de localización para graficar los datos sobre un mapa de calor para entender la distribución geográfica de las ventas. Se observa que, frente a los resultados representados anteriormente, Reino Unido es el país que más destaca, complicando la identificación de diferencias entre otros países a partir del color de relleno asignado."
      ],
      "metadata": {
        "id": "qkXotJ2N3ZHf"
      }
    },
    {
      "cell_type": "code",
      "source": [
        "# Crear el gráfico (choropleth) usando el código de país (ISO-3)\n",
        "fig = px.choropleth(\n",
        "    sales_by_country,\n",
        "    locations=\"COUNTRY\",\n",
        "    locationmode=\"country names\",  # Modo para nombres de países\n",
        "    color=\"TOTAL_SALES\",\n",
        "    color_continuous_scale=[[0, '#cde7f4'], [1, '#457b9d']],\n",
        "    title=\"Total Sales by Country\",\n",
        "    labels={'TOTAL_SALES': 'Total Sales', 'COUNTRY': 'Country'}\n",
        ")\n",
        "\n",
        "# Hacer zoom sobre el continente europeo\n",
        "fig.update_geos(\n",
        "    scope=\"europe\",  # Muestra solo Europa\n",
        "    showcoastlines=True,  # Mostrar costas\n",
        "    coastlinecolor=\"Black\",  # Color de las costas\n",
        "    coastlinewidth=0.5,  # Ancho de las costas\n",
        ")\n",
        "fig.update_layout(template='plotly_white')\n",
        "fig.show()"
      ],
      "metadata": {
        "colab": {
          "base_uri": "https://localhost:8080/",
          "height": 542
        },
        "id": "dT_VdBIk3lnx",
        "outputId": "98d12643-9950-4e75-ed58-79ff3811fea8"
      },
      "execution_count": 17,
      "outputs": [
        {
          "output_type": "display_data",
          "data": {
            "text/html": [
              "<html>\n",
              "<head><meta charset=\"utf-8\" /></head>\n",
              "<body>\n",
              "    <div>            <script src=\"https://cdnjs.cloudflare.com/ajax/libs/mathjax/2.7.5/MathJax.js?config=TeX-AMS-MML_SVG\"></script><script type=\"text/javascript\">if (window.MathJax && window.MathJax.Hub && window.MathJax.Hub.Config) {window.MathJax.Hub.Config({SVG: {font: \"STIX-Web\"}});}</script>                <script type=\"text/javascript\">window.PlotlyConfig = {MathJaxConfig: 'local'};</script>\n",
              "        <script charset=\"utf-8\" src=\"https://cdn.plot.ly/plotly-2.35.2.min.js\"></script>                <div id=\"c65b7666-9adf-4bb8-8954-d89d97d41864\" class=\"plotly-graph-div\" style=\"height:525px; width:100%;\"></div>            <script type=\"text/javascript\">                                    window.PLOTLYENV=window.PLOTLYENV || {};                                    if (document.getElementById(\"c65b7666-9adf-4bb8-8954-d89d97d41864\")) {                    Plotly.newPlot(                        \"c65b7666-9adf-4bb8-8954-d89d97d41864\",                        [{\"coloraxis\":\"coloraxis\",\"geo\":\"geo\",\"hovertemplate\":\"Country=%{location}\\u003cbr\\u003eTotal Sales=%{z}\\u003cextra\\u003e\\u003c\\u002fextra\\u003e\",\"locationmode\":\"country names\",\"locations\":[\"Czech\",\"Denmark\",\"Great Britain\",\"Hungary\",\"Italy\",\"Netherlands\",\"Norway\",\"Portugal\",\"Spain\"],\"name\":\"\",\"z\":[35351639.56481399,56596675.75261528,334778603.75283086,41579473.66154638,43454036.96646074,63959428.7739604,51436967.401420735,34888069.81380808,8131265.977520084],\"type\":\"choropleth\"}],                        {\"template\":{\"data\":{\"barpolar\":[{\"marker\":{\"line\":{\"color\":\"white\",\"width\":0.5},\"pattern\":{\"fillmode\":\"overlay\",\"size\":10,\"solidity\":0.2}},\"type\":\"barpolar\"}],\"bar\":[{\"error_x\":{\"color\":\"#2a3f5f\"},\"error_y\":{\"color\":\"#2a3f5f\"},\"marker\":{\"line\":{\"color\":\"white\",\"width\":0.5},\"pattern\":{\"fillmode\":\"overlay\",\"size\":10,\"solidity\":0.2}},\"type\":\"bar\"}],\"carpet\":[{\"aaxis\":{\"endlinecolor\":\"#2a3f5f\",\"gridcolor\":\"#C8D4E3\",\"linecolor\":\"#C8D4E3\",\"minorgridcolor\":\"#C8D4E3\",\"startlinecolor\":\"#2a3f5f\"},\"baxis\":{\"endlinecolor\":\"#2a3f5f\",\"gridcolor\":\"#C8D4E3\",\"linecolor\":\"#C8D4E3\",\"minorgridcolor\":\"#C8D4E3\",\"startlinecolor\":\"#2a3f5f\"},\"type\":\"carpet\"}],\"choropleth\":[{\"colorbar\":{\"outlinewidth\":0,\"ticks\":\"\"},\"type\":\"choropleth\"}],\"contourcarpet\":[{\"colorbar\":{\"outlinewidth\":0,\"ticks\":\"\"},\"type\":\"contourcarpet\"}],\"contour\":[{\"colorbar\":{\"outlinewidth\":0,\"ticks\":\"\"},\"colorscale\":[[0.0,\"#0d0887\"],[0.1111111111111111,\"#46039f\"],[0.2222222222222222,\"#7201a8\"],[0.3333333333333333,\"#9c179e\"],[0.4444444444444444,\"#bd3786\"],[0.5555555555555556,\"#d8576b\"],[0.6666666666666666,\"#ed7953\"],[0.7777777777777778,\"#fb9f3a\"],[0.8888888888888888,\"#fdca26\"],[1.0,\"#f0f921\"]],\"type\":\"contour\"}],\"heatmapgl\":[{\"colorbar\":{\"outlinewidth\":0,\"ticks\":\"\"},\"colorscale\":[[0.0,\"#0d0887\"],[0.1111111111111111,\"#46039f\"],[0.2222222222222222,\"#7201a8\"],[0.3333333333333333,\"#9c179e\"],[0.4444444444444444,\"#bd3786\"],[0.5555555555555556,\"#d8576b\"],[0.6666666666666666,\"#ed7953\"],[0.7777777777777778,\"#fb9f3a\"],[0.8888888888888888,\"#fdca26\"],[1.0,\"#f0f921\"]],\"type\":\"heatmapgl\"}],\"heatmap\":[{\"colorbar\":{\"outlinewidth\":0,\"ticks\":\"\"},\"colorscale\":[[0.0,\"#0d0887\"],[0.1111111111111111,\"#46039f\"],[0.2222222222222222,\"#7201a8\"],[0.3333333333333333,\"#9c179e\"],[0.4444444444444444,\"#bd3786\"],[0.5555555555555556,\"#d8576b\"],[0.6666666666666666,\"#ed7953\"],[0.7777777777777778,\"#fb9f3a\"],[0.8888888888888888,\"#fdca26\"],[1.0,\"#f0f921\"]],\"type\":\"heatmap\"}],\"histogram2dcontour\":[{\"colorbar\":{\"outlinewidth\":0,\"ticks\":\"\"},\"colorscale\":[[0.0,\"#0d0887\"],[0.1111111111111111,\"#46039f\"],[0.2222222222222222,\"#7201a8\"],[0.3333333333333333,\"#9c179e\"],[0.4444444444444444,\"#bd3786\"],[0.5555555555555556,\"#d8576b\"],[0.6666666666666666,\"#ed7953\"],[0.7777777777777778,\"#fb9f3a\"],[0.8888888888888888,\"#fdca26\"],[1.0,\"#f0f921\"]],\"type\":\"histogram2dcontour\"}],\"histogram2d\":[{\"colorbar\":{\"outlinewidth\":0,\"ticks\":\"\"},\"colorscale\":[[0.0,\"#0d0887\"],[0.1111111111111111,\"#46039f\"],[0.2222222222222222,\"#7201a8\"],[0.3333333333333333,\"#9c179e\"],[0.4444444444444444,\"#bd3786\"],[0.5555555555555556,\"#d8576b\"],[0.6666666666666666,\"#ed7953\"],[0.7777777777777778,\"#fb9f3a\"],[0.8888888888888888,\"#fdca26\"],[1.0,\"#f0f921\"]],\"type\":\"histogram2d\"}],\"histogram\":[{\"marker\":{\"pattern\":{\"fillmode\":\"overlay\",\"size\":10,\"solidity\":0.2}},\"type\":\"histogram\"}],\"mesh3d\":[{\"colorbar\":{\"outlinewidth\":0,\"ticks\":\"\"},\"type\":\"mesh3d\"}],\"parcoords\":[{\"line\":{\"colorbar\":{\"outlinewidth\":0,\"ticks\":\"\"}},\"type\":\"parcoords\"}],\"pie\":[{\"automargin\":true,\"type\":\"pie\"}],\"scatter3d\":[{\"line\":{\"colorbar\":{\"outlinewidth\":0,\"ticks\":\"\"}},\"marker\":{\"colorbar\":{\"outlinewidth\":0,\"ticks\":\"\"}},\"type\":\"scatter3d\"}],\"scattercarpet\":[{\"marker\":{\"colorbar\":{\"outlinewidth\":0,\"ticks\":\"\"}},\"type\":\"scattercarpet\"}],\"scattergeo\":[{\"marker\":{\"colorbar\":{\"outlinewidth\":0,\"ticks\":\"\"}},\"type\":\"scattergeo\"}],\"scattergl\":[{\"marker\":{\"colorbar\":{\"outlinewidth\":0,\"ticks\":\"\"}},\"type\":\"scattergl\"}],\"scattermapbox\":[{\"marker\":{\"colorbar\":{\"outlinewidth\":0,\"ticks\":\"\"}},\"type\":\"scattermapbox\"}],\"scatterpolargl\":[{\"marker\":{\"colorbar\":{\"outlinewidth\":0,\"ticks\":\"\"}},\"type\":\"scatterpolargl\"}],\"scatterpolar\":[{\"marker\":{\"colorbar\":{\"outlinewidth\":0,\"ticks\":\"\"}},\"type\":\"scatterpolar\"}],\"scatter\":[{\"fillpattern\":{\"fillmode\":\"overlay\",\"size\":10,\"solidity\":0.2},\"type\":\"scatter\"}],\"scatterternary\":[{\"marker\":{\"colorbar\":{\"outlinewidth\":0,\"ticks\":\"\"}},\"type\":\"scatterternary\"}],\"surface\":[{\"colorbar\":{\"outlinewidth\":0,\"ticks\":\"\"},\"colorscale\":[[0.0,\"#0d0887\"],[0.1111111111111111,\"#46039f\"],[0.2222222222222222,\"#7201a8\"],[0.3333333333333333,\"#9c179e\"],[0.4444444444444444,\"#bd3786\"],[0.5555555555555556,\"#d8576b\"],[0.6666666666666666,\"#ed7953\"],[0.7777777777777778,\"#fb9f3a\"],[0.8888888888888888,\"#fdca26\"],[1.0,\"#f0f921\"]],\"type\":\"surface\"}],\"table\":[{\"cells\":{\"fill\":{\"color\":\"#EBF0F8\"},\"line\":{\"color\":\"white\"}},\"header\":{\"fill\":{\"color\":\"#C8D4E3\"},\"line\":{\"color\":\"white\"}},\"type\":\"table\"}]},\"layout\":{\"annotationdefaults\":{\"arrowcolor\":\"#2a3f5f\",\"arrowhead\":0,\"arrowwidth\":1},\"autotypenumbers\":\"strict\",\"coloraxis\":{\"colorbar\":{\"outlinewidth\":0,\"ticks\":\"\"}},\"colorscale\":{\"diverging\":[[0,\"#8e0152\"],[0.1,\"#c51b7d\"],[0.2,\"#de77ae\"],[0.3,\"#f1b6da\"],[0.4,\"#fde0ef\"],[0.5,\"#f7f7f7\"],[0.6,\"#e6f5d0\"],[0.7,\"#b8e186\"],[0.8,\"#7fbc41\"],[0.9,\"#4d9221\"],[1,\"#276419\"]],\"sequential\":[[0.0,\"#0d0887\"],[0.1111111111111111,\"#46039f\"],[0.2222222222222222,\"#7201a8\"],[0.3333333333333333,\"#9c179e\"],[0.4444444444444444,\"#bd3786\"],[0.5555555555555556,\"#d8576b\"],[0.6666666666666666,\"#ed7953\"],[0.7777777777777778,\"#fb9f3a\"],[0.8888888888888888,\"#fdca26\"],[1.0,\"#f0f921\"]],\"sequentialminus\":[[0.0,\"#0d0887\"],[0.1111111111111111,\"#46039f\"],[0.2222222222222222,\"#7201a8\"],[0.3333333333333333,\"#9c179e\"],[0.4444444444444444,\"#bd3786\"],[0.5555555555555556,\"#d8576b\"],[0.6666666666666666,\"#ed7953\"],[0.7777777777777778,\"#fb9f3a\"],[0.8888888888888888,\"#fdca26\"],[1.0,\"#f0f921\"]]},\"colorway\":[\"#636efa\",\"#EF553B\",\"#00cc96\",\"#ab63fa\",\"#FFA15A\",\"#19d3f3\",\"#FF6692\",\"#B6E880\",\"#FF97FF\",\"#FECB52\"],\"font\":{\"color\":\"#2a3f5f\"},\"geo\":{\"bgcolor\":\"white\",\"lakecolor\":\"white\",\"landcolor\":\"white\",\"showlakes\":true,\"showland\":true,\"subunitcolor\":\"#C8D4E3\"},\"hoverlabel\":{\"align\":\"left\"},\"hovermode\":\"closest\",\"mapbox\":{\"style\":\"light\"},\"paper_bgcolor\":\"white\",\"plot_bgcolor\":\"white\",\"polar\":{\"angularaxis\":{\"gridcolor\":\"#EBF0F8\",\"linecolor\":\"#EBF0F8\",\"ticks\":\"\"},\"bgcolor\":\"white\",\"radialaxis\":{\"gridcolor\":\"#EBF0F8\",\"linecolor\":\"#EBF0F8\",\"ticks\":\"\"}},\"scene\":{\"xaxis\":{\"backgroundcolor\":\"white\",\"gridcolor\":\"#DFE8F3\",\"gridwidth\":2,\"linecolor\":\"#EBF0F8\",\"showbackground\":true,\"ticks\":\"\",\"zerolinecolor\":\"#EBF0F8\"},\"yaxis\":{\"backgroundcolor\":\"white\",\"gridcolor\":\"#DFE8F3\",\"gridwidth\":2,\"linecolor\":\"#EBF0F8\",\"showbackground\":true,\"ticks\":\"\",\"zerolinecolor\":\"#EBF0F8\"},\"zaxis\":{\"backgroundcolor\":\"white\",\"gridcolor\":\"#DFE8F3\",\"gridwidth\":2,\"linecolor\":\"#EBF0F8\",\"showbackground\":true,\"ticks\":\"\",\"zerolinecolor\":\"#EBF0F8\"}},\"shapedefaults\":{\"line\":{\"color\":\"#2a3f5f\"}},\"ternary\":{\"aaxis\":{\"gridcolor\":\"#DFE8F3\",\"linecolor\":\"#A2B1C6\",\"ticks\":\"\"},\"baxis\":{\"gridcolor\":\"#DFE8F3\",\"linecolor\":\"#A2B1C6\",\"ticks\":\"\"},\"bgcolor\":\"white\",\"caxis\":{\"gridcolor\":\"#DFE8F3\",\"linecolor\":\"#A2B1C6\",\"ticks\":\"\"}},\"title\":{\"x\":0.05},\"xaxis\":{\"automargin\":true,\"gridcolor\":\"#EBF0F8\",\"linecolor\":\"#EBF0F8\",\"ticks\":\"\",\"title\":{\"standoff\":15},\"zerolinecolor\":\"#EBF0F8\",\"zerolinewidth\":2},\"yaxis\":{\"automargin\":true,\"gridcolor\":\"#EBF0F8\",\"linecolor\":\"#EBF0F8\",\"ticks\":\"\",\"title\":{\"standoff\":15},\"zerolinecolor\":\"#EBF0F8\",\"zerolinewidth\":2}}},\"geo\":{\"domain\":{\"x\":[0.0,1.0],\"y\":[0.0,1.0]},\"center\":{},\"scope\":\"europe\",\"showcoastlines\":true,\"coastlinecolor\":\"Black\",\"coastlinewidth\":0.5},\"coloraxis\":{\"colorbar\":{\"title\":{\"text\":\"Total Sales\"}},\"colorscale\":[[0,\"#cde7f4\"],[1,\"#457b9d\"]]},\"legend\":{\"tracegroupgap\":0},\"title\":{\"text\":\"Total Sales by Country\"}},                        {\"responsive\": true}                    ).then(function(){\n",
              "                            \n",
              "var gd = document.getElementById('c65b7666-9adf-4bb8-8954-d89d97d41864');\n",
              "var x = new MutationObserver(function (mutations, observer) {{\n",
              "        var display = window.getComputedStyle(gd).display;\n",
              "        if (!display || display === 'none') {{\n",
              "            console.log([gd, 'removed!']);\n",
              "            Plotly.purge(gd);\n",
              "            observer.disconnect();\n",
              "        }}\n",
              "}});\n",
              "\n",
              "// Listen for the removal of the full notebook cells\n",
              "var notebookContainer = gd.closest('#notebook-container');\n",
              "if (notebookContainer) {{\n",
              "    x.observe(notebookContainer, {childList: true});\n",
              "}}\n",
              "\n",
              "// Listen for the clearing of the current output cell\n",
              "var outputEl = gd.closest('.output');\n",
              "if (outputEl) {{\n",
              "    x.observe(outputEl, {childList: true});\n",
              "}}\n",
              "\n",
              "                        })                };                            </script>        </div>\n",
              "</body>\n",
              "</html>"
            ]
          },
          "metadata": {}
        }
      ]
    },
    {
      "cell_type": "markdown",
      "source": [
        "#### Por mes y año\n",
        "En el caso de la evolución temporal de las ventas, se ha de elegir un gráfico diferente para su trazado, pues la cantidad de fechas para las que se tienen datos es demasiado grande para su repersentación en barras apiladas. Para garantizar la legibilidad del gráfico, es necesario elegir una alternativa más adecuada. Por ello, se empleará el gráfico de líneas."
      ],
      "metadata": {
        "id": "JFYYtQC1Cnai"
      }
    },
    {
      "cell_type": "code",
      "source": [
        "# Agrupar por fecha (mes + año), sumando el total de ventas\n",
        "sales_by_month_year = df_actual.groupby(['YEAR', 'MONTH'])['AMOUNT'].sum().reset_index()\n",
        "\n",
        "# Renombrar columnas\n",
        "sales_by_month_year.columns = ['YEAR', 'MONTH', 'TOTAL_SALES']\n",
        "\n",
        "# Columna que almacene la conjunción de mes y año\n",
        "sales_by_month_year['YEAR_MONTH'] = sales_by_month_year['YEAR'].astype(str) + '-' + sales_by_month_year['MONTH'].astype(str).str.zfill(2)\n",
        "\n",
        "fig = px.line(\n",
        "    sales_by_month_year,\n",
        "    x='YEAR_MONTH',\n",
        "    y='TOTAL_SALES',\n",
        "    line_shape='linear',\n",
        "    color_discrete_sequence=['#457b9d'],\n",
        "    title='Total Sales by Year and Month',\n",
        "    height=600,\n",
        "    labels={'TOTAL_SALES': 'Total Sales', 'YEAR_MONTH': 'Year-Month'}\n",
        ")\n",
        "fig.update_layout(template='plotly_white')\n",
        "fig.show()"
      ],
      "metadata": {
        "id": "AQWaO5CHCpzg",
        "colab": {
          "base_uri": "https://localhost:8080/",
          "height": 617
        },
        "outputId": "7ca00b3e-0289-4fb4-a8d4-343053091295"
      },
      "execution_count": 18,
      "outputs": [
        {
          "output_type": "display_data",
          "data": {
            "text/html": [
              "<html>\n",
              "<head><meta charset=\"utf-8\" /></head>\n",
              "<body>\n",
              "    <div>            <script src=\"https://cdnjs.cloudflare.com/ajax/libs/mathjax/2.7.5/MathJax.js?config=TeX-AMS-MML_SVG\"></script><script type=\"text/javascript\">if (window.MathJax && window.MathJax.Hub && window.MathJax.Hub.Config) {window.MathJax.Hub.Config({SVG: {font: \"STIX-Web\"}});}</script>                <script type=\"text/javascript\">window.PlotlyConfig = {MathJaxConfig: 'local'};</script>\n",
              "        <script charset=\"utf-8\" src=\"https://cdn.plot.ly/plotly-2.35.2.min.js\"></script>                <div id=\"bd27b487-e682-4e82-b898-f60537fd281c\" class=\"plotly-graph-div\" style=\"height:600px; width:100%;\"></div>            <script type=\"text/javascript\">                                    window.PLOTLYENV=window.PLOTLYENV || {};                                    if (document.getElementById(\"bd27b487-e682-4e82-b898-f60537fd281c\")) {                    Plotly.newPlot(                        \"bd27b487-e682-4e82-b898-f60537fd281c\",                        [{\"hovertemplate\":\"Year-Month=%{x}\\u003cbr\\u003eTotal Sales=%{y}\\u003cextra\\u003e\\u003c\\u002fextra\\u003e\",\"legendgroup\":\"\",\"line\":{\"color\":\"#457b9d\",\"dash\":\"solid\",\"shape\":\"linear\"},\"marker\":{\"symbol\":\"circle\"},\"mode\":\"lines\",\"name\":\"\",\"orientation\":\"v\",\"showlegend\":false,\"x\":[\"2023-01\",\"2023-02\",\"2023-03\",\"2023-04\",\"2023-05\",\"2023-06\",\"2023-07\",\"2023-08\",\"2023-09\",\"2023-10\",\"2023-11\",\"2023-12\",\"2024-01\",\"2024-02\",\"2024-03\",\"2024-04\",\"2024-05\",\"2024-06\",\"2024-07\",\"2024-08\"],\"xaxis\":\"x\",\"y\":[28088799.84220129,26104373.57611322,35931633.63600297,30857250.596449837,36902446.494225316,37599991.384633146,34038600.25053667,38174767.91163717,32167763.277069457,31449183.076791007,32917741.228692614,34831748.10789127,26891100.60631172,29890031.205186054,34497661.53535836,33699202.16082029,36772636.05069285,35087629.84020062,35716564.13564737,38557036.74851534],\"yaxis\":\"y\",\"type\":\"scatter\"}],                        {\"template\":{\"data\":{\"barpolar\":[{\"marker\":{\"line\":{\"color\":\"white\",\"width\":0.5},\"pattern\":{\"fillmode\":\"overlay\",\"size\":10,\"solidity\":0.2}},\"type\":\"barpolar\"}],\"bar\":[{\"error_x\":{\"color\":\"#2a3f5f\"},\"error_y\":{\"color\":\"#2a3f5f\"},\"marker\":{\"line\":{\"color\":\"white\",\"width\":0.5},\"pattern\":{\"fillmode\":\"overlay\",\"size\":10,\"solidity\":0.2}},\"type\":\"bar\"}],\"carpet\":[{\"aaxis\":{\"endlinecolor\":\"#2a3f5f\",\"gridcolor\":\"#C8D4E3\",\"linecolor\":\"#C8D4E3\",\"minorgridcolor\":\"#C8D4E3\",\"startlinecolor\":\"#2a3f5f\"},\"baxis\":{\"endlinecolor\":\"#2a3f5f\",\"gridcolor\":\"#C8D4E3\",\"linecolor\":\"#C8D4E3\",\"minorgridcolor\":\"#C8D4E3\",\"startlinecolor\":\"#2a3f5f\"},\"type\":\"carpet\"}],\"choropleth\":[{\"colorbar\":{\"outlinewidth\":0,\"ticks\":\"\"},\"type\":\"choropleth\"}],\"contourcarpet\":[{\"colorbar\":{\"outlinewidth\":0,\"ticks\":\"\"},\"type\":\"contourcarpet\"}],\"contour\":[{\"colorbar\":{\"outlinewidth\":0,\"ticks\":\"\"},\"colorscale\":[[0.0,\"#0d0887\"],[0.1111111111111111,\"#46039f\"],[0.2222222222222222,\"#7201a8\"],[0.3333333333333333,\"#9c179e\"],[0.4444444444444444,\"#bd3786\"],[0.5555555555555556,\"#d8576b\"],[0.6666666666666666,\"#ed7953\"],[0.7777777777777778,\"#fb9f3a\"],[0.8888888888888888,\"#fdca26\"],[1.0,\"#f0f921\"]],\"type\":\"contour\"}],\"heatmapgl\":[{\"colorbar\":{\"outlinewidth\":0,\"ticks\":\"\"},\"colorscale\":[[0.0,\"#0d0887\"],[0.1111111111111111,\"#46039f\"],[0.2222222222222222,\"#7201a8\"],[0.3333333333333333,\"#9c179e\"],[0.4444444444444444,\"#bd3786\"],[0.5555555555555556,\"#d8576b\"],[0.6666666666666666,\"#ed7953\"],[0.7777777777777778,\"#fb9f3a\"],[0.8888888888888888,\"#fdca26\"],[1.0,\"#f0f921\"]],\"type\":\"heatmapgl\"}],\"heatmap\":[{\"colorbar\":{\"outlinewidth\":0,\"ticks\":\"\"},\"colorscale\":[[0.0,\"#0d0887\"],[0.1111111111111111,\"#46039f\"],[0.2222222222222222,\"#7201a8\"],[0.3333333333333333,\"#9c179e\"],[0.4444444444444444,\"#bd3786\"],[0.5555555555555556,\"#d8576b\"],[0.6666666666666666,\"#ed7953\"],[0.7777777777777778,\"#fb9f3a\"],[0.8888888888888888,\"#fdca26\"],[1.0,\"#f0f921\"]],\"type\":\"heatmap\"}],\"histogram2dcontour\":[{\"colorbar\":{\"outlinewidth\":0,\"ticks\":\"\"},\"colorscale\":[[0.0,\"#0d0887\"],[0.1111111111111111,\"#46039f\"],[0.2222222222222222,\"#7201a8\"],[0.3333333333333333,\"#9c179e\"],[0.4444444444444444,\"#bd3786\"],[0.5555555555555556,\"#d8576b\"],[0.6666666666666666,\"#ed7953\"],[0.7777777777777778,\"#fb9f3a\"],[0.8888888888888888,\"#fdca26\"],[1.0,\"#f0f921\"]],\"type\":\"histogram2dcontour\"}],\"histogram2d\":[{\"colorbar\":{\"outlinewidth\":0,\"ticks\":\"\"},\"colorscale\":[[0.0,\"#0d0887\"],[0.1111111111111111,\"#46039f\"],[0.2222222222222222,\"#7201a8\"],[0.3333333333333333,\"#9c179e\"],[0.4444444444444444,\"#bd3786\"],[0.5555555555555556,\"#d8576b\"],[0.6666666666666666,\"#ed7953\"],[0.7777777777777778,\"#fb9f3a\"],[0.8888888888888888,\"#fdca26\"],[1.0,\"#f0f921\"]],\"type\":\"histogram2d\"}],\"histogram\":[{\"marker\":{\"pattern\":{\"fillmode\":\"overlay\",\"size\":10,\"solidity\":0.2}},\"type\":\"histogram\"}],\"mesh3d\":[{\"colorbar\":{\"outlinewidth\":0,\"ticks\":\"\"},\"type\":\"mesh3d\"}],\"parcoords\":[{\"line\":{\"colorbar\":{\"outlinewidth\":0,\"ticks\":\"\"}},\"type\":\"parcoords\"}],\"pie\":[{\"automargin\":true,\"type\":\"pie\"}],\"scatter3d\":[{\"line\":{\"colorbar\":{\"outlinewidth\":0,\"ticks\":\"\"}},\"marker\":{\"colorbar\":{\"outlinewidth\":0,\"ticks\":\"\"}},\"type\":\"scatter3d\"}],\"scattercarpet\":[{\"marker\":{\"colorbar\":{\"outlinewidth\":0,\"ticks\":\"\"}},\"type\":\"scattercarpet\"}],\"scattergeo\":[{\"marker\":{\"colorbar\":{\"outlinewidth\":0,\"ticks\":\"\"}},\"type\":\"scattergeo\"}],\"scattergl\":[{\"marker\":{\"colorbar\":{\"outlinewidth\":0,\"ticks\":\"\"}},\"type\":\"scattergl\"}],\"scattermapbox\":[{\"marker\":{\"colorbar\":{\"outlinewidth\":0,\"ticks\":\"\"}},\"type\":\"scattermapbox\"}],\"scatterpolargl\":[{\"marker\":{\"colorbar\":{\"outlinewidth\":0,\"ticks\":\"\"}},\"type\":\"scatterpolargl\"}],\"scatterpolar\":[{\"marker\":{\"colorbar\":{\"outlinewidth\":0,\"ticks\":\"\"}},\"type\":\"scatterpolar\"}],\"scatter\":[{\"fillpattern\":{\"fillmode\":\"overlay\",\"size\":10,\"solidity\":0.2},\"type\":\"scatter\"}],\"scatterternary\":[{\"marker\":{\"colorbar\":{\"outlinewidth\":0,\"ticks\":\"\"}},\"type\":\"scatterternary\"}],\"surface\":[{\"colorbar\":{\"outlinewidth\":0,\"ticks\":\"\"},\"colorscale\":[[0.0,\"#0d0887\"],[0.1111111111111111,\"#46039f\"],[0.2222222222222222,\"#7201a8\"],[0.3333333333333333,\"#9c179e\"],[0.4444444444444444,\"#bd3786\"],[0.5555555555555556,\"#d8576b\"],[0.6666666666666666,\"#ed7953\"],[0.7777777777777778,\"#fb9f3a\"],[0.8888888888888888,\"#fdca26\"],[1.0,\"#f0f921\"]],\"type\":\"surface\"}],\"table\":[{\"cells\":{\"fill\":{\"color\":\"#EBF0F8\"},\"line\":{\"color\":\"white\"}},\"header\":{\"fill\":{\"color\":\"#C8D4E3\"},\"line\":{\"color\":\"white\"}},\"type\":\"table\"}]},\"layout\":{\"annotationdefaults\":{\"arrowcolor\":\"#2a3f5f\",\"arrowhead\":0,\"arrowwidth\":1},\"autotypenumbers\":\"strict\",\"coloraxis\":{\"colorbar\":{\"outlinewidth\":0,\"ticks\":\"\"}},\"colorscale\":{\"diverging\":[[0,\"#8e0152\"],[0.1,\"#c51b7d\"],[0.2,\"#de77ae\"],[0.3,\"#f1b6da\"],[0.4,\"#fde0ef\"],[0.5,\"#f7f7f7\"],[0.6,\"#e6f5d0\"],[0.7,\"#b8e186\"],[0.8,\"#7fbc41\"],[0.9,\"#4d9221\"],[1,\"#276419\"]],\"sequential\":[[0.0,\"#0d0887\"],[0.1111111111111111,\"#46039f\"],[0.2222222222222222,\"#7201a8\"],[0.3333333333333333,\"#9c179e\"],[0.4444444444444444,\"#bd3786\"],[0.5555555555555556,\"#d8576b\"],[0.6666666666666666,\"#ed7953\"],[0.7777777777777778,\"#fb9f3a\"],[0.8888888888888888,\"#fdca26\"],[1.0,\"#f0f921\"]],\"sequentialminus\":[[0.0,\"#0d0887\"],[0.1111111111111111,\"#46039f\"],[0.2222222222222222,\"#7201a8\"],[0.3333333333333333,\"#9c179e\"],[0.4444444444444444,\"#bd3786\"],[0.5555555555555556,\"#d8576b\"],[0.6666666666666666,\"#ed7953\"],[0.7777777777777778,\"#fb9f3a\"],[0.8888888888888888,\"#fdca26\"],[1.0,\"#f0f921\"]]},\"colorway\":[\"#636efa\",\"#EF553B\",\"#00cc96\",\"#ab63fa\",\"#FFA15A\",\"#19d3f3\",\"#FF6692\",\"#B6E880\",\"#FF97FF\",\"#FECB52\"],\"font\":{\"color\":\"#2a3f5f\"},\"geo\":{\"bgcolor\":\"white\",\"lakecolor\":\"white\",\"landcolor\":\"white\",\"showlakes\":true,\"showland\":true,\"subunitcolor\":\"#C8D4E3\"},\"hoverlabel\":{\"align\":\"left\"},\"hovermode\":\"closest\",\"mapbox\":{\"style\":\"light\"},\"paper_bgcolor\":\"white\",\"plot_bgcolor\":\"white\",\"polar\":{\"angularaxis\":{\"gridcolor\":\"#EBF0F8\",\"linecolor\":\"#EBF0F8\",\"ticks\":\"\"},\"bgcolor\":\"white\",\"radialaxis\":{\"gridcolor\":\"#EBF0F8\",\"linecolor\":\"#EBF0F8\",\"ticks\":\"\"}},\"scene\":{\"xaxis\":{\"backgroundcolor\":\"white\",\"gridcolor\":\"#DFE8F3\",\"gridwidth\":2,\"linecolor\":\"#EBF0F8\",\"showbackground\":true,\"ticks\":\"\",\"zerolinecolor\":\"#EBF0F8\"},\"yaxis\":{\"backgroundcolor\":\"white\",\"gridcolor\":\"#DFE8F3\",\"gridwidth\":2,\"linecolor\":\"#EBF0F8\",\"showbackground\":true,\"ticks\":\"\",\"zerolinecolor\":\"#EBF0F8\"},\"zaxis\":{\"backgroundcolor\":\"white\",\"gridcolor\":\"#DFE8F3\",\"gridwidth\":2,\"linecolor\":\"#EBF0F8\",\"showbackground\":true,\"ticks\":\"\",\"zerolinecolor\":\"#EBF0F8\"}},\"shapedefaults\":{\"line\":{\"color\":\"#2a3f5f\"}},\"ternary\":{\"aaxis\":{\"gridcolor\":\"#DFE8F3\",\"linecolor\":\"#A2B1C6\",\"ticks\":\"\"},\"baxis\":{\"gridcolor\":\"#DFE8F3\",\"linecolor\":\"#A2B1C6\",\"ticks\":\"\"},\"bgcolor\":\"white\",\"caxis\":{\"gridcolor\":\"#DFE8F3\",\"linecolor\":\"#A2B1C6\",\"ticks\":\"\"}},\"title\":{\"x\":0.05},\"xaxis\":{\"automargin\":true,\"gridcolor\":\"#EBF0F8\",\"linecolor\":\"#EBF0F8\",\"ticks\":\"\",\"title\":{\"standoff\":15},\"zerolinecolor\":\"#EBF0F8\",\"zerolinewidth\":2},\"yaxis\":{\"automargin\":true,\"gridcolor\":\"#EBF0F8\",\"linecolor\":\"#EBF0F8\",\"ticks\":\"\",\"title\":{\"standoff\":15},\"zerolinecolor\":\"#EBF0F8\",\"zerolinewidth\":2}}},\"xaxis\":{\"anchor\":\"y\",\"domain\":[0.0,1.0],\"title\":{\"text\":\"Year-Month\"}},\"yaxis\":{\"anchor\":\"x\",\"domain\":[0.0,1.0],\"title\":{\"text\":\"Total Sales\"}},\"legend\":{\"tracegroupgap\":0},\"title\":{\"text\":\"Total Sales by Year and Month\"},\"height\":600},                        {\"responsive\": true}                    ).then(function(){\n",
              "                            \n",
              "var gd = document.getElementById('bd27b487-e682-4e82-b898-f60537fd281c');\n",
              "var x = new MutationObserver(function (mutations, observer) {{\n",
              "        var display = window.getComputedStyle(gd).display;\n",
              "        if (!display || display === 'none') {{\n",
              "            console.log([gd, 'removed!']);\n",
              "            Plotly.purge(gd);\n",
              "            observer.disconnect();\n",
              "        }}\n",
              "}});\n",
              "\n",
              "// Listen for the removal of the full notebook cells\n",
              "var notebookContainer = gd.closest('#notebook-container');\n",
              "if (notebookContainer) {{\n",
              "    x.observe(notebookContainer, {childList: true});\n",
              "}}\n",
              "\n",
              "// Listen for the clearing of the current output cell\n",
              "var outputEl = gd.closest('.output');\n",
              "if (outputEl) {{\n",
              "    x.observe(outputEl, {childList: true});\n",
              "}}\n",
              "\n",
              "                        })                };                            </script>        </div>\n",
              "</body>\n",
              "</html>"
            ]
          },
          "metadata": {}
        }
      ]
    },
    {
      "cell_type": "markdown",
      "source": [
        "A simple vista, parece no existir ningún tipo de patrón identificable, o tendencia.\n",
        "#### Por submarca\n",
        "Por último, se mostrará la distribución de las ventas totales en función de la submarca de bebida asignada. Para este caso, similar al de su representación por países, se utilizará de nuevo el diagrama de barras apiladas. Se observa que una de las categorías, Pepsi Max (L3), presenta ventas totales bastante superiores al resto de submarcas del estudio. La siguiente submarca en el ranking de ventas es Pepsi Regular (L3), luego se puede concluir que la marca Pepsi tiene mayor presencia en el mercado de bebidas presente."
      ],
      "metadata": {
        "id": "sU2uKat2CqUx"
      }
    },
    {
      "cell_type": "code",
      "source": [
        "# Agrupar por marca, sumando el total de ventas\n",
        "sales_by_subbrand = df_actual.groupby('SUBBRAND')['AMOUNT'].sum().reset_index()\n",
        "sales_by_subbrand.columns = ['SUBBRAND', 'TOTAL_SALES']\n",
        "\n",
        "fig = px.bar(\n",
        "    sales_by_subbrand,\n",
        "    x='SUBBRAND',\n",
        "    y='TOTAL_SALES',\n",
        "    color_discrete_sequence=['#457b9d'],\n",
        "    title='Total Sales by Subbrand',\n",
        "    labels={'TOTAL_SALES': 'Total Sales', 'SUBBRAND': 'Subbrand'}\n",
        ")\n",
        "\n",
        "fig.update_layout(template='plotly_white')\n",
        "fig.show()"
      ],
      "metadata": {
        "colab": {
          "base_uri": "https://localhost:8080/",
          "height": 542
        },
        "id": "QZH-T9FAmUIV",
        "outputId": "0bf01372-1105-405c-eb4e-fc5f009dcfda"
      },
      "execution_count": 19,
      "outputs": [
        {
          "output_type": "display_data",
          "data": {
            "text/html": [
              "<html>\n",
              "<head><meta charset=\"utf-8\" /></head>\n",
              "<body>\n",
              "    <div>            <script src=\"https://cdnjs.cloudflare.com/ajax/libs/mathjax/2.7.5/MathJax.js?config=TeX-AMS-MML_SVG\"></script><script type=\"text/javascript\">if (window.MathJax && window.MathJax.Hub && window.MathJax.Hub.Config) {window.MathJax.Hub.Config({SVG: {font: \"STIX-Web\"}});}</script>                <script type=\"text/javascript\">window.PlotlyConfig = {MathJaxConfig: 'local'};</script>\n",
              "        <script charset=\"utf-8\" src=\"https://cdn.plot.ly/plotly-2.35.2.min.js\"></script>                <div id=\"ea38f80f-af73-4bef-9929-b7fc6fc1dfd9\" class=\"plotly-graph-div\" style=\"height:525px; width:100%;\"></div>            <script type=\"text/javascript\">                                    window.PLOTLYENV=window.PLOTLYENV || {};                                    if (document.getElementById(\"ea38f80f-af73-4bef-9929-b7fc6fc1dfd9\")) {                    Plotly.newPlot(                        \"ea38f80f-af73-4bef-9929-b7fc6fc1dfd9\",                        [{\"alignmentgroup\":\"True\",\"hovertemplate\":\"Subbrand=%{x}\\u003cbr\\u003eTotal Sales=%{y}\\u003cextra\\u003e\\u003c\\u002fextra\\u003e\",\"legendgroup\":\"\",\"marker\":{\"color\":\"#457b9d\",\"pattern\":{\"shape\":\"\"}},\"name\":\"\",\"offsetgroup\":\"\",\"orientation\":\"v\",\"showlegend\":false,\"textposition\":\"auto\",\"x\":[\"7up (L3)\",\"7up Free (L3)\",\"Lipton (L3)\",\"Mountain Dew (L3)\",\"Pepsi Max (L3)\",\"Pepsi Regular (L3)\"],\"xaxis\":\"x\",\"y\":[18808078.96115149,34276298.950363286,73088059.37525365,7474390.956547935,396698670.6338175,139830662.7878427],\"yaxis\":\"y\",\"type\":\"bar\"}],                        {\"template\":{\"data\":{\"barpolar\":[{\"marker\":{\"line\":{\"color\":\"white\",\"width\":0.5},\"pattern\":{\"fillmode\":\"overlay\",\"size\":10,\"solidity\":0.2}},\"type\":\"barpolar\"}],\"bar\":[{\"error_x\":{\"color\":\"#2a3f5f\"},\"error_y\":{\"color\":\"#2a3f5f\"},\"marker\":{\"line\":{\"color\":\"white\",\"width\":0.5},\"pattern\":{\"fillmode\":\"overlay\",\"size\":10,\"solidity\":0.2}},\"type\":\"bar\"}],\"carpet\":[{\"aaxis\":{\"endlinecolor\":\"#2a3f5f\",\"gridcolor\":\"#C8D4E3\",\"linecolor\":\"#C8D4E3\",\"minorgridcolor\":\"#C8D4E3\",\"startlinecolor\":\"#2a3f5f\"},\"baxis\":{\"endlinecolor\":\"#2a3f5f\",\"gridcolor\":\"#C8D4E3\",\"linecolor\":\"#C8D4E3\",\"minorgridcolor\":\"#C8D4E3\",\"startlinecolor\":\"#2a3f5f\"},\"type\":\"carpet\"}],\"choropleth\":[{\"colorbar\":{\"outlinewidth\":0,\"ticks\":\"\"},\"type\":\"choropleth\"}],\"contourcarpet\":[{\"colorbar\":{\"outlinewidth\":0,\"ticks\":\"\"},\"type\":\"contourcarpet\"}],\"contour\":[{\"colorbar\":{\"outlinewidth\":0,\"ticks\":\"\"},\"colorscale\":[[0.0,\"#0d0887\"],[0.1111111111111111,\"#46039f\"],[0.2222222222222222,\"#7201a8\"],[0.3333333333333333,\"#9c179e\"],[0.4444444444444444,\"#bd3786\"],[0.5555555555555556,\"#d8576b\"],[0.6666666666666666,\"#ed7953\"],[0.7777777777777778,\"#fb9f3a\"],[0.8888888888888888,\"#fdca26\"],[1.0,\"#f0f921\"]],\"type\":\"contour\"}],\"heatmapgl\":[{\"colorbar\":{\"outlinewidth\":0,\"ticks\":\"\"},\"colorscale\":[[0.0,\"#0d0887\"],[0.1111111111111111,\"#46039f\"],[0.2222222222222222,\"#7201a8\"],[0.3333333333333333,\"#9c179e\"],[0.4444444444444444,\"#bd3786\"],[0.5555555555555556,\"#d8576b\"],[0.6666666666666666,\"#ed7953\"],[0.7777777777777778,\"#fb9f3a\"],[0.8888888888888888,\"#fdca26\"],[1.0,\"#f0f921\"]],\"type\":\"heatmapgl\"}],\"heatmap\":[{\"colorbar\":{\"outlinewidth\":0,\"ticks\":\"\"},\"colorscale\":[[0.0,\"#0d0887\"],[0.1111111111111111,\"#46039f\"],[0.2222222222222222,\"#7201a8\"],[0.3333333333333333,\"#9c179e\"],[0.4444444444444444,\"#bd3786\"],[0.5555555555555556,\"#d8576b\"],[0.6666666666666666,\"#ed7953\"],[0.7777777777777778,\"#fb9f3a\"],[0.8888888888888888,\"#fdca26\"],[1.0,\"#f0f921\"]],\"type\":\"heatmap\"}],\"histogram2dcontour\":[{\"colorbar\":{\"outlinewidth\":0,\"ticks\":\"\"},\"colorscale\":[[0.0,\"#0d0887\"],[0.1111111111111111,\"#46039f\"],[0.2222222222222222,\"#7201a8\"],[0.3333333333333333,\"#9c179e\"],[0.4444444444444444,\"#bd3786\"],[0.5555555555555556,\"#d8576b\"],[0.6666666666666666,\"#ed7953\"],[0.7777777777777778,\"#fb9f3a\"],[0.8888888888888888,\"#fdca26\"],[1.0,\"#f0f921\"]],\"type\":\"histogram2dcontour\"}],\"histogram2d\":[{\"colorbar\":{\"outlinewidth\":0,\"ticks\":\"\"},\"colorscale\":[[0.0,\"#0d0887\"],[0.1111111111111111,\"#46039f\"],[0.2222222222222222,\"#7201a8\"],[0.3333333333333333,\"#9c179e\"],[0.4444444444444444,\"#bd3786\"],[0.5555555555555556,\"#d8576b\"],[0.6666666666666666,\"#ed7953\"],[0.7777777777777778,\"#fb9f3a\"],[0.8888888888888888,\"#fdca26\"],[1.0,\"#f0f921\"]],\"type\":\"histogram2d\"}],\"histogram\":[{\"marker\":{\"pattern\":{\"fillmode\":\"overlay\",\"size\":10,\"solidity\":0.2}},\"type\":\"histogram\"}],\"mesh3d\":[{\"colorbar\":{\"outlinewidth\":0,\"ticks\":\"\"},\"type\":\"mesh3d\"}],\"parcoords\":[{\"line\":{\"colorbar\":{\"outlinewidth\":0,\"ticks\":\"\"}},\"type\":\"parcoords\"}],\"pie\":[{\"automargin\":true,\"type\":\"pie\"}],\"scatter3d\":[{\"line\":{\"colorbar\":{\"outlinewidth\":0,\"ticks\":\"\"}},\"marker\":{\"colorbar\":{\"outlinewidth\":0,\"ticks\":\"\"}},\"type\":\"scatter3d\"}],\"scattercarpet\":[{\"marker\":{\"colorbar\":{\"outlinewidth\":0,\"ticks\":\"\"}},\"type\":\"scattercarpet\"}],\"scattergeo\":[{\"marker\":{\"colorbar\":{\"outlinewidth\":0,\"ticks\":\"\"}},\"type\":\"scattergeo\"}],\"scattergl\":[{\"marker\":{\"colorbar\":{\"outlinewidth\":0,\"ticks\":\"\"}},\"type\":\"scattergl\"}],\"scattermapbox\":[{\"marker\":{\"colorbar\":{\"outlinewidth\":0,\"ticks\":\"\"}},\"type\":\"scattermapbox\"}],\"scatterpolargl\":[{\"marker\":{\"colorbar\":{\"outlinewidth\":0,\"ticks\":\"\"}},\"type\":\"scatterpolargl\"}],\"scatterpolar\":[{\"marker\":{\"colorbar\":{\"outlinewidth\":0,\"ticks\":\"\"}},\"type\":\"scatterpolar\"}],\"scatter\":[{\"fillpattern\":{\"fillmode\":\"overlay\",\"size\":10,\"solidity\":0.2},\"type\":\"scatter\"}],\"scatterternary\":[{\"marker\":{\"colorbar\":{\"outlinewidth\":0,\"ticks\":\"\"}},\"type\":\"scatterternary\"}],\"surface\":[{\"colorbar\":{\"outlinewidth\":0,\"ticks\":\"\"},\"colorscale\":[[0.0,\"#0d0887\"],[0.1111111111111111,\"#46039f\"],[0.2222222222222222,\"#7201a8\"],[0.3333333333333333,\"#9c179e\"],[0.4444444444444444,\"#bd3786\"],[0.5555555555555556,\"#d8576b\"],[0.6666666666666666,\"#ed7953\"],[0.7777777777777778,\"#fb9f3a\"],[0.8888888888888888,\"#fdca26\"],[1.0,\"#f0f921\"]],\"type\":\"surface\"}],\"table\":[{\"cells\":{\"fill\":{\"color\":\"#EBF0F8\"},\"line\":{\"color\":\"white\"}},\"header\":{\"fill\":{\"color\":\"#C8D4E3\"},\"line\":{\"color\":\"white\"}},\"type\":\"table\"}]},\"layout\":{\"annotationdefaults\":{\"arrowcolor\":\"#2a3f5f\",\"arrowhead\":0,\"arrowwidth\":1},\"autotypenumbers\":\"strict\",\"coloraxis\":{\"colorbar\":{\"outlinewidth\":0,\"ticks\":\"\"}},\"colorscale\":{\"diverging\":[[0,\"#8e0152\"],[0.1,\"#c51b7d\"],[0.2,\"#de77ae\"],[0.3,\"#f1b6da\"],[0.4,\"#fde0ef\"],[0.5,\"#f7f7f7\"],[0.6,\"#e6f5d0\"],[0.7,\"#b8e186\"],[0.8,\"#7fbc41\"],[0.9,\"#4d9221\"],[1,\"#276419\"]],\"sequential\":[[0.0,\"#0d0887\"],[0.1111111111111111,\"#46039f\"],[0.2222222222222222,\"#7201a8\"],[0.3333333333333333,\"#9c179e\"],[0.4444444444444444,\"#bd3786\"],[0.5555555555555556,\"#d8576b\"],[0.6666666666666666,\"#ed7953\"],[0.7777777777777778,\"#fb9f3a\"],[0.8888888888888888,\"#fdca26\"],[1.0,\"#f0f921\"]],\"sequentialminus\":[[0.0,\"#0d0887\"],[0.1111111111111111,\"#46039f\"],[0.2222222222222222,\"#7201a8\"],[0.3333333333333333,\"#9c179e\"],[0.4444444444444444,\"#bd3786\"],[0.5555555555555556,\"#d8576b\"],[0.6666666666666666,\"#ed7953\"],[0.7777777777777778,\"#fb9f3a\"],[0.8888888888888888,\"#fdca26\"],[1.0,\"#f0f921\"]]},\"colorway\":[\"#636efa\",\"#EF553B\",\"#00cc96\",\"#ab63fa\",\"#FFA15A\",\"#19d3f3\",\"#FF6692\",\"#B6E880\",\"#FF97FF\",\"#FECB52\"],\"font\":{\"color\":\"#2a3f5f\"},\"geo\":{\"bgcolor\":\"white\",\"lakecolor\":\"white\",\"landcolor\":\"white\",\"showlakes\":true,\"showland\":true,\"subunitcolor\":\"#C8D4E3\"},\"hoverlabel\":{\"align\":\"left\"},\"hovermode\":\"closest\",\"mapbox\":{\"style\":\"light\"},\"paper_bgcolor\":\"white\",\"plot_bgcolor\":\"white\",\"polar\":{\"angularaxis\":{\"gridcolor\":\"#EBF0F8\",\"linecolor\":\"#EBF0F8\",\"ticks\":\"\"},\"bgcolor\":\"white\",\"radialaxis\":{\"gridcolor\":\"#EBF0F8\",\"linecolor\":\"#EBF0F8\",\"ticks\":\"\"}},\"scene\":{\"xaxis\":{\"backgroundcolor\":\"white\",\"gridcolor\":\"#DFE8F3\",\"gridwidth\":2,\"linecolor\":\"#EBF0F8\",\"showbackground\":true,\"ticks\":\"\",\"zerolinecolor\":\"#EBF0F8\"},\"yaxis\":{\"backgroundcolor\":\"white\",\"gridcolor\":\"#DFE8F3\",\"gridwidth\":2,\"linecolor\":\"#EBF0F8\",\"showbackground\":true,\"ticks\":\"\",\"zerolinecolor\":\"#EBF0F8\"},\"zaxis\":{\"backgroundcolor\":\"white\",\"gridcolor\":\"#DFE8F3\",\"gridwidth\":2,\"linecolor\":\"#EBF0F8\",\"showbackground\":true,\"ticks\":\"\",\"zerolinecolor\":\"#EBF0F8\"}},\"shapedefaults\":{\"line\":{\"color\":\"#2a3f5f\"}},\"ternary\":{\"aaxis\":{\"gridcolor\":\"#DFE8F3\",\"linecolor\":\"#A2B1C6\",\"ticks\":\"\"},\"baxis\":{\"gridcolor\":\"#DFE8F3\",\"linecolor\":\"#A2B1C6\",\"ticks\":\"\"},\"bgcolor\":\"white\",\"caxis\":{\"gridcolor\":\"#DFE8F3\",\"linecolor\":\"#A2B1C6\",\"ticks\":\"\"}},\"title\":{\"x\":0.05},\"xaxis\":{\"automargin\":true,\"gridcolor\":\"#EBF0F8\",\"linecolor\":\"#EBF0F8\",\"ticks\":\"\",\"title\":{\"standoff\":15},\"zerolinecolor\":\"#EBF0F8\",\"zerolinewidth\":2},\"yaxis\":{\"automargin\":true,\"gridcolor\":\"#EBF0F8\",\"linecolor\":\"#EBF0F8\",\"ticks\":\"\",\"title\":{\"standoff\":15},\"zerolinecolor\":\"#EBF0F8\",\"zerolinewidth\":2}}},\"xaxis\":{\"anchor\":\"y\",\"domain\":[0.0,1.0],\"title\":{\"text\":\"Subbrand\"}},\"yaxis\":{\"anchor\":\"x\",\"domain\":[0.0,1.0],\"title\":{\"text\":\"Total Sales\"}},\"legend\":{\"tracegroupgap\":0},\"title\":{\"text\":\"Total Sales by Subbrand\"},\"barmode\":\"relative\"},                        {\"responsive\": true}                    ).then(function(){\n",
              "                            \n",
              "var gd = document.getElementById('ea38f80f-af73-4bef-9929-b7fc6fc1dfd9');\n",
              "var x = new MutationObserver(function (mutations, observer) {{\n",
              "        var display = window.getComputedStyle(gd).display;\n",
              "        if (!display || display === 'none') {{\n",
              "            console.log([gd, 'removed!']);\n",
              "            Plotly.purge(gd);\n",
              "            observer.disconnect();\n",
              "        }}\n",
              "}});\n",
              "\n",
              "// Listen for the removal of the full notebook cells\n",
              "var notebookContainer = gd.closest('#notebook-container');\n",
              "if (notebookContainer) {{\n",
              "    x.observe(notebookContainer, {childList: true});\n",
              "}}\n",
              "\n",
              "// Listen for the clearing of the current output cell\n",
              "var outputEl = gd.closest('.output');\n",
              "if (outputEl) {{\n",
              "    x.observe(outputEl, {childList: true});\n",
              "}}\n",
              "\n",
              "                        })                };                            </script>        </div>\n",
              "</body>\n",
              "</html>"
            ]
          },
          "metadata": {}
        }
      ]
    },
    {
      "cell_type": "markdown",
      "source": [
        "### Tendencia y estacionalidad\n",
        "En el siguiente apartado, se estudiará la presencia de patrones relacionados con la temporalidad de los datos. Para ello, se analizarán los casos del país con menos ventas y la marca con más ventas.\n",
        "#### Todas las ventas del país con menos ventas\n",
        "El primer paso para estudiar la tendencia y estacionalidad pasa por la observación de los datos en la gráfica con el fin de identificar patrones."
      ],
      "metadata": {
        "id": "tYLqtrc0mlvv"
      }
    },
    {
      "cell_type": "code",
      "source": [
        "# Identificación del país con menor número de ventas\n",
        "min_sales_country = sales_by_country.loc[sales_by_country['TOTAL_SALES'].idxmin(), 'COUNTRY']\n",
        "print('País con menor número de ventas: ', min_sales_country)"
      ],
      "metadata": {
        "colab": {
          "base_uri": "https://localhost:8080/"
        },
        "id": "4RXwpMy2mtzN",
        "outputId": "b368b137-a8ef-45f6-ac24-4f670e918106"
      },
      "execution_count": 20,
      "outputs": [
        {
          "output_type": "stream",
          "name": "stdout",
          "text": [
            "País con menor número de ventas:  Spain\n"
          ]
        }
      ]
    },
    {
      "cell_type": "code",
      "source": [
        "sales_by_country_month = df_actual.groupby(['COUNTRY', pd.Grouper(key='DATE', freq='M')])['AMOUNT'].sum().reset_index()\n",
        "sales_by_country_month.columns = ['COUNTRY', 'DATE', 'TOTAL_SALES']\n",
        "\n",
        "# Filtrar por el país con ventas mínimas\n",
        "country_data = sales_by_country_month[sales_by_country_month['COUNTRY'] == min_sales_country]\n",
        "\n",
        "fig = px.line(country_data, x='DATE', y='TOTAL_SALES',\n",
        "              labels={'TOTAL_SALES': 'Total Sales', 'DATE':'Date'},\n",
        "              title=f'Total Sales in {min_sales_country}')\n",
        "\n",
        "fig.update_traces(line=dict(color='#457b9d'))\n",
        "\n",
        "fig.update_layout(template='plotly_white')\n",
        "fig.show()\n"
      ],
      "metadata": {
        "colab": {
          "base_uri": "https://localhost:8080/",
          "height": 542
        },
        "id": "nsAmhgz5oEc6",
        "outputId": "e61aa6a6-1698-4a43-a78d-3ae98bed8595"
      },
      "execution_count": 21,
      "outputs": [
        {
          "output_type": "display_data",
          "data": {
            "text/html": [
              "<html>\n",
              "<head><meta charset=\"utf-8\" /></head>\n",
              "<body>\n",
              "    <div>            <script src=\"https://cdnjs.cloudflare.com/ajax/libs/mathjax/2.7.5/MathJax.js?config=TeX-AMS-MML_SVG\"></script><script type=\"text/javascript\">if (window.MathJax && window.MathJax.Hub && window.MathJax.Hub.Config) {window.MathJax.Hub.Config({SVG: {font: \"STIX-Web\"}});}</script>                <script type=\"text/javascript\">window.PlotlyConfig = {MathJaxConfig: 'local'};</script>\n",
              "        <script charset=\"utf-8\" src=\"https://cdn.plot.ly/plotly-2.35.2.min.js\"></script>                <div id=\"71218ac0-9481-41b7-a279-eeac7e5b898e\" class=\"plotly-graph-div\" style=\"height:525px; width:100%;\"></div>            <script type=\"text/javascript\">                                    window.PLOTLYENV=window.PLOTLYENV || {};                                    if (document.getElementById(\"71218ac0-9481-41b7-a279-eeac7e5b898e\")) {                    Plotly.newPlot(                        \"71218ac0-9481-41b7-a279-eeac7e5b898e\",                        [{\"hovertemplate\":\"Date=%{x}\\u003cbr\\u003eTotal Sales=%{y}\\u003cextra\\u003e\\u003c\\u002fextra\\u003e\",\"legendgroup\":\"\",\"line\":{\"color\":\"#457b9d\",\"dash\":\"solid\"},\"marker\":{\"symbol\":\"circle\"},\"mode\":\"lines\",\"name\":\"\",\"orientation\":\"v\",\"showlegend\":false,\"x\":[\"2023-01-31T00:00:00\",\"2023-02-28T00:00:00\",\"2023-03-31T00:00:00\",\"2023-04-30T00:00:00\",\"2023-05-31T00:00:00\",\"2023-06-30T00:00:00\",\"2023-07-31T00:00:00\",\"2023-08-31T00:00:00\",\"2023-09-30T00:00:00\",\"2023-10-31T00:00:00\",\"2023-11-30T00:00:00\",\"2023-12-31T00:00:00\",\"2024-01-31T00:00:00\",\"2024-02-29T00:00:00\",\"2024-03-31T00:00:00\",\"2024-04-30T00:00:00\",\"2024-05-31T00:00:00\",\"2024-06-30T00:00:00\",\"2024-07-31T00:00:00\",\"2024-08-31T00:00:00\"],\"xaxis\":\"x\",\"y\":[325272.9389304911,295588.379604517,399710.27310997306,328035.2578740851,360751.156280142,439198.58628968743,496545.2361195783,564336.120819692,420041.9805910407,468425.84176011605,418006.199049298,394147.40859018476,349696.53314179694,352899.0356524695,332109.2562326968,376678.36889674753,356759.011785592,408967.746366754,506234.36278204597,537862.283643176],\"yaxis\":\"y\",\"type\":\"scatter\"}],                        {\"template\":{\"data\":{\"barpolar\":[{\"marker\":{\"line\":{\"color\":\"white\",\"width\":0.5},\"pattern\":{\"fillmode\":\"overlay\",\"size\":10,\"solidity\":0.2}},\"type\":\"barpolar\"}],\"bar\":[{\"error_x\":{\"color\":\"#2a3f5f\"},\"error_y\":{\"color\":\"#2a3f5f\"},\"marker\":{\"line\":{\"color\":\"white\",\"width\":0.5},\"pattern\":{\"fillmode\":\"overlay\",\"size\":10,\"solidity\":0.2}},\"type\":\"bar\"}],\"carpet\":[{\"aaxis\":{\"endlinecolor\":\"#2a3f5f\",\"gridcolor\":\"#C8D4E3\",\"linecolor\":\"#C8D4E3\",\"minorgridcolor\":\"#C8D4E3\",\"startlinecolor\":\"#2a3f5f\"},\"baxis\":{\"endlinecolor\":\"#2a3f5f\",\"gridcolor\":\"#C8D4E3\",\"linecolor\":\"#C8D4E3\",\"minorgridcolor\":\"#C8D4E3\",\"startlinecolor\":\"#2a3f5f\"},\"type\":\"carpet\"}],\"choropleth\":[{\"colorbar\":{\"outlinewidth\":0,\"ticks\":\"\"},\"type\":\"choropleth\"}],\"contourcarpet\":[{\"colorbar\":{\"outlinewidth\":0,\"ticks\":\"\"},\"type\":\"contourcarpet\"}],\"contour\":[{\"colorbar\":{\"outlinewidth\":0,\"ticks\":\"\"},\"colorscale\":[[0.0,\"#0d0887\"],[0.1111111111111111,\"#46039f\"],[0.2222222222222222,\"#7201a8\"],[0.3333333333333333,\"#9c179e\"],[0.4444444444444444,\"#bd3786\"],[0.5555555555555556,\"#d8576b\"],[0.6666666666666666,\"#ed7953\"],[0.7777777777777778,\"#fb9f3a\"],[0.8888888888888888,\"#fdca26\"],[1.0,\"#f0f921\"]],\"type\":\"contour\"}],\"heatmapgl\":[{\"colorbar\":{\"outlinewidth\":0,\"ticks\":\"\"},\"colorscale\":[[0.0,\"#0d0887\"],[0.1111111111111111,\"#46039f\"],[0.2222222222222222,\"#7201a8\"],[0.3333333333333333,\"#9c179e\"],[0.4444444444444444,\"#bd3786\"],[0.5555555555555556,\"#d8576b\"],[0.6666666666666666,\"#ed7953\"],[0.7777777777777778,\"#fb9f3a\"],[0.8888888888888888,\"#fdca26\"],[1.0,\"#f0f921\"]],\"type\":\"heatmapgl\"}],\"heatmap\":[{\"colorbar\":{\"outlinewidth\":0,\"ticks\":\"\"},\"colorscale\":[[0.0,\"#0d0887\"],[0.1111111111111111,\"#46039f\"],[0.2222222222222222,\"#7201a8\"],[0.3333333333333333,\"#9c179e\"],[0.4444444444444444,\"#bd3786\"],[0.5555555555555556,\"#d8576b\"],[0.6666666666666666,\"#ed7953\"],[0.7777777777777778,\"#fb9f3a\"],[0.8888888888888888,\"#fdca26\"],[1.0,\"#f0f921\"]],\"type\":\"heatmap\"}],\"histogram2dcontour\":[{\"colorbar\":{\"outlinewidth\":0,\"ticks\":\"\"},\"colorscale\":[[0.0,\"#0d0887\"],[0.1111111111111111,\"#46039f\"],[0.2222222222222222,\"#7201a8\"],[0.3333333333333333,\"#9c179e\"],[0.4444444444444444,\"#bd3786\"],[0.5555555555555556,\"#d8576b\"],[0.6666666666666666,\"#ed7953\"],[0.7777777777777778,\"#fb9f3a\"],[0.8888888888888888,\"#fdca26\"],[1.0,\"#f0f921\"]],\"type\":\"histogram2dcontour\"}],\"histogram2d\":[{\"colorbar\":{\"outlinewidth\":0,\"ticks\":\"\"},\"colorscale\":[[0.0,\"#0d0887\"],[0.1111111111111111,\"#46039f\"],[0.2222222222222222,\"#7201a8\"],[0.3333333333333333,\"#9c179e\"],[0.4444444444444444,\"#bd3786\"],[0.5555555555555556,\"#d8576b\"],[0.6666666666666666,\"#ed7953\"],[0.7777777777777778,\"#fb9f3a\"],[0.8888888888888888,\"#fdca26\"],[1.0,\"#f0f921\"]],\"type\":\"histogram2d\"}],\"histogram\":[{\"marker\":{\"pattern\":{\"fillmode\":\"overlay\",\"size\":10,\"solidity\":0.2}},\"type\":\"histogram\"}],\"mesh3d\":[{\"colorbar\":{\"outlinewidth\":0,\"ticks\":\"\"},\"type\":\"mesh3d\"}],\"parcoords\":[{\"line\":{\"colorbar\":{\"outlinewidth\":0,\"ticks\":\"\"}},\"type\":\"parcoords\"}],\"pie\":[{\"automargin\":true,\"type\":\"pie\"}],\"scatter3d\":[{\"line\":{\"colorbar\":{\"outlinewidth\":0,\"ticks\":\"\"}},\"marker\":{\"colorbar\":{\"outlinewidth\":0,\"ticks\":\"\"}},\"type\":\"scatter3d\"}],\"scattercarpet\":[{\"marker\":{\"colorbar\":{\"outlinewidth\":0,\"ticks\":\"\"}},\"type\":\"scattercarpet\"}],\"scattergeo\":[{\"marker\":{\"colorbar\":{\"outlinewidth\":0,\"ticks\":\"\"}},\"type\":\"scattergeo\"}],\"scattergl\":[{\"marker\":{\"colorbar\":{\"outlinewidth\":0,\"ticks\":\"\"}},\"type\":\"scattergl\"}],\"scattermapbox\":[{\"marker\":{\"colorbar\":{\"outlinewidth\":0,\"ticks\":\"\"}},\"type\":\"scattermapbox\"}],\"scatterpolargl\":[{\"marker\":{\"colorbar\":{\"outlinewidth\":0,\"ticks\":\"\"}},\"type\":\"scatterpolargl\"}],\"scatterpolar\":[{\"marker\":{\"colorbar\":{\"outlinewidth\":0,\"ticks\":\"\"}},\"type\":\"scatterpolar\"}],\"scatter\":[{\"fillpattern\":{\"fillmode\":\"overlay\",\"size\":10,\"solidity\":0.2},\"type\":\"scatter\"}],\"scatterternary\":[{\"marker\":{\"colorbar\":{\"outlinewidth\":0,\"ticks\":\"\"}},\"type\":\"scatterternary\"}],\"surface\":[{\"colorbar\":{\"outlinewidth\":0,\"ticks\":\"\"},\"colorscale\":[[0.0,\"#0d0887\"],[0.1111111111111111,\"#46039f\"],[0.2222222222222222,\"#7201a8\"],[0.3333333333333333,\"#9c179e\"],[0.4444444444444444,\"#bd3786\"],[0.5555555555555556,\"#d8576b\"],[0.6666666666666666,\"#ed7953\"],[0.7777777777777778,\"#fb9f3a\"],[0.8888888888888888,\"#fdca26\"],[1.0,\"#f0f921\"]],\"type\":\"surface\"}],\"table\":[{\"cells\":{\"fill\":{\"color\":\"#EBF0F8\"},\"line\":{\"color\":\"white\"}},\"header\":{\"fill\":{\"color\":\"#C8D4E3\"},\"line\":{\"color\":\"white\"}},\"type\":\"table\"}]},\"layout\":{\"annotationdefaults\":{\"arrowcolor\":\"#2a3f5f\",\"arrowhead\":0,\"arrowwidth\":1},\"autotypenumbers\":\"strict\",\"coloraxis\":{\"colorbar\":{\"outlinewidth\":0,\"ticks\":\"\"}},\"colorscale\":{\"diverging\":[[0,\"#8e0152\"],[0.1,\"#c51b7d\"],[0.2,\"#de77ae\"],[0.3,\"#f1b6da\"],[0.4,\"#fde0ef\"],[0.5,\"#f7f7f7\"],[0.6,\"#e6f5d0\"],[0.7,\"#b8e186\"],[0.8,\"#7fbc41\"],[0.9,\"#4d9221\"],[1,\"#276419\"]],\"sequential\":[[0.0,\"#0d0887\"],[0.1111111111111111,\"#46039f\"],[0.2222222222222222,\"#7201a8\"],[0.3333333333333333,\"#9c179e\"],[0.4444444444444444,\"#bd3786\"],[0.5555555555555556,\"#d8576b\"],[0.6666666666666666,\"#ed7953\"],[0.7777777777777778,\"#fb9f3a\"],[0.8888888888888888,\"#fdca26\"],[1.0,\"#f0f921\"]],\"sequentialminus\":[[0.0,\"#0d0887\"],[0.1111111111111111,\"#46039f\"],[0.2222222222222222,\"#7201a8\"],[0.3333333333333333,\"#9c179e\"],[0.4444444444444444,\"#bd3786\"],[0.5555555555555556,\"#d8576b\"],[0.6666666666666666,\"#ed7953\"],[0.7777777777777778,\"#fb9f3a\"],[0.8888888888888888,\"#fdca26\"],[1.0,\"#f0f921\"]]},\"colorway\":[\"#636efa\",\"#EF553B\",\"#00cc96\",\"#ab63fa\",\"#FFA15A\",\"#19d3f3\",\"#FF6692\",\"#B6E880\",\"#FF97FF\",\"#FECB52\"],\"font\":{\"color\":\"#2a3f5f\"},\"geo\":{\"bgcolor\":\"white\",\"lakecolor\":\"white\",\"landcolor\":\"white\",\"showlakes\":true,\"showland\":true,\"subunitcolor\":\"#C8D4E3\"},\"hoverlabel\":{\"align\":\"left\"},\"hovermode\":\"closest\",\"mapbox\":{\"style\":\"light\"},\"paper_bgcolor\":\"white\",\"plot_bgcolor\":\"white\",\"polar\":{\"angularaxis\":{\"gridcolor\":\"#EBF0F8\",\"linecolor\":\"#EBF0F8\",\"ticks\":\"\"},\"bgcolor\":\"white\",\"radialaxis\":{\"gridcolor\":\"#EBF0F8\",\"linecolor\":\"#EBF0F8\",\"ticks\":\"\"}},\"scene\":{\"xaxis\":{\"backgroundcolor\":\"white\",\"gridcolor\":\"#DFE8F3\",\"gridwidth\":2,\"linecolor\":\"#EBF0F8\",\"showbackground\":true,\"ticks\":\"\",\"zerolinecolor\":\"#EBF0F8\"},\"yaxis\":{\"backgroundcolor\":\"white\",\"gridcolor\":\"#DFE8F3\",\"gridwidth\":2,\"linecolor\":\"#EBF0F8\",\"showbackground\":true,\"ticks\":\"\",\"zerolinecolor\":\"#EBF0F8\"},\"zaxis\":{\"backgroundcolor\":\"white\",\"gridcolor\":\"#DFE8F3\",\"gridwidth\":2,\"linecolor\":\"#EBF0F8\",\"showbackground\":true,\"ticks\":\"\",\"zerolinecolor\":\"#EBF0F8\"}},\"shapedefaults\":{\"line\":{\"color\":\"#2a3f5f\"}},\"ternary\":{\"aaxis\":{\"gridcolor\":\"#DFE8F3\",\"linecolor\":\"#A2B1C6\",\"ticks\":\"\"},\"baxis\":{\"gridcolor\":\"#DFE8F3\",\"linecolor\":\"#A2B1C6\",\"ticks\":\"\"},\"bgcolor\":\"white\",\"caxis\":{\"gridcolor\":\"#DFE8F3\",\"linecolor\":\"#A2B1C6\",\"ticks\":\"\"}},\"title\":{\"x\":0.05},\"xaxis\":{\"automargin\":true,\"gridcolor\":\"#EBF0F8\",\"linecolor\":\"#EBF0F8\",\"ticks\":\"\",\"title\":{\"standoff\":15},\"zerolinecolor\":\"#EBF0F8\",\"zerolinewidth\":2},\"yaxis\":{\"automargin\":true,\"gridcolor\":\"#EBF0F8\",\"linecolor\":\"#EBF0F8\",\"ticks\":\"\",\"title\":{\"standoff\":15},\"zerolinecolor\":\"#EBF0F8\",\"zerolinewidth\":2}}},\"xaxis\":{\"anchor\":\"y\",\"domain\":[0.0,1.0],\"title\":{\"text\":\"Date\"}},\"yaxis\":{\"anchor\":\"x\",\"domain\":[0.0,1.0],\"title\":{\"text\":\"Total Sales\"}},\"legend\":{\"tracegroupgap\":0},\"title\":{\"text\":\"Total Sales in Spain\"}},                        {\"responsive\": true}                    ).then(function(){\n",
              "                            \n",
              "var gd = document.getElementById('71218ac0-9481-41b7-a279-eeac7e5b898e');\n",
              "var x = new MutationObserver(function (mutations, observer) {{\n",
              "        var display = window.getComputedStyle(gd).display;\n",
              "        if (!display || display === 'none') {{\n",
              "            console.log([gd, 'removed!']);\n",
              "            Plotly.purge(gd);\n",
              "            observer.disconnect();\n",
              "        }}\n",
              "}});\n",
              "\n",
              "// Listen for the removal of the full notebook cells\n",
              "var notebookContainer = gd.closest('#notebook-container');\n",
              "if (notebookContainer) {{\n",
              "    x.observe(notebookContainer, {childList: true});\n",
              "}}\n",
              "\n",
              "// Listen for the clearing of the current output cell\n",
              "var outputEl = gd.closest('.output');\n",
              "if (outputEl) {{\n",
              "    x.observe(outputEl, {childList: true});\n",
              "}}\n",
              "\n",
              "                        })                };                            </script>        </div>\n",
              "</body>\n",
              "</html>"
            ]
          },
          "metadata": {}
        }
      ]
    },
    {
      "cell_type": "markdown",
      "source": [
        "A primera vista, no parece mostrar tendencia o estacionalidad. Sin embargo, a pesar de la escasez de muestras en la línea temporal, el comportamiento desde febrero de 2023 hasta agosto de ese mismo año parece presentar el mismo perfil que la imagen desde febrero de 2024 hasta agosto del mismo año. Este rasgo podría indicar una estacionalidad anual. Para comprobarlo, se recurrirá al cálculo de la media móvil para una ventana de 12 meses."
      ],
      "metadata": {
        "id": "ieyPJywSbEQm"
      }
    },
    {
      "cell_type": "code",
      "source": [
        "# Calcular la media móvil para un ventana de doce meses (anual)\n",
        "country_data['Rolling_Mean'] = country_data['TOTAL_SALES'].rolling(window=12).mean()\n",
        "\n",
        "color_map = {'TOTAL_SALES': '#457b9d', 'Rolling_Mean': '#8ecae6'}\n",
        "\n",
        "fig = px.line(country_data, x='DATE', y=['TOTAL_SALES', 'Rolling_Mean'],\n",
        "              color_discrete_map=color_map)\n",
        "\n",
        "fig.update_layout(\n",
        "    title=f'Total Sales and Rolling Avg in {min_sales_country}',\n",
        "    xaxis_title='Date',\n",
        "    yaxis_title='Total Sales',\n",
        "    legend=dict(title='Legend'),\n",
        "    template='plotly_white')\n",
        "\n",
        "fig.show()"
      ],
      "metadata": {
        "colab": {
          "base_uri": "https://localhost:8080/",
          "height": 542
        },
        "id": "jccTBtIbaDpN",
        "outputId": "97f5a39c-4d1b-453f-883b-6d2f0680073d"
      },
      "execution_count": 22,
      "outputs": [
        {
          "output_type": "display_data",
          "data": {
            "text/html": [
              "<html>\n",
              "<head><meta charset=\"utf-8\" /></head>\n",
              "<body>\n",
              "    <div>            <script src=\"https://cdnjs.cloudflare.com/ajax/libs/mathjax/2.7.5/MathJax.js?config=TeX-AMS-MML_SVG\"></script><script type=\"text/javascript\">if (window.MathJax && window.MathJax.Hub && window.MathJax.Hub.Config) {window.MathJax.Hub.Config({SVG: {font: \"STIX-Web\"}});}</script>                <script type=\"text/javascript\">window.PlotlyConfig = {MathJaxConfig: 'local'};</script>\n",
              "        <script charset=\"utf-8\" src=\"https://cdn.plot.ly/plotly-2.35.2.min.js\"></script>                <div id=\"3c3d1b4d-dbea-4ae9-8755-91f638151d0a\" class=\"plotly-graph-div\" style=\"height:525px; width:100%;\"></div>            <script type=\"text/javascript\">                                    window.PLOTLYENV=window.PLOTLYENV || {};                                    if (document.getElementById(\"3c3d1b4d-dbea-4ae9-8755-91f638151d0a\")) {                    Plotly.newPlot(                        \"3c3d1b4d-dbea-4ae9-8755-91f638151d0a\",                        [{\"hovertemplate\":\"variable=TOTAL_SALES\\u003cbr\\u003eDATE=%{x}\\u003cbr\\u003evalue=%{y}\\u003cextra\\u003e\\u003c\\u002fextra\\u003e\",\"legendgroup\":\"TOTAL_SALES\",\"line\":{\"color\":\"#457b9d\",\"dash\":\"solid\"},\"marker\":{\"symbol\":\"circle\"},\"mode\":\"lines\",\"name\":\"TOTAL_SALES\",\"orientation\":\"v\",\"showlegend\":true,\"x\":[\"2023-01-31T00:00:00\",\"2023-02-28T00:00:00\",\"2023-03-31T00:00:00\",\"2023-04-30T00:00:00\",\"2023-05-31T00:00:00\",\"2023-06-30T00:00:00\",\"2023-07-31T00:00:00\",\"2023-08-31T00:00:00\",\"2023-09-30T00:00:00\",\"2023-10-31T00:00:00\",\"2023-11-30T00:00:00\",\"2023-12-31T00:00:00\",\"2024-01-31T00:00:00\",\"2024-02-29T00:00:00\",\"2024-03-31T00:00:00\",\"2024-04-30T00:00:00\",\"2024-05-31T00:00:00\",\"2024-06-30T00:00:00\",\"2024-07-31T00:00:00\",\"2024-08-31T00:00:00\"],\"xaxis\":\"x\",\"y\":[325272.9389304911,295588.379604517,399710.27310997306,328035.2578740851,360751.156280142,439198.58628968743,496545.2361195783,564336.120819692,420041.9805910407,468425.84176011605,418006.199049298,394147.40859018476,349696.53314179694,352899.0356524695,332109.2562326968,376678.36889674753,356759.011785592,408967.746366754,506234.36278204597,537862.283643176],\"yaxis\":\"y\",\"type\":\"scatter\"},{\"hovertemplate\":\"variable=Rolling_Mean\\u003cbr\\u003eDATE=%{x}\\u003cbr\\u003evalue=%{y}\\u003cextra\\u003e\\u003c\\u002fextra\\u003e\",\"legendgroup\":\"Rolling_Mean\",\"line\":{\"color\":\"#8ecae6\",\"dash\":\"solid\"},\"marker\":{\"symbol\":\"circle\"},\"mode\":\"lines\",\"name\":\"Rolling_Mean\",\"orientation\":\"v\",\"showlegend\":true,\"x\":[\"2023-01-31T00:00:00\",\"2023-02-28T00:00:00\",\"2023-03-31T00:00:00\",\"2023-04-30T00:00:00\",\"2023-05-31T00:00:00\",\"2023-06-30T00:00:00\",\"2023-07-31T00:00:00\",\"2023-08-31T00:00:00\",\"2023-09-30T00:00:00\",\"2023-10-31T00:00:00\",\"2023-11-30T00:00:00\",\"2023-12-31T00:00:00\",\"2024-01-31T00:00:00\",\"2024-02-29T00:00:00\",\"2024-03-31T00:00:00\",\"2024-04-30T00:00:00\",\"2024-05-31T00:00:00\",\"2024-06-30T00:00:00\",\"2024-07-31T00:00:00\",\"2024-08-31T00:00:00\"],\"xaxis\":\"x\",\"y\":[null,null,null,null,null,null,null,null,null,null,null,409171.6149182338,411206.9144358426,415982.80243983865,410349.3843667323,414402.97695195413,414070.2982440751,411551.0615838305,412358.48880570283,410152.33570765983],\"yaxis\":\"y\",\"type\":\"scatter\"}],                        {\"template\":{\"data\":{\"barpolar\":[{\"marker\":{\"line\":{\"color\":\"white\",\"width\":0.5},\"pattern\":{\"fillmode\":\"overlay\",\"size\":10,\"solidity\":0.2}},\"type\":\"barpolar\"}],\"bar\":[{\"error_x\":{\"color\":\"#2a3f5f\"},\"error_y\":{\"color\":\"#2a3f5f\"},\"marker\":{\"line\":{\"color\":\"white\",\"width\":0.5},\"pattern\":{\"fillmode\":\"overlay\",\"size\":10,\"solidity\":0.2}},\"type\":\"bar\"}],\"carpet\":[{\"aaxis\":{\"endlinecolor\":\"#2a3f5f\",\"gridcolor\":\"#C8D4E3\",\"linecolor\":\"#C8D4E3\",\"minorgridcolor\":\"#C8D4E3\",\"startlinecolor\":\"#2a3f5f\"},\"baxis\":{\"endlinecolor\":\"#2a3f5f\",\"gridcolor\":\"#C8D4E3\",\"linecolor\":\"#C8D4E3\",\"minorgridcolor\":\"#C8D4E3\",\"startlinecolor\":\"#2a3f5f\"},\"type\":\"carpet\"}],\"choropleth\":[{\"colorbar\":{\"outlinewidth\":0,\"ticks\":\"\"},\"type\":\"choropleth\"}],\"contourcarpet\":[{\"colorbar\":{\"outlinewidth\":0,\"ticks\":\"\"},\"type\":\"contourcarpet\"}],\"contour\":[{\"colorbar\":{\"outlinewidth\":0,\"ticks\":\"\"},\"colorscale\":[[0.0,\"#0d0887\"],[0.1111111111111111,\"#46039f\"],[0.2222222222222222,\"#7201a8\"],[0.3333333333333333,\"#9c179e\"],[0.4444444444444444,\"#bd3786\"],[0.5555555555555556,\"#d8576b\"],[0.6666666666666666,\"#ed7953\"],[0.7777777777777778,\"#fb9f3a\"],[0.8888888888888888,\"#fdca26\"],[1.0,\"#f0f921\"]],\"type\":\"contour\"}],\"heatmapgl\":[{\"colorbar\":{\"outlinewidth\":0,\"ticks\":\"\"},\"colorscale\":[[0.0,\"#0d0887\"],[0.1111111111111111,\"#46039f\"],[0.2222222222222222,\"#7201a8\"],[0.3333333333333333,\"#9c179e\"],[0.4444444444444444,\"#bd3786\"],[0.5555555555555556,\"#d8576b\"],[0.6666666666666666,\"#ed7953\"],[0.7777777777777778,\"#fb9f3a\"],[0.8888888888888888,\"#fdca26\"],[1.0,\"#f0f921\"]],\"type\":\"heatmapgl\"}],\"heatmap\":[{\"colorbar\":{\"outlinewidth\":0,\"ticks\":\"\"},\"colorscale\":[[0.0,\"#0d0887\"],[0.1111111111111111,\"#46039f\"],[0.2222222222222222,\"#7201a8\"],[0.3333333333333333,\"#9c179e\"],[0.4444444444444444,\"#bd3786\"],[0.5555555555555556,\"#d8576b\"],[0.6666666666666666,\"#ed7953\"],[0.7777777777777778,\"#fb9f3a\"],[0.8888888888888888,\"#fdca26\"],[1.0,\"#f0f921\"]],\"type\":\"heatmap\"}],\"histogram2dcontour\":[{\"colorbar\":{\"outlinewidth\":0,\"ticks\":\"\"},\"colorscale\":[[0.0,\"#0d0887\"],[0.1111111111111111,\"#46039f\"],[0.2222222222222222,\"#7201a8\"],[0.3333333333333333,\"#9c179e\"],[0.4444444444444444,\"#bd3786\"],[0.5555555555555556,\"#d8576b\"],[0.6666666666666666,\"#ed7953\"],[0.7777777777777778,\"#fb9f3a\"],[0.8888888888888888,\"#fdca26\"],[1.0,\"#f0f921\"]],\"type\":\"histogram2dcontour\"}],\"histogram2d\":[{\"colorbar\":{\"outlinewidth\":0,\"ticks\":\"\"},\"colorscale\":[[0.0,\"#0d0887\"],[0.1111111111111111,\"#46039f\"],[0.2222222222222222,\"#7201a8\"],[0.3333333333333333,\"#9c179e\"],[0.4444444444444444,\"#bd3786\"],[0.5555555555555556,\"#d8576b\"],[0.6666666666666666,\"#ed7953\"],[0.7777777777777778,\"#fb9f3a\"],[0.8888888888888888,\"#fdca26\"],[1.0,\"#f0f921\"]],\"type\":\"histogram2d\"}],\"histogram\":[{\"marker\":{\"pattern\":{\"fillmode\":\"overlay\",\"size\":10,\"solidity\":0.2}},\"type\":\"histogram\"}],\"mesh3d\":[{\"colorbar\":{\"outlinewidth\":0,\"ticks\":\"\"},\"type\":\"mesh3d\"}],\"parcoords\":[{\"line\":{\"colorbar\":{\"outlinewidth\":0,\"ticks\":\"\"}},\"type\":\"parcoords\"}],\"pie\":[{\"automargin\":true,\"type\":\"pie\"}],\"scatter3d\":[{\"line\":{\"colorbar\":{\"outlinewidth\":0,\"ticks\":\"\"}},\"marker\":{\"colorbar\":{\"outlinewidth\":0,\"ticks\":\"\"}},\"type\":\"scatter3d\"}],\"scattercarpet\":[{\"marker\":{\"colorbar\":{\"outlinewidth\":0,\"ticks\":\"\"}},\"type\":\"scattercarpet\"}],\"scattergeo\":[{\"marker\":{\"colorbar\":{\"outlinewidth\":0,\"ticks\":\"\"}},\"type\":\"scattergeo\"}],\"scattergl\":[{\"marker\":{\"colorbar\":{\"outlinewidth\":0,\"ticks\":\"\"}},\"type\":\"scattergl\"}],\"scattermapbox\":[{\"marker\":{\"colorbar\":{\"outlinewidth\":0,\"ticks\":\"\"}},\"type\":\"scattermapbox\"}],\"scatterpolargl\":[{\"marker\":{\"colorbar\":{\"outlinewidth\":0,\"ticks\":\"\"}},\"type\":\"scatterpolargl\"}],\"scatterpolar\":[{\"marker\":{\"colorbar\":{\"outlinewidth\":0,\"ticks\":\"\"}},\"type\":\"scatterpolar\"}],\"scatter\":[{\"fillpattern\":{\"fillmode\":\"overlay\",\"size\":10,\"solidity\":0.2},\"type\":\"scatter\"}],\"scatterternary\":[{\"marker\":{\"colorbar\":{\"outlinewidth\":0,\"ticks\":\"\"}},\"type\":\"scatterternary\"}],\"surface\":[{\"colorbar\":{\"outlinewidth\":0,\"ticks\":\"\"},\"colorscale\":[[0.0,\"#0d0887\"],[0.1111111111111111,\"#46039f\"],[0.2222222222222222,\"#7201a8\"],[0.3333333333333333,\"#9c179e\"],[0.4444444444444444,\"#bd3786\"],[0.5555555555555556,\"#d8576b\"],[0.6666666666666666,\"#ed7953\"],[0.7777777777777778,\"#fb9f3a\"],[0.8888888888888888,\"#fdca26\"],[1.0,\"#f0f921\"]],\"type\":\"surface\"}],\"table\":[{\"cells\":{\"fill\":{\"color\":\"#EBF0F8\"},\"line\":{\"color\":\"white\"}},\"header\":{\"fill\":{\"color\":\"#C8D4E3\"},\"line\":{\"color\":\"white\"}},\"type\":\"table\"}]},\"layout\":{\"annotationdefaults\":{\"arrowcolor\":\"#2a3f5f\",\"arrowhead\":0,\"arrowwidth\":1},\"autotypenumbers\":\"strict\",\"coloraxis\":{\"colorbar\":{\"outlinewidth\":0,\"ticks\":\"\"}},\"colorscale\":{\"diverging\":[[0,\"#8e0152\"],[0.1,\"#c51b7d\"],[0.2,\"#de77ae\"],[0.3,\"#f1b6da\"],[0.4,\"#fde0ef\"],[0.5,\"#f7f7f7\"],[0.6,\"#e6f5d0\"],[0.7,\"#b8e186\"],[0.8,\"#7fbc41\"],[0.9,\"#4d9221\"],[1,\"#276419\"]],\"sequential\":[[0.0,\"#0d0887\"],[0.1111111111111111,\"#46039f\"],[0.2222222222222222,\"#7201a8\"],[0.3333333333333333,\"#9c179e\"],[0.4444444444444444,\"#bd3786\"],[0.5555555555555556,\"#d8576b\"],[0.6666666666666666,\"#ed7953\"],[0.7777777777777778,\"#fb9f3a\"],[0.8888888888888888,\"#fdca26\"],[1.0,\"#f0f921\"]],\"sequentialminus\":[[0.0,\"#0d0887\"],[0.1111111111111111,\"#46039f\"],[0.2222222222222222,\"#7201a8\"],[0.3333333333333333,\"#9c179e\"],[0.4444444444444444,\"#bd3786\"],[0.5555555555555556,\"#d8576b\"],[0.6666666666666666,\"#ed7953\"],[0.7777777777777778,\"#fb9f3a\"],[0.8888888888888888,\"#fdca26\"],[1.0,\"#f0f921\"]]},\"colorway\":[\"#636efa\",\"#EF553B\",\"#00cc96\",\"#ab63fa\",\"#FFA15A\",\"#19d3f3\",\"#FF6692\",\"#B6E880\",\"#FF97FF\",\"#FECB52\"],\"font\":{\"color\":\"#2a3f5f\"},\"geo\":{\"bgcolor\":\"white\",\"lakecolor\":\"white\",\"landcolor\":\"white\",\"showlakes\":true,\"showland\":true,\"subunitcolor\":\"#C8D4E3\"},\"hoverlabel\":{\"align\":\"left\"},\"hovermode\":\"closest\",\"mapbox\":{\"style\":\"light\"},\"paper_bgcolor\":\"white\",\"plot_bgcolor\":\"white\",\"polar\":{\"angularaxis\":{\"gridcolor\":\"#EBF0F8\",\"linecolor\":\"#EBF0F8\",\"ticks\":\"\"},\"bgcolor\":\"white\",\"radialaxis\":{\"gridcolor\":\"#EBF0F8\",\"linecolor\":\"#EBF0F8\",\"ticks\":\"\"}},\"scene\":{\"xaxis\":{\"backgroundcolor\":\"white\",\"gridcolor\":\"#DFE8F3\",\"gridwidth\":2,\"linecolor\":\"#EBF0F8\",\"showbackground\":true,\"ticks\":\"\",\"zerolinecolor\":\"#EBF0F8\"},\"yaxis\":{\"backgroundcolor\":\"white\",\"gridcolor\":\"#DFE8F3\",\"gridwidth\":2,\"linecolor\":\"#EBF0F8\",\"showbackground\":true,\"ticks\":\"\",\"zerolinecolor\":\"#EBF0F8\"},\"zaxis\":{\"backgroundcolor\":\"white\",\"gridcolor\":\"#DFE8F3\",\"gridwidth\":2,\"linecolor\":\"#EBF0F8\",\"showbackground\":true,\"ticks\":\"\",\"zerolinecolor\":\"#EBF0F8\"}},\"shapedefaults\":{\"line\":{\"color\":\"#2a3f5f\"}},\"ternary\":{\"aaxis\":{\"gridcolor\":\"#DFE8F3\",\"linecolor\":\"#A2B1C6\",\"ticks\":\"\"},\"baxis\":{\"gridcolor\":\"#DFE8F3\",\"linecolor\":\"#A2B1C6\",\"ticks\":\"\"},\"bgcolor\":\"white\",\"caxis\":{\"gridcolor\":\"#DFE8F3\",\"linecolor\":\"#A2B1C6\",\"ticks\":\"\"}},\"title\":{\"x\":0.05},\"xaxis\":{\"automargin\":true,\"gridcolor\":\"#EBF0F8\",\"linecolor\":\"#EBF0F8\",\"ticks\":\"\",\"title\":{\"standoff\":15},\"zerolinecolor\":\"#EBF0F8\",\"zerolinewidth\":2},\"yaxis\":{\"automargin\":true,\"gridcolor\":\"#EBF0F8\",\"linecolor\":\"#EBF0F8\",\"ticks\":\"\",\"title\":{\"standoff\":15},\"zerolinecolor\":\"#EBF0F8\",\"zerolinewidth\":2}}},\"xaxis\":{\"anchor\":\"y\",\"domain\":[0.0,1.0],\"title\":{\"text\":\"Date\"}},\"yaxis\":{\"anchor\":\"x\",\"domain\":[0.0,1.0],\"title\":{\"text\":\"Total Sales\"}},\"legend\":{\"title\":{\"text\":\"Legend\"},\"tracegroupgap\":0},\"margin\":{\"t\":60},\"title\":{\"text\":\"Total Sales and Rolling Avg in Spain\"}},                        {\"responsive\": true}                    ).then(function(){\n",
              "                            \n",
              "var gd = document.getElementById('3c3d1b4d-dbea-4ae9-8755-91f638151d0a');\n",
              "var x = new MutationObserver(function (mutations, observer) {{\n",
              "        var display = window.getComputedStyle(gd).display;\n",
              "        if (!display || display === 'none') {{\n",
              "            console.log([gd, 'removed!']);\n",
              "            Plotly.purge(gd);\n",
              "            observer.disconnect();\n",
              "        }}\n",
              "}});\n",
              "\n",
              "// Listen for the removal of the full notebook cells\n",
              "var notebookContainer = gd.closest('#notebook-container');\n",
              "if (notebookContainer) {{\n",
              "    x.observe(notebookContainer, {childList: true});\n",
              "}}\n",
              "\n",
              "// Listen for the clearing of the current output cell\n",
              "var outputEl = gd.closest('.output');\n",
              "if (outputEl) {{\n",
              "    x.observe(outputEl, {childList: true});\n",
              "}}\n",
              "\n",
              "                        })                };                            </script>        </div>\n",
              "</body>\n",
              "</html>"
            ]
          },
          "metadata": {}
        }
      ]
    },
    {
      "cell_type": "markdown",
      "source": [
        "Gracias a la información reflejada en el gráfico que se ha generado, se aprecia que la media móvil se mantiene estable a lo largo del tiempo.\n",
        "\n",
        "Por lo tanto, se puede concluir que las ventas totales en España presentan ciclos anuales que se repiten a lo largo del tiempo. Además, el análisis de dichos ciclos carece de una tendencia ascendente o descendente, indicando que las ventas se mantienen estables año tras año."
      ],
      "metadata": {
        "id": "yc2y_PbBb7Mn"
      }
    },
    {
      "cell_type": "markdown",
      "source": [
        "#### La marca con más ventas"
      ],
      "metadata": {
        "id": "xWLADZoDmxiF"
      }
    },
    {
      "cell_type": "code",
      "source": [
        "# Identificación del país con mayor número de ventas\n",
        "sales_by_brand_month = df_actual.groupby(['SUBBRAND', pd.Grouper(key='DATE', freq='M')])['AMOUNT'].sum().reset_index()\n",
        "sales_by_brand_month.columns = ['SUBBRAND', 'DATE', 'TOTAL_SALES']\n",
        "max_sales_brand = sales_by_brand_month.loc[sales_by_brand_month['TOTAL_SALES'].idxmax(), 'SUBBRAND']\n",
        "print('Marca con mayor número de ventas: ', max_sales_brand)"
      ],
      "metadata": {
        "colab": {
          "base_uri": "https://localhost:8080/"
        },
        "id": "JxfR8_cvm0P2",
        "outputId": "12280e38-546a-43d2-f925-9f7deb77cffe"
      },
      "execution_count": 23,
      "outputs": [
        {
          "output_type": "stream",
          "name": "stdout",
          "text": [
            "Marca con mayor número de ventas:  Pepsi Max (L3)\n"
          ]
        }
      ]
    },
    {
      "cell_type": "code",
      "source": [
        "sales_by_brand_month = df_actual.groupby(['SUBBRAND', pd.Grouper(key='DATE', freq='M')])['AMOUNT'].sum().reset_index()\n",
        "sales_by_brand_month.columns = ['SUBBRAND', 'DATE', 'TOTAL_SALES']\n",
        "\n",
        "# Filtrar por la submarca con ventas máximas\n",
        "brand_data = sales_by_brand_month[sales_by_brand_month['SUBBRAND'] == max_sales_brand]\n",
        "\n",
        "fig = px.line(brand_data, x='DATE', y='TOTAL_SALES',\n",
        "              labels={'TOTAL_SALES': 'Total Sales', 'DATE':'Date'},\n",
        "              title=f\"Total Sales in {max_sales_brand}\",)\n",
        "\n",
        "fig.update_traces(line=dict(color='#457b9d'))\n",
        "fig.update_layout(template='plotly_white')\n",
        "fig.show()\n"
      ],
      "metadata": {
        "colab": {
          "base_uri": "https://localhost:8080/",
          "height": 542
        },
        "id": "zh0eR15CIXjV",
        "outputId": "a6a9bd4b-1289-48ff-ba52-e00ac2e85340"
      },
      "execution_count": 24,
      "outputs": [
        {
          "output_type": "display_data",
          "data": {
            "text/html": [
              "<html>\n",
              "<head><meta charset=\"utf-8\" /></head>\n",
              "<body>\n",
              "    <div>            <script src=\"https://cdnjs.cloudflare.com/ajax/libs/mathjax/2.7.5/MathJax.js?config=TeX-AMS-MML_SVG\"></script><script type=\"text/javascript\">if (window.MathJax && window.MathJax.Hub && window.MathJax.Hub.Config) {window.MathJax.Hub.Config({SVG: {font: \"STIX-Web\"}});}</script>                <script type=\"text/javascript\">window.PlotlyConfig = {MathJaxConfig: 'local'};</script>\n",
              "        <script charset=\"utf-8\" src=\"https://cdn.plot.ly/plotly-2.35.2.min.js\"></script>                <div id=\"e9a454e0-add1-43f7-9984-1683b679b81e\" class=\"plotly-graph-div\" style=\"height:525px; width:100%;\"></div>            <script type=\"text/javascript\">                                    window.PLOTLYENV=window.PLOTLYENV || {};                                    if (document.getElementById(\"e9a454e0-add1-43f7-9984-1683b679b81e\")) {                    Plotly.newPlot(                        \"e9a454e0-add1-43f7-9984-1683b679b81e\",                        [{\"hovertemplate\":\"Date=%{x}\\u003cbr\\u003eTotal Sales=%{y}\\u003cextra\\u003e\\u003c\\u002fextra\\u003e\",\"legendgroup\":\"\",\"line\":{\"color\":\"#457b9d\",\"dash\":\"solid\"},\"marker\":{\"symbol\":\"circle\"},\"mode\":\"lines\",\"name\":\"\",\"orientation\":\"v\",\"showlegend\":false,\"x\":[\"2023-01-31T00:00:00\",\"2023-02-28T00:00:00\",\"2023-03-31T00:00:00\",\"2023-04-30T00:00:00\",\"2023-05-31T00:00:00\",\"2023-06-30T00:00:00\",\"2023-07-31T00:00:00\",\"2023-08-31T00:00:00\",\"2023-09-30T00:00:00\",\"2023-10-31T00:00:00\",\"2023-11-30T00:00:00\",\"2023-12-31T00:00:00\",\"2024-01-31T00:00:00\",\"2024-02-29T00:00:00\",\"2024-03-31T00:00:00\",\"2024-04-30T00:00:00\",\"2024-05-31T00:00:00\",\"2024-06-30T00:00:00\",\"2024-07-31T00:00:00\",\"2024-08-31T00:00:00\"],\"xaxis\":\"x\",\"y\":[14856548.128605943,15463315.96725677,20873551.914991353,17934944.15249419,22325446.036569193,21328548.8814003,18368657.109468464,21608180.963240135,19652280.390064318,18626907.831478518,20722021.60754396,21701863.908770297,15624249.97952067,18256940.63911945,21254343.204710368,20238337.23987266,23110133.530175477,21238809.837675165,20779660.905810736,22733928.40504956],\"yaxis\":\"y\",\"type\":\"scatter\"}],                        {\"template\":{\"data\":{\"barpolar\":[{\"marker\":{\"line\":{\"color\":\"white\",\"width\":0.5},\"pattern\":{\"fillmode\":\"overlay\",\"size\":10,\"solidity\":0.2}},\"type\":\"barpolar\"}],\"bar\":[{\"error_x\":{\"color\":\"#2a3f5f\"},\"error_y\":{\"color\":\"#2a3f5f\"},\"marker\":{\"line\":{\"color\":\"white\",\"width\":0.5},\"pattern\":{\"fillmode\":\"overlay\",\"size\":10,\"solidity\":0.2}},\"type\":\"bar\"}],\"carpet\":[{\"aaxis\":{\"endlinecolor\":\"#2a3f5f\",\"gridcolor\":\"#C8D4E3\",\"linecolor\":\"#C8D4E3\",\"minorgridcolor\":\"#C8D4E3\",\"startlinecolor\":\"#2a3f5f\"},\"baxis\":{\"endlinecolor\":\"#2a3f5f\",\"gridcolor\":\"#C8D4E3\",\"linecolor\":\"#C8D4E3\",\"minorgridcolor\":\"#C8D4E3\",\"startlinecolor\":\"#2a3f5f\"},\"type\":\"carpet\"}],\"choropleth\":[{\"colorbar\":{\"outlinewidth\":0,\"ticks\":\"\"},\"type\":\"choropleth\"}],\"contourcarpet\":[{\"colorbar\":{\"outlinewidth\":0,\"ticks\":\"\"},\"type\":\"contourcarpet\"}],\"contour\":[{\"colorbar\":{\"outlinewidth\":0,\"ticks\":\"\"},\"colorscale\":[[0.0,\"#0d0887\"],[0.1111111111111111,\"#46039f\"],[0.2222222222222222,\"#7201a8\"],[0.3333333333333333,\"#9c179e\"],[0.4444444444444444,\"#bd3786\"],[0.5555555555555556,\"#d8576b\"],[0.6666666666666666,\"#ed7953\"],[0.7777777777777778,\"#fb9f3a\"],[0.8888888888888888,\"#fdca26\"],[1.0,\"#f0f921\"]],\"type\":\"contour\"}],\"heatmapgl\":[{\"colorbar\":{\"outlinewidth\":0,\"ticks\":\"\"},\"colorscale\":[[0.0,\"#0d0887\"],[0.1111111111111111,\"#46039f\"],[0.2222222222222222,\"#7201a8\"],[0.3333333333333333,\"#9c179e\"],[0.4444444444444444,\"#bd3786\"],[0.5555555555555556,\"#d8576b\"],[0.6666666666666666,\"#ed7953\"],[0.7777777777777778,\"#fb9f3a\"],[0.8888888888888888,\"#fdca26\"],[1.0,\"#f0f921\"]],\"type\":\"heatmapgl\"}],\"heatmap\":[{\"colorbar\":{\"outlinewidth\":0,\"ticks\":\"\"},\"colorscale\":[[0.0,\"#0d0887\"],[0.1111111111111111,\"#46039f\"],[0.2222222222222222,\"#7201a8\"],[0.3333333333333333,\"#9c179e\"],[0.4444444444444444,\"#bd3786\"],[0.5555555555555556,\"#d8576b\"],[0.6666666666666666,\"#ed7953\"],[0.7777777777777778,\"#fb9f3a\"],[0.8888888888888888,\"#fdca26\"],[1.0,\"#f0f921\"]],\"type\":\"heatmap\"}],\"histogram2dcontour\":[{\"colorbar\":{\"outlinewidth\":0,\"ticks\":\"\"},\"colorscale\":[[0.0,\"#0d0887\"],[0.1111111111111111,\"#46039f\"],[0.2222222222222222,\"#7201a8\"],[0.3333333333333333,\"#9c179e\"],[0.4444444444444444,\"#bd3786\"],[0.5555555555555556,\"#d8576b\"],[0.6666666666666666,\"#ed7953\"],[0.7777777777777778,\"#fb9f3a\"],[0.8888888888888888,\"#fdca26\"],[1.0,\"#f0f921\"]],\"type\":\"histogram2dcontour\"}],\"histogram2d\":[{\"colorbar\":{\"outlinewidth\":0,\"ticks\":\"\"},\"colorscale\":[[0.0,\"#0d0887\"],[0.1111111111111111,\"#46039f\"],[0.2222222222222222,\"#7201a8\"],[0.3333333333333333,\"#9c179e\"],[0.4444444444444444,\"#bd3786\"],[0.5555555555555556,\"#d8576b\"],[0.6666666666666666,\"#ed7953\"],[0.7777777777777778,\"#fb9f3a\"],[0.8888888888888888,\"#fdca26\"],[1.0,\"#f0f921\"]],\"type\":\"histogram2d\"}],\"histogram\":[{\"marker\":{\"pattern\":{\"fillmode\":\"overlay\",\"size\":10,\"solidity\":0.2}},\"type\":\"histogram\"}],\"mesh3d\":[{\"colorbar\":{\"outlinewidth\":0,\"ticks\":\"\"},\"type\":\"mesh3d\"}],\"parcoords\":[{\"line\":{\"colorbar\":{\"outlinewidth\":0,\"ticks\":\"\"}},\"type\":\"parcoords\"}],\"pie\":[{\"automargin\":true,\"type\":\"pie\"}],\"scatter3d\":[{\"line\":{\"colorbar\":{\"outlinewidth\":0,\"ticks\":\"\"}},\"marker\":{\"colorbar\":{\"outlinewidth\":0,\"ticks\":\"\"}},\"type\":\"scatter3d\"}],\"scattercarpet\":[{\"marker\":{\"colorbar\":{\"outlinewidth\":0,\"ticks\":\"\"}},\"type\":\"scattercarpet\"}],\"scattergeo\":[{\"marker\":{\"colorbar\":{\"outlinewidth\":0,\"ticks\":\"\"}},\"type\":\"scattergeo\"}],\"scattergl\":[{\"marker\":{\"colorbar\":{\"outlinewidth\":0,\"ticks\":\"\"}},\"type\":\"scattergl\"}],\"scattermapbox\":[{\"marker\":{\"colorbar\":{\"outlinewidth\":0,\"ticks\":\"\"}},\"type\":\"scattermapbox\"}],\"scatterpolargl\":[{\"marker\":{\"colorbar\":{\"outlinewidth\":0,\"ticks\":\"\"}},\"type\":\"scatterpolargl\"}],\"scatterpolar\":[{\"marker\":{\"colorbar\":{\"outlinewidth\":0,\"ticks\":\"\"}},\"type\":\"scatterpolar\"}],\"scatter\":[{\"fillpattern\":{\"fillmode\":\"overlay\",\"size\":10,\"solidity\":0.2},\"type\":\"scatter\"}],\"scatterternary\":[{\"marker\":{\"colorbar\":{\"outlinewidth\":0,\"ticks\":\"\"}},\"type\":\"scatterternary\"}],\"surface\":[{\"colorbar\":{\"outlinewidth\":0,\"ticks\":\"\"},\"colorscale\":[[0.0,\"#0d0887\"],[0.1111111111111111,\"#46039f\"],[0.2222222222222222,\"#7201a8\"],[0.3333333333333333,\"#9c179e\"],[0.4444444444444444,\"#bd3786\"],[0.5555555555555556,\"#d8576b\"],[0.6666666666666666,\"#ed7953\"],[0.7777777777777778,\"#fb9f3a\"],[0.8888888888888888,\"#fdca26\"],[1.0,\"#f0f921\"]],\"type\":\"surface\"}],\"table\":[{\"cells\":{\"fill\":{\"color\":\"#EBF0F8\"},\"line\":{\"color\":\"white\"}},\"header\":{\"fill\":{\"color\":\"#C8D4E3\"},\"line\":{\"color\":\"white\"}},\"type\":\"table\"}]},\"layout\":{\"annotationdefaults\":{\"arrowcolor\":\"#2a3f5f\",\"arrowhead\":0,\"arrowwidth\":1},\"autotypenumbers\":\"strict\",\"coloraxis\":{\"colorbar\":{\"outlinewidth\":0,\"ticks\":\"\"}},\"colorscale\":{\"diverging\":[[0,\"#8e0152\"],[0.1,\"#c51b7d\"],[0.2,\"#de77ae\"],[0.3,\"#f1b6da\"],[0.4,\"#fde0ef\"],[0.5,\"#f7f7f7\"],[0.6,\"#e6f5d0\"],[0.7,\"#b8e186\"],[0.8,\"#7fbc41\"],[0.9,\"#4d9221\"],[1,\"#276419\"]],\"sequential\":[[0.0,\"#0d0887\"],[0.1111111111111111,\"#46039f\"],[0.2222222222222222,\"#7201a8\"],[0.3333333333333333,\"#9c179e\"],[0.4444444444444444,\"#bd3786\"],[0.5555555555555556,\"#d8576b\"],[0.6666666666666666,\"#ed7953\"],[0.7777777777777778,\"#fb9f3a\"],[0.8888888888888888,\"#fdca26\"],[1.0,\"#f0f921\"]],\"sequentialminus\":[[0.0,\"#0d0887\"],[0.1111111111111111,\"#46039f\"],[0.2222222222222222,\"#7201a8\"],[0.3333333333333333,\"#9c179e\"],[0.4444444444444444,\"#bd3786\"],[0.5555555555555556,\"#d8576b\"],[0.6666666666666666,\"#ed7953\"],[0.7777777777777778,\"#fb9f3a\"],[0.8888888888888888,\"#fdca26\"],[1.0,\"#f0f921\"]]},\"colorway\":[\"#636efa\",\"#EF553B\",\"#00cc96\",\"#ab63fa\",\"#FFA15A\",\"#19d3f3\",\"#FF6692\",\"#B6E880\",\"#FF97FF\",\"#FECB52\"],\"font\":{\"color\":\"#2a3f5f\"},\"geo\":{\"bgcolor\":\"white\",\"lakecolor\":\"white\",\"landcolor\":\"white\",\"showlakes\":true,\"showland\":true,\"subunitcolor\":\"#C8D4E3\"},\"hoverlabel\":{\"align\":\"left\"},\"hovermode\":\"closest\",\"mapbox\":{\"style\":\"light\"},\"paper_bgcolor\":\"white\",\"plot_bgcolor\":\"white\",\"polar\":{\"angularaxis\":{\"gridcolor\":\"#EBF0F8\",\"linecolor\":\"#EBF0F8\",\"ticks\":\"\"},\"bgcolor\":\"white\",\"radialaxis\":{\"gridcolor\":\"#EBF0F8\",\"linecolor\":\"#EBF0F8\",\"ticks\":\"\"}},\"scene\":{\"xaxis\":{\"backgroundcolor\":\"white\",\"gridcolor\":\"#DFE8F3\",\"gridwidth\":2,\"linecolor\":\"#EBF0F8\",\"showbackground\":true,\"ticks\":\"\",\"zerolinecolor\":\"#EBF0F8\"},\"yaxis\":{\"backgroundcolor\":\"white\",\"gridcolor\":\"#DFE8F3\",\"gridwidth\":2,\"linecolor\":\"#EBF0F8\",\"showbackground\":true,\"ticks\":\"\",\"zerolinecolor\":\"#EBF0F8\"},\"zaxis\":{\"backgroundcolor\":\"white\",\"gridcolor\":\"#DFE8F3\",\"gridwidth\":2,\"linecolor\":\"#EBF0F8\",\"showbackground\":true,\"ticks\":\"\",\"zerolinecolor\":\"#EBF0F8\"}},\"shapedefaults\":{\"line\":{\"color\":\"#2a3f5f\"}},\"ternary\":{\"aaxis\":{\"gridcolor\":\"#DFE8F3\",\"linecolor\":\"#A2B1C6\",\"ticks\":\"\"},\"baxis\":{\"gridcolor\":\"#DFE8F3\",\"linecolor\":\"#A2B1C6\",\"ticks\":\"\"},\"bgcolor\":\"white\",\"caxis\":{\"gridcolor\":\"#DFE8F3\",\"linecolor\":\"#A2B1C6\",\"ticks\":\"\"}},\"title\":{\"x\":0.05},\"xaxis\":{\"automargin\":true,\"gridcolor\":\"#EBF0F8\",\"linecolor\":\"#EBF0F8\",\"ticks\":\"\",\"title\":{\"standoff\":15},\"zerolinecolor\":\"#EBF0F8\",\"zerolinewidth\":2},\"yaxis\":{\"automargin\":true,\"gridcolor\":\"#EBF0F8\",\"linecolor\":\"#EBF0F8\",\"ticks\":\"\",\"title\":{\"standoff\":15},\"zerolinecolor\":\"#EBF0F8\",\"zerolinewidth\":2}}},\"xaxis\":{\"anchor\":\"y\",\"domain\":[0.0,1.0],\"title\":{\"text\":\"Date\"}},\"yaxis\":{\"anchor\":\"x\",\"domain\":[0.0,1.0],\"title\":{\"text\":\"Total Sales\"}},\"legend\":{\"tracegroupgap\":0},\"title\":{\"text\":\"Total Sales in Pepsi Max (L3)\"}},                        {\"responsive\": true}                    ).then(function(){\n",
              "                            \n",
              "var gd = document.getElementById('e9a454e0-add1-43f7-9984-1683b679b81e');\n",
              "var x = new MutationObserver(function (mutations, observer) {{\n",
              "        var display = window.getComputedStyle(gd).display;\n",
              "        if (!display || display === 'none') {{\n",
              "            console.log([gd, 'removed!']);\n",
              "            Plotly.purge(gd);\n",
              "            observer.disconnect();\n",
              "        }}\n",
              "}});\n",
              "\n",
              "// Listen for the removal of the full notebook cells\n",
              "var notebookContainer = gd.closest('#notebook-container');\n",
              "if (notebookContainer) {{\n",
              "    x.observe(notebookContainer, {childList: true});\n",
              "}}\n",
              "\n",
              "// Listen for the clearing of the current output cell\n",
              "var outputEl = gd.closest('.output');\n",
              "if (outputEl) {{\n",
              "    x.observe(outputEl, {childList: true});\n",
              "}}\n",
              "\n",
              "                        })                };                            </script>        </div>\n",
              "</body>\n",
              "</html>"
            ]
          },
          "metadata": {}
        }
      ]
    },
    {
      "cell_type": "markdown",
      "source": [
        "Se observan dos picos mínimos bastante dramáticos para el mes de febrero en los años 2023 y 2024. Siguiendo la misma estrategia que en el caso anterior, se comprobará la evolución de la media móvil aplicada a una ventana de doce meses para confirmar la existencia de una posible estacionalidad anual."
      ],
      "metadata": {
        "id": "7tpL8RIpdFDV"
      }
    },
    {
      "cell_type": "code",
      "source": [
        "# Calcular la media móvil para un ventana de doce meses (anual)\n",
        "brand_data['Rolling_Mean'] = brand_data['TOTAL_SALES'].rolling(window=12).mean()\n",
        "\n",
        "color_map = {'TOTAL_SALES': '#457b9d', 'Rolling_Mean': '#8ecae6'}\n",
        "\n",
        "fig = px.line(brand_data, x='DATE', y=['TOTAL_SALES', 'Rolling_Mean'],\n",
        "              color_discrete_map=color_map)\n",
        "\n",
        "fig.update_layout(\n",
        "    title=f'Total Sales and Rolling Avg for {max_sales_brand}',\n",
        "    xaxis_title='Date',\n",
        "    yaxis_title='Total Sales',\n",
        "    legend=dict(title='Legend'),\n",
        "    template='plotly_white')\n",
        "fig.show()"
      ],
      "metadata": {
        "colab": {
          "base_uri": "https://localhost:8080/",
          "height": 542
        },
        "id": "XTNASmE3dFaN",
        "outputId": "88eac7d3-90f9-48cd-88e4-b906a13893b2"
      },
      "execution_count": 25,
      "outputs": [
        {
          "output_type": "display_data",
          "data": {
            "text/html": [
              "<html>\n",
              "<head><meta charset=\"utf-8\" /></head>\n",
              "<body>\n",
              "    <div>            <script src=\"https://cdnjs.cloudflare.com/ajax/libs/mathjax/2.7.5/MathJax.js?config=TeX-AMS-MML_SVG\"></script><script type=\"text/javascript\">if (window.MathJax && window.MathJax.Hub && window.MathJax.Hub.Config) {window.MathJax.Hub.Config({SVG: {font: \"STIX-Web\"}});}</script>                <script type=\"text/javascript\">window.PlotlyConfig = {MathJaxConfig: 'local'};</script>\n",
              "        <script charset=\"utf-8\" src=\"https://cdn.plot.ly/plotly-2.35.2.min.js\"></script>                <div id=\"b2dcdcef-e0b0-4a5a-9a73-8e8df9119fec\" class=\"plotly-graph-div\" style=\"height:525px; width:100%;\"></div>            <script type=\"text/javascript\">                                    window.PLOTLYENV=window.PLOTLYENV || {};                                    if (document.getElementById(\"b2dcdcef-e0b0-4a5a-9a73-8e8df9119fec\")) {                    Plotly.newPlot(                        \"b2dcdcef-e0b0-4a5a-9a73-8e8df9119fec\",                        [{\"hovertemplate\":\"variable=TOTAL_SALES\\u003cbr\\u003eDATE=%{x}\\u003cbr\\u003evalue=%{y}\\u003cextra\\u003e\\u003c\\u002fextra\\u003e\",\"legendgroup\":\"TOTAL_SALES\",\"line\":{\"color\":\"#457b9d\",\"dash\":\"solid\"},\"marker\":{\"symbol\":\"circle\"},\"mode\":\"lines\",\"name\":\"TOTAL_SALES\",\"orientation\":\"v\",\"showlegend\":true,\"x\":[\"2023-01-31T00:00:00\",\"2023-02-28T00:00:00\",\"2023-03-31T00:00:00\",\"2023-04-30T00:00:00\",\"2023-05-31T00:00:00\",\"2023-06-30T00:00:00\",\"2023-07-31T00:00:00\",\"2023-08-31T00:00:00\",\"2023-09-30T00:00:00\",\"2023-10-31T00:00:00\",\"2023-11-30T00:00:00\",\"2023-12-31T00:00:00\",\"2024-01-31T00:00:00\",\"2024-02-29T00:00:00\",\"2024-03-31T00:00:00\",\"2024-04-30T00:00:00\",\"2024-05-31T00:00:00\",\"2024-06-30T00:00:00\",\"2024-07-31T00:00:00\",\"2024-08-31T00:00:00\"],\"xaxis\":\"x\",\"y\":[14856548.128605943,15463315.96725677,20873551.914991353,17934944.15249419,22325446.036569193,21328548.8814003,18368657.109468464,21608180.963240135,19652280.390064318,18626907.831478518,20722021.60754396,21701863.908770297,15624249.97952067,18256940.63911945,21254343.204710368,20238337.23987266,23110133.530175477,21238809.837675165,20779660.905810736,22733928.40504956],\"yaxis\":\"y\",\"type\":\"scatter\"},{\"hovertemplate\":\"variable=Rolling_Mean\\u003cbr\\u003eDATE=%{x}\\u003cbr\\u003evalue=%{y}\\u003cextra\\u003e\\u003c\\u002fextra\\u003e\",\"legendgroup\":\"Rolling_Mean\",\"line\":{\"color\":\"#8ecae6\",\"dash\":\"solid\"},\"marker\":{\"symbol\":\"circle\"},\"mode\":\"lines\",\"name\":\"Rolling_Mean\",\"orientation\":\"v\",\"showlegend\":true,\"x\":[\"2023-01-31T00:00:00\",\"2023-02-28T00:00:00\",\"2023-03-31T00:00:00\",\"2023-04-30T00:00:00\",\"2023-05-31T00:00:00\",\"2023-06-30T00:00:00\",\"2023-07-31T00:00:00\",\"2023-08-31T00:00:00\",\"2023-09-30T00:00:00\",\"2023-10-31T00:00:00\",\"2023-11-30T00:00:00\",\"2023-12-31T00:00:00\",\"2024-01-31T00:00:00\",\"2024-02-29T00:00:00\",\"2024-03-31T00:00:00\",\"2024-04-30T00:00:00\",\"2024-05-31T00:00:00\",\"2024-06-30T00:00:00\",\"2024-07-31T00:00:00\",\"2024-08-31T00:00:00\"],\"xaxis\":\"x\",\"y\":[null,null,null,null,null,null,null,null,null,null,null,19455188.907656953,19519164.06189985,19751966.117888402,19783698.725364987,19975648.149313193,20041038.773780387,20033560.52013662,20234477.503165144,20328289.7899826],\"yaxis\":\"y\",\"type\":\"scatter\"}],                        {\"template\":{\"data\":{\"barpolar\":[{\"marker\":{\"line\":{\"color\":\"white\",\"width\":0.5},\"pattern\":{\"fillmode\":\"overlay\",\"size\":10,\"solidity\":0.2}},\"type\":\"barpolar\"}],\"bar\":[{\"error_x\":{\"color\":\"#2a3f5f\"},\"error_y\":{\"color\":\"#2a3f5f\"},\"marker\":{\"line\":{\"color\":\"white\",\"width\":0.5},\"pattern\":{\"fillmode\":\"overlay\",\"size\":10,\"solidity\":0.2}},\"type\":\"bar\"}],\"carpet\":[{\"aaxis\":{\"endlinecolor\":\"#2a3f5f\",\"gridcolor\":\"#C8D4E3\",\"linecolor\":\"#C8D4E3\",\"minorgridcolor\":\"#C8D4E3\",\"startlinecolor\":\"#2a3f5f\"},\"baxis\":{\"endlinecolor\":\"#2a3f5f\",\"gridcolor\":\"#C8D4E3\",\"linecolor\":\"#C8D4E3\",\"minorgridcolor\":\"#C8D4E3\",\"startlinecolor\":\"#2a3f5f\"},\"type\":\"carpet\"}],\"choropleth\":[{\"colorbar\":{\"outlinewidth\":0,\"ticks\":\"\"},\"type\":\"choropleth\"}],\"contourcarpet\":[{\"colorbar\":{\"outlinewidth\":0,\"ticks\":\"\"},\"type\":\"contourcarpet\"}],\"contour\":[{\"colorbar\":{\"outlinewidth\":0,\"ticks\":\"\"},\"colorscale\":[[0.0,\"#0d0887\"],[0.1111111111111111,\"#46039f\"],[0.2222222222222222,\"#7201a8\"],[0.3333333333333333,\"#9c179e\"],[0.4444444444444444,\"#bd3786\"],[0.5555555555555556,\"#d8576b\"],[0.6666666666666666,\"#ed7953\"],[0.7777777777777778,\"#fb9f3a\"],[0.8888888888888888,\"#fdca26\"],[1.0,\"#f0f921\"]],\"type\":\"contour\"}],\"heatmapgl\":[{\"colorbar\":{\"outlinewidth\":0,\"ticks\":\"\"},\"colorscale\":[[0.0,\"#0d0887\"],[0.1111111111111111,\"#46039f\"],[0.2222222222222222,\"#7201a8\"],[0.3333333333333333,\"#9c179e\"],[0.4444444444444444,\"#bd3786\"],[0.5555555555555556,\"#d8576b\"],[0.6666666666666666,\"#ed7953\"],[0.7777777777777778,\"#fb9f3a\"],[0.8888888888888888,\"#fdca26\"],[1.0,\"#f0f921\"]],\"type\":\"heatmapgl\"}],\"heatmap\":[{\"colorbar\":{\"outlinewidth\":0,\"ticks\":\"\"},\"colorscale\":[[0.0,\"#0d0887\"],[0.1111111111111111,\"#46039f\"],[0.2222222222222222,\"#7201a8\"],[0.3333333333333333,\"#9c179e\"],[0.4444444444444444,\"#bd3786\"],[0.5555555555555556,\"#d8576b\"],[0.6666666666666666,\"#ed7953\"],[0.7777777777777778,\"#fb9f3a\"],[0.8888888888888888,\"#fdca26\"],[1.0,\"#f0f921\"]],\"type\":\"heatmap\"}],\"histogram2dcontour\":[{\"colorbar\":{\"outlinewidth\":0,\"ticks\":\"\"},\"colorscale\":[[0.0,\"#0d0887\"],[0.1111111111111111,\"#46039f\"],[0.2222222222222222,\"#7201a8\"],[0.3333333333333333,\"#9c179e\"],[0.4444444444444444,\"#bd3786\"],[0.5555555555555556,\"#d8576b\"],[0.6666666666666666,\"#ed7953\"],[0.7777777777777778,\"#fb9f3a\"],[0.8888888888888888,\"#fdca26\"],[1.0,\"#f0f921\"]],\"type\":\"histogram2dcontour\"}],\"histogram2d\":[{\"colorbar\":{\"outlinewidth\":0,\"ticks\":\"\"},\"colorscale\":[[0.0,\"#0d0887\"],[0.1111111111111111,\"#46039f\"],[0.2222222222222222,\"#7201a8\"],[0.3333333333333333,\"#9c179e\"],[0.4444444444444444,\"#bd3786\"],[0.5555555555555556,\"#d8576b\"],[0.6666666666666666,\"#ed7953\"],[0.7777777777777778,\"#fb9f3a\"],[0.8888888888888888,\"#fdca26\"],[1.0,\"#f0f921\"]],\"type\":\"histogram2d\"}],\"histogram\":[{\"marker\":{\"pattern\":{\"fillmode\":\"overlay\",\"size\":10,\"solidity\":0.2}},\"type\":\"histogram\"}],\"mesh3d\":[{\"colorbar\":{\"outlinewidth\":0,\"ticks\":\"\"},\"type\":\"mesh3d\"}],\"parcoords\":[{\"line\":{\"colorbar\":{\"outlinewidth\":0,\"ticks\":\"\"}},\"type\":\"parcoords\"}],\"pie\":[{\"automargin\":true,\"type\":\"pie\"}],\"scatter3d\":[{\"line\":{\"colorbar\":{\"outlinewidth\":0,\"ticks\":\"\"}},\"marker\":{\"colorbar\":{\"outlinewidth\":0,\"ticks\":\"\"}},\"type\":\"scatter3d\"}],\"scattercarpet\":[{\"marker\":{\"colorbar\":{\"outlinewidth\":0,\"ticks\":\"\"}},\"type\":\"scattercarpet\"}],\"scattergeo\":[{\"marker\":{\"colorbar\":{\"outlinewidth\":0,\"ticks\":\"\"}},\"type\":\"scattergeo\"}],\"scattergl\":[{\"marker\":{\"colorbar\":{\"outlinewidth\":0,\"ticks\":\"\"}},\"type\":\"scattergl\"}],\"scattermapbox\":[{\"marker\":{\"colorbar\":{\"outlinewidth\":0,\"ticks\":\"\"}},\"type\":\"scattermapbox\"}],\"scatterpolargl\":[{\"marker\":{\"colorbar\":{\"outlinewidth\":0,\"ticks\":\"\"}},\"type\":\"scatterpolargl\"}],\"scatterpolar\":[{\"marker\":{\"colorbar\":{\"outlinewidth\":0,\"ticks\":\"\"}},\"type\":\"scatterpolar\"}],\"scatter\":[{\"fillpattern\":{\"fillmode\":\"overlay\",\"size\":10,\"solidity\":0.2},\"type\":\"scatter\"}],\"scatterternary\":[{\"marker\":{\"colorbar\":{\"outlinewidth\":0,\"ticks\":\"\"}},\"type\":\"scatterternary\"}],\"surface\":[{\"colorbar\":{\"outlinewidth\":0,\"ticks\":\"\"},\"colorscale\":[[0.0,\"#0d0887\"],[0.1111111111111111,\"#46039f\"],[0.2222222222222222,\"#7201a8\"],[0.3333333333333333,\"#9c179e\"],[0.4444444444444444,\"#bd3786\"],[0.5555555555555556,\"#d8576b\"],[0.6666666666666666,\"#ed7953\"],[0.7777777777777778,\"#fb9f3a\"],[0.8888888888888888,\"#fdca26\"],[1.0,\"#f0f921\"]],\"type\":\"surface\"}],\"table\":[{\"cells\":{\"fill\":{\"color\":\"#EBF0F8\"},\"line\":{\"color\":\"white\"}},\"header\":{\"fill\":{\"color\":\"#C8D4E3\"},\"line\":{\"color\":\"white\"}},\"type\":\"table\"}]},\"layout\":{\"annotationdefaults\":{\"arrowcolor\":\"#2a3f5f\",\"arrowhead\":0,\"arrowwidth\":1},\"autotypenumbers\":\"strict\",\"coloraxis\":{\"colorbar\":{\"outlinewidth\":0,\"ticks\":\"\"}},\"colorscale\":{\"diverging\":[[0,\"#8e0152\"],[0.1,\"#c51b7d\"],[0.2,\"#de77ae\"],[0.3,\"#f1b6da\"],[0.4,\"#fde0ef\"],[0.5,\"#f7f7f7\"],[0.6,\"#e6f5d0\"],[0.7,\"#b8e186\"],[0.8,\"#7fbc41\"],[0.9,\"#4d9221\"],[1,\"#276419\"]],\"sequential\":[[0.0,\"#0d0887\"],[0.1111111111111111,\"#46039f\"],[0.2222222222222222,\"#7201a8\"],[0.3333333333333333,\"#9c179e\"],[0.4444444444444444,\"#bd3786\"],[0.5555555555555556,\"#d8576b\"],[0.6666666666666666,\"#ed7953\"],[0.7777777777777778,\"#fb9f3a\"],[0.8888888888888888,\"#fdca26\"],[1.0,\"#f0f921\"]],\"sequentialminus\":[[0.0,\"#0d0887\"],[0.1111111111111111,\"#46039f\"],[0.2222222222222222,\"#7201a8\"],[0.3333333333333333,\"#9c179e\"],[0.4444444444444444,\"#bd3786\"],[0.5555555555555556,\"#d8576b\"],[0.6666666666666666,\"#ed7953\"],[0.7777777777777778,\"#fb9f3a\"],[0.8888888888888888,\"#fdca26\"],[1.0,\"#f0f921\"]]},\"colorway\":[\"#636efa\",\"#EF553B\",\"#00cc96\",\"#ab63fa\",\"#FFA15A\",\"#19d3f3\",\"#FF6692\",\"#B6E880\",\"#FF97FF\",\"#FECB52\"],\"font\":{\"color\":\"#2a3f5f\"},\"geo\":{\"bgcolor\":\"white\",\"lakecolor\":\"white\",\"landcolor\":\"white\",\"showlakes\":true,\"showland\":true,\"subunitcolor\":\"#C8D4E3\"},\"hoverlabel\":{\"align\":\"left\"},\"hovermode\":\"closest\",\"mapbox\":{\"style\":\"light\"},\"paper_bgcolor\":\"white\",\"plot_bgcolor\":\"white\",\"polar\":{\"angularaxis\":{\"gridcolor\":\"#EBF0F8\",\"linecolor\":\"#EBF0F8\",\"ticks\":\"\"},\"bgcolor\":\"white\",\"radialaxis\":{\"gridcolor\":\"#EBF0F8\",\"linecolor\":\"#EBF0F8\",\"ticks\":\"\"}},\"scene\":{\"xaxis\":{\"backgroundcolor\":\"white\",\"gridcolor\":\"#DFE8F3\",\"gridwidth\":2,\"linecolor\":\"#EBF0F8\",\"showbackground\":true,\"ticks\":\"\",\"zerolinecolor\":\"#EBF0F8\"},\"yaxis\":{\"backgroundcolor\":\"white\",\"gridcolor\":\"#DFE8F3\",\"gridwidth\":2,\"linecolor\":\"#EBF0F8\",\"showbackground\":true,\"ticks\":\"\",\"zerolinecolor\":\"#EBF0F8\"},\"zaxis\":{\"backgroundcolor\":\"white\",\"gridcolor\":\"#DFE8F3\",\"gridwidth\":2,\"linecolor\":\"#EBF0F8\",\"showbackground\":true,\"ticks\":\"\",\"zerolinecolor\":\"#EBF0F8\"}},\"shapedefaults\":{\"line\":{\"color\":\"#2a3f5f\"}},\"ternary\":{\"aaxis\":{\"gridcolor\":\"#DFE8F3\",\"linecolor\":\"#A2B1C6\",\"ticks\":\"\"},\"baxis\":{\"gridcolor\":\"#DFE8F3\",\"linecolor\":\"#A2B1C6\",\"ticks\":\"\"},\"bgcolor\":\"white\",\"caxis\":{\"gridcolor\":\"#DFE8F3\",\"linecolor\":\"#A2B1C6\",\"ticks\":\"\"}},\"title\":{\"x\":0.05},\"xaxis\":{\"automargin\":true,\"gridcolor\":\"#EBF0F8\",\"linecolor\":\"#EBF0F8\",\"ticks\":\"\",\"title\":{\"standoff\":15},\"zerolinecolor\":\"#EBF0F8\",\"zerolinewidth\":2},\"yaxis\":{\"automargin\":true,\"gridcolor\":\"#EBF0F8\",\"linecolor\":\"#EBF0F8\",\"ticks\":\"\",\"title\":{\"standoff\":15},\"zerolinecolor\":\"#EBF0F8\",\"zerolinewidth\":2}}},\"xaxis\":{\"anchor\":\"y\",\"domain\":[0.0,1.0],\"title\":{\"text\":\"Date\"}},\"yaxis\":{\"anchor\":\"x\",\"domain\":[0.0,1.0],\"title\":{\"text\":\"Total Sales\"}},\"legend\":{\"title\":{\"text\":\"Legend\"},\"tracegroupgap\":0},\"margin\":{\"t\":60},\"title\":{\"text\":\"Total Sales and Rolling Avg for Pepsi Max (L3)\"}},                        {\"responsive\": true}                    ).then(function(){\n",
              "                            \n",
              "var gd = document.getElementById('b2dcdcef-e0b0-4a5a-9a73-8e8df9119fec');\n",
              "var x = new MutationObserver(function (mutations, observer) {{\n",
              "        var display = window.getComputedStyle(gd).display;\n",
              "        if (!display || display === 'none') {{\n",
              "            console.log([gd, 'removed!']);\n",
              "            Plotly.purge(gd);\n",
              "            observer.disconnect();\n",
              "        }}\n",
              "}});\n",
              "\n",
              "// Listen for the removal of the full notebook cells\n",
              "var notebookContainer = gd.closest('#notebook-container');\n",
              "if (notebookContainer) {{\n",
              "    x.observe(notebookContainer, {childList: true});\n",
              "}}\n",
              "\n",
              "// Listen for the clearing of the current output cell\n",
              "var outputEl = gd.closest('.output');\n",
              "if (outputEl) {{\n",
              "    x.observe(outputEl, {childList: true});\n",
              "}}\n",
              "\n",
              "                        })                };                            </script>        </div>\n",
              "</body>\n",
              "</html>"
            ]
          },
          "metadata": {}
        }
      ]
    },
    {
      "cell_type": "markdown",
      "source": [
        "En esta ocasión, la media móvil no presenta fluctuaciones. Además, mientras que en el caso de España la media se mantenía estable entorno a un valor, esta vez parece mantener una ligera tendencia a la alza.\n",
        "\n",
        "Consecuentemente, se puede afirmar que las ventas totales de Pepsi en Europa presentan una estacionalidad anual, así como una tendencia creciente. Por lo tanto, a pesar de presentar el mismo perfil cada año, se prevee que las ventas de Pepsi aumenten con el tiempo."
      ],
      "metadata": {
        "id": "yGo-pFYpd3b0"
      }
    },
    {
      "cell_type": "markdown",
      "source": [
        "### Predicciones España y evaluación de la bondad\n",
        "Por último, se estudiará la bondad que muestran las predicciones realizadas en diferentes momentos en el tiempo en relación con los datos reales para el caso particular de ventas en España. El primer paso se centra en la visualización de la distribución de las predicciones frente al dato real. Para ello, se recurrirá al empleo del diagrama de bigotes o *boxplot*.\n",
        "\n",
        "Se ha decidido analizar individualmente el comportamiento de las predicciones para cada una de las submarcas comercializadas en el país."
      ],
      "metadata": {
        "id": "EdxFAwoMrocQ"
      }
    },
    {
      "cell_type": "code",
      "source": [
        "forecast_spain = df_forecast[df_forecast['COUNTRY'] == 'Spain']\n",
        "actual_spain = df_actual[df_actual['COUNTRY'] == 'Spain']"
      ],
      "metadata": {
        "id": "s2I5hlFZrsbW"
      },
      "execution_count": 26,
      "outputs": []
    },
    {
      "cell_type": "markdown",
      "source": [
        "Se comprueba si existen fechas para futuras predicciones y, por lo tanto, no tienen datos reales con los que compararlas. Estos casos se excluirán de la evaluación de bondad por su incompatibilidad con el objetivo."
      ],
      "metadata": {
        "id": "BWxice6Aq8id"
      }
    },
    {
      "cell_type": "code",
      "source": [
        "set1 = set(actual_spain['DATE'].unique())\n",
        "set2 = set(forecast_spain['DATE'].unique())\n",
        "\n",
        "solo_en_lista1 = set1 - set2\n",
        "solo_en_lista2 = set2 - set1\n",
        "\n",
        "print(\"Elementos solo en lista1:\", solo_en_lista1)\n",
        "print(\"Elementos solo en lista2:\", solo_en_lista2)"
      ],
      "metadata": {
        "colab": {
          "base_uri": "https://localhost:8080/"
        },
        "id": "ddj30QeevLLw",
        "outputId": "bbdfa664-09a3-49fc-b6df-312e5a4ac07f"
      },
      "execution_count": 27,
      "outputs": [
        {
          "output_type": "stream",
          "name": "stdout",
          "text": [
            "Elementos solo en lista1: set()\n",
            "Elementos solo en lista2: {Timestamp('2024-10-01 00:00:00'), Timestamp('2024-12-01 00:00:00'), Timestamp('2025-02-01 00:00:00'), Timestamp('2025-03-01 00:00:00'), Timestamp('2024-11-01 00:00:00'), Timestamp('2025-05-01 00:00:00'), Timestamp('2024-09-01 00:00:00'), Timestamp('2025-01-01 00:00:00'), Timestamp('2025-04-01 00:00:00')}\n"
          ]
        }
      ]
    },
    {
      "cell_type": "code",
      "source": [
        "# Estudiar sólo para las fechas de las que se conocen las ventas reales\n",
        "combined_data = forecast_spain[forecast_spain['DATE'].isin(actual_spain['DATE'])].reset_index(drop=True)\n",
        "\n",
        "# Crear una lista de gráficos por cada marca\n",
        "for brand in combined_data['SUBBRAND'].unique():\n",
        "    # Filtrar datos para la marca actual\n",
        "    brand_data = combined_data[combined_data['SUBBRAND'] == brand]\n",
        "\n",
        "    # Boxplot para predicciones\n",
        "    boxplot = go.Box(\n",
        "        x=brand_data['DATE'],\n",
        "        y=brand_data['AMOUNT'],\n",
        "        name='Forecast',\n",
        "        marker_color='#8ecae6',\n",
        "        boxmean=True,\n",
        "        showlegend=True\n",
        "    )\n",
        "\n",
        "    # Graficar los valores reales como puntos\n",
        "    real_values = go.Scatter(\n",
        "        x=actual_spain['DATE'][actual_spain['SUBBRAND'] == brand],\n",
        "        y=actual_spain['AMOUNT'][actual_spain['SUBBRAND'] == brand],\n",
        "        mode='markers',\n",
        "        name='Actuals',\n",
        "        marker=dict(color='#457b9d', size=8),\n",
        "        showlegend=True\n",
        "    )\n",
        "\n",
        "    layout = go.Layout(\n",
        "        title=f'Boxplot Forecast vs Actuals for {brand}',\n",
        "        xaxis=dict(title='Date'),\n",
        "        yaxis=dict(title='Sales'),\n",
        "        legend=dict(title='Legend'),\n",
        "        template='plotly_white'\n",
        "    )\n",
        "\n",
        "    y_max = max(actual_spain['AMOUNT'][actual_spain['SUBBRAND'] == brand].max(), brand_data['AMOUNT'].max()) * 1.1\n",
        "\n",
        "    fig = go.Figure(data=[boxplot, real_values], layout=layout)\n",
        "    fig.update_layout(yaxis_range=[0,y_max])\n",
        "    fig.show()\n"
      ],
      "metadata": {
        "colab": {
          "base_uri": "https://localhost:8080/",
          "height": 1000
        },
        "id": "URAk_CvpurC0",
        "outputId": "ca25f27a-8707-4eb0-cbf9-5083409c6d0b"
      },
      "execution_count": 28,
      "outputs": [
        {
          "output_type": "display_data",
          "data": {
            "text/html": [
              "<html>\n",
              "<head><meta charset=\"utf-8\" /></head>\n",
              "<body>\n",
              "    <div>            <script src=\"https://cdnjs.cloudflare.com/ajax/libs/mathjax/2.7.5/MathJax.js?config=TeX-AMS-MML_SVG\"></script><script type=\"text/javascript\">if (window.MathJax && window.MathJax.Hub && window.MathJax.Hub.Config) {window.MathJax.Hub.Config({SVG: {font: \"STIX-Web\"}});}</script>                <script type=\"text/javascript\">window.PlotlyConfig = {MathJaxConfig: 'local'};</script>\n",
              "        <script charset=\"utf-8\" src=\"https://cdn.plot.ly/plotly-2.35.2.min.js\"></script>                <div id=\"49bc19d7-2370-4309-9202-8f834317083e\" class=\"plotly-graph-div\" style=\"height:525px; width:100%;\"></div>            <script type=\"text/javascript\">                                    window.PLOTLYENV=window.PLOTLYENV || {};                                    if (document.getElementById(\"49bc19d7-2370-4309-9202-8f834317083e\")) {                    Plotly.newPlot(                        \"49bc19d7-2370-4309-9202-8f834317083e\",                        [{\"boxmean\":true,\"marker\":{\"color\":\"#8ecae6\"},\"name\":\"Forecast\",\"showlegend\":true,\"x\":[\"2023-12-01T00:00:00\",\"2024-08-01T00:00:00\",\"2023-10-01T00:00:00\",\"2024-01-01T00:00:00\",\"2023-11-01T00:00:00\",\"2024-02-01T00:00:00\",\"2023-07-01T00:00:00\",\"2024-05-01T00:00:00\",\"2023-05-01T00:00:00\",\"2024-06-01T00:00:00\",\"2024-03-01T00:00:00\",\"2024-07-01T00:00:00\",\"2024-04-01T00:00:00\",\"2024-01-01T00:00:00\",\"2024-04-01T00:00:00\",\"2023-10-01T00:00:00\",\"2023-06-01T00:00:00\",\"2024-05-01T00:00:00\",\"2024-05-01T00:00:00\",\"2024-07-01T00:00:00\",\"2024-02-01T00:00:00\",\"2024-05-01T00:00:00\",\"2024-08-01T00:00:00\",\"2023-03-01T00:00:00\",\"2023-06-01T00:00:00\",\"2023-10-01T00:00:00\",\"2024-04-01T00:00:00\",\"2024-02-01T00:00:00\",\"2023-06-01T00:00:00\",\"2024-04-01T00:00:00\",\"2023-11-01T00:00:00\",\"2024-07-01T00:00:00\",\"2023-12-01T00:00:00\",\"2023-07-01T00:00:00\",\"2023-08-01T00:00:00\",\"2023-10-01T00:00:00\",\"2024-08-01T00:00:00\",\"2024-08-01T00:00:00\",\"2023-07-01T00:00:00\",\"2024-03-01T00:00:00\",\"2024-03-01T00:00:00\",\"2024-05-01T00:00:00\",\"2023-11-01T00:00:00\",\"2023-10-01T00:00:00\",\"2024-07-01T00:00:00\",\"2023-08-01T00:00:00\",\"2024-05-01T00:00:00\",\"2024-01-01T00:00:00\",\"2024-07-01T00:00:00\",\"2024-01-01T00:00:00\",\"2024-08-01T00:00:00\",\"2024-02-01T00:00:00\",\"2023-12-01T00:00:00\",\"2024-01-01T00:00:00\",\"2024-07-01T00:00:00\",\"2024-08-01T00:00:00\",\"2023-08-01T00:00:00\",\"2023-12-01T00:00:00\",\"2023-10-01T00:00:00\",\"2024-04-01T00:00:00\",\"2024-01-01T00:00:00\",\"2024-03-01T00:00:00\",\"2024-08-01T00:00:00\",\"2023-01-01T00:00:00\",\"2024-03-01T00:00:00\",\"2023-04-01T00:00:00\",\"2024-06-01T00:00:00\",\"2023-07-01T00:00:00\",\"2023-07-01T00:00:00\",\"2024-06-01T00:00:00\",\"2023-07-01T00:00:00\",\"2024-07-01T00:00:00\",\"2023-05-01T00:00:00\",\"2024-06-01T00:00:00\",\"2023-11-01T00:00:00\",\"2024-01-01T00:00:00\",\"2023-09-01T00:00:00\",\"2023-08-01T00:00:00\",\"2024-07-01T00:00:00\",\"2023-10-01T00:00:00\",\"2023-06-01T00:00:00\",\"2023-11-01T00:00:00\",\"2023-12-01T00:00:00\",\"2024-04-01T00:00:00\",\"2024-02-01T00:00:00\",\"2024-06-01T00:00:00\",\"2023-12-01T00:00:00\",\"2024-01-01T00:00:00\",\"2024-01-01T00:00:00\",\"2024-08-01T00:00:00\",\"2024-01-01T00:00:00\",\"2023-08-01T00:00:00\",\"2024-06-01T00:00:00\",\"2023-09-01T00:00:00\",\"2024-04-01T00:00:00\",\"2024-05-01T00:00:00\",\"2024-03-01T00:00:00\",\"2024-01-01T00:00:00\",\"2024-02-01T00:00:00\",\"2024-03-01T00:00:00\",\"2024-05-01T00:00:00\",\"2023-05-01T00:00:00\",\"2023-10-01T00:00:00\",\"2023-09-01T00:00:00\",\"2023-10-01T00:00:00\",\"2024-03-01T00:00:00\",\"2024-02-01T00:00:00\",\"2024-05-01T00:00:00\",\"2024-04-01T00:00:00\",\"2024-07-01T00:00:00\",\"2024-07-01T00:00:00\",\"2024-03-01T00:00:00\",\"2024-02-01T00:00:00\",\"2023-05-01T00:00:00\",\"2024-02-01T00:00:00\",\"2023-04-01T00:00:00\",\"2024-05-01T00:00:00\",\"2023-08-01T00:00:00\",\"2023-10-01T00:00:00\",\"2024-07-01T00:00:00\",\"2024-02-01T00:00:00\",\"2023-12-01T00:00:00\",\"2023-07-01T00:00:00\",\"2023-03-01T00:00:00\",\"2024-07-01T00:00:00\",\"2023-07-01T00:00:00\",\"2024-03-01T00:00:00\",\"2023-10-01T00:00:00\",\"2024-08-01T00:00:00\",\"2024-05-01T00:00:00\",\"2024-08-01T00:00:00\",\"2023-09-01T00:00:00\",\"2024-04-01T00:00:00\",\"2024-01-01T00:00:00\",\"2024-08-01T00:00:00\",\"2023-08-01T00:00:00\",\"2024-02-01T00:00:00\",\"2023-02-01T00:00:00\",\"2023-09-01T00:00:00\",\"2023-11-01T00:00:00\",\"2024-05-01T00:00:00\",\"2023-12-01T00:00:00\",\"2023-12-01T00:00:00\",\"2024-07-01T00:00:00\",\"2024-08-01T00:00:00\",\"2024-04-01T00:00:00\",\"2024-04-01T00:00:00\",\"2024-06-01T00:00:00\",\"2023-11-01T00:00:00\",\"2024-01-01T00:00:00\",\"2024-05-01T00:00:00\",\"2023-11-01T00:00:00\",\"2024-07-01T00:00:00\",\"2023-07-01T00:00:00\",\"2024-05-01T00:00:00\",\"2023-04-01T00:00:00\",\"2023-06-01T00:00:00\",\"2024-03-01T00:00:00\",\"2024-01-01T00:00:00\",\"2024-02-01T00:00:00\",\"2024-05-01T00:00:00\",\"2023-09-01T00:00:00\",\"2023-06-01T00:00:00\",\"2024-06-01T00:00:00\",\"2024-08-01T00:00:00\",\"2024-08-01T00:00:00\",\"2023-12-01T00:00:00\",\"2023-07-01T00:00:00\",\"2023-11-01T00:00:00\",\"2024-08-01T00:00:00\",\"2023-03-01T00:00:00\",\"2024-06-01T00:00:00\",\"2023-11-01T00:00:00\",\"2024-05-01T00:00:00\",\"2024-07-01T00:00:00\",\"2024-04-01T00:00:00\",\"2024-02-01T00:00:00\",\"2024-01-01T00:00:00\",\"2024-08-01T00:00:00\",\"2024-05-01T00:00:00\",\"2023-09-01T00:00:00\",\"2023-06-01T00:00:00\",\"2023-11-01T00:00:00\",\"2023-10-01T00:00:00\",\"2024-01-01T00:00:00\",\"2024-02-01T00:00:00\",\"2024-08-01T00:00:00\",\"2024-06-01T00:00:00\",\"2024-04-01T00:00:00\",\"2024-03-01T00:00:00\",\"2023-09-01T00:00:00\",\"2024-01-01T00:00:00\",\"2023-12-01T00:00:00\",\"2024-05-01T00:00:00\",\"2024-01-01T00:00:00\",\"2024-02-01T00:00:00\",\"2024-07-01T00:00:00\",\"2023-10-01T00:00:00\",\"2024-01-01T00:00:00\",\"2024-08-01T00:00:00\",\"2024-05-01T00:00:00\",\"2023-09-01T00:00:00\",\"2024-01-01T00:00:00\",\"2024-04-01T00:00:00\",\"2023-11-01T00:00:00\",\"2023-09-01T00:00:00\",\"2024-07-01T00:00:00\",\"2024-04-01T00:00:00\",\"2023-05-01T00:00:00\",\"2024-02-01T00:00:00\",\"2024-03-01T00:00:00\",\"2023-10-01T00:00:00\",\"2024-05-01T00:00:00\",\"2023-10-01T00:00:00\",\"2023-12-01T00:00:00\",\"2024-04-01T00:00:00\",\"2024-01-01T00:00:00\",\"2024-02-01T00:00:00\",\"2023-10-01T00:00:00\",\"2024-04-01T00:00:00\",\"2023-09-01T00:00:00\",\"2023-08-01T00:00:00\",\"2023-04-01T00:00:00\",\"2024-07-01T00:00:00\",\"2024-05-01T00:00:00\",\"2023-08-01T00:00:00\",\"2024-04-01T00:00:00\",\"2023-07-01T00:00:00\",\"2024-08-01T00:00:00\",\"2023-10-01T00:00:00\",\"2023-09-01T00:00:00\",\"2024-05-01T00:00:00\",\"2024-02-01T00:00:00\",\"2024-03-01T00:00:00\",\"2024-02-01T00:00:00\",\"2024-05-01T00:00:00\",\"2023-09-01T00:00:00\",\"2024-05-01T00:00:00\",\"2023-11-01T00:00:00\",\"2024-04-01T00:00:00\",\"2023-10-01T00:00:00\",\"2024-01-01T00:00:00\",\"2023-12-01T00:00:00\",\"2024-02-01T00:00:00\",\"2024-04-01T00:00:00\",\"2024-03-01T00:00:00\",\"2024-03-01T00:00:00\",\"2024-02-01T00:00:00\",\"2024-05-01T00:00:00\",\"2023-10-01T00:00:00\",\"2023-10-01T00:00:00\",\"2024-01-01T00:00:00\",\"2024-06-01T00:00:00\",\"2024-01-01T00:00:00\",\"2024-07-01T00:00:00\",\"2023-12-01T00:00:00\",\"2023-09-01T00:00:00\",\"2024-08-01T00:00:00\",\"2024-03-01T00:00:00\",\"2023-07-01T00:00:00\",\"2024-02-01T00:00:00\",\"2023-08-01T00:00:00\",\"2024-06-01T00:00:00\",\"2024-05-01T00:00:00\",\"2023-08-01T00:00:00\",\"2023-08-01T00:00:00\",\"2023-05-01T00:00:00\",\"2024-07-01T00:00:00\",\"2024-03-01T00:00:00\",\"2023-12-01T00:00:00\",\"2023-09-01T00:00:00\",\"2023-08-01T00:00:00\",\"2023-12-01T00:00:00\",\"2024-02-01T00:00:00\",\"2023-06-01T00:00:00\",\"2024-07-01T00:00:00\",\"2024-04-01T00:00:00\",\"2024-01-01T00:00:00\",\"2023-10-01T00:00:00\",\"2023-11-01T00:00:00\",\"2023-10-01T00:00:00\",\"2024-06-01T00:00:00\",\"2024-07-01T00:00:00\",\"2023-05-01T00:00:00\",\"2024-06-01T00:00:00\",\"2023-08-01T00:00:00\",\"2023-02-01T00:00:00\",\"2024-06-01T00:00:00\",\"2024-04-01T00:00:00\",\"2024-03-01T00:00:00\",\"2023-08-01T00:00:00\",\"2024-07-01T00:00:00\",\"2024-03-01T00:00:00\",\"2024-01-01T00:00:00\",\"2024-06-01T00:00:00\",\"2024-08-01T00:00:00\",\"2023-11-01T00:00:00\",\"2024-08-01T00:00:00\",\"2023-06-01T00:00:00\",\"2023-08-01T00:00:00\",\"2023-11-01T00:00:00\",\"2023-12-01T00:00:00\",\"2023-12-01T00:00:00\",\"2023-11-01T00:00:00\",\"2024-05-01T00:00:00\",\"2024-08-01T00:00:00\",\"2024-04-01T00:00:00\",\"2024-06-01T00:00:00\",\"2023-12-01T00:00:00\",\"2023-12-01T00:00:00\",\"2023-12-01T00:00:00\",\"2023-10-01T00:00:00\",\"2024-07-01T00:00:00\",\"2024-04-01T00:00:00\",\"2024-08-01T00:00:00\",\"2024-01-01T00:00:00\",\"2024-04-01T00:00:00\",\"2023-11-01T00:00:00\",\"2024-04-01T00:00:00\",\"2024-03-01T00:00:00\",\"2023-12-01T00:00:00\",\"2024-04-01T00:00:00\",\"2024-03-01T00:00:00\",\"2023-06-01T00:00:00\",\"2024-07-01T00:00:00\",\"2024-08-01T00:00:00\",\"2023-07-01T00:00:00\",\"2024-08-01T00:00:00\",\"2024-08-01T00:00:00\",\"2024-03-01T00:00:00\",\"2023-07-01T00:00:00\",\"2023-12-01T00:00:00\",\"2023-05-01T00:00:00\",\"2023-12-01T00:00:00\",\"2023-05-01T00:00:00\",\"2024-03-01T00:00:00\",\"2023-12-01T00:00:00\",\"2023-06-01T00:00:00\",\"2024-02-01T00:00:00\",\"2024-05-01T00:00:00\",\"2023-08-01T00:00:00\",\"2024-06-01T00:00:00\",\"2023-12-01T00:00:00\",\"2023-12-01T00:00:00\",\"2024-03-01T00:00:00\",\"2024-02-01T00:00:00\",\"2024-08-01T00:00:00\",\"2024-08-01T00:00:00\",\"2024-05-01T00:00:00\",\"2024-01-01T00:00:00\",\"2023-09-01T00:00:00\",\"2023-11-01T00:00:00\",\"2023-11-01T00:00:00\",\"2024-06-01T00:00:00\",\"2023-04-01T00:00:00\",\"2024-01-01T00:00:00\",\"2023-10-01T00:00:00\",\"2023-06-01T00:00:00\",\"2023-12-01T00:00:00\",\"2023-12-01T00:00:00\",\"2024-07-01T00:00:00\",\"2023-06-01T00:00:00\",\"2023-09-01T00:00:00\",\"2024-08-01T00:00:00\",\"2024-01-01T00:00:00\",\"2024-02-01T00:00:00\",\"2024-03-01T00:00:00\",\"2023-08-01T00:00:00\",\"2024-05-01T00:00:00\",\"2024-07-01T00:00:00\",\"2024-02-01T00:00:00\",\"2023-04-01T00:00:00\",\"2023-04-01T00:00:00\",\"2024-07-01T00:00:00\",\"2024-06-01T00:00:00\",\"2024-03-01T00:00:00\",\"2024-03-01T00:00:00\",\"2024-06-01T00:00:00\",\"2024-05-01T00:00:00\",\"2024-04-01T00:00:00\",\"2024-02-01T00:00:00\",\"2024-04-01T00:00:00\",\"2023-09-01T00:00:00\",\"2024-02-01T00:00:00\",\"2023-09-01T00:00:00\",\"2023-07-01T00:00:00\",\"2023-07-01T00:00:00\",\"2024-06-01T00:00:00\",\"2024-07-01T00:00:00\",\"2024-03-01T00:00:00\",\"2023-07-01T00:00:00\",\"2023-11-01T00:00:00\",\"2024-06-01T00:00:00\",\"2024-04-01T00:00:00\",\"2024-06-01T00:00:00\",\"2024-03-01T00:00:00\",\"2024-07-01T00:00:00\",\"2024-04-01T00:00:00\",\"2024-08-01T00:00:00\",\"2024-06-01T00:00:00\",\"2024-02-01T00:00:00\",\"2024-03-01T00:00:00\",\"2023-12-01T00:00:00\",\"2024-06-01T00:00:00\",\"2023-08-01T00:00:00\",\"2024-01-01T00:00:00\",\"2023-11-01T00:00:00\",\"2024-01-01T00:00:00\",\"2024-05-01T00:00:00\",\"2024-06-01T00:00:00\",\"2023-10-01T00:00:00\",\"2023-09-01T00:00:00\",\"2023-09-01T00:00:00\",\"2024-04-01T00:00:00\",\"2023-05-01T00:00:00\",\"2023-09-01T00:00:00\",\"2024-01-01T00:00:00\",\"2024-04-01T00:00:00\",\"2023-05-01T00:00:00\",\"2024-06-01T00:00:00\",\"2023-10-01T00:00:00\",\"2023-12-01T00:00:00\",\"2023-12-01T00:00:00\",\"2024-07-01T00:00:00\",\"2024-07-01T00:00:00\",\"2024-01-01T00:00:00\",\"2024-02-01T00:00:00\",\"2024-06-01T00:00:00\",\"2023-11-01T00:00:00\",\"2023-10-01T00:00:00\",\"2024-01-01T00:00:00\",\"2024-05-01T00:00:00\",\"2024-07-01T00:00:00\",\"2024-08-01T00:00:00\",\"2024-03-01T00:00:00\",\"2023-12-01T00:00:00\",\"2024-07-01T00:00:00\",\"2023-12-01T00:00:00\",\"2023-09-01T00:00:00\",\"2024-06-01T00:00:00\",\"2023-10-01T00:00:00\",\"2023-11-01T00:00:00\",\"2023-08-01T00:00:00\",\"2024-05-01T00:00:00\",\"2024-07-01T00:00:00\",\"2024-03-01T00:00:00\",\"2024-01-01T00:00:00\",\"2023-11-01T00:00:00\",\"2024-05-01T00:00:00\",\"2024-06-01T00:00:00\",\"2024-04-01T00:00:00\",\"2024-02-01T00:00:00\",\"2024-08-01T00:00:00\",\"2024-03-01T00:00:00\",\"2024-05-01T00:00:00\",\"2024-04-01T00:00:00\",\"2023-11-01T00:00:00\",\"2023-10-01T00:00:00\",\"2024-06-01T00:00:00\",\"2024-07-01T00:00:00\",\"2024-02-01T00:00:00\",\"2023-06-01T00:00:00\",\"2023-08-01T00:00:00\",\"2024-01-01T00:00:00\",\"2023-09-01T00:00:00\",\"2024-07-01T00:00:00\",\"2023-06-01T00:00:00\",\"2024-02-01T00:00:00\",\"2023-12-01T00:00:00\",\"2023-09-01T00:00:00\",\"2023-11-01T00:00:00\",\"2023-10-01T00:00:00\",\"2024-06-01T00:00:00\",\"2023-08-01T00:00:00\",\"2024-06-01T00:00:00\",\"2024-05-01T00:00:00\",\"2024-01-01T00:00:00\",\"2024-02-01T00:00:00\",\"2023-11-01T00:00:00\",\"2023-11-01T00:00:00\",\"2023-07-01T00:00:00\",\"2024-04-01T00:00:00\",\"2024-08-01T00:00:00\",\"2024-06-01T00:00:00\",\"2024-02-01T00:00:00\",\"2024-01-01T00:00:00\",\"2023-11-01T00:00:00\",\"2023-09-01T00:00:00\",\"2024-03-01T00:00:00\",\"2023-11-01T00:00:00\",\"2024-08-01T00:00:00\",\"2024-04-01T00:00:00\",\"2023-10-01T00:00:00\",\"2024-05-01T00:00:00\",\"2023-11-01T00:00:00\",\"2023-09-01T00:00:00\",\"2023-07-01T00:00:00\",\"2023-12-01T00:00:00\",\"2024-06-01T00:00:00\",\"2023-12-01T00:00:00\",\"2024-02-01T00:00:00\",\"2024-08-01T00:00:00\",\"2023-11-01T00:00:00\",\"2024-03-01T00:00:00\",\"2023-08-01T00:00:00\",\"2024-04-01T00:00:00\",\"2024-06-01T00:00:00\",\"2023-11-01T00:00:00\",\"2024-03-01T00:00:00\",\"2024-08-01T00:00:00\",\"2024-06-01T00:00:00\",\"2023-12-01T00:00:00\",\"2024-03-01T00:00:00\",\"2024-04-01T00:00:00\",\"2024-02-01T00:00:00\",\"2024-05-01T00:00:00\",\"2023-11-01T00:00:00\",\"2024-06-01T00:00:00\",\"2023-12-01T00:00:00\",\"2024-07-01T00:00:00\",\"2024-02-01T00:00:00\",\"2024-03-01T00:00:00\"],\"y\":[88501.98084743075,113707.5764119321,141118.72032595918,98341.72852753189,124329.00168670202,107132.00416822512,155017.2355882723,134564.90255661728,65153.6543177359,89608.975755027,117195.77025733607,110180.93250086869,100287.56576602944,94120.6493912076,111315.18211071806,100079.04597593374,102724.48748660403,106206.7013255938,102547.76559833655,137574.4785363841,101819.31231503472,77623.36679837354,141814.1833852174,98687.59679329234,86989.3806302287,85890.91571772427,78132.7842076388,95093.39409362074,103214.48675367737,109295.3729516639,88578.20973251574,132753.48815562797,114201.53624511484,105342.14612552588,128490.20396876968,117999.39275956473,112310.47242532804,148029.98366881764,164113.4549471739,122971.72395618302,126907.0749262658,105962.41122874252,104229.97987335175,119747.01400810198,110379.13224039457,111494.56982726458,101298.90879591032,98483.28929043526,112023.96666861468,75733.8569775879,177638.74438802933,101954.62628628188,118709.34435406284,90066.70056661303,197259.1881500642,170602.90235585655,126755.80031496196,117356.30915470234,88093.83493749904,88052.6178170916,100252.48635976078,86900.28250843861,160036.0217267978,93305.41195705684,115299.2380174689,89326.18250989637,115601.23905965449,120891.10914256156,103323.49121642952,145367.16791762016,117135.119244879,153425.50651216877,61568.3147216696,87640.49745192271,120285.23478109986,100131.72107384737,110325.1401986213,144580.20975554027,134171.51423368423,86099.03909147387,102535.31613922516,95885.53983470786,118097.07204376029,106578.56837007524,89852.3030242469,125314.3839690258,135762.70812931072,93243.5993880412,110278.62140243805,139056.1174219288,96930.70492678652,136642.0220510263,124601.00699705958,87677.01413044533,104915.52517492628,105517.56916931392,89796.40631195447,113014.18613506538,94104.77595481998,131411.3614500783,119252.52795298264,83690.45582089346,121120.50682323908,112370.00767685787,129990.5610906636,80551.93628138267,85584.64612882718,80397.44456350169,107249.70813319836,192803.4588973638,195451.84676232983,124139.87663917472,98323.67056601198,62573.01116676615,116242.88712734268,73582.72631404124,114949.31624084224,99876.9633444259,123855.6122736688,144997.22349980343,105314.83493848795,124534.64854631574,132802.84979086946,90107.70995138798,110013.10519291573,128160.34402742216,97843.11595686308,111288.97345865816,141602.88005747896,105434.32994049152,159584.44663553528,110959.96962129524,80817.15757318126,103679.03186829068,183810.26607682795,124890.25342801044,103073.2225931594,97717.1632902218,120999.46155828974,121970.69478487578,79423.8782172122,84164.58416843678,108886.56270105382,109054.27058704036,148819.27758957,79084.86613152765,106730.0870238622,114587.74567208094,110577.51792695904,126995.83594053357,81970.52071706644,94412.60772634397,186678.51857767376,154587.99921677937,78250.83671959743,72773.88662280905,74701.89793589333,89817.77135962123,74471.51973161846,100687.62165927084,103157.84497031724,122635.75769902192,103529.12349170214,89203.2685637062,149125.32865537642,142413.38266797274,118980.49773150629,124726.11711325213,101057.48858879643,141984.11358430225,91615.00243446237,148165.9104878114,129618.58031253912,106460.54578315788,197506.1290447513,111624.67865811248,99979.40251045322,75099.73243669231,156632.90038638073,117813.48441734536,95318.31945484388,103522.975725429,124006.62180127332,120846.79893057096,118519.61030121255,102793.3447936252,178940.68541804564,88403.33137292224,125092.40861128343,117378.3124389533,92666.05039719243,94681.61469503156,81725.89817606434,86728.78984566813,120675.9348941755,92298.41713005028,115468.45820195292,126084.5645399105,115835.11277977882,147819.78492473392,77966.6578676161,110343.89676084496,116359.07015939504,108278.9558775009,89742.85535590339,82310.31127430273,147595.19532586983,106373.58846529668,83502.86532925454,98121.85237271334,85269.12139182552,121639.92526971448,107418.7713443538,84835.71160707677,87405.36128231093,120945.62777501844,112432.93242118742,70754.04724749472,87961.86795629108,81096.25233339494,127290.84593901083,99729.75261792936,68646.15665826356,141457.71401160024,107125.8069116835,143457.10903157614,111529.82104823156,129327.5719429736,111659.80450436556,117100.57982756874,86485.62761265184,106023.81264982247,72863.2487103961,139096.4659971522,93677.99309468812,76437.72870547925,114647.3000720369,102461.25421670088,122237.48595127383,110091.75721477016,83273.22785612638,77898.31060747555,119883.53536039028,94690.39232359613,108047.55705154856,124762.12069192856,125719.375819792,71778.36858857777,106343.5574358932,88778.05470714028,119831.38106509068,95511.16179570784,92761.09196816666,76511.46518376099,196765.61421017707,103659.42945827782,121562.9227450268,190959.3318106439,121479.43512703967,111452.2518244556,102136.81708071016,125082.58648686927,119448.2484262651,77118.19022253784,164407.21056985873,124537.24252943024,94688.5470149684,109968.16043193842,115184.6770636463,110444.38518575572,118492.8164652904,142187.24361047044,110233.0949690583,70490.00677873123,77542.83860113761,161958.99298392746,79252.53488160246,113094.50717063886,136970.37119940232,90489.39977620648,114065.3589150164,147986.0935208331,146324.65191098515,89216.89694413806,133906.36744692322,129541.47376611196,83771.57727182,133695.5592279342,112230.604163759,125040.72040557078,149687.71189365094,130581.54720714792,105314.95769445728,98436.04314585378,117997.27394294844,140563.90099879057,121212.36335627886,144983.0743278099,100746.93256713444,110640.1004307865,95697.32870480292,84869.2607737719,85990.76553751601,104079.73098748933,110572.3884334634,175268.36802616945,105473.77176900551,142096.73548854276,108778.90343813114,99560.373771788,88424.11435065865,121099.83439280948,192197.3399801167,114951.34383287448,110018.0476878707,71299.2213569311,119489.73086882342,86802.02962780668,113974.59029180698,124853.86161953324,116074.2442006878,106042.30016787432,106079.39385933112,76900.6057197493,217144.79456702128,160379.53045628392,151494.64257842422,108851.42453228132,113215.78278491984,115860.61600054197,124535.36491013326,109377.47542659884,68287.03158963329,102457.71941448208,62344.70209994436,87135.24547497192,87665.12765482102,106149.940852938,91984.27489203194,118792.19464558644,106048.06145230342,146341.6546482559,119116.2198565555,123999.83277674076,122668.19218457631,92326.21358536326,139322.94288152843,174576.4489586103,100985.17345960316,96210.6860985368,110945.92895493296,122397.4529141554,114679.02061279531,146704.65365275304,78876.9693876405,76947.00118014547,122633.88996074864,78966.52374724094,113537.31098168812,118100.00407294184,192641.39817957164,77714.7690366838,119273.73802354698,143642.54351886574,103137.41286331908,98536.57982259104,116379.4184989333,129471.66913753316,105202.10784613177,148664.050400077,93172.45174777822,98344.01030362085,89660.96183582816,133757.47649543316,86233.58329110095,134186.88272996157,113404.27468486874,129295.41675097296,106464.6167103108,81746.0985485621,72452.9082336415,98086.06140373011,93179.3723352711,115378.3394279767,119541.48114042736,102139.7104487644,99344.9862122996,129084.14884705032,148362.36154531594,86432.66512289883,101298.2515005548,83650.14213181069,124279.58089808973,105104.97060181569,115395.77771703187,117975.01983018086,164736.9176929537,106130.46451773329,146724.56267084967,122986.82032531928,95703.27758348903,119435.13068413224,115895.50587250074,119456.08438495216,129733.44747862584,75774.66082591508,119338.9417217697,94706.86596937578,106269.2377085957,84989.4327106381,117607.90015322124,119992.5405472992,108799.71992396424,111163.91874216271,80128.75823500792,128964.75845843744,93921.86342172584,113470.4781135052,87380.17930675534,125515.24672989103,111700.63870651888,117070.6717104588,112342.45228704116,147389.66457339533,141247.99153960176,112375.24271850828,68600.41096584198,119247.94276869368,108844.75684532207,119382.34537522042,93443.83672559986,100422.0527192416,133153.01312357443,142240.46967431647,109252.37767035344,113179.86523047028,114083.3397935353,117924.21723255044,114841.2139866357,136010.79670132854,116370.83350741232,108138.55990599052,117076.7515222838,105723.22728145048,146652.04278574273,115677.06662409422,99319.79825941952,115518.3171240809,103944.0151117726,112711.806763189,90960.6921507164,70375.33715010923,145362.46642125671,117321.63884340142,104555.41529324408,112289.565998706,85254.72686216477,126566.5476551212,134894.7149294735,133066.05290165186,92193.7753273158,106875.69397735862,99009.5072553221,99497.32106223857,139429.07933252642,144658.89458624405,105080.02230269124,103270.96852997904,111079.00026903804,83065.34743221258,120835.5998223976,109984.21211662985,88269.66674994525,128525.58694887544,88521.90450917228,87457.32503045785,100407.23666233616,108586.83817362395,82434.21714641221,111714.82095149226,117202.13646481172,75104.8129919284,147057.91832139497,131595.17056100446,102973.40153416006,98632.31266436396,89829.34363520118,112294.08679479182,83240.20492172701,110250.51506120656,169017.99593943558,110147.56981107008,121837.48061407146,100215.49195872304,120389.02742566126,118292.98799647795,103240.08706059406,115696.84939068204,110592.50507403232,108682.78735294608,95461.61426436728,113563.51303936852,120482.3104071786,123767.9492839931,129169.52945931288,111647.9686179718,126260.28524803097,113659.40806447944,125324.46648939888,189266.7908581033,126557.61189174664,125813.17855109712,106959.84797386714,78286.7437387145,72199.90257308129,127379.63693982984,120668.70009411708,117196.24273243772,119373.60052585127,131640.82876565965,94710.203286803,117771.62078114226],\"type\":\"box\"},{\"marker\":{\"color\":\"#457b9d\",\"size\":8},\"mode\":\"markers\",\"name\":\"Actuals\",\"showlegend\":true,\"x\":[\"2023-04-01T00:00:00\",\"2023-01-01T00:00:00\",\"2024-05-01T00:00:00\",\"2024-03-01T00:00:00\",\"2023-10-01T00:00:00\",\"2024-02-01T00:00:00\",\"2023-05-01T00:00:00\",\"2024-08-01T00:00:00\",\"2023-07-01T00:00:00\",\"2023-09-01T00:00:00\",\"2023-03-01T00:00:00\",\"2024-01-01T00:00:00\",\"2023-11-01T00:00:00\",\"2023-12-01T00:00:00\",\"2024-06-01T00:00:00\",\"2023-06-01T00:00:00\",\"2024-04-01T00:00:00\",\"2024-07-01T00:00:00\",\"2023-08-01T00:00:00\",\"2023-02-01T00:00:00\"],\"y\":[90623.55743784914,83274.05549724207,94165.227223096,95639.02841081204,130091.60765395944,100246.4604717935,85757.98791767348,150238.709291102,125493.49625476392,108423.09226152318,108883.1082384134,97238.51342749008,112481.01179068074,105442.11223403168,113988.682873909,115198.26101891116,106530.7355251386,135627.644361161,148935.01617841818,80772.49512162477],\"type\":\"scatter\"}],                        {\"legend\":{\"title\":{\"text\":\"Legend\"}},\"template\":{\"data\":{\"barpolar\":[{\"marker\":{\"line\":{\"color\":\"white\",\"width\":0.5},\"pattern\":{\"fillmode\":\"overlay\",\"size\":10,\"solidity\":0.2}},\"type\":\"barpolar\"}],\"bar\":[{\"error_x\":{\"color\":\"#2a3f5f\"},\"error_y\":{\"color\":\"#2a3f5f\"},\"marker\":{\"line\":{\"color\":\"white\",\"width\":0.5},\"pattern\":{\"fillmode\":\"overlay\",\"size\":10,\"solidity\":0.2}},\"type\":\"bar\"}],\"carpet\":[{\"aaxis\":{\"endlinecolor\":\"#2a3f5f\",\"gridcolor\":\"#C8D4E3\",\"linecolor\":\"#C8D4E3\",\"minorgridcolor\":\"#C8D4E3\",\"startlinecolor\":\"#2a3f5f\"},\"baxis\":{\"endlinecolor\":\"#2a3f5f\",\"gridcolor\":\"#C8D4E3\",\"linecolor\":\"#C8D4E3\",\"minorgridcolor\":\"#C8D4E3\",\"startlinecolor\":\"#2a3f5f\"},\"type\":\"carpet\"}],\"choropleth\":[{\"colorbar\":{\"outlinewidth\":0,\"ticks\":\"\"},\"type\":\"choropleth\"}],\"contourcarpet\":[{\"colorbar\":{\"outlinewidth\":0,\"ticks\":\"\"},\"type\":\"contourcarpet\"}],\"contour\":[{\"colorbar\":{\"outlinewidth\":0,\"ticks\":\"\"},\"colorscale\":[[0.0,\"#0d0887\"],[0.1111111111111111,\"#46039f\"],[0.2222222222222222,\"#7201a8\"],[0.3333333333333333,\"#9c179e\"],[0.4444444444444444,\"#bd3786\"],[0.5555555555555556,\"#d8576b\"],[0.6666666666666666,\"#ed7953\"],[0.7777777777777778,\"#fb9f3a\"],[0.8888888888888888,\"#fdca26\"],[1.0,\"#f0f921\"]],\"type\":\"contour\"}],\"heatmapgl\":[{\"colorbar\":{\"outlinewidth\":0,\"ticks\":\"\"},\"colorscale\":[[0.0,\"#0d0887\"],[0.1111111111111111,\"#46039f\"],[0.2222222222222222,\"#7201a8\"],[0.3333333333333333,\"#9c179e\"],[0.4444444444444444,\"#bd3786\"],[0.5555555555555556,\"#d8576b\"],[0.6666666666666666,\"#ed7953\"],[0.7777777777777778,\"#fb9f3a\"],[0.8888888888888888,\"#fdca26\"],[1.0,\"#f0f921\"]],\"type\":\"heatmapgl\"}],\"heatmap\":[{\"colorbar\":{\"outlinewidth\":0,\"ticks\":\"\"},\"colorscale\":[[0.0,\"#0d0887\"],[0.1111111111111111,\"#46039f\"],[0.2222222222222222,\"#7201a8\"],[0.3333333333333333,\"#9c179e\"],[0.4444444444444444,\"#bd3786\"],[0.5555555555555556,\"#d8576b\"],[0.6666666666666666,\"#ed7953\"],[0.7777777777777778,\"#fb9f3a\"],[0.8888888888888888,\"#fdca26\"],[1.0,\"#f0f921\"]],\"type\":\"heatmap\"}],\"histogram2dcontour\":[{\"colorbar\":{\"outlinewidth\":0,\"ticks\":\"\"},\"colorscale\":[[0.0,\"#0d0887\"],[0.1111111111111111,\"#46039f\"],[0.2222222222222222,\"#7201a8\"],[0.3333333333333333,\"#9c179e\"],[0.4444444444444444,\"#bd3786\"],[0.5555555555555556,\"#d8576b\"],[0.6666666666666666,\"#ed7953\"],[0.7777777777777778,\"#fb9f3a\"],[0.8888888888888888,\"#fdca26\"],[1.0,\"#f0f921\"]],\"type\":\"histogram2dcontour\"}],\"histogram2d\":[{\"colorbar\":{\"outlinewidth\":0,\"ticks\":\"\"},\"colorscale\":[[0.0,\"#0d0887\"],[0.1111111111111111,\"#46039f\"],[0.2222222222222222,\"#7201a8\"],[0.3333333333333333,\"#9c179e\"],[0.4444444444444444,\"#bd3786\"],[0.5555555555555556,\"#d8576b\"],[0.6666666666666666,\"#ed7953\"],[0.7777777777777778,\"#fb9f3a\"],[0.8888888888888888,\"#fdca26\"],[1.0,\"#f0f921\"]],\"type\":\"histogram2d\"}],\"histogram\":[{\"marker\":{\"pattern\":{\"fillmode\":\"overlay\",\"size\":10,\"solidity\":0.2}},\"type\":\"histogram\"}],\"mesh3d\":[{\"colorbar\":{\"outlinewidth\":0,\"ticks\":\"\"},\"type\":\"mesh3d\"}],\"parcoords\":[{\"line\":{\"colorbar\":{\"outlinewidth\":0,\"ticks\":\"\"}},\"type\":\"parcoords\"}],\"pie\":[{\"automargin\":true,\"type\":\"pie\"}],\"scatter3d\":[{\"line\":{\"colorbar\":{\"outlinewidth\":0,\"ticks\":\"\"}},\"marker\":{\"colorbar\":{\"outlinewidth\":0,\"ticks\":\"\"}},\"type\":\"scatter3d\"}],\"scattercarpet\":[{\"marker\":{\"colorbar\":{\"outlinewidth\":0,\"ticks\":\"\"}},\"type\":\"scattercarpet\"}],\"scattergeo\":[{\"marker\":{\"colorbar\":{\"outlinewidth\":0,\"ticks\":\"\"}},\"type\":\"scattergeo\"}],\"scattergl\":[{\"marker\":{\"colorbar\":{\"outlinewidth\":0,\"ticks\":\"\"}},\"type\":\"scattergl\"}],\"scattermapbox\":[{\"marker\":{\"colorbar\":{\"outlinewidth\":0,\"ticks\":\"\"}},\"type\":\"scattermapbox\"}],\"scatterpolargl\":[{\"marker\":{\"colorbar\":{\"outlinewidth\":0,\"ticks\":\"\"}},\"type\":\"scatterpolargl\"}],\"scatterpolar\":[{\"marker\":{\"colorbar\":{\"outlinewidth\":0,\"ticks\":\"\"}},\"type\":\"scatterpolar\"}],\"scatter\":[{\"fillpattern\":{\"fillmode\":\"overlay\",\"size\":10,\"solidity\":0.2},\"type\":\"scatter\"}],\"scatterternary\":[{\"marker\":{\"colorbar\":{\"outlinewidth\":0,\"ticks\":\"\"}},\"type\":\"scatterternary\"}],\"surface\":[{\"colorbar\":{\"outlinewidth\":0,\"ticks\":\"\"},\"colorscale\":[[0.0,\"#0d0887\"],[0.1111111111111111,\"#46039f\"],[0.2222222222222222,\"#7201a8\"],[0.3333333333333333,\"#9c179e\"],[0.4444444444444444,\"#bd3786\"],[0.5555555555555556,\"#d8576b\"],[0.6666666666666666,\"#ed7953\"],[0.7777777777777778,\"#fb9f3a\"],[0.8888888888888888,\"#fdca26\"],[1.0,\"#f0f921\"]],\"type\":\"surface\"}],\"table\":[{\"cells\":{\"fill\":{\"color\":\"#EBF0F8\"},\"line\":{\"color\":\"white\"}},\"header\":{\"fill\":{\"color\":\"#C8D4E3\"},\"line\":{\"color\":\"white\"}},\"type\":\"table\"}]},\"layout\":{\"annotationdefaults\":{\"arrowcolor\":\"#2a3f5f\",\"arrowhead\":0,\"arrowwidth\":1},\"autotypenumbers\":\"strict\",\"coloraxis\":{\"colorbar\":{\"outlinewidth\":0,\"ticks\":\"\"}},\"colorscale\":{\"diverging\":[[0,\"#8e0152\"],[0.1,\"#c51b7d\"],[0.2,\"#de77ae\"],[0.3,\"#f1b6da\"],[0.4,\"#fde0ef\"],[0.5,\"#f7f7f7\"],[0.6,\"#e6f5d0\"],[0.7,\"#b8e186\"],[0.8,\"#7fbc41\"],[0.9,\"#4d9221\"],[1,\"#276419\"]],\"sequential\":[[0.0,\"#0d0887\"],[0.1111111111111111,\"#46039f\"],[0.2222222222222222,\"#7201a8\"],[0.3333333333333333,\"#9c179e\"],[0.4444444444444444,\"#bd3786\"],[0.5555555555555556,\"#d8576b\"],[0.6666666666666666,\"#ed7953\"],[0.7777777777777778,\"#fb9f3a\"],[0.8888888888888888,\"#fdca26\"],[1.0,\"#f0f921\"]],\"sequentialminus\":[[0.0,\"#0d0887\"],[0.1111111111111111,\"#46039f\"],[0.2222222222222222,\"#7201a8\"],[0.3333333333333333,\"#9c179e\"],[0.4444444444444444,\"#bd3786\"],[0.5555555555555556,\"#d8576b\"],[0.6666666666666666,\"#ed7953\"],[0.7777777777777778,\"#fb9f3a\"],[0.8888888888888888,\"#fdca26\"],[1.0,\"#f0f921\"]]},\"colorway\":[\"#636efa\",\"#EF553B\",\"#00cc96\",\"#ab63fa\",\"#FFA15A\",\"#19d3f3\",\"#FF6692\",\"#B6E880\",\"#FF97FF\",\"#FECB52\"],\"font\":{\"color\":\"#2a3f5f\"},\"geo\":{\"bgcolor\":\"white\",\"lakecolor\":\"white\",\"landcolor\":\"white\",\"showlakes\":true,\"showland\":true,\"subunitcolor\":\"#C8D4E3\"},\"hoverlabel\":{\"align\":\"left\"},\"hovermode\":\"closest\",\"mapbox\":{\"style\":\"light\"},\"paper_bgcolor\":\"white\",\"plot_bgcolor\":\"white\",\"polar\":{\"angularaxis\":{\"gridcolor\":\"#EBF0F8\",\"linecolor\":\"#EBF0F8\",\"ticks\":\"\"},\"bgcolor\":\"white\",\"radialaxis\":{\"gridcolor\":\"#EBF0F8\",\"linecolor\":\"#EBF0F8\",\"ticks\":\"\"}},\"scene\":{\"xaxis\":{\"backgroundcolor\":\"white\",\"gridcolor\":\"#DFE8F3\",\"gridwidth\":2,\"linecolor\":\"#EBF0F8\",\"showbackground\":true,\"ticks\":\"\",\"zerolinecolor\":\"#EBF0F8\"},\"yaxis\":{\"backgroundcolor\":\"white\",\"gridcolor\":\"#DFE8F3\",\"gridwidth\":2,\"linecolor\":\"#EBF0F8\",\"showbackground\":true,\"ticks\":\"\",\"zerolinecolor\":\"#EBF0F8\"},\"zaxis\":{\"backgroundcolor\":\"white\",\"gridcolor\":\"#DFE8F3\",\"gridwidth\":2,\"linecolor\":\"#EBF0F8\",\"showbackground\":true,\"ticks\":\"\",\"zerolinecolor\":\"#EBF0F8\"}},\"shapedefaults\":{\"line\":{\"color\":\"#2a3f5f\"}},\"ternary\":{\"aaxis\":{\"gridcolor\":\"#DFE8F3\",\"linecolor\":\"#A2B1C6\",\"ticks\":\"\"},\"baxis\":{\"gridcolor\":\"#DFE8F3\",\"linecolor\":\"#A2B1C6\",\"ticks\":\"\"},\"bgcolor\":\"white\",\"caxis\":{\"gridcolor\":\"#DFE8F3\",\"linecolor\":\"#A2B1C6\",\"ticks\":\"\"}},\"title\":{\"x\":0.05},\"xaxis\":{\"automargin\":true,\"gridcolor\":\"#EBF0F8\",\"linecolor\":\"#EBF0F8\",\"ticks\":\"\",\"title\":{\"standoff\":15},\"zerolinecolor\":\"#EBF0F8\",\"zerolinewidth\":2},\"yaxis\":{\"automargin\":true,\"gridcolor\":\"#EBF0F8\",\"linecolor\":\"#EBF0F8\",\"ticks\":\"\",\"title\":{\"standoff\":15},\"zerolinecolor\":\"#EBF0F8\",\"zerolinewidth\":2}}},\"title\":{\"text\":\"Boxplot Forecast vs Actuals for Pepsi Max (L3)\"},\"xaxis\":{\"title\":{\"text\":\"Date\"}},\"yaxis\":{\"title\":{\"text\":\"Sales\"},\"range\":[0,238859.27402372344]}},                        {\"responsive\": true}                    ).then(function(){\n",
              "                            \n",
              "var gd = document.getElementById('49bc19d7-2370-4309-9202-8f834317083e');\n",
              "var x = new MutationObserver(function (mutations, observer) {{\n",
              "        var display = window.getComputedStyle(gd).display;\n",
              "        if (!display || display === 'none') {{\n",
              "            console.log([gd, 'removed!']);\n",
              "            Plotly.purge(gd);\n",
              "            observer.disconnect();\n",
              "        }}\n",
              "}});\n",
              "\n",
              "// Listen for the removal of the full notebook cells\n",
              "var notebookContainer = gd.closest('#notebook-container');\n",
              "if (notebookContainer) {{\n",
              "    x.observe(notebookContainer, {childList: true});\n",
              "}}\n",
              "\n",
              "// Listen for the clearing of the current output cell\n",
              "var outputEl = gd.closest('.output');\n",
              "if (outputEl) {{\n",
              "    x.observe(outputEl, {childList: true});\n",
              "}}\n",
              "\n",
              "                        })                };                            </script>        </div>\n",
              "</body>\n",
              "</html>"
            ]
          },
          "metadata": {}
        },
        {
          "output_type": "display_data",
          "data": {
            "text/html": [
              "<html>\n",
              "<head><meta charset=\"utf-8\" /></head>\n",
              "<body>\n",
              "    <div>            <script src=\"https://cdnjs.cloudflare.com/ajax/libs/mathjax/2.7.5/MathJax.js?config=TeX-AMS-MML_SVG\"></script><script type=\"text/javascript\">if (window.MathJax && window.MathJax.Hub && window.MathJax.Hub.Config) {window.MathJax.Hub.Config({SVG: {font: \"STIX-Web\"}});}</script>                <script type=\"text/javascript\">window.PlotlyConfig = {MathJaxConfig: 'local'};</script>\n",
              "        <script charset=\"utf-8\" src=\"https://cdn.plot.ly/plotly-2.35.2.min.js\"></script>                <div id=\"c0f93921-fecb-45e5-8ee8-7fef277da28b\" class=\"plotly-graph-div\" style=\"height:525px; width:100%;\"></div>            <script type=\"text/javascript\">                                    window.PLOTLYENV=window.PLOTLYENV || {};                                    if (document.getElementById(\"c0f93921-fecb-45e5-8ee8-7fef277da28b\")) {                    Plotly.newPlot(                        \"c0f93921-fecb-45e5-8ee8-7fef277da28b\",                        [{\"boxmean\":true,\"marker\":{\"color\":\"#8ecae6\"},\"name\":\"Forecast\",\"showlegend\":true,\"x\":[\"2023-12-01T00:00:00\",\"2024-01-01T00:00:00\",\"2023-08-01T00:00:00\",\"2024-08-01T00:00:00\",\"2024-06-01T00:00:00\",\"2024-06-01T00:00:00\",\"2024-06-01T00:00:00\",\"2023-08-01T00:00:00\",\"2023-06-01T00:00:00\",\"2023-12-01T00:00:00\",\"2024-08-01T00:00:00\",\"2024-02-01T00:00:00\",\"2023-08-01T00:00:00\",\"2024-04-01T00:00:00\",\"2024-05-01T00:00:00\",\"2024-04-01T00:00:00\",\"2024-05-01T00:00:00\",\"2024-01-01T00:00:00\",\"2024-04-01T00:00:00\",\"2024-02-01T00:00:00\",\"2023-09-01T00:00:00\",\"2023-12-01T00:00:00\",\"2024-07-01T00:00:00\",\"2024-07-01T00:00:00\",\"2023-11-01T00:00:00\",\"2024-07-01T00:00:00\",\"2023-09-01T00:00:00\",\"2023-11-01T00:00:00\",\"2023-12-01T00:00:00\",\"2024-06-01T00:00:00\",\"2024-01-01T00:00:00\",\"2023-10-01T00:00:00\",\"2024-08-01T00:00:00\",\"2024-04-01T00:00:00\",\"2024-01-01T00:00:00\",\"2023-11-01T00:00:00\",\"2023-07-01T00:00:00\",\"2023-12-01T00:00:00\",\"2023-07-01T00:00:00\",\"2024-08-01T00:00:00\",\"2024-03-01T00:00:00\",\"2024-01-01T00:00:00\",\"2024-02-01T00:00:00\",\"2024-04-01T00:00:00\",\"2023-09-01T00:00:00\",\"2024-02-01T00:00:00\",\"2024-04-01T00:00:00\",\"2024-02-01T00:00:00\",\"2024-08-01T00:00:00\",\"2024-04-01T00:00:00\",\"2024-01-01T00:00:00\",\"2023-06-01T00:00:00\",\"2023-06-01T00:00:00\",\"2023-11-01T00:00:00\",\"2024-04-01T00:00:00\",\"2023-11-01T00:00:00\",\"2024-06-01T00:00:00\",\"2024-07-01T00:00:00\",\"2023-02-01T00:00:00\",\"2023-05-01T00:00:00\",\"2024-03-01T00:00:00\",\"2024-02-01T00:00:00\",\"2024-04-01T00:00:00\",\"2023-10-01T00:00:00\",\"2023-12-01T00:00:00\",\"2023-12-01T00:00:00\",\"2024-03-01T00:00:00\",\"2024-02-01T00:00:00\",\"2024-02-01T00:00:00\",\"2024-07-01T00:00:00\",\"2024-06-01T00:00:00\",\"2023-03-01T00:00:00\",\"2023-08-01T00:00:00\",\"2024-08-01T00:00:00\",\"2023-09-01T00:00:00\",\"2023-12-01T00:00:00\",\"2024-06-01T00:00:00\",\"2024-06-01T00:00:00\",\"2023-09-01T00:00:00\",\"2024-03-01T00:00:00\",\"2023-09-01T00:00:00\",\"2023-10-01T00:00:00\",\"2023-07-01T00:00:00\",\"2024-02-01T00:00:00\",\"2024-03-01T00:00:00\",\"2024-08-01T00:00:00\",\"2024-02-01T00:00:00\",\"2023-09-01T00:00:00\",\"2024-08-01T00:00:00\",\"2023-12-01T00:00:00\",\"2024-03-01T00:00:00\",\"2023-04-01T00:00:00\",\"2024-04-01T00:00:00\",\"2023-09-01T00:00:00\",\"2023-08-01T00:00:00\",\"2023-11-01T00:00:00\",\"2023-12-01T00:00:00\",\"2024-05-01T00:00:00\",\"2024-03-01T00:00:00\",\"2024-07-01T00:00:00\",\"2024-05-01T00:00:00\",\"2024-05-01T00:00:00\",\"2024-07-01T00:00:00\",\"2024-01-01T00:00:00\",\"2024-08-01T00:00:00\",\"2024-05-01T00:00:00\",\"2024-03-01T00:00:00\",\"2024-06-01T00:00:00\",\"2024-07-01T00:00:00\",\"2023-07-01T00:00:00\",\"2024-05-01T00:00:00\",\"2024-07-01T00:00:00\",\"2024-05-01T00:00:00\",\"2024-06-01T00:00:00\",\"2023-08-01T00:00:00\",\"2024-02-01T00:00:00\",\"2023-11-01T00:00:00\",\"2024-07-01T00:00:00\",\"2023-09-01T00:00:00\",\"2024-03-01T00:00:00\",\"2024-04-01T00:00:00\",\"2023-01-01T00:00:00\",\"2024-01-01T00:00:00\",\"2024-01-01T00:00:00\",\"2024-08-01T00:00:00\",\"2024-05-01T00:00:00\",\"2023-10-01T00:00:00\",\"2024-06-01T00:00:00\",\"2024-07-01T00:00:00\",\"2023-05-01T00:00:00\",\"2024-08-01T00:00:00\",\"2023-12-01T00:00:00\",\"2024-06-01T00:00:00\",\"2024-07-01T00:00:00\",\"2023-11-01T00:00:00\",\"2024-08-01T00:00:00\",\"2023-10-01T00:00:00\",\"2024-05-01T00:00:00\",\"2023-10-01T00:00:00\",\"2023-11-01T00:00:00\",\"2023-06-01T00:00:00\",\"2023-11-01T00:00:00\",\"2024-04-01T00:00:00\",\"2024-02-01T00:00:00\",\"2024-07-01T00:00:00\",\"2024-06-01T00:00:00\",\"2023-08-01T00:00:00\",\"2024-06-01T00:00:00\",\"2024-04-01T00:00:00\",\"2024-03-01T00:00:00\",\"2023-11-01T00:00:00\",\"2023-06-01T00:00:00\",\"2024-08-01T00:00:00\",\"2024-01-01T00:00:00\",\"2023-07-01T00:00:00\",\"2024-06-01T00:00:00\",\"2024-06-01T00:00:00\",\"2023-11-01T00:00:00\",\"2024-02-01T00:00:00\",\"2024-08-01T00:00:00\",\"2023-11-01T00:00:00\",\"2024-08-01T00:00:00\",\"2023-06-01T00:00:00\",\"2024-06-01T00:00:00\",\"2023-12-01T00:00:00\",\"2023-06-01T00:00:00\",\"2024-05-01T00:00:00\",\"2023-08-01T00:00:00\",\"2023-08-01T00:00:00\",\"2024-05-01T00:00:00\",\"2024-07-01T00:00:00\",\"2024-05-01T00:00:00\",\"2024-01-01T00:00:00\",\"2024-06-01T00:00:00\",\"2024-08-01T00:00:00\",\"2023-10-01T00:00:00\",\"2023-10-01T00:00:00\",\"2023-12-01T00:00:00\",\"2024-04-01T00:00:00\",\"2023-11-01T00:00:00\",\"2024-05-01T00:00:00\",\"2023-11-01T00:00:00\",\"2024-04-01T00:00:00\",\"2024-06-01T00:00:00\",\"2023-02-01T00:00:00\",\"2023-12-01T00:00:00\",\"2024-06-01T00:00:00\",\"2023-12-01T00:00:00\",\"2023-11-01T00:00:00\",\"2023-09-01T00:00:00\",\"2024-05-01T00:00:00\",\"2023-12-01T00:00:00\",\"2023-07-01T00:00:00\",\"2024-01-01T00:00:00\",\"2024-07-01T00:00:00\",\"2023-12-01T00:00:00\",\"2024-04-01T00:00:00\",\"2024-07-01T00:00:00\",\"2024-02-01T00:00:00\",\"2024-06-01T00:00:00\",\"2024-07-01T00:00:00\",\"2024-01-01T00:00:00\",\"2024-02-01T00:00:00\",\"2024-05-01T00:00:00\",\"2024-06-01T00:00:00\",\"2023-11-01T00:00:00\",\"2024-05-01T00:00:00\",\"2023-12-01T00:00:00\",\"2024-02-01T00:00:00\",\"2023-11-01T00:00:00\",\"2024-08-01T00:00:00\",\"2024-02-01T00:00:00\",\"2024-02-01T00:00:00\",\"2024-02-01T00:00:00\",\"2023-12-01T00:00:00\",\"2023-10-01T00:00:00\",\"2023-10-01T00:00:00\",\"2024-02-01T00:00:00\",\"2024-01-01T00:00:00\",\"2024-03-01T00:00:00\",\"2024-07-01T00:00:00\",\"2024-03-01T00:00:00\",\"2024-03-01T00:00:00\",\"2023-11-01T00:00:00\",\"2024-04-01T00:00:00\",\"2024-07-01T00:00:00\",\"2024-08-01T00:00:00\",\"2023-09-01T00:00:00\",\"2024-04-01T00:00:00\",\"2024-04-01T00:00:00\",\"2023-10-01T00:00:00\",\"2023-09-01T00:00:00\",\"2024-02-01T00:00:00\",\"2024-04-01T00:00:00\",\"2024-04-01T00:00:00\",\"2023-06-01T00:00:00\",\"2024-05-01T00:00:00\",\"2024-05-01T00:00:00\",\"2024-06-01T00:00:00\",\"2023-08-01T00:00:00\",\"2023-12-01T00:00:00\",\"2023-04-01T00:00:00\",\"2024-05-01T00:00:00\",\"2023-07-01T00:00:00\",\"2023-11-01T00:00:00\",\"2024-04-01T00:00:00\",\"2024-05-01T00:00:00\",\"2023-06-01T00:00:00\",\"2023-09-01T00:00:00\",\"2023-11-01T00:00:00\",\"2024-08-01T00:00:00\",\"2024-02-01T00:00:00\",\"2024-03-01T00:00:00\",\"2024-04-01T00:00:00\",\"2023-08-01T00:00:00\",\"2023-09-01T00:00:00\",\"2024-01-01T00:00:00\",\"2023-10-01T00:00:00\",\"2023-10-01T00:00:00\",\"2024-08-01T00:00:00\",\"2023-09-01T00:00:00\",\"2024-06-01T00:00:00\",\"2024-07-01T00:00:00\",\"2024-08-01T00:00:00\",\"2023-06-01T00:00:00\",\"2024-02-01T00:00:00\",\"2024-01-01T00:00:00\",\"2024-07-01T00:00:00\",\"2023-12-01T00:00:00\",\"2024-04-01T00:00:00\",\"2024-03-01T00:00:00\",\"2024-01-01T00:00:00\",\"2024-04-01T00:00:00\",\"2023-05-01T00:00:00\",\"2023-10-01T00:00:00\",\"2024-03-01T00:00:00\",\"2024-08-01T00:00:00\",\"2024-01-01T00:00:00\",\"2024-03-01T00:00:00\",\"2023-10-01T00:00:00\",\"2024-02-01T00:00:00\",\"2023-12-01T00:00:00\",\"2024-07-01T00:00:00\",\"2023-10-01T00:00:00\",\"2024-02-01T00:00:00\",\"2023-08-01T00:00:00\",\"2024-08-01T00:00:00\",\"2023-08-01T00:00:00\",\"2024-02-01T00:00:00\",\"2023-06-01T00:00:00\",\"2024-06-01T00:00:00\",\"2024-01-01T00:00:00\",\"2024-07-01T00:00:00\",\"2023-09-01T00:00:00\",\"2024-06-01T00:00:00\",\"2023-10-01T00:00:00\",\"2023-03-01T00:00:00\",\"2024-05-01T00:00:00\",\"2024-03-01T00:00:00\",\"2023-04-01T00:00:00\",\"2023-04-01T00:00:00\",\"2023-09-01T00:00:00\",\"2024-05-01T00:00:00\",\"2023-07-01T00:00:00\",\"2023-03-01T00:00:00\",\"2024-01-01T00:00:00\",\"2024-07-01T00:00:00\",\"2024-03-01T00:00:00\",\"2023-11-01T00:00:00\",\"2023-12-01T00:00:00\",\"2024-05-01T00:00:00\",\"2023-10-01T00:00:00\",\"2023-12-01T00:00:00\",\"2024-01-01T00:00:00\",\"2024-07-01T00:00:00\",\"2024-05-01T00:00:00\",\"2024-07-01T00:00:00\",\"2024-04-01T00:00:00\",\"2024-01-01T00:00:00\",\"2023-10-01T00:00:00\",\"2023-10-01T00:00:00\",\"2023-08-01T00:00:00\",\"2024-03-01T00:00:00\",\"2024-08-01T00:00:00\",\"2023-11-01T00:00:00\",\"2023-11-01T00:00:00\",\"2024-06-01T00:00:00\",\"2024-02-01T00:00:00\",\"2023-10-01T00:00:00\",\"2024-04-01T00:00:00\",\"2024-08-01T00:00:00\",\"2023-07-01T00:00:00\",\"2024-01-01T00:00:00\",\"2024-07-01T00:00:00\",\"2024-06-01T00:00:00\",\"2024-05-01T00:00:00\",\"2023-11-01T00:00:00\",\"2023-12-01T00:00:00\",\"2023-06-01T00:00:00\",\"2024-08-01T00:00:00\",\"2024-08-01T00:00:00\",\"2024-06-01T00:00:00\",\"2023-12-01T00:00:00\",\"2024-01-01T00:00:00\",\"2024-05-01T00:00:00\",\"2024-01-01T00:00:00\",\"2024-03-01T00:00:00\",\"2023-07-01T00:00:00\",\"2023-07-01T00:00:00\",\"2023-05-01T00:00:00\",\"2023-10-01T00:00:00\",\"2024-05-01T00:00:00\",\"2023-11-01T00:00:00\",\"2024-01-01T00:00:00\",\"2023-09-01T00:00:00\",\"2024-05-01T00:00:00\",\"2023-07-01T00:00:00\",\"2024-01-01T00:00:00\",\"2024-01-01T00:00:00\",\"2024-03-01T00:00:00\",\"2023-08-01T00:00:00\",\"2023-10-01T00:00:00\",\"2023-12-01T00:00:00\",\"2023-12-01T00:00:00\",\"2024-03-01T00:00:00\",\"2024-07-01T00:00:00\",\"2023-07-01T00:00:00\",\"2023-09-01T00:00:00\",\"2024-05-01T00:00:00\",\"2024-04-01T00:00:00\",\"2023-05-01T00:00:00\",\"2023-05-01T00:00:00\",\"2024-03-01T00:00:00\",\"2024-07-01T00:00:00\",\"2023-08-01T00:00:00\",\"2023-07-01T00:00:00\",\"2024-04-01T00:00:00\",\"2023-08-01T00:00:00\",\"2024-03-01T00:00:00\",\"2023-04-01T00:00:00\",\"2023-12-01T00:00:00\",\"2024-01-01T00:00:00\",\"2023-09-01T00:00:00\",\"2024-03-01T00:00:00\",\"2024-02-01T00:00:00\",\"2024-03-01T00:00:00\",\"2024-06-01T00:00:00\",\"2023-12-01T00:00:00\",\"2023-10-01T00:00:00\",\"2024-03-01T00:00:00\",\"2023-05-01T00:00:00\",\"2023-05-01T00:00:00\",\"2024-02-01T00:00:00\",\"2023-07-01T00:00:00\",\"2024-04-01T00:00:00\",\"2023-09-01T00:00:00\",\"2023-08-01T00:00:00\",\"2023-11-01T00:00:00\",\"2024-08-01T00:00:00\",\"2024-02-01T00:00:00\",\"2024-03-01T00:00:00\",\"2023-05-01T00:00:00\",\"2023-04-01T00:00:00\",\"2024-01-01T00:00:00\",\"2024-03-01T00:00:00\"],\"y\":[134268.1510802472,132236.38710502087,164759.7931374658,173701.35175561922,156544.88406468928,183736.8040462092,194970.8492367681,183272.0828741894,152607.6921344687,135724.2460312794,281190.29517676245,131842.38979379044,166426.4478385857,108609.393776022,123600.26000220983,113087.15518591228,131619.10570302178,111801.83113995443,181926.3894581757,115590.93773857696,146945.61475218151,143674.698858048,163653.5731951399,288239.1058785544,140862.86002359563,268663.7422046393,179489.3842586898,130102.9810569137,138545.88437924525,218633.0859132747,136387.96568690648,142858.05814603763,195778.2691922098,115094.67739730212,116189.91045614616,142264.87695374552,153062.88305392867,142583.07028073823,118181.32591253416,293255.2270367028,151539.35324724973,128186.2321197533,127699.88870364662,129960.35387260524,165388.1002600435,119441.12275746456,152143.47866740564,99468.18480374802,169138.93111329427,153787.59894345625,102832.19633824522,125345.493148678,121714.95351400292,134140.084255092,123855.90316550506,111241.31612194394,93809.88476809606,171825.68686117898,100841.7178485865,69307.7450951033,74400.55189077434,61918.21415159904,122274.91748714211,146984.04665278026,141840.8571419992,158885.6633516648,148803.28764087742,72168.24108429051,127488.81920793814,160166.74800104706,115006.72070449631,107155.80366038806,161098.97606930786,273415.28659463127,132941.16935257564,137204.95026224438,199014.09108519196,182861.4986862468,95060.313883104,110063.0618831537,149070.00165005212,137371.75247327384,122562.13104630868,106706.06739080136,141817.863029404,153081.58773328195,121501.14371122156,96052.82646697124,290871.7277311437,117818.264939007,119105.0890778414,75926.16784787309,136880.39813725857,154065.9005845641,129754.70791556672,116845.48343032002,144178.34940619676,131411.88973766714,142362.00559221613,174287.37116126783,106107.0535011763,164037.68795813553,322656.3525506345,70610.1239080258,318267.3739534708,132871.7828537933,143427.1080066713,147375.67851994478,176060.634503436,151395.16727270224,102656.6482181138,276490.92233430507,128734.4778932947,141947.04887206422,215204.79867861464,131073.6959569742,142171.74975424772,123471.01751008592,90593.92494076684,142573.79269422716,80260.30501423625,108418.89166220822,114865.04329197938,117093.82596581828,165728.71429867682,155786.6213666928,142893.4689770073,214696.9881717124,166583.61524128684,107417.55331794314,178327.53596915174,162507.0700716461,93654.5888333544,271427.007686746,141309.80355130666,160099.06075040068,142128.4823135332,173962.31455006986,153166.29899091838,80888.62244405478,85978.48449420542,126241.8895913918,107359.83687562804,115506.44896883552,272650.0568176835,152563.82327543324,184381.87047009144,185049.8803852473,136159.1511130256,113392.02582332278,148576.74768849803,143259.15255492218,339110.6103502686,115672.76256977629,119828.54808944072,126127.36228186272,155958.54931695506,143303.409715821,110371.30948284896,179903.56534585208,136334.69236115075,186159.31561834447,87575.70901751687,154951.41071071397,85749.13968696813,151864.06295478632,65781.26238076635,129033.23067142858,214190.59501380575,73914.84937179365,172979.4330500704,129801.83307653782,108945.97944488347,120899.02066862553,286896.86325549724,158309.70231274425,95518.86250866432,116250.6586927464,128936.19419218626,138950.74095975503,111804.86426865098,118472.90784311268,151919.00999722842,153674.3739615005,95476.2233336438,89333.26867894533,131716.8891969002,123554.20692409152,135742.67481014552,139408.8221586591,132606.95982615597,80112.90031506756,149355.05534144296,71919.66062654187,253172.63737144263,121284.341864739,146628.8435554517,183970.4853692781,120563.37503645087,233038.1349090624,151562.83757485216,111937.97005974418,109414.22970656188,97505.29638354506,202994.60578772463,123180.8490149118,132739.2226234851,145160.9300616397,157270.69456898762,79057.40572514344,186770.94487226236,68867.02108978441,104317.59430288793,118249.861111359,184252.51359392708,149798.3442623826,94666.73349552178,118362.55610977244,109046.37342756613,138918.46847415538,304779.9801569692,81249.05324487765,144368.68374382617,76232.39377065173,75080.52139528026,161102.73524536818,285911.9078774283,144449.31085239557,132700.09726865278,103264.36270310797,128523.95764374376,127341.38659230308,106552.10104748169,133554.76059740444,112953.5467601908,100174.71100785816,180244.4136140472,156003.8390444574,144835.25911858823,166065.12415513155,152445.29982563367,108566.23580948295,118223.88070236747,155898.59408397865,125135.18219826886,127711.40457792528,126857.88168175847,127329.57824619237,144367.19867419635,133724.12904366478,180462.88093555925,115718.67015718986,85734.02196926247,158397.9594989377,163717.6713392546,135680.2133013001,129360.72829319694,184690.15191300891,169007.10687688965,133480.54415414296,149791.79281070197,133049.642529875,168759.23939965595,331228.3168259762,132846.3722739708,117967.9578567541,107019.45962627388,250539.30771842235,134891.49309497586,126152.364899759,142327.16209099133,117199.99836459318,164178.687572912,101622.32497898124,95288.95105376942,139899.43265175022,133462.6628428879,67157.5393884564,136228.84523809334,145240.91225163118,118166.99245378228,119321.4760937788,155807.57604056204,128302.0001560436,101275.45975637971,165747.85218075998,183623.5344534475,167454.46773430915,101108.17453671328,130147.11862010084,129410.92135273482,127305.59200701458,175538.2354983847,127332.81907467423,149591.58187027546,144399.9507020556,84815.15440841833,114184.23524946638,113509.28770851596,102947.42810776824,98328.5869089742,140963.07699815845,143531.24541010792,182889.66639080265,113240.73953562652,120723.722531301,150053.90933832835,133892.10431187783,140762.21479176014,145061.28026250337,125856.44254450216,132361.12560969844,139383.27863989887,108432.18067709598,175915.32650682976,144317.12530673365,121928.093220201,118531.7742137008,153787.5572231286,141269.36247186747,151168.05927619006,159149.3513748017,155175.32377612527,172794.40562519492,111803.43111348985,127347.45471221113,126026.70467294744,116794.31572373032,131907.74419611963,129361.65414641784,187973.5835517379,195678.41303290884,101852.08171858409,174885.50307696455,90986.91495858476,109478.2701135486,109398.40882407158,157774.77588146258,124740.97334711625,187821.75295549305,144297.77749432257,156683.66946165694,141731.69261161587,114550.23263048255,148767.53225712193,120285.39606880846,128620.22570811171,152014.0298033513,157633.50215404504,101800.83710099108,138221.97999873952,150863.41098524013,139758.92312605324,127382.24283708524,169018.05334666165,74280.55117647725,201640.39448994293,109436.75893641265,99810.44184092224,116737.24230086498,156192.84990180875,133908.25894918235,137252.4865769345,117952.1311004781,151976.26598452614,122650.84089384114,198188.85771075592,149580.9006929501,106213.24586885088,131733.22779888412,109111.23294819752,105454.56184135868,186906.31445574004,155712.45319040606,192461.4906400348,144501.17952198198,70288.57200803996,129489.31366777206,163489.45475840283,75737.23856630013,147681.71151996107,102278.73666990816,128482.68700066238,147877.4937571723,117324.96094832131,146119.38502476062,155536.0452881896,166125.46065460853,164509.09139317286,119772.16209214296,88533.49131475516,74261.75156943465,130102.6233260242,153950.00458849146,107248.10974919412,152073.8527317553,202739.80108432844,161822.96522624348,184820.47614516303,130458.20787805704,158053.24153361106,111318.90449308624,109407.15530345432,107080.15934168408,120652.82771803398],\"type\":\"box\"},{\"marker\":{\"color\":\"#457b9d\",\"size\":8},\"mode\":\"markers\",\"name\":\"Actuals\",\"showlegend\":true,\"x\":[\"2024-08-01T00:00:00\",\"2023-07-01T00:00:00\",\"2023-04-01T00:00:00\",\"2023-09-01T00:00:00\",\"2023-03-01T00:00:00\",\"2023-10-01T00:00:00\",\"2023-12-01T00:00:00\",\"2023-08-01T00:00:00\",\"2023-06-01T00:00:00\",\"2023-02-01T00:00:00\",\"2024-01-01T00:00:00\",\"2024-02-01T00:00:00\",\"2024-07-01T00:00:00\",\"2024-04-01T00:00:00\",\"2023-11-01T00:00:00\",\"2024-06-01T00:00:00\",\"2024-03-01T00:00:00\",\"2023-01-01T00:00:00\",\"2023-05-01T00:00:00\",\"2024-05-01T00:00:00\"],\"y\":[173370.457123134,162071.55519256374,99838.51406116813,140729.30844064584,122439.03679157892,151523.86577670075,115494.26762467154,186616.62295196296,143831.89772037225,85035.20179214247,113340.61179034613,108317.83149722092,165327.090656767,115596.74681056407,123046.45431128611,130166.523426768,100264.4079378386,99292.75887089389,115891.54759145631,111719.09364367],\"type\":\"scatter\"}],                        {\"legend\":{\"title\":{\"text\":\"Legend\"}},\"template\":{\"data\":{\"barpolar\":[{\"marker\":{\"line\":{\"color\":\"white\",\"width\":0.5},\"pattern\":{\"fillmode\":\"overlay\",\"size\":10,\"solidity\":0.2}},\"type\":\"barpolar\"}],\"bar\":[{\"error_x\":{\"color\":\"#2a3f5f\"},\"error_y\":{\"color\":\"#2a3f5f\"},\"marker\":{\"line\":{\"color\":\"white\",\"width\":0.5},\"pattern\":{\"fillmode\":\"overlay\",\"size\":10,\"solidity\":0.2}},\"type\":\"bar\"}],\"carpet\":[{\"aaxis\":{\"endlinecolor\":\"#2a3f5f\",\"gridcolor\":\"#C8D4E3\",\"linecolor\":\"#C8D4E3\",\"minorgridcolor\":\"#C8D4E3\",\"startlinecolor\":\"#2a3f5f\"},\"baxis\":{\"endlinecolor\":\"#2a3f5f\",\"gridcolor\":\"#C8D4E3\",\"linecolor\":\"#C8D4E3\",\"minorgridcolor\":\"#C8D4E3\",\"startlinecolor\":\"#2a3f5f\"},\"type\":\"carpet\"}],\"choropleth\":[{\"colorbar\":{\"outlinewidth\":0,\"ticks\":\"\"},\"type\":\"choropleth\"}],\"contourcarpet\":[{\"colorbar\":{\"outlinewidth\":0,\"ticks\":\"\"},\"type\":\"contourcarpet\"}],\"contour\":[{\"colorbar\":{\"outlinewidth\":0,\"ticks\":\"\"},\"colorscale\":[[0.0,\"#0d0887\"],[0.1111111111111111,\"#46039f\"],[0.2222222222222222,\"#7201a8\"],[0.3333333333333333,\"#9c179e\"],[0.4444444444444444,\"#bd3786\"],[0.5555555555555556,\"#d8576b\"],[0.6666666666666666,\"#ed7953\"],[0.7777777777777778,\"#fb9f3a\"],[0.8888888888888888,\"#fdca26\"],[1.0,\"#f0f921\"]],\"type\":\"contour\"}],\"heatmapgl\":[{\"colorbar\":{\"outlinewidth\":0,\"ticks\":\"\"},\"colorscale\":[[0.0,\"#0d0887\"],[0.1111111111111111,\"#46039f\"],[0.2222222222222222,\"#7201a8\"],[0.3333333333333333,\"#9c179e\"],[0.4444444444444444,\"#bd3786\"],[0.5555555555555556,\"#d8576b\"],[0.6666666666666666,\"#ed7953\"],[0.7777777777777778,\"#fb9f3a\"],[0.8888888888888888,\"#fdca26\"],[1.0,\"#f0f921\"]],\"type\":\"heatmapgl\"}],\"heatmap\":[{\"colorbar\":{\"outlinewidth\":0,\"ticks\":\"\"},\"colorscale\":[[0.0,\"#0d0887\"],[0.1111111111111111,\"#46039f\"],[0.2222222222222222,\"#7201a8\"],[0.3333333333333333,\"#9c179e\"],[0.4444444444444444,\"#bd3786\"],[0.5555555555555556,\"#d8576b\"],[0.6666666666666666,\"#ed7953\"],[0.7777777777777778,\"#fb9f3a\"],[0.8888888888888888,\"#fdca26\"],[1.0,\"#f0f921\"]],\"type\":\"heatmap\"}],\"histogram2dcontour\":[{\"colorbar\":{\"outlinewidth\":0,\"ticks\":\"\"},\"colorscale\":[[0.0,\"#0d0887\"],[0.1111111111111111,\"#46039f\"],[0.2222222222222222,\"#7201a8\"],[0.3333333333333333,\"#9c179e\"],[0.4444444444444444,\"#bd3786\"],[0.5555555555555556,\"#d8576b\"],[0.6666666666666666,\"#ed7953\"],[0.7777777777777778,\"#fb9f3a\"],[0.8888888888888888,\"#fdca26\"],[1.0,\"#f0f921\"]],\"type\":\"histogram2dcontour\"}],\"histogram2d\":[{\"colorbar\":{\"outlinewidth\":0,\"ticks\":\"\"},\"colorscale\":[[0.0,\"#0d0887\"],[0.1111111111111111,\"#46039f\"],[0.2222222222222222,\"#7201a8\"],[0.3333333333333333,\"#9c179e\"],[0.4444444444444444,\"#bd3786\"],[0.5555555555555556,\"#d8576b\"],[0.6666666666666666,\"#ed7953\"],[0.7777777777777778,\"#fb9f3a\"],[0.8888888888888888,\"#fdca26\"],[1.0,\"#f0f921\"]],\"type\":\"histogram2d\"}],\"histogram\":[{\"marker\":{\"pattern\":{\"fillmode\":\"overlay\",\"size\":10,\"solidity\":0.2}},\"type\":\"histogram\"}],\"mesh3d\":[{\"colorbar\":{\"outlinewidth\":0,\"ticks\":\"\"},\"type\":\"mesh3d\"}],\"parcoords\":[{\"line\":{\"colorbar\":{\"outlinewidth\":0,\"ticks\":\"\"}},\"type\":\"parcoords\"}],\"pie\":[{\"automargin\":true,\"type\":\"pie\"}],\"scatter3d\":[{\"line\":{\"colorbar\":{\"outlinewidth\":0,\"ticks\":\"\"}},\"marker\":{\"colorbar\":{\"outlinewidth\":0,\"ticks\":\"\"}},\"type\":\"scatter3d\"}],\"scattercarpet\":[{\"marker\":{\"colorbar\":{\"outlinewidth\":0,\"ticks\":\"\"}},\"type\":\"scattercarpet\"}],\"scattergeo\":[{\"marker\":{\"colorbar\":{\"outlinewidth\":0,\"ticks\":\"\"}},\"type\":\"scattergeo\"}],\"scattergl\":[{\"marker\":{\"colorbar\":{\"outlinewidth\":0,\"ticks\":\"\"}},\"type\":\"scattergl\"}],\"scattermapbox\":[{\"marker\":{\"colorbar\":{\"outlinewidth\":0,\"ticks\":\"\"}},\"type\":\"scattermapbox\"}],\"scatterpolargl\":[{\"marker\":{\"colorbar\":{\"outlinewidth\":0,\"ticks\":\"\"}},\"type\":\"scatterpolargl\"}],\"scatterpolar\":[{\"marker\":{\"colorbar\":{\"outlinewidth\":0,\"ticks\":\"\"}},\"type\":\"scatterpolar\"}],\"scatter\":[{\"fillpattern\":{\"fillmode\":\"overlay\",\"size\":10,\"solidity\":0.2},\"type\":\"scatter\"}],\"scatterternary\":[{\"marker\":{\"colorbar\":{\"outlinewidth\":0,\"ticks\":\"\"}},\"type\":\"scatterternary\"}],\"surface\":[{\"colorbar\":{\"outlinewidth\":0,\"ticks\":\"\"},\"colorscale\":[[0.0,\"#0d0887\"],[0.1111111111111111,\"#46039f\"],[0.2222222222222222,\"#7201a8\"],[0.3333333333333333,\"#9c179e\"],[0.4444444444444444,\"#bd3786\"],[0.5555555555555556,\"#d8576b\"],[0.6666666666666666,\"#ed7953\"],[0.7777777777777778,\"#fb9f3a\"],[0.8888888888888888,\"#fdca26\"],[1.0,\"#f0f921\"]],\"type\":\"surface\"}],\"table\":[{\"cells\":{\"fill\":{\"color\":\"#EBF0F8\"},\"line\":{\"color\":\"white\"}},\"header\":{\"fill\":{\"color\":\"#C8D4E3\"},\"line\":{\"color\":\"white\"}},\"type\":\"table\"}]},\"layout\":{\"annotationdefaults\":{\"arrowcolor\":\"#2a3f5f\",\"arrowhead\":0,\"arrowwidth\":1},\"autotypenumbers\":\"strict\",\"coloraxis\":{\"colorbar\":{\"outlinewidth\":0,\"ticks\":\"\"}},\"colorscale\":{\"diverging\":[[0,\"#8e0152\"],[0.1,\"#c51b7d\"],[0.2,\"#de77ae\"],[0.3,\"#f1b6da\"],[0.4,\"#fde0ef\"],[0.5,\"#f7f7f7\"],[0.6,\"#e6f5d0\"],[0.7,\"#b8e186\"],[0.8,\"#7fbc41\"],[0.9,\"#4d9221\"],[1,\"#276419\"]],\"sequential\":[[0.0,\"#0d0887\"],[0.1111111111111111,\"#46039f\"],[0.2222222222222222,\"#7201a8\"],[0.3333333333333333,\"#9c179e\"],[0.4444444444444444,\"#bd3786\"],[0.5555555555555556,\"#d8576b\"],[0.6666666666666666,\"#ed7953\"],[0.7777777777777778,\"#fb9f3a\"],[0.8888888888888888,\"#fdca26\"],[1.0,\"#f0f921\"]],\"sequentialminus\":[[0.0,\"#0d0887\"],[0.1111111111111111,\"#46039f\"],[0.2222222222222222,\"#7201a8\"],[0.3333333333333333,\"#9c179e\"],[0.4444444444444444,\"#bd3786\"],[0.5555555555555556,\"#d8576b\"],[0.6666666666666666,\"#ed7953\"],[0.7777777777777778,\"#fb9f3a\"],[0.8888888888888888,\"#fdca26\"],[1.0,\"#f0f921\"]]},\"colorway\":[\"#636efa\",\"#EF553B\",\"#00cc96\",\"#ab63fa\",\"#FFA15A\",\"#19d3f3\",\"#FF6692\",\"#B6E880\",\"#FF97FF\",\"#FECB52\"],\"font\":{\"color\":\"#2a3f5f\"},\"geo\":{\"bgcolor\":\"white\",\"lakecolor\":\"white\",\"landcolor\":\"white\",\"showlakes\":true,\"showland\":true,\"subunitcolor\":\"#C8D4E3\"},\"hoverlabel\":{\"align\":\"left\"},\"hovermode\":\"closest\",\"mapbox\":{\"style\":\"light\"},\"paper_bgcolor\":\"white\",\"plot_bgcolor\":\"white\",\"polar\":{\"angularaxis\":{\"gridcolor\":\"#EBF0F8\",\"linecolor\":\"#EBF0F8\",\"ticks\":\"\"},\"bgcolor\":\"white\",\"radialaxis\":{\"gridcolor\":\"#EBF0F8\",\"linecolor\":\"#EBF0F8\",\"ticks\":\"\"}},\"scene\":{\"xaxis\":{\"backgroundcolor\":\"white\",\"gridcolor\":\"#DFE8F3\",\"gridwidth\":2,\"linecolor\":\"#EBF0F8\",\"showbackground\":true,\"ticks\":\"\",\"zerolinecolor\":\"#EBF0F8\"},\"yaxis\":{\"backgroundcolor\":\"white\",\"gridcolor\":\"#DFE8F3\",\"gridwidth\":2,\"linecolor\":\"#EBF0F8\",\"showbackground\":true,\"ticks\":\"\",\"zerolinecolor\":\"#EBF0F8\"},\"zaxis\":{\"backgroundcolor\":\"white\",\"gridcolor\":\"#DFE8F3\",\"gridwidth\":2,\"linecolor\":\"#EBF0F8\",\"showbackground\":true,\"ticks\":\"\",\"zerolinecolor\":\"#EBF0F8\"}},\"shapedefaults\":{\"line\":{\"color\":\"#2a3f5f\"}},\"ternary\":{\"aaxis\":{\"gridcolor\":\"#DFE8F3\",\"linecolor\":\"#A2B1C6\",\"ticks\":\"\"},\"baxis\":{\"gridcolor\":\"#DFE8F3\",\"linecolor\":\"#A2B1C6\",\"ticks\":\"\"},\"bgcolor\":\"white\",\"caxis\":{\"gridcolor\":\"#DFE8F3\",\"linecolor\":\"#A2B1C6\",\"ticks\":\"\"}},\"title\":{\"x\":0.05},\"xaxis\":{\"automargin\":true,\"gridcolor\":\"#EBF0F8\",\"linecolor\":\"#EBF0F8\",\"ticks\":\"\",\"title\":{\"standoff\":15},\"zerolinecolor\":\"#EBF0F8\",\"zerolinewidth\":2},\"yaxis\":{\"automargin\":true,\"gridcolor\":\"#EBF0F8\",\"linecolor\":\"#EBF0F8\",\"ticks\":\"\",\"title\":{\"standoff\":15},\"zerolinecolor\":\"#EBF0F8\",\"zerolinewidth\":2}}},\"title\":{\"text\":\"Boxplot Forecast vs Actuals for Pepsi Regular (L3)\"},\"xaxis\":{\"title\":{\"text\":\"Date\"}},\"yaxis\":{\"title\":{\"text\":\"Sales\"},\"range\":[0,373021.6713852955]}},                        {\"responsive\": true}                    ).then(function(){\n",
              "                            \n",
              "var gd = document.getElementById('c0f93921-fecb-45e5-8ee8-7fef277da28b');\n",
              "var x = new MutationObserver(function (mutations, observer) {{\n",
              "        var display = window.getComputedStyle(gd).display;\n",
              "        if (!display || display === 'none') {{\n",
              "            console.log([gd, 'removed!']);\n",
              "            Plotly.purge(gd);\n",
              "            observer.disconnect();\n",
              "        }}\n",
              "}});\n",
              "\n",
              "// Listen for the removal of the full notebook cells\n",
              "var notebookContainer = gd.closest('#notebook-container');\n",
              "if (notebookContainer) {{\n",
              "    x.observe(notebookContainer, {childList: true});\n",
              "}}\n",
              "\n",
              "// Listen for the clearing of the current output cell\n",
              "var outputEl = gd.closest('.output');\n",
              "if (outputEl) {{\n",
              "    x.observe(outputEl, {childList: true});\n",
              "}}\n",
              "\n",
              "                        })                };                            </script>        </div>\n",
              "</body>\n",
              "</html>"
            ]
          },
          "metadata": {}
        },
        {
          "output_type": "display_data",
          "data": {
            "text/html": [
              "<html>\n",
              "<head><meta charset=\"utf-8\" /></head>\n",
              "<body>\n",
              "    <div>            <script src=\"https://cdnjs.cloudflare.com/ajax/libs/mathjax/2.7.5/MathJax.js?config=TeX-AMS-MML_SVG\"></script><script type=\"text/javascript\">if (window.MathJax && window.MathJax.Hub && window.MathJax.Hub.Config) {window.MathJax.Hub.Config({SVG: {font: \"STIX-Web\"}});}</script>                <script type=\"text/javascript\">window.PlotlyConfig = {MathJaxConfig: 'local'};</script>\n",
              "        <script charset=\"utf-8\" src=\"https://cdn.plot.ly/plotly-2.35.2.min.js\"></script>                <div id=\"98292e89-8ac2-4f8f-b93c-cc09516f7e57\" class=\"plotly-graph-div\" style=\"height:525px; width:100%;\"></div>            <script type=\"text/javascript\">                                    window.PLOTLYENV=window.PLOTLYENV || {};                                    if (document.getElementById(\"98292e89-8ac2-4f8f-b93c-cc09516f7e57\")) {                    Plotly.newPlot(                        \"98292e89-8ac2-4f8f-b93c-cc09516f7e57\",                        [{\"boxmean\":true,\"marker\":{\"color\":\"#8ecae6\"},\"name\":\"Forecast\",\"showlegend\":true,\"x\":[\"2024-01-01T00:00:00\",\"2023-08-01T00:00:00\",\"2024-01-01T00:00:00\",\"2023-12-01T00:00:00\",\"2024-07-01T00:00:00\",\"2024-04-01T00:00:00\",\"2024-06-01T00:00:00\",\"2023-04-01T00:00:00\",\"2023-05-01T00:00:00\",\"2023-05-01T00:00:00\",\"2024-02-01T00:00:00\",\"2024-02-01T00:00:00\",\"2024-02-01T00:00:00\",\"2024-07-01T00:00:00\",\"2023-12-01T00:00:00\",\"2024-06-01T00:00:00\",\"2024-01-01T00:00:00\",\"2023-09-01T00:00:00\",\"2023-10-01T00:00:00\",\"2024-04-01T00:00:00\",\"2023-06-01T00:00:00\",\"2023-11-01T00:00:00\",\"2023-07-01T00:00:00\",\"2024-07-01T00:00:00\",\"2024-01-01T00:00:00\",\"2023-10-01T00:00:00\",\"2023-07-01T00:00:00\",\"2024-01-01T00:00:00\",\"2023-06-01T00:00:00\",\"2024-04-01T00:00:00\",\"2024-01-01T00:00:00\",\"2024-01-01T00:00:00\",\"2023-04-01T00:00:00\",\"2024-08-01T00:00:00\",\"2023-12-01T00:00:00\",\"2023-07-01T00:00:00\",\"2024-08-01T00:00:00\",\"2023-05-01T00:00:00\",\"2024-06-01T00:00:00\",\"2024-06-01T00:00:00\",\"2024-08-01T00:00:00\",\"2024-04-01T00:00:00\",\"2023-10-01T00:00:00\",\"2023-12-01T00:00:00\",\"2023-12-01T00:00:00\",\"2024-05-01T00:00:00\",\"2024-07-01T00:00:00\",\"2024-06-01T00:00:00\",\"2023-06-01T00:00:00\",\"2024-02-01T00:00:00\",\"2023-06-01T00:00:00\",\"2023-09-01T00:00:00\",\"2024-06-01T00:00:00\",\"2023-08-01T00:00:00\",\"2024-07-01T00:00:00\",\"2024-03-01T00:00:00\",\"2023-10-01T00:00:00\",\"2023-06-01T00:00:00\",\"2024-05-01T00:00:00\",\"2023-11-01T00:00:00\",\"2024-08-01T00:00:00\",\"2023-07-01T00:00:00\",\"2024-05-01T00:00:00\",\"2023-08-01T00:00:00\",\"2023-12-01T00:00:00\",\"2024-04-01T00:00:00\",\"2024-03-01T00:00:00\",\"2024-05-01T00:00:00\",\"2023-11-01T00:00:00\",\"2024-02-01T00:00:00\",\"2024-08-01T00:00:00\",\"2024-08-01T00:00:00\",\"2024-02-01T00:00:00\",\"2024-07-01T00:00:00\",\"2024-03-01T00:00:00\",\"2024-06-01T00:00:00\",\"2023-06-01T00:00:00\",\"2024-01-01T00:00:00\",\"2023-03-01T00:00:00\",\"2023-12-01T00:00:00\",\"2024-04-01T00:00:00\",\"2023-12-01T00:00:00\",\"2023-09-01T00:00:00\",\"2023-09-01T00:00:00\",\"2024-04-01T00:00:00\",\"2023-12-01T00:00:00\",\"2024-06-01T00:00:00\",\"2024-06-01T00:00:00\",\"2024-08-01T00:00:00\",\"2024-08-01T00:00:00\",\"2023-09-01T00:00:00\",\"2024-02-01T00:00:00\",\"2023-10-01T00:00:00\",\"2023-10-01T00:00:00\",\"2023-07-01T00:00:00\",\"2024-04-01T00:00:00\",\"2024-05-01T00:00:00\",\"2023-12-01T00:00:00\",\"2024-01-01T00:00:00\",\"2024-07-01T00:00:00\",\"2023-04-01T00:00:00\",\"2024-01-01T00:00:00\",\"2023-12-01T00:00:00\",\"2023-11-01T00:00:00\",\"2023-04-01T00:00:00\",\"2023-07-01T00:00:00\",\"2024-06-01T00:00:00\",\"2023-11-01T00:00:00\",\"2024-02-01T00:00:00\",\"2023-03-01T00:00:00\",\"2023-07-01T00:00:00\",\"2023-08-01T00:00:00\",\"2023-02-01T00:00:00\",\"2023-11-01T00:00:00\",\"2024-02-01T00:00:00\",\"2024-05-01T00:00:00\",\"2024-05-01T00:00:00\",\"2023-11-01T00:00:00\",\"2023-11-01T00:00:00\",\"2024-02-01T00:00:00\",\"2024-02-01T00:00:00\",\"2024-08-01T00:00:00\",\"2024-04-01T00:00:00\",\"2023-07-01T00:00:00\",\"2024-02-01T00:00:00\",\"2024-05-01T00:00:00\",\"2024-05-01T00:00:00\",\"2024-05-01T00:00:00\",\"2024-03-01T00:00:00\",\"2024-08-01T00:00:00\",\"2023-12-01T00:00:00\",\"2023-12-01T00:00:00\",\"2023-04-01T00:00:00\",\"2023-12-01T00:00:00\",\"2024-05-01T00:00:00\",\"2024-03-01T00:00:00\",\"2024-07-01T00:00:00\",\"2023-12-01T00:00:00\",\"2023-09-01T00:00:00\",\"2024-08-01T00:00:00\",\"2023-10-01T00:00:00\",\"2023-11-01T00:00:00\",\"2024-01-01T00:00:00\",\"2023-11-01T00:00:00\",\"2024-03-01T00:00:00\",\"2024-06-01T00:00:00\",\"2024-04-01T00:00:00\",\"2023-09-01T00:00:00\",\"2024-03-01T00:00:00\",\"2023-06-01T00:00:00\",\"2024-03-01T00:00:00\",\"2023-09-01T00:00:00\",\"2024-07-01T00:00:00\",\"2024-07-01T00:00:00\",\"2023-11-01T00:00:00\",\"2023-10-01T00:00:00\",\"2024-03-01T00:00:00\",\"2023-11-01T00:00:00\",\"2024-02-01T00:00:00\",\"2024-05-01T00:00:00\",\"2023-07-01T00:00:00\",\"2024-06-01T00:00:00\",\"2023-12-01T00:00:00\",\"2023-09-01T00:00:00\",\"2024-07-01T00:00:00\",\"2023-12-01T00:00:00\",\"2024-01-01T00:00:00\",\"2023-06-01T00:00:00\",\"2024-03-01T00:00:00\",\"2024-06-01T00:00:00\",\"2024-06-01T00:00:00\",\"2024-05-01T00:00:00\",\"2023-11-01T00:00:00\",\"2024-03-01T00:00:00\",\"2023-11-01T00:00:00\",\"2024-08-01T00:00:00\",\"2024-01-01T00:00:00\",\"2023-08-01T00:00:00\",\"2023-05-01T00:00:00\",\"2023-09-01T00:00:00\",\"2024-06-01T00:00:00\",\"2024-03-01T00:00:00\",\"2024-04-01T00:00:00\",\"2023-08-01T00:00:00\",\"2024-04-01T00:00:00\",\"2024-05-01T00:00:00\",\"2023-02-01T00:00:00\",\"2024-04-01T00:00:00\",\"2024-01-01T00:00:00\",\"2023-12-01T00:00:00\",\"2024-02-01T00:00:00\",\"2023-11-01T00:00:00\",\"2024-01-01T00:00:00\",\"2024-07-01T00:00:00\",\"2024-08-01T00:00:00\",\"2024-07-01T00:00:00\",\"2024-07-01T00:00:00\",\"2023-11-01T00:00:00\",\"2023-09-01T00:00:00\",\"2023-10-01T00:00:00\",\"2023-10-01T00:00:00\",\"2024-03-01T00:00:00\",\"2024-03-01T00:00:00\",\"2024-07-01T00:00:00\",\"2024-07-01T00:00:00\",\"2024-05-01T00:00:00\",\"2023-11-01T00:00:00\",\"2024-07-01T00:00:00\",\"2024-03-01T00:00:00\",\"2024-03-01T00:00:00\",\"2024-03-01T00:00:00\",\"2023-08-01T00:00:00\",\"2023-11-01T00:00:00\",\"2023-08-01T00:00:00\",\"2024-03-01T00:00:00\",\"2024-06-01T00:00:00\",\"2023-06-01T00:00:00\",\"2024-04-01T00:00:00\",\"2024-04-01T00:00:00\",\"2023-09-01T00:00:00\",\"2024-07-01T00:00:00\",\"2023-05-01T00:00:00\",\"2023-10-01T00:00:00\",\"2023-10-01T00:00:00\",\"2023-08-01T00:00:00\",\"2024-04-01T00:00:00\",\"2023-09-01T00:00:00\",\"2023-09-01T00:00:00\",\"2023-05-01T00:00:00\",\"2024-07-01T00:00:00\",\"2023-10-01T00:00:00\",\"2024-02-01T00:00:00\",\"2023-09-01T00:00:00\",\"2024-05-01T00:00:00\",\"2024-04-01T00:00:00\",\"2024-06-01T00:00:00\",\"2024-05-01T00:00:00\",\"2024-04-01T00:00:00\",\"2024-01-01T00:00:00\",\"2024-05-01T00:00:00\",\"2024-03-01T00:00:00\",\"2024-01-01T00:00:00\",\"2023-07-01T00:00:00\",\"2023-08-01T00:00:00\",\"2024-07-01T00:00:00\",\"2024-04-01T00:00:00\",\"2023-10-01T00:00:00\",\"2024-03-01T00:00:00\",\"2024-06-01T00:00:00\",\"2023-11-01T00:00:00\",\"2024-01-01T00:00:00\",\"2024-01-01T00:00:00\",\"2024-02-01T00:00:00\",\"2024-08-01T00:00:00\",\"2024-02-01T00:00:00\",\"2023-10-01T00:00:00\",\"2024-06-01T00:00:00\",\"2023-10-01T00:00:00\",\"2023-08-01T00:00:00\",\"2023-12-01T00:00:00\",\"2023-01-01T00:00:00\",\"2023-08-01T00:00:00\",\"2023-10-01T00:00:00\",\"2024-04-01T00:00:00\",\"2024-01-01T00:00:00\",\"2024-03-01T00:00:00\",\"2023-12-01T00:00:00\",\"2023-12-01T00:00:00\",\"2024-08-01T00:00:00\",\"2024-06-01T00:00:00\",\"2024-08-01T00:00:00\",\"2023-05-01T00:00:00\",\"2024-08-01T00:00:00\",\"2023-08-01T00:00:00\",\"2023-07-01T00:00:00\",\"2024-05-01T00:00:00\",\"2024-06-01T00:00:00\",\"2024-02-01T00:00:00\",\"2024-08-01T00:00:00\",\"2024-08-01T00:00:00\",\"2024-02-01T00:00:00\",\"2024-05-01T00:00:00\",\"2024-02-01T00:00:00\",\"2024-05-01T00:00:00\",\"2024-02-01T00:00:00\",\"2023-03-01T00:00:00\",\"2024-04-01T00:00:00\",\"2024-01-01T00:00:00\"],\"y\":[70144.32975342302,89832.64174302659,67393.99935189556,78469.65753519084,86121.87124242412,59780.74520784726,85199.69502940672,55546.758200358,53594.64087455855,83596.12929550445,46792.80592168391,45420.19407952087,56897.89759892516,62675.7399734738,67976.48301549267,88031.92944939567,64085.78726805472,80331.53047267684,76979.63688962717,67919.75570270886,73259.57275578004,78821.58473609787,86679.56310682674,95213.68966906628,61291.24678132994,93859.25492058849,103514.07654637843,65113.304427696334,96170.75513204552,68155.10182682614,62321.185904929735,63896.52411330267,41315.96039735968,86779.56125645342,77311.7325857065,79223.50702788681,96928.76640507556,76829.65740399598,69386.93779273993,88397.80618075823,77116.13662462756,67069.27226336948,81868.41428107892,70868.22863716906,78011.47685748627,60660.11858147588,92203.37788727562,85921.77350210604,74461.3300815756,56253.72916016804,70303.57791726498,78157.03595090231,84257.03351964157,88795.17657261198,65651.74816907741,68244.80178599675,87251.80404690388,73005.90657509486,72348.53640590521,81378.06723555003,101796.01384513402,88427.899988315,93460.17111261329,85873.34280715702,71451.23535017567,66174.1699197618,60605.687252061776,88669.06406410108,77066.24946317486,57124.44627794414,104273.19791388602,101269.60821427625,59192.84781786587,91358.25545434444,56937.31214645082,77461.84566156357,70543.29479090426,62695.03603223026,69172.94114125201,71770.11991741187,70141.18302562715,91155.06966664012,76867.6576849822,77612.34824361361,68228.57996607038,71841.95649490223,72277.17433047594,76722.84437788573,101263.30087057114,99273.66372300716,76299.31926783688,66629.53063177211,76188.85729578286,71950.99466919115,78058.9540326428,68645.15818930473,62545.44331653681,74784.69928006188,48703.56522510624,89961.87197571792,58143.25124141954,71464.0443148074,73320.04348172927,75280.14850276147,41079.710956063216,77732.93608010701,83329.9427890974,71101.53653938205,59794.51512961344,47731.40805292456,86232.20955709719,90531.24326644512,69262.076535612,83220.77501329989,65875.03279280485,65318.3121215813,83823.83516804501,78487.45066933938,77155.3770869937,60988.49843246912,63918.16861257808,100017.93826830309,59702.2673086135,88775.8655531337,33445.83582454365,92363.24754826642,93259.82002281866,95688.25905103688,66561.29923173082,76543.70749048935,71921.75930034103,76974.29344904075,67408.97363077698,70251.90763961902,91452.15101119052,70569.85272301767,66501.30768510532,54705.34854766614,83235.6615163625,86311.25771103658,74857.07609649669,70501.20973530026,73959.5218174962,59821.31794956567,61297.94664185104,62352.60524267984,70235.38099695194,76629.68465507428,73531.70428773575,72168.81332379529,73195.8144377591,75949.48242468061,77858.0182411904,91599.73332059344,71958.19845629354,88669.03524768616,60307.45901253829,65776.4782871556,58898.500606176254,76937.45941804448,67398.02491724907,86191.86534888194,74426.06067148237,67858.26688872931,79490.15467278149,78334.70498792647,63089.962900526654,75648.81803606759,64298.589996252325,85399.18644731975,80265.57956620239,71142.03618047928,79902.35522673873,70524.44234031209,70139.24447431363,105046.65006076609,64255.89147433209,100796.70483030748,56123.0406998788,84174.4935380331,80456.99790470261,39060.90766277054,80183.00044631478,90811.09710396048,56939.07362855324,93983.56050246628,56467.24141128526,63381.525496647846,72005.4057979783,88010.763717182,57277.08128059145,80101.64642089384,67033.88730185888,102798.97522843508,74056.63581228362,75594.12019496183,86030.15783129084,73307.97197948658,84659.57456880333,75248.62363309786,90579.72594124293,70447.61334626473,37523.63786511506,96794.2917836474,92798.12554886426,93483.03145478992,81391.36822457227,84425.71089992557,67440.40738187026,66176.05134114934,60128.0348445923,93832.09915064946,72479.7688618314,87969.78128858398,74532.67128989103,82926.50227177041,70368.25766356544,65782.85782026516,53762.55619870727,88479.19947094056,87653.53177678258,47612.6961746149,89300.14969697775,89605.34807563738,86081.4223032521,74145.23395391511,86923.14122655959,79941.75094386745,82521.45507498755,88052.32023630045,72590.39312601514,32002.029316789703,72656.36237495983,70158.89822754999,66159.98680295637,85410.77176923194,71955.62193588301,49735.72274864123,66477.71230606889,90084.43239418558,54791.68692239488,69695.19738109274,88279.10832233621,90405.2268308197,92285.07571501809,64625.54721506617,77522.66258996759,55604.322496859175,87740.9477916,72041.31005404837,64544.80851058665,30559.79296126101,60360.49688443216,86091.95656490004,62278.86141997908,93841.57341637148,76783.37472161786,77094.67646738233,93137.61176153323,72290.88798788302,60943.9754538628,88936.5248851084,75604.52468516931,58155.06672084998,67128.01537113427,68971.86627954089,74095.6535620294,48208.69305013722,72017.91406767856,86405.28916932266,101301.8778070962,63296.50985164562,105229.74151706565,89280.29751934951,88856.13109395815,91054.77470277864,95927.52814694303,56878.14586131458,101281.6644551965,98857.12058178397,58140.195237262655,65937.02136328894,59331.81077853861,67800.89004086397,59325.40413753039,55997.315600698144,71576.7585758298,71483.45168379508],\"type\":\"box\"},{\"marker\":{\"color\":\"#457b9d\",\"size\":8},\"mode\":\"markers\",\"name\":\"Actuals\",\"showlegend\":true,\"x\":[\"2023-10-01T00:00:00\",\"2024-01-01T00:00:00\",\"2024-02-01T00:00:00\",\"2024-07-01T00:00:00\",\"2023-05-01T00:00:00\",\"2024-03-01T00:00:00\",\"2023-03-01T00:00:00\",\"2023-12-01T00:00:00\",\"2024-05-01T00:00:00\",\"2024-08-01T00:00:00\",\"2023-08-01T00:00:00\",\"2023-04-01T00:00:00\",\"2023-06-01T00:00:00\",\"2024-04-01T00:00:00\",\"2023-11-01T00:00:00\",\"2024-06-01T00:00:00\",\"2023-02-01T00:00:00\",\"2023-01-01T00:00:00\",\"2023-07-01T00:00:00\",\"2023-09-01T00:00:00\"],\"y\":[83196.89587639924,60318.99423122441,59482.85058485907,94034.761505568,64424.03987398998,62914.44527414004,64655.47145032158,63811.6805944221,64397.071565943,101061.307263671,105712.72961973328,54815.01624992075,76407.2321369573,70054.79630581953,74531.12053248259,75371.66526949,50344.87118975999,54525.1755862856,92339.32988163334,75888.8082792544],\"type\":\"scatter\"}],                        {\"legend\":{\"title\":{\"text\":\"Legend\"}},\"template\":{\"data\":{\"barpolar\":[{\"marker\":{\"line\":{\"color\":\"white\",\"width\":0.5},\"pattern\":{\"fillmode\":\"overlay\",\"size\":10,\"solidity\":0.2}},\"type\":\"barpolar\"}],\"bar\":[{\"error_x\":{\"color\":\"#2a3f5f\"},\"error_y\":{\"color\":\"#2a3f5f\"},\"marker\":{\"line\":{\"color\":\"white\",\"width\":0.5},\"pattern\":{\"fillmode\":\"overlay\",\"size\":10,\"solidity\":0.2}},\"type\":\"bar\"}],\"carpet\":[{\"aaxis\":{\"endlinecolor\":\"#2a3f5f\",\"gridcolor\":\"#C8D4E3\",\"linecolor\":\"#C8D4E3\",\"minorgridcolor\":\"#C8D4E3\",\"startlinecolor\":\"#2a3f5f\"},\"baxis\":{\"endlinecolor\":\"#2a3f5f\",\"gridcolor\":\"#C8D4E3\",\"linecolor\":\"#C8D4E3\",\"minorgridcolor\":\"#C8D4E3\",\"startlinecolor\":\"#2a3f5f\"},\"type\":\"carpet\"}],\"choropleth\":[{\"colorbar\":{\"outlinewidth\":0,\"ticks\":\"\"},\"type\":\"choropleth\"}],\"contourcarpet\":[{\"colorbar\":{\"outlinewidth\":0,\"ticks\":\"\"},\"type\":\"contourcarpet\"}],\"contour\":[{\"colorbar\":{\"outlinewidth\":0,\"ticks\":\"\"},\"colorscale\":[[0.0,\"#0d0887\"],[0.1111111111111111,\"#46039f\"],[0.2222222222222222,\"#7201a8\"],[0.3333333333333333,\"#9c179e\"],[0.4444444444444444,\"#bd3786\"],[0.5555555555555556,\"#d8576b\"],[0.6666666666666666,\"#ed7953\"],[0.7777777777777778,\"#fb9f3a\"],[0.8888888888888888,\"#fdca26\"],[1.0,\"#f0f921\"]],\"type\":\"contour\"}],\"heatmapgl\":[{\"colorbar\":{\"outlinewidth\":0,\"ticks\":\"\"},\"colorscale\":[[0.0,\"#0d0887\"],[0.1111111111111111,\"#46039f\"],[0.2222222222222222,\"#7201a8\"],[0.3333333333333333,\"#9c179e\"],[0.4444444444444444,\"#bd3786\"],[0.5555555555555556,\"#d8576b\"],[0.6666666666666666,\"#ed7953\"],[0.7777777777777778,\"#fb9f3a\"],[0.8888888888888888,\"#fdca26\"],[1.0,\"#f0f921\"]],\"type\":\"heatmapgl\"}],\"heatmap\":[{\"colorbar\":{\"outlinewidth\":0,\"ticks\":\"\"},\"colorscale\":[[0.0,\"#0d0887\"],[0.1111111111111111,\"#46039f\"],[0.2222222222222222,\"#7201a8\"],[0.3333333333333333,\"#9c179e\"],[0.4444444444444444,\"#bd3786\"],[0.5555555555555556,\"#d8576b\"],[0.6666666666666666,\"#ed7953\"],[0.7777777777777778,\"#fb9f3a\"],[0.8888888888888888,\"#fdca26\"],[1.0,\"#f0f921\"]],\"type\":\"heatmap\"}],\"histogram2dcontour\":[{\"colorbar\":{\"outlinewidth\":0,\"ticks\":\"\"},\"colorscale\":[[0.0,\"#0d0887\"],[0.1111111111111111,\"#46039f\"],[0.2222222222222222,\"#7201a8\"],[0.3333333333333333,\"#9c179e\"],[0.4444444444444444,\"#bd3786\"],[0.5555555555555556,\"#d8576b\"],[0.6666666666666666,\"#ed7953\"],[0.7777777777777778,\"#fb9f3a\"],[0.8888888888888888,\"#fdca26\"],[1.0,\"#f0f921\"]],\"type\":\"histogram2dcontour\"}],\"histogram2d\":[{\"colorbar\":{\"outlinewidth\":0,\"ticks\":\"\"},\"colorscale\":[[0.0,\"#0d0887\"],[0.1111111111111111,\"#46039f\"],[0.2222222222222222,\"#7201a8\"],[0.3333333333333333,\"#9c179e\"],[0.4444444444444444,\"#bd3786\"],[0.5555555555555556,\"#d8576b\"],[0.6666666666666666,\"#ed7953\"],[0.7777777777777778,\"#fb9f3a\"],[0.8888888888888888,\"#fdca26\"],[1.0,\"#f0f921\"]],\"type\":\"histogram2d\"}],\"histogram\":[{\"marker\":{\"pattern\":{\"fillmode\":\"overlay\",\"size\":10,\"solidity\":0.2}},\"type\":\"histogram\"}],\"mesh3d\":[{\"colorbar\":{\"outlinewidth\":0,\"ticks\":\"\"},\"type\":\"mesh3d\"}],\"parcoords\":[{\"line\":{\"colorbar\":{\"outlinewidth\":0,\"ticks\":\"\"}},\"type\":\"parcoords\"}],\"pie\":[{\"automargin\":true,\"type\":\"pie\"}],\"scatter3d\":[{\"line\":{\"colorbar\":{\"outlinewidth\":0,\"ticks\":\"\"}},\"marker\":{\"colorbar\":{\"outlinewidth\":0,\"ticks\":\"\"}},\"type\":\"scatter3d\"}],\"scattercarpet\":[{\"marker\":{\"colorbar\":{\"outlinewidth\":0,\"ticks\":\"\"}},\"type\":\"scattercarpet\"}],\"scattergeo\":[{\"marker\":{\"colorbar\":{\"outlinewidth\":0,\"ticks\":\"\"}},\"type\":\"scattergeo\"}],\"scattergl\":[{\"marker\":{\"colorbar\":{\"outlinewidth\":0,\"ticks\":\"\"}},\"type\":\"scattergl\"}],\"scattermapbox\":[{\"marker\":{\"colorbar\":{\"outlinewidth\":0,\"ticks\":\"\"}},\"type\":\"scattermapbox\"}],\"scatterpolargl\":[{\"marker\":{\"colorbar\":{\"outlinewidth\":0,\"ticks\":\"\"}},\"type\":\"scatterpolargl\"}],\"scatterpolar\":[{\"marker\":{\"colorbar\":{\"outlinewidth\":0,\"ticks\":\"\"}},\"type\":\"scatterpolar\"}],\"scatter\":[{\"fillpattern\":{\"fillmode\":\"overlay\",\"size\":10,\"solidity\":0.2},\"type\":\"scatter\"}],\"scatterternary\":[{\"marker\":{\"colorbar\":{\"outlinewidth\":0,\"ticks\":\"\"}},\"type\":\"scatterternary\"}],\"surface\":[{\"colorbar\":{\"outlinewidth\":0,\"ticks\":\"\"},\"colorscale\":[[0.0,\"#0d0887\"],[0.1111111111111111,\"#46039f\"],[0.2222222222222222,\"#7201a8\"],[0.3333333333333333,\"#9c179e\"],[0.4444444444444444,\"#bd3786\"],[0.5555555555555556,\"#d8576b\"],[0.6666666666666666,\"#ed7953\"],[0.7777777777777778,\"#fb9f3a\"],[0.8888888888888888,\"#fdca26\"],[1.0,\"#f0f921\"]],\"type\":\"surface\"}],\"table\":[{\"cells\":{\"fill\":{\"color\":\"#EBF0F8\"},\"line\":{\"color\":\"white\"}},\"header\":{\"fill\":{\"color\":\"#C8D4E3\"},\"line\":{\"color\":\"white\"}},\"type\":\"table\"}]},\"layout\":{\"annotationdefaults\":{\"arrowcolor\":\"#2a3f5f\",\"arrowhead\":0,\"arrowwidth\":1},\"autotypenumbers\":\"strict\",\"coloraxis\":{\"colorbar\":{\"outlinewidth\":0,\"ticks\":\"\"}},\"colorscale\":{\"diverging\":[[0,\"#8e0152\"],[0.1,\"#c51b7d\"],[0.2,\"#de77ae\"],[0.3,\"#f1b6da\"],[0.4,\"#fde0ef\"],[0.5,\"#f7f7f7\"],[0.6,\"#e6f5d0\"],[0.7,\"#b8e186\"],[0.8,\"#7fbc41\"],[0.9,\"#4d9221\"],[1,\"#276419\"]],\"sequential\":[[0.0,\"#0d0887\"],[0.1111111111111111,\"#46039f\"],[0.2222222222222222,\"#7201a8\"],[0.3333333333333333,\"#9c179e\"],[0.4444444444444444,\"#bd3786\"],[0.5555555555555556,\"#d8576b\"],[0.6666666666666666,\"#ed7953\"],[0.7777777777777778,\"#fb9f3a\"],[0.8888888888888888,\"#fdca26\"],[1.0,\"#f0f921\"]],\"sequentialminus\":[[0.0,\"#0d0887\"],[0.1111111111111111,\"#46039f\"],[0.2222222222222222,\"#7201a8\"],[0.3333333333333333,\"#9c179e\"],[0.4444444444444444,\"#bd3786\"],[0.5555555555555556,\"#d8576b\"],[0.6666666666666666,\"#ed7953\"],[0.7777777777777778,\"#fb9f3a\"],[0.8888888888888888,\"#fdca26\"],[1.0,\"#f0f921\"]]},\"colorway\":[\"#636efa\",\"#EF553B\",\"#00cc96\",\"#ab63fa\",\"#FFA15A\",\"#19d3f3\",\"#FF6692\",\"#B6E880\",\"#FF97FF\",\"#FECB52\"],\"font\":{\"color\":\"#2a3f5f\"},\"geo\":{\"bgcolor\":\"white\",\"lakecolor\":\"white\",\"landcolor\":\"white\",\"showlakes\":true,\"showland\":true,\"subunitcolor\":\"#C8D4E3\"},\"hoverlabel\":{\"align\":\"left\"},\"hovermode\":\"closest\",\"mapbox\":{\"style\":\"light\"},\"paper_bgcolor\":\"white\",\"plot_bgcolor\":\"white\",\"polar\":{\"angularaxis\":{\"gridcolor\":\"#EBF0F8\",\"linecolor\":\"#EBF0F8\",\"ticks\":\"\"},\"bgcolor\":\"white\",\"radialaxis\":{\"gridcolor\":\"#EBF0F8\",\"linecolor\":\"#EBF0F8\",\"ticks\":\"\"}},\"scene\":{\"xaxis\":{\"backgroundcolor\":\"white\",\"gridcolor\":\"#DFE8F3\",\"gridwidth\":2,\"linecolor\":\"#EBF0F8\",\"showbackground\":true,\"ticks\":\"\",\"zerolinecolor\":\"#EBF0F8\"},\"yaxis\":{\"backgroundcolor\":\"white\",\"gridcolor\":\"#DFE8F3\",\"gridwidth\":2,\"linecolor\":\"#EBF0F8\",\"showbackground\":true,\"ticks\":\"\",\"zerolinecolor\":\"#EBF0F8\"},\"zaxis\":{\"backgroundcolor\":\"white\",\"gridcolor\":\"#DFE8F3\",\"gridwidth\":2,\"linecolor\":\"#EBF0F8\",\"showbackground\":true,\"ticks\":\"\",\"zerolinecolor\":\"#EBF0F8\"}},\"shapedefaults\":{\"line\":{\"color\":\"#2a3f5f\"}},\"ternary\":{\"aaxis\":{\"gridcolor\":\"#DFE8F3\",\"linecolor\":\"#A2B1C6\",\"ticks\":\"\"},\"baxis\":{\"gridcolor\":\"#DFE8F3\",\"linecolor\":\"#A2B1C6\",\"ticks\":\"\"},\"bgcolor\":\"white\",\"caxis\":{\"gridcolor\":\"#DFE8F3\",\"linecolor\":\"#A2B1C6\",\"ticks\":\"\"}},\"title\":{\"x\":0.05},\"xaxis\":{\"automargin\":true,\"gridcolor\":\"#EBF0F8\",\"linecolor\":\"#EBF0F8\",\"ticks\":\"\",\"title\":{\"standoff\":15},\"zerolinecolor\":\"#EBF0F8\",\"zerolinewidth\":2},\"yaxis\":{\"automargin\":true,\"gridcolor\":\"#EBF0F8\",\"linecolor\":\"#EBF0F8\",\"ticks\":\"\",\"title\":{\"standoff\":15},\"zerolinecolor\":\"#EBF0F8\",\"zerolinewidth\":2}}},\"title\":{\"text\":\"Boxplot Forecast vs Actuals for 7up Free (L3)\"},\"xaxis\":{\"title\":{\"text\":\"Date\"}},\"yaxis\":{\"title\":{\"text\":\"Sales\"},\"range\":[0,116284.00258170662]}},                        {\"responsive\": true}                    ).then(function(){\n",
              "                            \n",
              "var gd = document.getElementById('98292e89-8ac2-4f8f-b93c-cc09516f7e57');\n",
              "var x = new MutationObserver(function (mutations, observer) {{\n",
              "        var display = window.getComputedStyle(gd).display;\n",
              "        if (!display || display === 'none') {{\n",
              "            console.log([gd, 'removed!']);\n",
              "            Plotly.purge(gd);\n",
              "            observer.disconnect();\n",
              "        }}\n",
              "}});\n",
              "\n",
              "// Listen for the removal of the full notebook cells\n",
              "var notebookContainer = gd.closest('#notebook-container');\n",
              "if (notebookContainer) {{\n",
              "    x.observe(notebookContainer, {childList: true});\n",
              "}}\n",
              "\n",
              "// Listen for the clearing of the current output cell\n",
              "var outputEl = gd.closest('.output');\n",
              "if (outputEl) {{\n",
              "    x.observe(outputEl, {childList: true});\n",
              "}}\n",
              "\n",
              "                        })                };                            </script>        </div>\n",
              "</body>\n",
              "</html>"
            ]
          },
          "metadata": {}
        },
        {
          "output_type": "display_data",
          "data": {
            "text/html": [
              "<html>\n",
              "<head><meta charset=\"utf-8\" /></head>\n",
              "<body>\n",
              "    <div>            <script src=\"https://cdnjs.cloudflare.com/ajax/libs/mathjax/2.7.5/MathJax.js?config=TeX-AMS-MML_SVG\"></script><script type=\"text/javascript\">if (window.MathJax && window.MathJax.Hub && window.MathJax.Hub.Config) {window.MathJax.Hub.Config({SVG: {font: \"STIX-Web\"}});}</script>                <script type=\"text/javascript\">window.PlotlyConfig = {MathJaxConfig: 'local'};</script>\n",
              "        <script charset=\"utf-8\" src=\"https://cdn.plot.ly/plotly-2.35.2.min.js\"></script>                <div id=\"92807b65-cb20-42e3-8749-f0daa88d2124\" class=\"plotly-graph-div\" style=\"height:525px; width:100%;\"></div>            <script type=\"text/javascript\">                                    window.PLOTLYENV=window.PLOTLYENV || {};                                    if (document.getElementById(\"92807b65-cb20-42e3-8749-f0daa88d2124\")) {                    Plotly.newPlot(                        \"92807b65-cb20-42e3-8749-f0daa88d2124\",                        [{\"boxmean\":true,\"marker\":{\"color\":\"#8ecae6\"},\"name\":\"Forecast\",\"showlegend\":true,\"x\":[\"2024-04-01T00:00:00\",\"2024-05-01T00:00:00\",\"2023-09-01T00:00:00\",\"2024-03-01T00:00:00\",\"2024-07-01T00:00:00\",\"2024-02-01T00:00:00\",\"2024-01-01T00:00:00\",\"2023-06-01T00:00:00\",\"2024-02-01T00:00:00\",\"2024-04-01T00:00:00\",\"2023-07-01T00:00:00\",\"2024-01-01T00:00:00\",\"2024-07-01T00:00:00\",\"2023-11-01T00:00:00\",\"2024-08-01T00:00:00\",\"2023-11-01T00:00:00\",\"2023-07-01T00:00:00\",\"2023-09-01T00:00:00\",\"2023-12-01T00:00:00\",\"2023-08-01T00:00:00\",\"2023-07-01T00:00:00\",\"2023-08-01T00:00:00\",\"2024-01-01T00:00:00\",\"2023-06-01T00:00:00\",\"2023-08-01T00:00:00\",\"2023-11-01T00:00:00\",\"2024-07-01T00:00:00\",\"2023-11-01T00:00:00\",\"2023-06-01T00:00:00\",\"2023-05-01T00:00:00\",\"2024-06-01T00:00:00\",\"2024-02-01T00:00:00\",\"2024-02-01T00:00:00\",\"2023-05-01T00:00:00\",\"2023-04-01T00:00:00\",\"2024-08-01T00:00:00\",\"2023-08-01T00:00:00\",\"2024-01-01T00:00:00\",\"2024-04-01T00:00:00\",\"2024-01-01T00:00:00\",\"2023-09-01T00:00:00\",\"2024-05-01T00:00:00\",\"2023-08-01T00:00:00\",\"2023-02-01T00:00:00\",\"2023-07-01T00:00:00\",\"2023-01-01T00:00:00\",\"2023-12-01T00:00:00\",\"2024-01-01T00:00:00\",\"2024-03-01T00:00:00\",\"2024-03-01T00:00:00\",\"2024-02-01T00:00:00\",\"2023-06-01T00:00:00\",\"2023-10-01T00:00:00\",\"2024-06-01T00:00:00\",\"2024-05-01T00:00:00\",\"2024-02-01T00:00:00\",\"2023-10-01T00:00:00\",\"2024-05-01T00:00:00\",\"2023-05-01T00:00:00\",\"2024-01-01T00:00:00\",\"2023-10-01T00:00:00\",\"2024-08-01T00:00:00\",\"2023-10-01T00:00:00\",\"2024-07-01T00:00:00\",\"2024-07-01T00:00:00\",\"2024-04-01T00:00:00\",\"2024-04-01T00:00:00\",\"2024-03-01T00:00:00\",\"2024-05-01T00:00:00\",\"2023-10-01T00:00:00\",\"2023-09-01T00:00:00\",\"2024-03-01T00:00:00\",\"2023-10-01T00:00:00\",\"2024-04-01T00:00:00\",\"2024-05-01T00:00:00\",\"2023-12-01T00:00:00\",\"2024-06-01T00:00:00\",\"2024-04-01T00:00:00\",\"2023-11-01T00:00:00\",\"2024-08-01T00:00:00\",\"2023-03-01T00:00:00\",\"2024-06-01T00:00:00\",\"2024-08-01T00:00:00\",\"2023-06-01T00:00:00\",\"2024-01-01T00:00:00\",\"2024-03-01T00:00:00\",\"2024-02-01T00:00:00\",\"2024-07-01T00:00:00\",\"2023-11-01T00:00:00\",\"2023-12-01T00:00:00\",\"2024-05-01T00:00:00\",\"2023-10-01T00:00:00\",\"2024-02-01T00:00:00\",\"2024-08-01T00:00:00\",\"2024-01-01T00:00:00\",\"2023-10-01T00:00:00\",\"2024-08-01T00:00:00\",\"2024-03-01T00:00:00\",\"2024-06-01T00:00:00\",\"2023-12-01T00:00:00\",\"2023-04-01T00:00:00\",\"2023-08-01T00:00:00\",\"2023-11-01T00:00:00\",\"2023-04-01T00:00:00\",\"2024-06-01T00:00:00\",\"2024-03-01T00:00:00\",\"2024-02-01T00:00:00\",\"2023-07-01T00:00:00\",\"2024-07-01T00:00:00\",\"2024-07-01T00:00:00\",\"2024-07-01T00:00:00\",\"2024-05-01T00:00:00\",\"2024-06-01T00:00:00\",\"2024-05-01T00:00:00\",\"2024-04-01T00:00:00\",\"2024-05-01T00:00:00\",\"2023-08-01T00:00:00\",\"2023-03-01T00:00:00\",\"2023-11-01T00:00:00\",\"2024-08-01T00:00:00\",\"2023-05-01T00:00:00\",\"2023-11-01T00:00:00\",\"2023-05-01T00:00:00\",\"2023-10-01T00:00:00\",\"2023-07-01T00:00:00\",\"2023-03-01T00:00:00\",\"2023-12-01T00:00:00\",\"2024-06-01T00:00:00\",\"2023-12-01T00:00:00\",\"2024-01-01T00:00:00\",\"2024-01-01T00:00:00\",\"2024-03-01T00:00:00\",\"2023-09-01T00:00:00\",\"2023-09-01T00:00:00\",\"2023-12-01T00:00:00\",\"2024-06-01T00:00:00\",\"2023-04-01T00:00:00\",\"2024-02-01T00:00:00\",\"2024-05-01T00:00:00\",\"2024-03-01T00:00:00\",\"2024-07-01T00:00:00\",\"2023-09-01T00:00:00\",\"2024-06-01T00:00:00\",\"2024-04-01T00:00:00\",\"2023-02-01T00:00:00\",\"2023-07-01T00:00:00\",\"2024-02-01T00:00:00\",\"2023-09-01T00:00:00\",\"2023-10-01T00:00:00\",\"2023-12-01T00:00:00\",\"2024-03-01T00:00:00\",\"2024-06-01T00:00:00\",\"2024-01-01T00:00:00\",\"2023-08-01T00:00:00\",\"2024-02-01T00:00:00\",\"2024-04-01T00:00:00\",\"2023-12-01T00:00:00\",\"2023-11-01T00:00:00\",\"2023-06-01T00:00:00\",\"2023-12-01T00:00:00\",\"2024-06-01T00:00:00\",\"2024-08-01T00:00:00\",\"2024-08-01T00:00:00\",\"2024-04-01T00:00:00\",\"2024-03-01T00:00:00\",\"2023-09-01T00:00:00\",\"2024-07-01T00:00:00\",\"2023-12-01T00:00:00\",\"2024-04-01T00:00:00\",\"2024-05-01T00:00:00\",\"2023-11-01T00:00:00\"],\"y\":[38882.92122747848,46147.26811412559,97152.3082271685,53554.87360386692,108945.32711611134,42504.18009647184,50826.66116249256,68621.31677923279,40560.99554854425,49815.605181460254,110233.43973133144,56924.146344995,94195.37994911688,60833.869094251255,107175.92092781451,72751.73083829874,119153.20150157736,91856.22898616915,98946.5096626945,122545.71128125576,122650.3731298861,112043.5487231638,58937.20857476977,83584.52587326315,124304.99553283886,63435.4908168918,96219.49563323832,66107.12670852234,83587.48554147672,69313.60916397133,81207.43284972022,50778.41371645809,57617.07433884984,53748.32180069965,57308.78245021579,108958.62829772718,120782.5974762808,60523.0720800666,61546.829826545785,52865.62775271946,79801.70034068903,52178.3101232894,110108.0889691098,52017.66287621038,108283.13970406455,52156.149274496944,107557.1814449448,55279.92535363238,45365.43814435575,58172.90341287656,59416.40457759978,83350.35781319276,77641.42243320371,58099.95465012265,56124.95584682115,47864.03290054413,73630.60073803787,61571.37178659727,55368.04597707433,65557.54970504565,77791.83167536971,90259.84634657673,89306.57714620311,108580.0853831884,105320.36155754572,53270.03264078815,58750.918297788274,55182.64624931241,53955.8543160377,74501.58277062513,95394.53166857836,69858.44944576219,60299.96101485749,38302.18247599687,67061.2922344097,110375.66296212474,88376.63897656988,50547.21412236516,31428.35934022217,96340.25633923404,68081.91771190088,71978.37827994364,114287.9766575864,77314.00596663717,38711.8916246336,65357.05284874294,53999.13755334691,90529.20271311284,61718.14595255697,93502.00802725642,36566.28566433121,85752.36983794278,43122.34316757595,101054.85020912086,52786.73464939952,84563.81944725316,97622.36779915149,45662.14578192468,82862.50072090428,112708.84100094084,63681.36636582853,91990.38171501992,61262.82405467652,64433.42782662976,64262.22227009748,66053.61523489036,52092.089023831344,96550.85617005374,114475.2899406821,85645.74824430484,99449.57726808835,39008.05305967558,69891.76888848945,44851.14101824394,65196.57586375099,59891.45040040559,101724.84056942674,52204.17106996863,74526.13376089299,97524.45658383786,64118.87406554946,54676.09375489298,68631.88786635315,72189.48031200888,107335.55538137109,63117.73284800981,92460.94135452854,55679.1905719566,87261.24737175005,38339.0054055823,62539.24073442159,63231.97308065834,69354.86016624869,81380.60088270345,110911.99496673937,68815.0559360197,66646.50847605168,39726.93931521021,43488.38386120211,69687.45664624442,95242.3957391952,75029.24744756009,86544.05600981176,50053.13308056402,65063.618869695885,108522.4174158544,58483.77172568203,79032.59566621535,91072.6668867953,86063.78928535203,45801.27604502542,73427.24038021264,58381.864787584775,110897.0290942698,30066.093737320927,67012.53246650503,103051.45979916737,69239.50875178065,93070.37510637032,104033.60676220233,79278.8981339029,110574.72309081478,116137.19821819912,48885.884290248265,71495.10006699641,61430.54221843868,112633.35425463364,93897.032181378,59781.43068905469,65237.02244965362,62128.23667901397],\"type\":\"box\"},{\"marker\":{\"color\":\"#457b9d\",\"size\":8},\"mode\":\"markers\",\"name\":\"Actuals\",\"showlegend\":true,\"x\":[\"2024-04-01T00:00:00\",\"2023-05-01T00:00:00\",\"2023-12-01T00:00:00\",\"2023-08-01T00:00:00\",\"2023-04-01T00:00:00\",\"2024-01-01T00:00:00\",\"2024-02-01T00:00:00\",\"2024-08-01T00:00:00\",\"2024-03-01T00:00:00\",\"2023-03-01T00:00:00\",\"2023-11-01T00:00:00\",\"2024-06-01T00:00:00\",\"2023-01-01T00:00:00\",\"2023-09-01T00:00:00\",\"2023-10-01T00:00:00\",\"2024-05-01T00:00:00\",\"2023-06-01T00:00:00\",\"2023-07-01T00:00:00\",\"2023-02-01T00:00:00\",\"2024-07-01T00:00:00\"],\"y\":[74882.99296245942,82918.33366906652,100807.92233802738,106715.95381781296,73141.16028298099,71405.76048903509,76848.37996555197,96514.247673526,66435.80973984348,94306.65094820118,99913.5795238565,79701.862588321,78971.96959557036,84366.48226666574,92671.3869433897,77568.360654581,91915.88401372284,103384.94030894028,69302.9735194043,95936.841771572],\"type\":\"scatter\"}],                        {\"legend\":{\"title\":{\"text\":\"Legend\"}},\"template\":{\"data\":{\"barpolar\":[{\"marker\":{\"line\":{\"color\":\"white\",\"width\":0.5},\"pattern\":{\"fillmode\":\"overlay\",\"size\":10,\"solidity\":0.2}},\"type\":\"barpolar\"}],\"bar\":[{\"error_x\":{\"color\":\"#2a3f5f\"},\"error_y\":{\"color\":\"#2a3f5f\"},\"marker\":{\"line\":{\"color\":\"white\",\"width\":0.5},\"pattern\":{\"fillmode\":\"overlay\",\"size\":10,\"solidity\":0.2}},\"type\":\"bar\"}],\"carpet\":[{\"aaxis\":{\"endlinecolor\":\"#2a3f5f\",\"gridcolor\":\"#C8D4E3\",\"linecolor\":\"#C8D4E3\",\"minorgridcolor\":\"#C8D4E3\",\"startlinecolor\":\"#2a3f5f\"},\"baxis\":{\"endlinecolor\":\"#2a3f5f\",\"gridcolor\":\"#C8D4E3\",\"linecolor\":\"#C8D4E3\",\"minorgridcolor\":\"#C8D4E3\",\"startlinecolor\":\"#2a3f5f\"},\"type\":\"carpet\"}],\"choropleth\":[{\"colorbar\":{\"outlinewidth\":0,\"ticks\":\"\"},\"type\":\"choropleth\"}],\"contourcarpet\":[{\"colorbar\":{\"outlinewidth\":0,\"ticks\":\"\"},\"type\":\"contourcarpet\"}],\"contour\":[{\"colorbar\":{\"outlinewidth\":0,\"ticks\":\"\"},\"colorscale\":[[0.0,\"#0d0887\"],[0.1111111111111111,\"#46039f\"],[0.2222222222222222,\"#7201a8\"],[0.3333333333333333,\"#9c179e\"],[0.4444444444444444,\"#bd3786\"],[0.5555555555555556,\"#d8576b\"],[0.6666666666666666,\"#ed7953\"],[0.7777777777777778,\"#fb9f3a\"],[0.8888888888888888,\"#fdca26\"],[1.0,\"#f0f921\"]],\"type\":\"contour\"}],\"heatmapgl\":[{\"colorbar\":{\"outlinewidth\":0,\"ticks\":\"\"},\"colorscale\":[[0.0,\"#0d0887\"],[0.1111111111111111,\"#46039f\"],[0.2222222222222222,\"#7201a8\"],[0.3333333333333333,\"#9c179e\"],[0.4444444444444444,\"#bd3786\"],[0.5555555555555556,\"#d8576b\"],[0.6666666666666666,\"#ed7953\"],[0.7777777777777778,\"#fb9f3a\"],[0.8888888888888888,\"#fdca26\"],[1.0,\"#f0f921\"]],\"type\":\"heatmapgl\"}],\"heatmap\":[{\"colorbar\":{\"outlinewidth\":0,\"ticks\":\"\"},\"colorscale\":[[0.0,\"#0d0887\"],[0.1111111111111111,\"#46039f\"],[0.2222222222222222,\"#7201a8\"],[0.3333333333333333,\"#9c179e\"],[0.4444444444444444,\"#bd3786\"],[0.5555555555555556,\"#d8576b\"],[0.6666666666666666,\"#ed7953\"],[0.7777777777777778,\"#fb9f3a\"],[0.8888888888888888,\"#fdca26\"],[1.0,\"#f0f921\"]],\"type\":\"heatmap\"}],\"histogram2dcontour\":[{\"colorbar\":{\"outlinewidth\":0,\"ticks\":\"\"},\"colorscale\":[[0.0,\"#0d0887\"],[0.1111111111111111,\"#46039f\"],[0.2222222222222222,\"#7201a8\"],[0.3333333333333333,\"#9c179e\"],[0.4444444444444444,\"#bd3786\"],[0.5555555555555556,\"#d8576b\"],[0.6666666666666666,\"#ed7953\"],[0.7777777777777778,\"#fb9f3a\"],[0.8888888888888888,\"#fdca26\"],[1.0,\"#f0f921\"]],\"type\":\"histogram2dcontour\"}],\"histogram2d\":[{\"colorbar\":{\"outlinewidth\":0,\"ticks\":\"\"},\"colorscale\":[[0.0,\"#0d0887\"],[0.1111111111111111,\"#46039f\"],[0.2222222222222222,\"#7201a8\"],[0.3333333333333333,\"#9c179e\"],[0.4444444444444444,\"#bd3786\"],[0.5555555555555556,\"#d8576b\"],[0.6666666666666666,\"#ed7953\"],[0.7777777777777778,\"#fb9f3a\"],[0.8888888888888888,\"#fdca26\"],[1.0,\"#f0f921\"]],\"type\":\"histogram2d\"}],\"histogram\":[{\"marker\":{\"pattern\":{\"fillmode\":\"overlay\",\"size\":10,\"solidity\":0.2}},\"type\":\"histogram\"}],\"mesh3d\":[{\"colorbar\":{\"outlinewidth\":0,\"ticks\":\"\"},\"type\":\"mesh3d\"}],\"parcoords\":[{\"line\":{\"colorbar\":{\"outlinewidth\":0,\"ticks\":\"\"}},\"type\":\"parcoords\"}],\"pie\":[{\"automargin\":true,\"type\":\"pie\"}],\"scatter3d\":[{\"line\":{\"colorbar\":{\"outlinewidth\":0,\"ticks\":\"\"}},\"marker\":{\"colorbar\":{\"outlinewidth\":0,\"ticks\":\"\"}},\"type\":\"scatter3d\"}],\"scattercarpet\":[{\"marker\":{\"colorbar\":{\"outlinewidth\":0,\"ticks\":\"\"}},\"type\":\"scattercarpet\"}],\"scattergeo\":[{\"marker\":{\"colorbar\":{\"outlinewidth\":0,\"ticks\":\"\"}},\"type\":\"scattergeo\"}],\"scattergl\":[{\"marker\":{\"colorbar\":{\"outlinewidth\":0,\"ticks\":\"\"}},\"type\":\"scattergl\"}],\"scattermapbox\":[{\"marker\":{\"colorbar\":{\"outlinewidth\":0,\"ticks\":\"\"}},\"type\":\"scattermapbox\"}],\"scatterpolargl\":[{\"marker\":{\"colorbar\":{\"outlinewidth\":0,\"ticks\":\"\"}},\"type\":\"scatterpolargl\"}],\"scatterpolar\":[{\"marker\":{\"colorbar\":{\"outlinewidth\":0,\"ticks\":\"\"}},\"type\":\"scatterpolar\"}],\"scatter\":[{\"fillpattern\":{\"fillmode\":\"overlay\",\"size\":10,\"solidity\":0.2},\"type\":\"scatter\"}],\"scatterternary\":[{\"marker\":{\"colorbar\":{\"outlinewidth\":0,\"ticks\":\"\"}},\"type\":\"scatterternary\"}],\"surface\":[{\"colorbar\":{\"outlinewidth\":0,\"ticks\":\"\"},\"colorscale\":[[0.0,\"#0d0887\"],[0.1111111111111111,\"#46039f\"],[0.2222222222222222,\"#7201a8\"],[0.3333333333333333,\"#9c179e\"],[0.4444444444444444,\"#bd3786\"],[0.5555555555555556,\"#d8576b\"],[0.6666666666666666,\"#ed7953\"],[0.7777777777777778,\"#fb9f3a\"],[0.8888888888888888,\"#fdca26\"],[1.0,\"#f0f921\"]],\"type\":\"surface\"}],\"table\":[{\"cells\":{\"fill\":{\"color\":\"#EBF0F8\"},\"line\":{\"color\":\"white\"}},\"header\":{\"fill\":{\"color\":\"#C8D4E3\"},\"line\":{\"color\":\"white\"}},\"type\":\"table\"}]},\"layout\":{\"annotationdefaults\":{\"arrowcolor\":\"#2a3f5f\",\"arrowhead\":0,\"arrowwidth\":1},\"autotypenumbers\":\"strict\",\"coloraxis\":{\"colorbar\":{\"outlinewidth\":0,\"ticks\":\"\"}},\"colorscale\":{\"diverging\":[[0,\"#8e0152\"],[0.1,\"#c51b7d\"],[0.2,\"#de77ae\"],[0.3,\"#f1b6da\"],[0.4,\"#fde0ef\"],[0.5,\"#f7f7f7\"],[0.6,\"#e6f5d0\"],[0.7,\"#b8e186\"],[0.8,\"#7fbc41\"],[0.9,\"#4d9221\"],[1,\"#276419\"]],\"sequential\":[[0.0,\"#0d0887\"],[0.1111111111111111,\"#46039f\"],[0.2222222222222222,\"#7201a8\"],[0.3333333333333333,\"#9c179e\"],[0.4444444444444444,\"#bd3786\"],[0.5555555555555556,\"#d8576b\"],[0.6666666666666666,\"#ed7953\"],[0.7777777777777778,\"#fb9f3a\"],[0.8888888888888888,\"#fdca26\"],[1.0,\"#f0f921\"]],\"sequentialminus\":[[0.0,\"#0d0887\"],[0.1111111111111111,\"#46039f\"],[0.2222222222222222,\"#7201a8\"],[0.3333333333333333,\"#9c179e\"],[0.4444444444444444,\"#bd3786\"],[0.5555555555555556,\"#d8576b\"],[0.6666666666666666,\"#ed7953\"],[0.7777777777777778,\"#fb9f3a\"],[0.8888888888888888,\"#fdca26\"],[1.0,\"#f0f921\"]]},\"colorway\":[\"#636efa\",\"#EF553B\",\"#00cc96\",\"#ab63fa\",\"#FFA15A\",\"#19d3f3\",\"#FF6692\",\"#B6E880\",\"#FF97FF\",\"#FECB52\"],\"font\":{\"color\":\"#2a3f5f\"},\"geo\":{\"bgcolor\":\"white\",\"lakecolor\":\"white\",\"landcolor\":\"white\",\"showlakes\":true,\"showland\":true,\"subunitcolor\":\"#C8D4E3\"},\"hoverlabel\":{\"align\":\"left\"},\"hovermode\":\"closest\",\"mapbox\":{\"style\":\"light\"},\"paper_bgcolor\":\"white\",\"plot_bgcolor\":\"white\",\"polar\":{\"angularaxis\":{\"gridcolor\":\"#EBF0F8\",\"linecolor\":\"#EBF0F8\",\"ticks\":\"\"},\"bgcolor\":\"white\",\"radialaxis\":{\"gridcolor\":\"#EBF0F8\",\"linecolor\":\"#EBF0F8\",\"ticks\":\"\"}},\"scene\":{\"xaxis\":{\"backgroundcolor\":\"white\",\"gridcolor\":\"#DFE8F3\",\"gridwidth\":2,\"linecolor\":\"#EBF0F8\",\"showbackground\":true,\"ticks\":\"\",\"zerolinecolor\":\"#EBF0F8\"},\"yaxis\":{\"backgroundcolor\":\"white\",\"gridcolor\":\"#DFE8F3\",\"gridwidth\":2,\"linecolor\":\"#EBF0F8\",\"showbackground\":true,\"ticks\":\"\",\"zerolinecolor\":\"#EBF0F8\"},\"zaxis\":{\"backgroundcolor\":\"white\",\"gridcolor\":\"#DFE8F3\",\"gridwidth\":2,\"linecolor\":\"#EBF0F8\",\"showbackground\":true,\"ticks\":\"\",\"zerolinecolor\":\"#EBF0F8\"}},\"shapedefaults\":{\"line\":{\"color\":\"#2a3f5f\"}},\"ternary\":{\"aaxis\":{\"gridcolor\":\"#DFE8F3\",\"linecolor\":\"#A2B1C6\",\"ticks\":\"\"},\"baxis\":{\"gridcolor\":\"#DFE8F3\",\"linecolor\":\"#A2B1C6\",\"ticks\":\"\"},\"bgcolor\":\"white\",\"caxis\":{\"gridcolor\":\"#DFE8F3\",\"linecolor\":\"#A2B1C6\",\"ticks\":\"\"}},\"title\":{\"x\":0.05},\"xaxis\":{\"automargin\":true,\"gridcolor\":\"#EBF0F8\",\"linecolor\":\"#EBF0F8\",\"ticks\":\"\",\"title\":{\"standoff\":15},\"zerolinecolor\":\"#EBF0F8\",\"zerolinewidth\":2},\"yaxis\":{\"automargin\":true,\"gridcolor\":\"#EBF0F8\",\"linecolor\":\"#EBF0F8\",\"ticks\":\"\",\"title\":{\"standoff\":15},\"zerolinecolor\":\"#EBF0F8\",\"zerolinewidth\":2}}},\"title\":{\"text\":\"Boxplot Forecast vs Actuals for 7up (L3)\"},\"xaxis\":{\"title\":{\"text\":\"Date\"}},\"yaxis\":{\"title\":{\"text\":\"Sales\"},\"range\":[0,136735.49508612277]}},                        {\"responsive\": true}                    ).then(function(){\n",
              "                            \n",
              "var gd = document.getElementById('92807b65-cb20-42e3-8749-f0daa88d2124');\n",
              "var x = new MutationObserver(function (mutations, observer) {{\n",
              "        var display = window.getComputedStyle(gd).display;\n",
              "        if (!display || display === 'none') {{\n",
              "            console.log([gd, 'removed!']);\n",
              "            Plotly.purge(gd);\n",
              "            observer.disconnect();\n",
              "        }}\n",
              "}});\n",
              "\n",
              "// Listen for the removal of the full notebook cells\n",
              "var notebookContainer = gd.closest('#notebook-container');\n",
              "if (notebookContainer) {{\n",
              "    x.observe(notebookContainer, {childList: true});\n",
              "}}\n",
              "\n",
              "// Listen for the clearing of the current output cell\n",
              "var outputEl = gd.closest('.output');\n",
              "if (outputEl) {{\n",
              "    x.observe(outputEl, {childList: true});\n",
              "}}\n",
              "\n",
              "                        })                };                            </script>        </div>\n",
              "</body>\n",
              "</html>"
            ]
          },
          "metadata": {}
        },
        {
          "output_type": "display_data",
          "data": {
            "text/html": [
              "<html>\n",
              "<head><meta charset=\"utf-8\" /></head>\n",
              "<body>\n",
              "    <div>            <script src=\"https://cdnjs.cloudflare.com/ajax/libs/mathjax/2.7.5/MathJax.js?config=TeX-AMS-MML_SVG\"></script><script type=\"text/javascript\">if (window.MathJax && window.MathJax.Hub && window.MathJax.Hub.Config) {window.MathJax.Hub.Config({SVG: {font: \"STIX-Web\"}});}</script>                <script type=\"text/javascript\">window.PlotlyConfig = {MathJaxConfig: 'local'};</script>\n",
              "        <script charset=\"utf-8\" src=\"https://cdn.plot.ly/plotly-2.35.2.min.js\"></script>                <div id=\"9f165ab3-afb5-469d-bcd0-61d22d78c483\" class=\"plotly-graph-div\" style=\"height:525px; width:100%;\"></div>            <script type=\"text/javascript\">                                    window.PLOTLYENV=window.PLOTLYENV || {};                                    if (document.getElementById(\"9f165ab3-afb5-469d-bcd0-61d22d78c483\")) {                    Plotly.newPlot(                        \"9f165ab3-afb5-469d-bcd0-61d22d78c483\",                        [{\"boxmean\":true,\"marker\":{\"color\":\"#8ecae6\"},\"name\":\"Forecast\",\"showlegend\":true,\"x\":[\"2024-06-01T00:00:00\",\"2024-05-01T00:00:00\",\"2023-10-01T00:00:00\",\"2024-01-01T00:00:00\",\"2024-06-01T00:00:00\",\"2024-02-01T00:00:00\",\"2023-10-01T00:00:00\",\"2023-12-01T00:00:00\",\"2023-09-01T00:00:00\",\"2024-02-01T00:00:00\",\"2023-02-01T00:00:00\",\"2023-01-01T00:00:00\",\"2023-11-01T00:00:00\",\"2024-04-01T00:00:00\",\"2023-08-01T00:00:00\",\"2023-11-01T00:00:00\",\"2024-06-01T00:00:00\",\"2024-02-01T00:00:00\",\"2023-10-01T00:00:00\",\"2024-08-01T00:00:00\",\"2024-01-01T00:00:00\",\"2024-02-01T00:00:00\",\"2023-11-01T00:00:00\",\"2024-05-01T00:00:00\",\"2023-05-01T00:00:00\",\"2023-09-01T00:00:00\",\"2023-08-01T00:00:00\",\"2024-08-01T00:00:00\",\"2024-04-01T00:00:00\",\"2024-02-01T00:00:00\",\"2023-12-01T00:00:00\",\"2024-06-01T00:00:00\",\"2023-06-01T00:00:00\",\"2023-12-01T00:00:00\",\"2024-05-01T00:00:00\",\"2024-01-01T00:00:00\",\"2023-06-01T00:00:00\",\"2023-03-01T00:00:00\",\"2024-08-01T00:00:00\",\"2024-04-01T00:00:00\",\"2023-08-01T00:00:00\",\"2023-07-01T00:00:00\",\"2024-05-01T00:00:00\",\"2024-07-01T00:00:00\",\"2023-06-01T00:00:00\",\"2023-11-01T00:00:00\",\"2024-08-01T00:00:00\",\"2024-03-01T00:00:00\",\"2023-12-01T00:00:00\",\"2024-01-01T00:00:00\",\"2024-06-01T00:00:00\",\"2023-10-01T00:00:00\",\"2024-03-01T00:00:00\",\"2023-12-01T00:00:00\",\"2024-03-01T00:00:00\",\"2024-01-01T00:00:00\",\"2024-07-01T00:00:00\",\"2023-12-01T00:00:00\",\"2024-05-01T00:00:00\",\"2024-02-01T00:00:00\",\"2023-06-01T00:00:00\",\"2023-11-01T00:00:00\",\"2024-07-01T00:00:00\",\"2023-09-01T00:00:00\",\"2024-07-01T00:00:00\",\"2023-08-01T00:00:00\",\"2023-12-01T00:00:00\",\"2024-02-01T00:00:00\",\"2023-05-01T00:00:00\",\"2023-07-01T00:00:00\",\"2023-10-01T00:00:00\",\"2023-05-01T00:00:00\",\"2024-04-01T00:00:00\",\"2024-04-01T00:00:00\",\"2024-05-01T00:00:00\",\"2023-09-01T00:00:00\",\"2023-04-01T00:00:00\",\"2024-05-01T00:00:00\",\"2024-07-01T00:00:00\",\"2024-03-01T00:00:00\",\"2024-07-01T00:00:00\",\"2023-07-01T00:00:00\",\"2023-07-01T00:00:00\",\"2023-07-01T00:00:00\",\"2023-05-01T00:00:00\",\"2023-06-01T00:00:00\",\"2023-07-01T00:00:00\",\"2024-01-01T00:00:00\",\"2023-08-01T00:00:00\",\"2023-12-01T00:00:00\",\"2024-04-01T00:00:00\",\"2024-08-01T00:00:00\",\"2024-04-01T00:00:00\",\"2024-06-01T00:00:00\",\"2023-09-01T00:00:00\",\"2024-04-01T00:00:00\",\"2023-07-01T00:00:00\",\"2023-09-01T00:00:00\",\"2023-08-01T00:00:00\",\"2024-02-01T00:00:00\",\"2023-12-01T00:00:00\",\"2023-11-01T00:00:00\",\"2024-07-01T00:00:00\",\"2023-08-01T00:00:00\",\"2023-10-01T00:00:00\",\"2023-02-01T00:00:00\",\"2023-11-01T00:00:00\",\"2024-05-01T00:00:00\",\"2024-02-01T00:00:00\",\"2024-03-01T00:00:00\",\"2023-11-01T00:00:00\",\"2023-04-01T00:00:00\",\"2023-10-01T00:00:00\",\"2024-07-01T00:00:00\",\"2023-11-01T00:00:00\",\"2023-06-01T00:00:00\",\"2024-08-01T00:00:00\",\"2024-05-01T00:00:00\",\"2024-03-01T00:00:00\",\"2024-06-01T00:00:00\",\"2024-08-01T00:00:00\",\"2023-03-01T00:00:00\",\"2024-07-01T00:00:00\",\"2024-03-01T00:00:00\",\"2024-03-01T00:00:00\",\"2023-09-01T00:00:00\",\"2023-12-01T00:00:00\",\"2024-03-01T00:00:00\",\"2023-10-01T00:00:00\",\"2024-01-01T00:00:00\",\"2024-05-01T00:00:00\",\"2024-07-01T00:00:00\",\"2024-05-01T00:00:00\",\"2024-08-01T00:00:00\",\"2024-06-01T00:00:00\",\"2024-04-01T00:00:00\",\"2024-06-01T00:00:00\",\"2023-09-01T00:00:00\",\"2024-06-01T00:00:00\",\"2024-08-01T00:00:00\",\"2023-05-01T00:00:00\",\"2023-10-01T00:00:00\",\"2024-01-01T00:00:00\",\"2024-03-01T00:00:00\",\"2024-03-01T00:00:00\",\"2024-04-01T00:00:00\",\"2023-11-01T00:00:00\",\"2023-09-01T00:00:00\",\"2024-04-01T00:00:00\",\"2023-08-01T00:00:00\",\"2023-04-01T00:00:00\",\"2024-07-01T00:00:00\",\"2024-04-01T00:00:00\",\"2024-06-01T00:00:00\",\"2024-01-01T00:00:00\",\"2023-12-01T00:00:00\",\"2024-01-01T00:00:00\",\"2024-08-01T00:00:00\",\"2024-01-01T00:00:00\",\"2024-01-01T00:00:00\",\"2023-03-01T00:00:00\",\"2024-02-01T00:00:00\",\"2024-03-01T00:00:00\",\"2023-12-01T00:00:00\",\"2024-02-01T00:00:00\",\"2023-10-01T00:00:00\",\"2024-02-01T00:00:00\",\"2024-06-01T00:00:00\",\"2024-05-01T00:00:00\",\"2023-11-01T00:00:00\",\"2023-04-01T00:00:00\"],\"y\":[11066.397441724564,12219.846356914872,8139.370207220293,12670.573619694456,14337.826225489138,12471.431288980011,14357.914179158435,11712.649253378948,15480.080567485817,12081.14426852554,7424.886701137902,7967.645287146979,9051.488347195764,12457.30561248784,12861.386328583496,12558.101216117046,10767.819493076526,8747.911368004203,14162.967439592132,18972.068869708768,12171.089746621965,11394.599374385589,14455.462056442284,12195.738232686166,5282.182665200514,8106.324585177008,18899.71332038137,19747.47699322169,6747.18619402832,11952.671343125385,12095.99283472081,14646.651952870832,14267.063465403038,8820.682771698643,8509.405123985476,12124.669695185055,13582.375161569522,4839.238140411764,20062.9306174256,12270.59998751376,18994.22471434793,11357.26927006688,6164.416266668052,18087.52768955873,7623.003113145997,6794.875333922688,20395.74804241368,12176.135291418175,11543.700195138776,12820.182302849373,8425.191222141671,13231.58601148867,11969.069616634535,8734.295811057702,6571.191899152116,12574.94364129255,18342.890012768104,12823.625934896418,6285.063275571119,5904.133814298609,12362.611877307972,6674.631451769315,14631.079115008868,15975.328773324873,19054.84296713983,18452.46394629014,6478.895216557161,11929.374078244628,10282.384893078592,17234.82367360198,13793.294142398114,10396.63448004105,6867.76601513977,9082.075441751316,13817.476885003043,15419.0010963618,11453.649139040996,12353.992944345062,18180.31228685722,11442.551965867986,14790.724676964865,17440.148349263196,17334.006660096144,18420.74665884212,10385.194696355607,7257.161669544209,17239.54343660592,13480.829252089465,20444.544132995936,14138.70705922421,11674.92697470924,17832.1019262213,12800.318763801792,14362.20463616716,16219.08568386197,13078.678756581878,11210.69577396725,15181.959011511844,19862.17230283616,13248.085329643423,10889.014816590914,10396.22582999329,18204.96098398456,12782.355320620778,8259.546901582053,6154.269009941921,12100.101975978328,11671.225482547556,12627.780768206769,12631.878461209237,14476.179437111712,11321.486196460868,14346.288456080558,16861.072509165508,13749.678736527214,14332.207248015417,19912.216226258573,12096.325738565463,8963.504343427154,14120.204332493557,16198.330597188458,7197.631312780142,17845.67543246361,6450.679265832281,12501.514315132405,8349.176041257722,6358.584146612171,12194.132754479631,13831.891528738468,9271.108395110963,12449.6657007053,17312.984442835077,11106.94187364556,16197.454494678072,15042.684757265451,12776.4809260224,14330.564599878297,12155.534624824884,14498.242444274028,18985.510119272,4993.860353504379,16324.51061585654,9481.729039492018,9168.505872543832,11462.951928569611,9704.755668446707,14422.046080232183,14988.878881315606,12932.574130555302,20290.78347729342,7020.384186361782,12144.935852791044,12594.898415108444,14507.627596787264,6767.738847509074,14487.672529659329,11704.779148267997,19772.39597679835,13248.727321247376,6647.360589772469,9243.717389854992,8533.810923952316,12477.94676380233,12402.526634492251,11901.724239762374,12903.852762018098,6024.579259826828,8304.477025446991,9179.760049094522,10514.285230772022,5561.750886352638],\"type\":\"box\"},{\"marker\":{\"color\":\"#457b9d\",\"size\":8},\"mode\":\"markers\",\"name\":\"Actuals\",\"showlegend\":true,\"x\":[\"2024-02-01T00:00:00\",\"2024-07-01T00:00:00\",\"2023-12-01T00:00:00\",\"2024-08-01T00:00:00\",\"2024-05-01T00:00:00\",\"2024-01-01T00:00:00\",\"2024-04-01T00:00:00\",\"2023-05-01T00:00:00\",\"2024-06-01T00:00:00\",\"2023-06-01T00:00:00\",\"2023-03-01T00:00:00\",\"2023-10-01T00:00:00\",\"2023-04-01T00:00:00\",\"2024-03-01T00:00:00\",\"2023-02-01T00:00:00\",\"2023-09-01T00:00:00\",\"2023-08-01T00:00:00\",\"2023-01-01T00:00:00\",\"2023-11-01T00:00:00\",\"2023-07-01T00:00:00\"],\"y\":[8003.513133044036,15308.024486978,8591.425799032075,16677.562291743,8909.258698302,7392.653203701226,9613.097292765917,11759.247227955731,9739.012208266,11845.311399723854,9426.005681457948,10942.085509666931,9617.009842166068,6855.564870062626,10132.837981585457,10634.28934295154,16355.798251764669,9208.97938049918,8034.032890992088,13255.914481677031],\"type\":\"scatter\"}],                        {\"legend\":{\"title\":{\"text\":\"Legend\"}},\"template\":{\"data\":{\"barpolar\":[{\"marker\":{\"line\":{\"color\":\"white\",\"width\":0.5},\"pattern\":{\"fillmode\":\"overlay\",\"size\":10,\"solidity\":0.2}},\"type\":\"barpolar\"}],\"bar\":[{\"error_x\":{\"color\":\"#2a3f5f\"},\"error_y\":{\"color\":\"#2a3f5f\"},\"marker\":{\"line\":{\"color\":\"white\",\"width\":0.5},\"pattern\":{\"fillmode\":\"overlay\",\"size\":10,\"solidity\":0.2}},\"type\":\"bar\"}],\"carpet\":[{\"aaxis\":{\"endlinecolor\":\"#2a3f5f\",\"gridcolor\":\"#C8D4E3\",\"linecolor\":\"#C8D4E3\",\"minorgridcolor\":\"#C8D4E3\",\"startlinecolor\":\"#2a3f5f\"},\"baxis\":{\"endlinecolor\":\"#2a3f5f\",\"gridcolor\":\"#C8D4E3\",\"linecolor\":\"#C8D4E3\",\"minorgridcolor\":\"#C8D4E3\",\"startlinecolor\":\"#2a3f5f\"},\"type\":\"carpet\"}],\"choropleth\":[{\"colorbar\":{\"outlinewidth\":0,\"ticks\":\"\"},\"type\":\"choropleth\"}],\"contourcarpet\":[{\"colorbar\":{\"outlinewidth\":0,\"ticks\":\"\"},\"type\":\"contourcarpet\"}],\"contour\":[{\"colorbar\":{\"outlinewidth\":0,\"ticks\":\"\"},\"colorscale\":[[0.0,\"#0d0887\"],[0.1111111111111111,\"#46039f\"],[0.2222222222222222,\"#7201a8\"],[0.3333333333333333,\"#9c179e\"],[0.4444444444444444,\"#bd3786\"],[0.5555555555555556,\"#d8576b\"],[0.6666666666666666,\"#ed7953\"],[0.7777777777777778,\"#fb9f3a\"],[0.8888888888888888,\"#fdca26\"],[1.0,\"#f0f921\"]],\"type\":\"contour\"}],\"heatmapgl\":[{\"colorbar\":{\"outlinewidth\":0,\"ticks\":\"\"},\"colorscale\":[[0.0,\"#0d0887\"],[0.1111111111111111,\"#46039f\"],[0.2222222222222222,\"#7201a8\"],[0.3333333333333333,\"#9c179e\"],[0.4444444444444444,\"#bd3786\"],[0.5555555555555556,\"#d8576b\"],[0.6666666666666666,\"#ed7953\"],[0.7777777777777778,\"#fb9f3a\"],[0.8888888888888888,\"#fdca26\"],[1.0,\"#f0f921\"]],\"type\":\"heatmapgl\"}],\"heatmap\":[{\"colorbar\":{\"outlinewidth\":0,\"ticks\":\"\"},\"colorscale\":[[0.0,\"#0d0887\"],[0.1111111111111111,\"#46039f\"],[0.2222222222222222,\"#7201a8\"],[0.3333333333333333,\"#9c179e\"],[0.4444444444444444,\"#bd3786\"],[0.5555555555555556,\"#d8576b\"],[0.6666666666666666,\"#ed7953\"],[0.7777777777777778,\"#fb9f3a\"],[0.8888888888888888,\"#fdca26\"],[1.0,\"#f0f921\"]],\"type\":\"heatmap\"}],\"histogram2dcontour\":[{\"colorbar\":{\"outlinewidth\":0,\"ticks\":\"\"},\"colorscale\":[[0.0,\"#0d0887\"],[0.1111111111111111,\"#46039f\"],[0.2222222222222222,\"#7201a8\"],[0.3333333333333333,\"#9c179e\"],[0.4444444444444444,\"#bd3786\"],[0.5555555555555556,\"#d8576b\"],[0.6666666666666666,\"#ed7953\"],[0.7777777777777778,\"#fb9f3a\"],[0.8888888888888888,\"#fdca26\"],[1.0,\"#f0f921\"]],\"type\":\"histogram2dcontour\"}],\"histogram2d\":[{\"colorbar\":{\"outlinewidth\":0,\"ticks\":\"\"},\"colorscale\":[[0.0,\"#0d0887\"],[0.1111111111111111,\"#46039f\"],[0.2222222222222222,\"#7201a8\"],[0.3333333333333333,\"#9c179e\"],[0.4444444444444444,\"#bd3786\"],[0.5555555555555556,\"#d8576b\"],[0.6666666666666666,\"#ed7953\"],[0.7777777777777778,\"#fb9f3a\"],[0.8888888888888888,\"#fdca26\"],[1.0,\"#f0f921\"]],\"type\":\"histogram2d\"}],\"histogram\":[{\"marker\":{\"pattern\":{\"fillmode\":\"overlay\",\"size\":10,\"solidity\":0.2}},\"type\":\"histogram\"}],\"mesh3d\":[{\"colorbar\":{\"outlinewidth\":0,\"ticks\":\"\"},\"type\":\"mesh3d\"}],\"parcoords\":[{\"line\":{\"colorbar\":{\"outlinewidth\":0,\"ticks\":\"\"}},\"type\":\"parcoords\"}],\"pie\":[{\"automargin\":true,\"type\":\"pie\"}],\"scatter3d\":[{\"line\":{\"colorbar\":{\"outlinewidth\":0,\"ticks\":\"\"}},\"marker\":{\"colorbar\":{\"outlinewidth\":0,\"ticks\":\"\"}},\"type\":\"scatter3d\"}],\"scattercarpet\":[{\"marker\":{\"colorbar\":{\"outlinewidth\":0,\"ticks\":\"\"}},\"type\":\"scattercarpet\"}],\"scattergeo\":[{\"marker\":{\"colorbar\":{\"outlinewidth\":0,\"ticks\":\"\"}},\"type\":\"scattergeo\"}],\"scattergl\":[{\"marker\":{\"colorbar\":{\"outlinewidth\":0,\"ticks\":\"\"}},\"type\":\"scattergl\"}],\"scattermapbox\":[{\"marker\":{\"colorbar\":{\"outlinewidth\":0,\"ticks\":\"\"}},\"type\":\"scattermapbox\"}],\"scatterpolargl\":[{\"marker\":{\"colorbar\":{\"outlinewidth\":0,\"ticks\":\"\"}},\"type\":\"scatterpolargl\"}],\"scatterpolar\":[{\"marker\":{\"colorbar\":{\"outlinewidth\":0,\"ticks\":\"\"}},\"type\":\"scatterpolar\"}],\"scatter\":[{\"fillpattern\":{\"fillmode\":\"overlay\",\"size\":10,\"solidity\":0.2},\"type\":\"scatter\"}],\"scatterternary\":[{\"marker\":{\"colorbar\":{\"outlinewidth\":0,\"ticks\":\"\"}},\"type\":\"scatterternary\"}],\"surface\":[{\"colorbar\":{\"outlinewidth\":0,\"ticks\":\"\"},\"colorscale\":[[0.0,\"#0d0887\"],[0.1111111111111111,\"#46039f\"],[0.2222222222222222,\"#7201a8\"],[0.3333333333333333,\"#9c179e\"],[0.4444444444444444,\"#bd3786\"],[0.5555555555555556,\"#d8576b\"],[0.6666666666666666,\"#ed7953\"],[0.7777777777777778,\"#fb9f3a\"],[0.8888888888888888,\"#fdca26\"],[1.0,\"#f0f921\"]],\"type\":\"surface\"}],\"table\":[{\"cells\":{\"fill\":{\"color\":\"#EBF0F8\"},\"line\":{\"color\":\"white\"}},\"header\":{\"fill\":{\"color\":\"#C8D4E3\"},\"line\":{\"color\":\"white\"}},\"type\":\"table\"}]},\"layout\":{\"annotationdefaults\":{\"arrowcolor\":\"#2a3f5f\",\"arrowhead\":0,\"arrowwidth\":1},\"autotypenumbers\":\"strict\",\"coloraxis\":{\"colorbar\":{\"outlinewidth\":0,\"ticks\":\"\"}},\"colorscale\":{\"diverging\":[[0,\"#8e0152\"],[0.1,\"#c51b7d\"],[0.2,\"#de77ae\"],[0.3,\"#f1b6da\"],[0.4,\"#fde0ef\"],[0.5,\"#f7f7f7\"],[0.6,\"#e6f5d0\"],[0.7,\"#b8e186\"],[0.8,\"#7fbc41\"],[0.9,\"#4d9221\"],[1,\"#276419\"]],\"sequential\":[[0.0,\"#0d0887\"],[0.1111111111111111,\"#46039f\"],[0.2222222222222222,\"#7201a8\"],[0.3333333333333333,\"#9c179e\"],[0.4444444444444444,\"#bd3786\"],[0.5555555555555556,\"#d8576b\"],[0.6666666666666666,\"#ed7953\"],[0.7777777777777778,\"#fb9f3a\"],[0.8888888888888888,\"#fdca26\"],[1.0,\"#f0f921\"]],\"sequentialminus\":[[0.0,\"#0d0887\"],[0.1111111111111111,\"#46039f\"],[0.2222222222222222,\"#7201a8\"],[0.3333333333333333,\"#9c179e\"],[0.4444444444444444,\"#bd3786\"],[0.5555555555555556,\"#d8576b\"],[0.6666666666666666,\"#ed7953\"],[0.7777777777777778,\"#fb9f3a\"],[0.8888888888888888,\"#fdca26\"],[1.0,\"#f0f921\"]]},\"colorway\":[\"#636efa\",\"#EF553B\",\"#00cc96\",\"#ab63fa\",\"#FFA15A\",\"#19d3f3\",\"#FF6692\",\"#B6E880\",\"#FF97FF\",\"#FECB52\"],\"font\":{\"color\":\"#2a3f5f\"},\"geo\":{\"bgcolor\":\"white\",\"lakecolor\":\"white\",\"landcolor\":\"white\",\"showlakes\":true,\"showland\":true,\"subunitcolor\":\"#C8D4E3\"},\"hoverlabel\":{\"align\":\"left\"},\"hovermode\":\"closest\",\"mapbox\":{\"style\":\"light\"},\"paper_bgcolor\":\"white\",\"plot_bgcolor\":\"white\",\"polar\":{\"angularaxis\":{\"gridcolor\":\"#EBF0F8\",\"linecolor\":\"#EBF0F8\",\"ticks\":\"\"},\"bgcolor\":\"white\",\"radialaxis\":{\"gridcolor\":\"#EBF0F8\",\"linecolor\":\"#EBF0F8\",\"ticks\":\"\"}},\"scene\":{\"xaxis\":{\"backgroundcolor\":\"white\",\"gridcolor\":\"#DFE8F3\",\"gridwidth\":2,\"linecolor\":\"#EBF0F8\",\"showbackground\":true,\"ticks\":\"\",\"zerolinecolor\":\"#EBF0F8\"},\"yaxis\":{\"backgroundcolor\":\"white\",\"gridcolor\":\"#DFE8F3\",\"gridwidth\":2,\"linecolor\":\"#EBF0F8\",\"showbackground\":true,\"ticks\":\"\",\"zerolinecolor\":\"#EBF0F8\"},\"zaxis\":{\"backgroundcolor\":\"white\",\"gridcolor\":\"#DFE8F3\",\"gridwidth\":2,\"linecolor\":\"#EBF0F8\",\"showbackground\":true,\"ticks\":\"\",\"zerolinecolor\":\"#EBF0F8\"}},\"shapedefaults\":{\"line\":{\"color\":\"#2a3f5f\"}},\"ternary\":{\"aaxis\":{\"gridcolor\":\"#DFE8F3\",\"linecolor\":\"#A2B1C6\",\"ticks\":\"\"},\"baxis\":{\"gridcolor\":\"#DFE8F3\",\"linecolor\":\"#A2B1C6\",\"ticks\":\"\"},\"bgcolor\":\"white\",\"caxis\":{\"gridcolor\":\"#DFE8F3\",\"linecolor\":\"#A2B1C6\",\"ticks\":\"\"}},\"title\":{\"x\":0.05},\"xaxis\":{\"automargin\":true,\"gridcolor\":\"#EBF0F8\",\"linecolor\":\"#EBF0F8\",\"ticks\":\"\",\"title\":{\"standoff\":15},\"zerolinecolor\":\"#EBF0F8\",\"zerolinewidth\":2},\"yaxis\":{\"automargin\":true,\"gridcolor\":\"#EBF0F8\",\"linecolor\":\"#EBF0F8\",\"ticks\":\"\",\"title\":{\"standoff\":15},\"zerolinecolor\":\"#EBF0F8\",\"zerolinewidth\":2}}},\"title\":{\"text\":\"Boxplot Forecast vs Actuals for Lipton (L3)\"},\"xaxis\":{\"title\":{\"text\":\"Date\"}},\"yaxis\":{\"title\":{\"text\":\"Sales\"},\"range\":[0,22488.99854629553]}},                        {\"responsive\": true}                    ).then(function(){\n",
              "                            \n",
              "var gd = document.getElementById('9f165ab3-afb5-469d-bcd0-61d22d78c483');\n",
              "var x = new MutationObserver(function (mutations, observer) {{\n",
              "        var display = window.getComputedStyle(gd).display;\n",
              "        if (!display || display === 'none') {{\n",
              "            console.log([gd, 'removed!']);\n",
              "            Plotly.purge(gd);\n",
              "            observer.disconnect();\n",
              "        }}\n",
              "}});\n",
              "\n",
              "// Listen for the removal of the full notebook cells\n",
              "var notebookContainer = gd.closest('#notebook-container');\n",
              "if (notebookContainer) {{\n",
              "    x.observe(notebookContainer, {childList: true});\n",
              "}}\n",
              "\n",
              "// Listen for the clearing of the current output cell\n",
              "var outputEl = gd.closest('.output');\n",
              "if (outputEl) {{\n",
              "    x.observe(outputEl, {childList: true});\n",
              "}}\n",
              "\n",
              "                        })                };                            </script>        </div>\n",
              "</body>\n",
              "</html>"
            ]
          },
          "metadata": {}
        }
      ]
    },
    {
      "cell_type": "markdown",
      "source": [
        "Se observa que todas las submarcas presentan una dispersión relativamente alta en sus predicciones. Además, mientras que las predicciones para la marca de Pepsi suelen contener el valor final real, la submarca 7up muestra problemas a la hora de aportar predicciones certeras. Cabe destacar que, a pesar de que Pepsi presenta un comportamiento bueno, al tener ventas de valores bastante más altos que el resto de marcas, el rango de precisión aumenta proporcionalmente. Por lo tanto, hallar las ventas reales dentro del rango predefinido por las predicciones resulta más probable.\n",
        "\n",
        "Una vez se ha evaluado el comportamiento global de la totalidad de las predicciones para cada mes, se procede a identificar cuáles de ellas se aproximan más al valor real."
      ],
      "metadata": {
        "id": "h8QEuTV3GOVX"
      }
    },
    {
      "cell_type": "code",
      "source": [
        "\n",
        "for brand in combined_data['SUBBRAND'].unique():\n",
        "    results = []\n",
        "    # Filtrar datos para la marca actual\n",
        "    actuals = actual_spain[actual_spain['SUBBRAND'] == brand]\n",
        "    predictions = forecast_spain[forecast_spain['SUBBRAND'] == brand]\n",
        "    for idx, row in actuals[['DATE', 'AMOUNT']].iterrows():\n",
        "        real_date = row['DATE']\n",
        "        real_value = row['AMOUNT']\n",
        "        # Predicciones que solo se consideren aquellas hechas para real_date\n",
        "        predicciones_validas = predictions[predictions['DATE'] == real_date]\n",
        "\n",
        "        # Calcular el error absoluto entre las predicciones y el valor real\n",
        "        predicciones_validas['ERROR'] = (predicciones_validas['AMOUNT'] - real_value).abs()\n",
        "\n",
        "        # Id de la fila de la tabla de predicciones con el valor más cercano al real\n",
        "        best_prediction = predicciones_validas.loc[predicciones_validas['ERROR'].idxmin()]\n",
        "\n",
        "        # Calcular la diferencia temporal entre la predicción y el dato real\n",
        "        date_diff = (real_date - best_prediction['FORECAST_DATE']).days\n",
        "\n",
        "        results.append({\n",
        "            'REAL_DATE': real_date,\n",
        "            'REAL_VALUE': real_value,\n",
        "            'PREDICTION': best_prediction['AMOUNT'],\n",
        "            'VALUE_DIFF': best_prediction['ERROR'],\n",
        "            'PREDICTION_DATE': best_prediction['FORECAST_DATE'],\n",
        "            'DATE_DIFF_DAYS': date_diff\n",
        "        })\n",
        "\n",
        "    results_df = pd.DataFrame(results)\n",
        "    results_df = results_df.sort_values(by='REAL_DATE', ascending=True)\n",
        "\n",
        "    fig = go.Figure()\n",
        "    fig.add_trace(go.Scatter(x=results_df['REAL_DATE'], y=results_df['REAL_VALUE'],\n",
        "                             mode='lines+markers', name='Actual Values',\n",
        "                             marker=dict(color='#457b9d', size=8),\n",
        "                             text=results_df['REAL_DATE'].dt.strftime('%Y-%m-%d'),  # Formato de fecha para el texto\n",
        "                             hovertemplate='<b>Real Date:</b> %{text}<br><b>Real Value:</b> %{y}<extra></extra>'))\n",
        "\n",
        "    fig.add_trace(go.Scatter(x=results_df['REAL_DATE'], y=results_df['PREDICTION'],\n",
        "                             mode='lines+markers', name='Predictions',\n",
        "                             marker=dict(color='#8ecae6', size=8),\n",
        "                             text=results_df['PREDICTION_DATE'].dt.strftime('%Y-%m-%d'),  # Formato de fecha para el texto\n",
        "                             hovertemplate='<b>Prediction Date:</b> %{text}<br><b>Value:</b> %{y}<extra></extra>'))\n",
        "\n",
        "    # Delimitar cota superior del eje y\n",
        "    y_max = max(results_df['REAL_VALUE'].max(), results_df['PREDICTION'].max()) * 1.1\n",
        "\n",
        "    fig.update_layout(\n",
        "        title=f'Forecast vs Actuals for {brand}',\n",
        "        xaxis=dict(title='Date'),\n",
        "        yaxis=dict(title='Sales'),\n",
        "        template='plotly_white',\n",
        "        showlegend=True\n",
        "    )\n",
        "    fig.update_layout(yaxis_range=[0, y_max])\n",
        "    fig.show()\n",
        "\n",
        "    print(f\"\\nSUBMARCA - {brand}:\\n\", results_df.head(4))\n",
        "    print('\\nLas predicciones óptimas se calcularon en las siguientes fechas: ',\n",
        "          [date.strftime('%Y-%m-%d') for date in results_df['PREDICTION_DATE'].unique()])\n",
        "    print('\\nDistancia Media: {:.2f}'.format(results_df['VALUE_DIFF'].mean()))\n",
        "    print('Desviación Estándar: {:.2f}'.format(results_df['VALUE_DIFF'].std()))"
      ],
      "metadata": {
        "colab": {
          "base_uri": "https://localhost:8080/",
          "height": 1000
        },
        "id": "nmAga2U0KHu0",
        "outputId": "bcb0ac77-59b9-4f25-f3e6-c24067f0c7f4"
      },
      "execution_count": 29,
      "outputs": [
        {
          "output_type": "display_data",
          "data": {
            "text/html": [
              "<html>\n",
              "<head><meta charset=\"utf-8\" /></head>\n",
              "<body>\n",
              "    <div>            <script src=\"https://cdnjs.cloudflare.com/ajax/libs/mathjax/2.7.5/MathJax.js?config=TeX-AMS-MML_SVG\"></script><script type=\"text/javascript\">if (window.MathJax && window.MathJax.Hub && window.MathJax.Hub.Config) {window.MathJax.Hub.Config({SVG: {font: \"STIX-Web\"}});}</script>                <script type=\"text/javascript\">window.PlotlyConfig = {MathJaxConfig: 'local'};</script>\n",
              "        <script charset=\"utf-8\" src=\"https://cdn.plot.ly/plotly-2.35.2.min.js\"></script>                <div id=\"1cbd4dd6-acba-47dd-b61c-993f86612a44\" class=\"plotly-graph-div\" style=\"height:525px; width:100%;\"></div>            <script type=\"text/javascript\">                                    window.PLOTLYENV=window.PLOTLYENV || {};                                    if (document.getElementById(\"1cbd4dd6-acba-47dd-b61c-993f86612a44\")) {                    Plotly.newPlot(                        \"1cbd4dd6-acba-47dd-b61c-993f86612a44\",                        [{\"hovertemplate\":\"\\u003cb\\u003eReal Date:\\u003c\\u002fb\\u003e %{text}\\u003cbr\\u003e\\u003cb\\u003eReal Value:\\u003c\\u002fb\\u003e %{y}\\u003cextra\\u003e\\u003c\\u002fextra\\u003e\",\"marker\":{\"color\":\"#457b9d\",\"size\":8},\"mode\":\"lines+markers\",\"name\":\"Actual Values\",\"text\":[\"2023-01-01\",\"2023-02-01\",\"2023-03-01\",\"2023-04-01\",\"2023-05-01\",\"2023-06-01\",\"2023-07-01\",\"2023-08-01\",\"2023-09-01\",\"2023-10-01\",\"2023-11-01\",\"2023-12-01\",\"2024-01-01\",\"2024-02-01\",\"2024-03-01\",\"2024-04-01\",\"2024-05-01\",\"2024-06-01\",\"2024-07-01\",\"2024-08-01\"],\"x\":[\"2023-01-01T00:00:00\",\"2023-02-01T00:00:00\",\"2023-03-01T00:00:00\",\"2023-04-01T00:00:00\",\"2023-05-01T00:00:00\",\"2023-06-01T00:00:00\",\"2023-07-01T00:00:00\",\"2023-08-01T00:00:00\",\"2023-09-01T00:00:00\",\"2023-10-01T00:00:00\",\"2023-11-01T00:00:00\",\"2023-12-01T00:00:00\",\"2024-01-01T00:00:00\",\"2024-02-01T00:00:00\",\"2024-03-01T00:00:00\",\"2024-04-01T00:00:00\",\"2024-05-01T00:00:00\",\"2024-06-01T00:00:00\",\"2024-07-01T00:00:00\",\"2024-08-01T00:00:00\"],\"y\":[83274.05549724207,80772.49512162477,108883.1082384134,90623.55743784914,85757.98791767348,115198.26101891116,125493.49625476392,148935.01617841818,108423.09226152318,130091.60765395944,112481.01179068074,105442.11223403168,97238.51342749008,100246.4604717935,95639.02841081204,106530.7355251386,94165.227223096,113988.682873909,135627.644361161,150238.709291102],\"type\":\"scatter\"},{\"hovertemplate\":\"\\u003cb\\u003ePrediction Date:\\u003c\\u002fb\\u003e %{text}\\u003cbr\\u003e\\u003cb\\u003eValue:\\u003c\\u002fb\\u003e %{y}\\u003cextra\\u003e\\u003c\\u002fextra\\u003e\",\"marker\":{\"color\":\"#8ecae6\",\"size\":8},\"mode\":\"lines+markers\",\"name\":\"Predictions\",\"text\":[\"2022-12-01\",\"2022-12-01\",\"2022-12-01\",\"2022-12-01\",\"2022-12-01\",\"2022-12-01\",\"2022-12-01\",\"2022-12-01\",\"2022-12-01\",\"2022-12-01\",\"2022-12-01\",\"2022-12-01\",\"2022-12-01\",\"2022-12-01\",\"2022-12-01\",\"2022-12-01\",\"2022-12-01\",\"2022-12-01\",\"2022-12-01\",\"2022-12-01\"],\"x\":[\"2023-01-01T00:00:00\",\"2023-02-01T00:00:00\",\"2023-03-01T00:00:00\",\"2023-04-01T00:00:00\",\"2023-05-01T00:00:00\",\"2023-06-01T00:00:00\",\"2023-07-01T00:00:00\",\"2023-08-01T00:00:00\",\"2023-09-01T00:00:00\",\"2023-10-01T00:00:00\",\"2023-11-01T00:00:00\",\"2023-12-01T00:00:00\",\"2024-01-01T00:00:00\",\"2024-02-01T00:00:00\",\"2024-03-01T00:00:00\",\"2024-04-01T00:00:00\",\"2024-05-01T00:00:00\",\"2024-06-01T00:00:00\",\"2024-07-01T00:00:00\",\"2024-08-01T00:00:00\"],\"y\":[93305.41195705684,83771.57727182,98687.59679329234,89660.96183582816,87380.17930675534,106875.69397735862,124726.11711325213,149687.71189365094,108799.71992396424,129990.5610906636,111714.82095149226,103659.42945827782,96930.70492678652,99979.40251045322,97843.11595686308,106578.56837007524,100215.49195872304,114587.74567208094,134171.51423368423,149125.32865537642],\"type\":\"scatter\"}],                        {\"template\":{\"data\":{\"barpolar\":[{\"marker\":{\"line\":{\"color\":\"white\",\"width\":0.5},\"pattern\":{\"fillmode\":\"overlay\",\"size\":10,\"solidity\":0.2}},\"type\":\"barpolar\"}],\"bar\":[{\"error_x\":{\"color\":\"#2a3f5f\"},\"error_y\":{\"color\":\"#2a3f5f\"},\"marker\":{\"line\":{\"color\":\"white\",\"width\":0.5},\"pattern\":{\"fillmode\":\"overlay\",\"size\":10,\"solidity\":0.2}},\"type\":\"bar\"}],\"carpet\":[{\"aaxis\":{\"endlinecolor\":\"#2a3f5f\",\"gridcolor\":\"#C8D4E3\",\"linecolor\":\"#C8D4E3\",\"minorgridcolor\":\"#C8D4E3\",\"startlinecolor\":\"#2a3f5f\"},\"baxis\":{\"endlinecolor\":\"#2a3f5f\",\"gridcolor\":\"#C8D4E3\",\"linecolor\":\"#C8D4E3\",\"minorgridcolor\":\"#C8D4E3\",\"startlinecolor\":\"#2a3f5f\"},\"type\":\"carpet\"}],\"choropleth\":[{\"colorbar\":{\"outlinewidth\":0,\"ticks\":\"\"},\"type\":\"choropleth\"}],\"contourcarpet\":[{\"colorbar\":{\"outlinewidth\":0,\"ticks\":\"\"},\"type\":\"contourcarpet\"}],\"contour\":[{\"colorbar\":{\"outlinewidth\":0,\"ticks\":\"\"},\"colorscale\":[[0.0,\"#0d0887\"],[0.1111111111111111,\"#46039f\"],[0.2222222222222222,\"#7201a8\"],[0.3333333333333333,\"#9c179e\"],[0.4444444444444444,\"#bd3786\"],[0.5555555555555556,\"#d8576b\"],[0.6666666666666666,\"#ed7953\"],[0.7777777777777778,\"#fb9f3a\"],[0.8888888888888888,\"#fdca26\"],[1.0,\"#f0f921\"]],\"type\":\"contour\"}],\"heatmapgl\":[{\"colorbar\":{\"outlinewidth\":0,\"ticks\":\"\"},\"colorscale\":[[0.0,\"#0d0887\"],[0.1111111111111111,\"#46039f\"],[0.2222222222222222,\"#7201a8\"],[0.3333333333333333,\"#9c179e\"],[0.4444444444444444,\"#bd3786\"],[0.5555555555555556,\"#d8576b\"],[0.6666666666666666,\"#ed7953\"],[0.7777777777777778,\"#fb9f3a\"],[0.8888888888888888,\"#fdca26\"],[1.0,\"#f0f921\"]],\"type\":\"heatmapgl\"}],\"heatmap\":[{\"colorbar\":{\"outlinewidth\":0,\"ticks\":\"\"},\"colorscale\":[[0.0,\"#0d0887\"],[0.1111111111111111,\"#46039f\"],[0.2222222222222222,\"#7201a8\"],[0.3333333333333333,\"#9c179e\"],[0.4444444444444444,\"#bd3786\"],[0.5555555555555556,\"#d8576b\"],[0.6666666666666666,\"#ed7953\"],[0.7777777777777778,\"#fb9f3a\"],[0.8888888888888888,\"#fdca26\"],[1.0,\"#f0f921\"]],\"type\":\"heatmap\"}],\"histogram2dcontour\":[{\"colorbar\":{\"outlinewidth\":0,\"ticks\":\"\"},\"colorscale\":[[0.0,\"#0d0887\"],[0.1111111111111111,\"#46039f\"],[0.2222222222222222,\"#7201a8\"],[0.3333333333333333,\"#9c179e\"],[0.4444444444444444,\"#bd3786\"],[0.5555555555555556,\"#d8576b\"],[0.6666666666666666,\"#ed7953\"],[0.7777777777777778,\"#fb9f3a\"],[0.8888888888888888,\"#fdca26\"],[1.0,\"#f0f921\"]],\"type\":\"histogram2dcontour\"}],\"histogram2d\":[{\"colorbar\":{\"outlinewidth\":0,\"ticks\":\"\"},\"colorscale\":[[0.0,\"#0d0887\"],[0.1111111111111111,\"#46039f\"],[0.2222222222222222,\"#7201a8\"],[0.3333333333333333,\"#9c179e\"],[0.4444444444444444,\"#bd3786\"],[0.5555555555555556,\"#d8576b\"],[0.6666666666666666,\"#ed7953\"],[0.7777777777777778,\"#fb9f3a\"],[0.8888888888888888,\"#fdca26\"],[1.0,\"#f0f921\"]],\"type\":\"histogram2d\"}],\"histogram\":[{\"marker\":{\"pattern\":{\"fillmode\":\"overlay\",\"size\":10,\"solidity\":0.2}},\"type\":\"histogram\"}],\"mesh3d\":[{\"colorbar\":{\"outlinewidth\":0,\"ticks\":\"\"},\"type\":\"mesh3d\"}],\"parcoords\":[{\"line\":{\"colorbar\":{\"outlinewidth\":0,\"ticks\":\"\"}},\"type\":\"parcoords\"}],\"pie\":[{\"automargin\":true,\"type\":\"pie\"}],\"scatter3d\":[{\"line\":{\"colorbar\":{\"outlinewidth\":0,\"ticks\":\"\"}},\"marker\":{\"colorbar\":{\"outlinewidth\":0,\"ticks\":\"\"}},\"type\":\"scatter3d\"}],\"scattercarpet\":[{\"marker\":{\"colorbar\":{\"outlinewidth\":0,\"ticks\":\"\"}},\"type\":\"scattercarpet\"}],\"scattergeo\":[{\"marker\":{\"colorbar\":{\"outlinewidth\":0,\"ticks\":\"\"}},\"type\":\"scattergeo\"}],\"scattergl\":[{\"marker\":{\"colorbar\":{\"outlinewidth\":0,\"ticks\":\"\"}},\"type\":\"scattergl\"}],\"scattermapbox\":[{\"marker\":{\"colorbar\":{\"outlinewidth\":0,\"ticks\":\"\"}},\"type\":\"scattermapbox\"}],\"scatterpolargl\":[{\"marker\":{\"colorbar\":{\"outlinewidth\":0,\"ticks\":\"\"}},\"type\":\"scatterpolargl\"}],\"scatterpolar\":[{\"marker\":{\"colorbar\":{\"outlinewidth\":0,\"ticks\":\"\"}},\"type\":\"scatterpolar\"}],\"scatter\":[{\"fillpattern\":{\"fillmode\":\"overlay\",\"size\":10,\"solidity\":0.2},\"type\":\"scatter\"}],\"scatterternary\":[{\"marker\":{\"colorbar\":{\"outlinewidth\":0,\"ticks\":\"\"}},\"type\":\"scatterternary\"}],\"surface\":[{\"colorbar\":{\"outlinewidth\":0,\"ticks\":\"\"},\"colorscale\":[[0.0,\"#0d0887\"],[0.1111111111111111,\"#46039f\"],[0.2222222222222222,\"#7201a8\"],[0.3333333333333333,\"#9c179e\"],[0.4444444444444444,\"#bd3786\"],[0.5555555555555556,\"#d8576b\"],[0.6666666666666666,\"#ed7953\"],[0.7777777777777778,\"#fb9f3a\"],[0.8888888888888888,\"#fdca26\"],[1.0,\"#f0f921\"]],\"type\":\"surface\"}],\"table\":[{\"cells\":{\"fill\":{\"color\":\"#EBF0F8\"},\"line\":{\"color\":\"white\"}},\"header\":{\"fill\":{\"color\":\"#C8D4E3\"},\"line\":{\"color\":\"white\"}},\"type\":\"table\"}]},\"layout\":{\"annotationdefaults\":{\"arrowcolor\":\"#2a3f5f\",\"arrowhead\":0,\"arrowwidth\":1},\"autotypenumbers\":\"strict\",\"coloraxis\":{\"colorbar\":{\"outlinewidth\":0,\"ticks\":\"\"}},\"colorscale\":{\"diverging\":[[0,\"#8e0152\"],[0.1,\"#c51b7d\"],[0.2,\"#de77ae\"],[0.3,\"#f1b6da\"],[0.4,\"#fde0ef\"],[0.5,\"#f7f7f7\"],[0.6,\"#e6f5d0\"],[0.7,\"#b8e186\"],[0.8,\"#7fbc41\"],[0.9,\"#4d9221\"],[1,\"#276419\"]],\"sequential\":[[0.0,\"#0d0887\"],[0.1111111111111111,\"#46039f\"],[0.2222222222222222,\"#7201a8\"],[0.3333333333333333,\"#9c179e\"],[0.4444444444444444,\"#bd3786\"],[0.5555555555555556,\"#d8576b\"],[0.6666666666666666,\"#ed7953\"],[0.7777777777777778,\"#fb9f3a\"],[0.8888888888888888,\"#fdca26\"],[1.0,\"#f0f921\"]],\"sequentialminus\":[[0.0,\"#0d0887\"],[0.1111111111111111,\"#46039f\"],[0.2222222222222222,\"#7201a8\"],[0.3333333333333333,\"#9c179e\"],[0.4444444444444444,\"#bd3786\"],[0.5555555555555556,\"#d8576b\"],[0.6666666666666666,\"#ed7953\"],[0.7777777777777778,\"#fb9f3a\"],[0.8888888888888888,\"#fdca26\"],[1.0,\"#f0f921\"]]},\"colorway\":[\"#636efa\",\"#EF553B\",\"#00cc96\",\"#ab63fa\",\"#FFA15A\",\"#19d3f3\",\"#FF6692\",\"#B6E880\",\"#FF97FF\",\"#FECB52\"],\"font\":{\"color\":\"#2a3f5f\"},\"geo\":{\"bgcolor\":\"white\",\"lakecolor\":\"white\",\"landcolor\":\"white\",\"showlakes\":true,\"showland\":true,\"subunitcolor\":\"#C8D4E3\"},\"hoverlabel\":{\"align\":\"left\"},\"hovermode\":\"closest\",\"mapbox\":{\"style\":\"light\"},\"paper_bgcolor\":\"white\",\"plot_bgcolor\":\"white\",\"polar\":{\"angularaxis\":{\"gridcolor\":\"#EBF0F8\",\"linecolor\":\"#EBF0F8\",\"ticks\":\"\"},\"bgcolor\":\"white\",\"radialaxis\":{\"gridcolor\":\"#EBF0F8\",\"linecolor\":\"#EBF0F8\",\"ticks\":\"\"}},\"scene\":{\"xaxis\":{\"backgroundcolor\":\"white\",\"gridcolor\":\"#DFE8F3\",\"gridwidth\":2,\"linecolor\":\"#EBF0F8\",\"showbackground\":true,\"ticks\":\"\",\"zerolinecolor\":\"#EBF0F8\"},\"yaxis\":{\"backgroundcolor\":\"white\",\"gridcolor\":\"#DFE8F3\",\"gridwidth\":2,\"linecolor\":\"#EBF0F8\",\"showbackground\":true,\"ticks\":\"\",\"zerolinecolor\":\"#EBF0F8\"},\"zaxis\":{\"backgroundcolor\":\"white\",\"gridcolor\":\"#DFE8F3\",\"gridwidth\":2,\"linecolor\":\"#EBF0F8\",\"showbackground\":true,\"ticks\":\"\",\"zerolinecolor\":\"#EBF0F8\"}},\"shapedefaults\":{\"line\":{\"color\":\"#2a3f5f\"}},\"ternary\":{\"aaxis\":{\"gridcolor\":\"#DFE8F3\",\"linecolor\":\"#A2B1C6\",\"ticks\":\"\"},\"baxis\":{\"gridcolor\":\"#DFE8F3\",\"linecolor\":\"#A2B1C6\",\"ticks\":\"\"},\"bgcolor\":\"white\",\"caxis\":{\"gridcolor\":\"#DFE8F3\",\"linecolor\":\"#A2B1C6\",\"ticks\":\"\"}},\"title\":{\"x\":0.05},\"xaxis\":{\"automargin\":true,\"gridcolor\":\"#EBF0F8\",\"linecolor\":\"#EBF0F8\",\"ticks\":\"\",\"title\":{\"standoff\":15},\"zerolinecolor\":\"#EBF0F8\",\"zerolinewidth\":2},\"yaxis\":{\"automargin\":true,\"gridcolor\":\"#EBF0F8\",\"linecolor\":\"#EBF0F8\",\"ticks\":\"\",\"title\":{\"standoff\":15},\"zerolinecolor\":\"#EBF0F8\",\"zerolinewidth\":2}}},\"title\":{\"text\":\"Forecast vs Actuals for Pepsi Max (L3)\"},\"xaxis\":{\"title\":{\"text\":\"Date\"}},\"yaxis\":{\"title\":{\"text\":\"Sales\"},\"range\":[0,165262.5802202122]},\"showlegend\":true},                        {\"responsive\": true}                    ).then(function(){\n",
              "                            \n",
              "var gd = document.getElementById('1cbd4dd6-acba-47dd-b61c-993f86612a44');\n",
              "var x = new MutationObserver(function (mutations, observer) {{\n",
              "        var display = window.getComputedStyle(gd).display;\n",
              "        if (!display || display === 'none') {{\n",
              "            console.log([gd, 'removed!']);\n",
              "            Plotly.purge(gd);\n",
              "            observer.disconnect();\n",
              "        }}\n",
              "}});\n",
              "\n",
              "// Listen for the removal of the full notebook cells\n",
              "var notebookContainer = gd.closest('#notebook-container');\n",
              "if (notebookContainer) {{\n",
              "    x.observe(notebookContainer, {childList: true});\n",
              "}}\n",
              "\n",
              "// Listen for the clearing of the current output cell\n",
              "var outputEl = gd.closest('.output');\n",
              "if (outputEl) {{\n",
              "    x.observe(outputEl, {childList: true});\n",
              "}}\n",
              "\n",
              "                        })                };                            </script>        </div>\n",
              "</body>\n",
              "</html>"
            ]
          },
          "metadata": {}
        },
        {
          "output_type": "stream",
          "name": "stdout",
          "text": [
            "\n",
            "SUBMARCA - Pepsi Max (L3):\n",
            "     REAL_DATE     REAL_VALUE    PREDICTION    VALUE_DIFF PREDICTION_DATE  \\\n",
            "1  2023-01-01   83274.055497  93305.411957  10031.356460      2022-12-01   \n",
            "19 2023-02-01   80772.495122  83771.577272   2999.082150      2022-12-01   \n",
            "10 2023-03-01  108883.108238  98687.596793  10195.511445      2022-12-01   \n",
            "0  2023-04-01   90623.557438  89660.961836    962.595602      2022-12-01   \n",
            "\n",
            "    DATE_DIFF_DAYS  \n",
            "1               31  \n",
            "19              62  \n",
            "10              90  \n",
            "0              121  \n",
            "\n",
            "Las predicciones óptimas se calcularon en las siguientes fechas:  ['2022-12-01']\n",
            "\n",
            "Distancia Media: 2536.28\n",
            "Desviación Estándar: 3309.98\n"
          ]
        },
        {
          "output_type": "display_data",
          "data": {
            "text/html": [
              "<html>\n",
              "<head><meta charset=\"utf-8\" /></head>\n",
              "<body>\n",
              "    <div>            <script src=\"https://cdnjs.cloudflare.com/ajax/libs/mathjax/2.7.5/MathJax.js?config=TeX-AMS-MML_SVG\"></script><script type=\"text/javascript\">if (window.MathJax && window.MathJax.Hub && window.MathJax.Hub.Config) {window.MathJax.Hub.Config({SVG: {font: \"STIX-Web\"}});}</script>                <script type=\"text/javascript\">window.PlotlyConfig = {MathJaxConfig: 'local'};</script>\n",
              "        <script charset=\"utf-8\" src=\"https://cdn.plot.ly/plotly-2.35.2.min.js\"></script>                <div id=\"a844257a-9a8c-443f-bcb9-7c92361c093b\" class=\"plotly-graph-div\" style=\"height:525px; width:100%;\"></div>            <script type=\"text/javascript\">                                    window.PLOTLYENV=window.PLOTLYENV || {};                                    if (document.getElementById(\"a844257a-9a8c-443f-bcb9-7c92361c093b\")) {                    Plotly.newPlot(                        \"a844257a-9a8c-443f-bcb9-7c92361c093b\",                        [{\"hovertemplate\":\"\\u003cb\\u003eReal Date:\\u003c\\u002fb\\u003e %{text}\\u003cbr\\u003e\\u003cb\\u003eReal Value:\\u003c\\u002fb\\u003e %{y}\\u003cextra\\u003e\\u003c\\u002fextra\\u003e\",\"marker\":{\"color\":\"#457b9d\",\"size\":8},\"mode\":\"lines+markers\",\"name\":\"Actual Values\",\"text\":[\"2023-01-01\",\"2023-02-01\",\"2023-03-01\",\"2023-04-01\",\"2023-05-01\",\"2023-06-01\",\"2023-07-01\",\"2023-08-01\",\"2023-09-01\",\"2023-10-01\",\"2023-11-01\",\"2023-12-01\",\"2024-01-01\",\"2024-02-01\",\"2024-03-01\",\"2024-04-01\",\"2024-05-01\",\"2024-06-01\",\"2024-07-01\",\"2024-08-01\"],\"x\":[\"2023-01-01T00:00:00\",\"2023-02-01T00:00:00\",\"2023-03-01T00:00:00\",\"2023-04-01T00:00:00\",\"2023-05-01T00:00:00\",\"2023-06-01T00:00:00\",\"2023-07-01T00:00:00\",\"2023-08-01T00:00:00\",\"2023-09-01T00:00:00\",\"2023-10-01T00:00:00\",\"2023-11-01T00:00:00\",\"2023-12-01T00:00:00\",\"2024-01-01T00:00:00\",\"2024-02-01T00:00:00\",\"2024-03-01T00:00:00\",\"2024-04-01T00:00:00\",\"2024-05-01T00:00:00\",\"2024-06-01T00:00:00\",\"2024-07-01T00:00:00\",\"2024-08-01T00:00:00\"],\"y\":[99292.75887089389,85035.20179214247,122439.03679157892,99838.51406116813,115891.54759145631,143831.89772037225,162071.55519256374,186616.62295196296,140729.30844064584,151523.86577670075,123046.45431128611,115494.26762467154,113340.61179034613,108317.83149722092,100264.4079378386,115596.74681056407,111719.09364367,130166.523426768,165327.090656767,173370.457123134],\"type\":\"scatter\"},{\"hovertemplate\":\"\\u003cb\\u003ePrediction Date:\\u003c\\u002fb\\u003e %{text}\\u003cbr\\u003e\\u003cb\\u003eValue:\\u003c\\u002fb\\u003e %{y}\\u003cextra\\u003e\\u003c\\u002fextra\\u003e\",\"marker\":{\"color\":\"#8ecae6\",\"size\":8},\"mode\":\"lines+markers\",\"name\":\"Predictions\",\"text\":[\"2022-12-01\",\"2022-12-01\",\"2022-12-01\",\"2022-12-01\",\"2022-12-01\",\"2022-12-01\",\"2022-12-01\",\"2022-12-01\",\"2022-12-01\",\"2022-12-01\",\"2022-12-01\",\"2022-12-01\",\"2022-12-01\",\"2022-12-01\",\"2022-12-01\",\"2022-12-01\",\"2022-12-01\",\"2022-12-01\",\"2022-12-01\",\"2022-12-01\"],\"x\":[\"2023-01-01T00:00:00\",\"2023-02-01T00:00:00\",\"2023-03-01T00:00:00\",\"2023-04-01T00:00:00\",\"2023-05-01T00:00:00\",\"2023-06-01T00:00:00\",\"2023-07-01T00:00:00\",\"2023-08-01T00:00:00\",\"2023-09-01T00:00:00\",\"2023-10-01T00:00:00\",\"2023-11-01T00:00:00\",\"2023-12-01T00:00:00\",\"2024-01-01T00:00:00\",\"2024-02-01T00:00:00\",\"2024-03-01T00:00:00\",\"2024-04-01T00:00:00\",\"2024-05-01T00:00:00\",\"2024-06-01T00:00:00\",\"2024-07-01T00:00:00\",\"2024-08-01T00:00:00\"],\"y\":[108418.89166220822,95476.2233336438,113240.73953562652,98328.5869089742,111318.90449308624,143259.15255492218,157633.50215404504,184381.87047009144,140963.07699815845,151168.05927619006,123180.8490149118,116250.6586927464,114550.23263048255,109414.22970656188,110063.0618831537,115094.67739730212,111804.86426865098,129410.92135273482,166583.61524128684,173701.35175561922],\"type\":\"scatter\"}],                        {\"template\":{\"data\":{\"barpolar\":[{\"marker\":{\"line\":{\"color\":\"white\",\"width\":0.5},\"pattern\":{\"fillmode\":\"overlay\",\"size\":10,\"solidity\":0.2}},\"type\":\"barpolar\"}],\"bar\":[{\"error_x\":{\"color\":\"#2a3f5f\"},\"error_y\":{\"color\":\"#2a3f5f\"},\"marker\":{\"line\":{\"color\":\"white\",\"width\":0.5},\"pattern\":{\"fillmode\":\"overlay\",\"size\":10,\"solidity\":0.2}},\"type\":\"bar\"}],\"carpet\":[{\"aaxis\":{\"endlinecolor\":\"#2a3f5f\",\"gridcolor\":\"#C8D4E3\",\"linecolor\":\"#C8D4E3\",\"minorgridcolor\":\"#C8D4E3\",\"startlinecolor\":\"#2a3f5f\"},\"baxis\":{\"endlinecolor\":\"#2a3f5f\",\"gridcolor\":\"#C8D4E3\",\"linecolor\":\"#C8D4E3\",\"minorgridcolor\":\"#C8D4E3\",\"startlinecolor\":\"#2a3f5f\"},\"type\":\"carpet\"}],\"choropleth\":[{\"colorbar\":{\"outlinewidth\":0,\"ticks\":\"\"},\"type\":\"choropleth\"}],\"contourcarpet\":[{\"colorbar\":{\"outlinewidth\":0,\"ticks\":\"\"},\"type\":\"contourcarpet\"}],\"contour\":[{\"colorbar\":{\"outlinewidth\":0,\"ticks\":\"\"},\"colorscale\":[[0.0,\"#0d0887\"],[0.1111111111111111,\"#46039f\"],[0.2222222222222222,\"#7201a8\"],[0.3333333333333333,\"#9c179e\"],[0.4444444444444444,\"#bd3786\"],[0.5555555555555556,\"#d8576b\"],[0.6666666666666666,\"#ed7953\"],[0.7777777777777778,\"#fb9f3a\"],[0.8888888888888888,\"#fdca26\"],[1.0,\"#f0f921\"]],\"type\":\"contour\"}],\"heatmapgl\":[{\"colorbar\":{\"outlinewidth\":0,\"ticks\":\"\"},\"colorscale\":[[0.0,\"#0d0887\"],[0.1111111111111111,\"#46039f\"],[0.2222222222222222,\"#7201a8\"],[0.3333333333333333,\"#9c179e\"],[0.4444444444444444,\"#bd3786\"],[0.5555555555555556,\"#d8576b\"],[0.6666666666666666,\"#ed7953\"],[0.7777777777777778,\"#fb9f3a\"],[0.8888888888888888,\"#fdca26\"],[1.0,\"#f0f921\"]],\"type\":\"heatmapgl\"}],\"heatmap\":[{\"colorbar\":{\"outlinewidth\":0,\"ticks\":\"\"},\"colorscale\":[[0.0,\"#0d0887\"],[0.1111111111111111,\"#46039f\"],[0.2222222222222222,\"#7201a8\"],[0.3333333333333333,\"#9c179e\"],[0.4444444444444444,\"#bd3786\"],[0.5555555555555556,\"#d8576b\"],[0.6666666666666666,\"#ed7953\"],[0.7777777777777778,\"#fb9f3a\"],[0.8888888888888888,\"#fdca26\"],[1.0,\"#f0f921\"]],\"type\":\"heatmap\"}],\"histogram2dcontour\":[{\"colorbar\":{\"outlinewidth\":0,\"ticks\":\"\"},\"colorscale\":[[0.0,\"#0d0887\"],[0.1111111111111111,\"#46039f\"],[0.2222222222222222,\"#7201a8\"],[0.3333333333333333,\"#9c179e\"],[0.4444444444444444,\"#bd3786\"],[0.5555555555555556,\"#d8576b\"],[0.6666666666666666,\"#ed7953\"],[0.7777777777777778,\"#fb9f3a\"],[0.8888888888888888,\"#fdca26\"],[1.0,\"#f0f921\"]],\"type\":\"histogram2dcontour\"}],\"histogram2d\":[{\"colorbar\":{\"outlinewidth\":0,\"ticks\":\"\"},\"colorscale\":[[0.0,\"#0d0887\"],[0.1111111111111111,\"#46039f\"],[0.2222222222222222,\"#7201a8\"],[0.3333333333333333,\"#9c179e\"],[0.4444444444444444,\"#bd3786\"],[0.5555555555555556,\"#d8576b\"],[0.6666666666666666,\"#ed7953\"],[0.7777777777777778,\"#fb9f3a\"],[0.8888888888888888,\"#fdca26\"],[1.0,\"#f0f921\"]],\"type\":\"histogram2d\"}],\"histogram\":[{\"marker\":{\"pattern\":{\"fillmode\":\"overlay\",\"size\":10,\"solidity\":0.2}},\"type\":\"histogram\"}],\"mesh3d\":[{\"colorbar\":{\"outlinewidth\":0,\"ticks\":\"\"},\"type\":\"mesh3d\"}],\"parcoords\":[{\"line\":{\"colorbar\":{\"outlinewidth\":0,\"ticks\":\"\"}},\"type\":\"parcoords\"}],\"pie\":[{\"automargin\":true,\"type\":\"pie\"}],\"scatter3d\":[{\"line\":{\"colorbar\":{\"outlinewidth\":0,\"ticks\":\"\"}},\"marker\":{\"colorbar\":{\"outlinewidth\":0,\"ticks\":\"\"}},\"type\":\"scatter3d\"}],\"scattercarpet\":[{\"marker\":{\"colorbar\":{\"outlinewidth\":0,\"ticks\":\"\"}},\"type\":\"scattercarpet\"}],\"scattergeo\":[{\"marker\":{\"colorbar\":{\"outlinewidth\":0,\"ticks\":\"\"}},\"type\":\"scattergeo\"}],\"scattergl\":[{\"marker\":{\"colorbar\":{\"outlinewidth\":0,\"ticks\":\"\"}},\"type\":\"scattergl\"}],\"scattermapbox\":[{\"marker\":{\"colorbar\":{\"outlinewidth\":0,\"ticks\":\"\"}},\"type\":\"scattermapbox\"}],\"scatterpolargl\":[{\"marker\":{\"colorbar\":{\"outlinewidth\":0,\"ticks\":\"\"}},\"type\":\"scatterpolargl\"}],\"scatterpolar\":[{\"marker\":{\"colorbar\":{\"outlinewidth\":0,\"ticks\":\"\"}},\"type\":\"scatterpolar\"}],\"scatter\":[{\"fillpattern\":{\"fillmode\":\"overlay\",\"size\":10,\"solidity\":0.2},\"type\":\"scatter\"}],\"scatterternary\":[{\"marker\":{\"colorbar\":{\"outlinewidth\":0,\"ticks\":\"\"}},\"type\":\"scatterternary\"}],\"surface\":[{\"colorbar\":{\"outlinewidth\":0,\"ticks\":\"\"},\"colorscale\":[[0.0,\"#0d0887\"],[0.1111111111111111,\"#46039f\"],[0.2222222222222222,\"#7201a8\"],[0.3333333333333333,\"#9c179e\"],[0.4444444444444444,\"#bd3786\"],[0.5555555555555556,\"#d8576b\"],[0.6666666666666666,\"#ed7953\"],[0.7777777777777778,\"#fb9f3a\"],[0.8888888888888888,\"#fdca26\"],[1.0,\"#f0f921\"]],\"type\":\"surface\"}],\"table\":[{\"cells\":{\"fill\":{\"color\":\"#EBF0F8\"},\"line\":{\"color\":\"white\"}},\"header\":{\"fill\":{\"color\":\"#C8D4E3\"},\"line\":{\"color\":\"white\"}},\"type\":\"table\"}]},\"layout\":{\"annotationdefaults\":{\"arrowcolor\":\"#2a3f5f\",\"arrowhead\":0,\"arrowwidth\":1},\"autotypenumbers\":\"strict\",\"coloraxis\":{\"colorbar\":{\"outlinewidth\":0,\"ticks\":\"\"}},\"colorscale\":{\"diverging\":[[0,\"#8e0152\"],[0.1,\"#c51b7d\"],[0.2,\"#de77ae\"],[0.3,\"#f1b6da\"],[0.4,\"#fde0ef\"],[0.5,\"#f7f7f7\"],[0.6,\"#e6f5d0\"],[0.7,\"#b8e186\"],[0.8,\"#7fbc41\"],[0.9,\"#4d9221\"],[1,\"#276419\"]],\"sequential\":[[0.0,\"#0d0887\"],[0.1111111111111111,\"#46039f\"],[0.2222222222222222,\"#7201a8\"],[0.3333333333333333,\"#9c179e\"],[0.4444444444444444,\"#bd3786\"],[0.5555555555555556,\"#d8576b\"],[0.6666666666666666,\"#ed7953\"],[0.7777777777777778,\"#fb9f3a\"],[0.8888888888888888,\"#fdca26\"],[1.0,\"#f0f921\"]],\"sequentialminus\":[[0.0,\"#0d0887\"],[0.1111111111111111,\"#46039f\"],[0.2222222222222222,\"#7201a8\"],[0.3333333333333333,\"#9c179e\"],[0.4444444444444444,\"#bd3786\"],[0.5555555555555556,\"#d8576b\"],[0.6666666666666666,\"#ed7953\"],[0.7777777777777778,\"#fb9f3a\"],[0.8888888888888888,\"#fdca26\"],[1.0,\"#f0f921\"]]},\"colorway\":[\"#636efa\",\"#EF553B\",\"#00cc96\",\"#ab63fa\",\"#FFA15A\",\"#19d3f3\",\"#FF6692\",\"#B6E880\",\"#FF97FF\",\"#FECB52\"],\"font\":{\"color\":\"#2a3f5f\"},\"geo\":{\"bgcolor\":\"white\",\"lakecolor\":\"white\",\"landcolor\":\"white\",\"showlakes\":true,\"showland\":true,\"subunitcolor\":\"#C8D4E3\"},\"hoverlabel\":{\"align\":\"left\"},\"hovermode\":\"closest\",\"mapbox\":{\"style\":\"light\"},\"paper_bgcolor\":\"white\",\"plot_bgcolor\":\"white\",\"polar\":{\"angularaxis\":{\"gridcolor\":\"#EBF0F8\",\"linecolor\":\"#EBF0F8\",\"ticks\":\"\"},\"bgcolor\":\"white\",\"radialaxis\":{\"gridcolor\":\"#EBF0F8\",\"linecolor\":\"#EBF0F8\",\"ticks\":\"\"}},\"scene\":{\"xaxis\":{\"backgroundcolor\":\"white\",\"gridcolor\":\"#DFE8F3\",\"gridwidth\":2,\"linecolor\":\"#EBF0F8\",\"showbackground\":true,\"ticks\":\"\",\"zerolinecolor\":\"#EBF0F8\"},\"yaxis\":{\"backgroundcolor\":\"white\",\"gridcolor\":\"#DFE8F3\",\"gridwidth\":2,\"linecolor\":\"#EBF0F8\",\"showbackground\":true,\"ticks\":\"\",\"zerolinecolor\":\"#EBF0F8\"},\"zaxis\":{\"backgroundcolor\":\"white\",\"gridcolor\":\"#DFE8F3\",\"gridwidth\":2,\"linecolor\":\"#EBF0F8\",\"showbackground\":true,\"ticks\":\"\",\"zerolinecolor\":\"#EBF0F8\"}},\"shapedefaults\":{\"line\":{\"color\":\"#2a3f5f\"}},\"ternary\":{\"aaxis\":{\"gridcolor\":\"#DFE8F3\",\"linecolor\":\"#A2B1C6\",\"ticks\":\"\"},\"baxis\":{\"gridcolor\":\"#DFE8F3\",\"linecolor\":\"#A2B1C6\",\"ticks\":\"\"},\"bgcolor\":\"white\",\"caxis\":{\"gridcolor\":\"#DFE8F3\",\"linecolor\":\"#A2B1C6\",\"ticks\":\"\"}},\"title\":{\"x\":0.05},\"xaxis\":{\"automargin\":true,\"gridcolor\":\"#EBF0F8\",\"linecolor\":\"#EBF0F8\",\"ticks\":\"\",\"title\":{\"standoff\":15},\"zerolinecolor\":\"#EBF0F8\",\"zerolinewidth\":2},\"yaxis\":{\"automargin\":true,\"gridcolor\":\"#EBF0F8\",\"linecolor\":\"#EBF0F8\",\"ticks\":\"\",\"title\":{\"standoff\":15},\"zerolinecolor\":\"#EBF0F8\",\"zerolinewidth\":2}}},\"title\":{\"text\":\"Forecast vs Actuals for Pepsi Regular (L3)\"},\"xaxis\":{\"title\":{\"text\":\"Date\"}},\"yaxis\":{\"title\":{\"text\":\"Sales\"},\"range\":[0,205278.28524715928]},\"showlegend\":true},                        {\"responsive\": true}                    ).then(function(){\n",
              "                            \n",
              "var gd = document.getElementById('a844257a-9a8c-443f-bcb9-7c92361c093b');\n",
              "var x = new MutationObserver(function (mutations, observer) {{\n",
              "        var display = window.getComputedStyle(gd).display;\n",
              "        if (!display || display === 'none') {{\n",
              "            console.log([gd, 'removed!']);\n",
              "            Plotly.purge(gd);\n",
              "            observer.disconnect();\n",
              "        }}\n",
              "}});\n",
              "\n",
              "// Listen for the removal of the full notebook cells\n",
              "var notebookContainer = gd.closest('#notebook-container');\n",
              "if (notebookContainer) {{\n",
              "    x.observe(notebookContainer, {childList: true});\n",
              "}}\n",
              "\n",
              "// Listen for the clearing of the current output cell\n",
              "var outputEl = gd.closest('.output');\n",
              "if (outputEl) {{\n",
              "    x.observe(outputEl, {childList: true});\n",
              "}}\n",
              "\n",
              "                        })                };                            </script>        </div>\n",
              "</body>\n",
              "</html>"
            ]
          },
          "metadata": {}
        },
        {
          "output_type": "stream",
          "name": "stdout",
          "text": [
            "\n",
            "SUBMARCA - Pepsi Regular (L3):\n",
            "     REAL_DATE     REAL_VALUE     PREDICTION    VALUE_DIFF PREDICTION_DATE  \\\n",
            "17 2023-01-01   99292.758871  108418.891662   9126.132791      2022-12-01   \n",
            "9  2023-02-01   85035.201792   95476.223334  10441.021542      2022-12-01   \n",
            "4  2023-03-01  122439.036792  113240.739536   9198.297256      2022-12-01   \n",
            "2  2023-04-01   99838.514061   98328.586909   1509.927152      2022-12-01   \n",
            "\n",
            "    DATE_DIFF_DAYS  \n",
            "17              31  \n",
            "9               62  \n",
            "4               90  \n",
            "2              121  \n",
            "\n",
            "Las predicciones óptimas se calcularon en las siguientes fechas:  ['2022-12-01']\n",
            "\n",
            "Distancia Media: 2930.47\n",
            "Desviación Estándar: 3665.87\n"
          ]
        },
        {
          "output_type": "display_data",
          "data": {
            "text/html": [
              "<html>\n",
              "<head><meta charset=\"utf-8\" /></head>\n",
              "<body>\n",
              "    <div>            <script src=\"https://cdnjs.cloudflare.com/ajax/libs/mathjax/2.7.5/MathJax.js?config=TeX-AMS-MML_SVG\"></script><script type=\"text/javascript\">if (window.MathJax && window.MathJax.Hub && window.MathJax.Hub.Config) {window.MathJax.Hub.Config({SVG: {font: \"STIX-Web\"}});}</script>                <script type=\"text/javascript\">window.PlotlyConfig = {MathJaxConfig: 'local'};</script>\n",
              "        <script charset=\"utf-8\" src=\"https://cdn.plot.ly/plotly-2.35.2.min.js\"></script>                <div id=\"9527db59-f4f7-43c0-a197-e1cec7ab270e\" class=\"plotly-graph-div\" style=\"height:525px; width:100%;\"></div>            <script type=\"text/javascript\">                                    window.PLOTLYENV=window.PLOTLYENV || {};                                    if (document.getElementById(\"9527db59-f4f7-43c0-a197-e1cec7ab270e\")) {                    Plotly.newPlot(                        \"9527db59-f4f7-43c0-a197-e1cec7ab270e\",                        [{\"hovertemplate\":\"\\u003cb\\u003eReal Date:\\u003c\\u002fb\\u003e %{text}\\u003cbr\\u003e\\u003cb\\u003eReal Value:\\u003c\\u002fb\\u003e %{y}\\u003cextra\\u003e\\u003c\\u002fextra\\u003e\",\"marker\":{\"color\":\"#457b9d\",\"size\":8},\"mode\":\"lines+markers\",\"name\":\"Actual Values\",\"text\":[\"2023-01-01\",\"2023-02-01\",\"2023-03-01\",\"2023-04-01\",\"2023-05-01\",\"2023-06-01\",\"2023-07-01\",\"2023-08-01\",\"2023-09-01\",\"2023-10-01\",\"2023-11-01\",\"2023-12-01\",\"2024-01-01\",\"2024-02-01\",\"2024-03-01\",\"2024-04-01\",\"2024-05-01\",\"2024-06-01\",\"2024-07-01\",\"2024-08-01\"],\"x\":[\"2023-01-01T00:00:00\",\"2023-02-01T00:00:00\",\"2023-03-01T00:00:00\",\"2023-04-01T00:00:00\",\"2023-05-01T00:00:00\",\"2023-06-01T00:00:00\",\"2023-07-01T00:00:00\",\"2023-08-01T00:00:00\",\"2023-09-01T00:00:00\",\"2023-10-01T00:00:00\",\"2023-11-01T00:00:00\",\"2023-12-01T00:00:00\",\"2024-01-01T00:00:00\",\"2024-02-01T00:00:00\",\"2024-03-01T00:00:00\",\"2024-04-01T00:00:00\",\"2024-05-01T00:00:00\",\"2024-06-01T00:00:00\",\"2024-07-01T00:00:00\",\"2024-08-01T00:00:00\"],\"y\":[54525.1755862856,50344.87118975999,64655.47145032158,54815.01624992075,64424.03987398998,76407.2321369573,92339.32988163334,105712.72961973328,75888.8082792544,83196.89587639924,74531.12053248259,63811.6805944221,60318.99423122441,59482.85058485907,62914.44527414004,70054.79630581953,64397.071565943,75371.66526949,94034.761505568,101061.307263671],\"type\":\"scatter\"},{\"hovertemplate\":\"\\u003cb\\u003ePrediction Date:\\u003c\\u002fb\\u003e %{text}\\u003cbr\\u003e\\u003cb\\u003eValue:\\u003c\\u002fb\\u003e %{y}\\u003cextra\\u003e\\u003c\\u002fextra\\u003e\",\"marker\":{\"color\":\"#8ecae6\",\"size\":8},\"mode\":\"lines+markers\",\"name\":\"Predictions\",\"text\":[\"2022-12-01\",\"2022-12-01\",\"2022-12-01\",\"2022-12-01\",\"2022-12-01\",\"2022-12-01\",\"2022-12-01\",\"2022-12-01\",\"2022-12-01\",\"2022-12-01\",\"2022-12-01\",\"2022-12-01\",\"2022-12-01\",\"2022-12-01\",\"2022-12-01\",\"2022-12-01\",\"2022-12-01\",\"2022-12-01\",\"2022-12-01\",\"2022-12-01\"],\"x\":[\"2023-01-01T00:00:00\",\"2023-02-01T00:00:00\",\"2023-03-01T00:00:00\",\"2023-04-01T00:00:00\",\"2023-05-01T00:00:00\",\"2023-06-01T00:00:00\",\"2023-07-01T00:00:00\",\"2023-08-01T00:00:00\",\"2023-09-01T00:00:00\",\"2023-10-01T00:00:00\",\"2023-11-01T00:00:00\",\"2023-12-01T00:00:00\",\"2024-01-01T00:00:00\",\"2024-02-01T00:00:00\",\"2024-03-01T00:00:00\",\"2024-04-01T00:00:00\",\"2024-05-01T00:00:00\",\"2024-06-01T00:00:00\",\"2024-07-01T00:00:00\",\"2024-08-01T00:00:00\"],\"y\":[60943.9754538628,56467.24141128526,69172.94114125201,55546.758200358,63296.50985164562,75648.81803606759,88856.13109395815,100796.70483030748,75949.48242468061,81868.41428107892,75280.14850276147,67976.48301549267,61291.24678132994,59331.81077853861,64298.589996252325,70141.18302562715,65318.3121215813,76722.84437788573,95213.68966906628,101263.30087057114],\"type\":\"scatter\"}],                        {\"template\":{\"data\":{\"barpolar\":[{\"marker\":{\"line\":{\"color\":\"white\",\"width\":0.5},\"pattern\":{\"fillmode\":\"overlay\",\"size\":10,\"solidity\":0.2}},\"type\":\"barpolar\"}],\"bar\":[{\"error_x\":{\"color\":\"#2a3f5f\"},\"error_y\":{\"color\":\"#2a3f5f\"},\"marker\":{\"line\":{\"color\":\"white\",\"width\":0.5},\"pattern\":{\"fillmode\":\"overlay\",\"size\":10,\"solidity\":0.2}},\"type\":\"bar\"}],\"carpet\":[{\"aaxis\":{\"endlinecolor\":\"#2a3f5f\",\"gridcolor\":\"#C8D4E3\",\"linecolor\":\"#C8D4E3\",\"minorgridcolor\":\"#C8D4E3\",\"startlinecolor\":\"#2a3f5f\"},\"baxis\":{\"endlinecolor\":\"#2a3f5f\",\"gridcolor\":\"#C8D4E3\",\"linecolor\":\"#C8D4E3\",\"minorgridcolor\":\"#C8D4E3\",\"startlinecolor\":\"#2a3f5f\"},\"type\":\"carpet\"}],\"choropleth\":[{\"colorbar\":{\"outlinewidth\":0,\"ticks\":\"\"},\"type\":\"choropleth\"}],\"contourcarpet\":[{\"colorbar\":{\"outlinewidth\":0,\"ticks\":\"\"},\"type\":\"contourcarpet\"}],\"contour\":[{\"colorbar\":{\"outlinewidth\":0,\"ticks\":\"\"},\"colorscale\":[[0.0,\"#0d0887\"],[0.1111111111111111,\"#46039f\"],[0.2222222222222222,\"#7201a8\"],[0.3333333333333333,\"#9c179e\"],[0.4444444444444444,\"#bd3786\"],[0.5555555555555556,\"#d8576b\"],[0.6666666666666666,\"#ed7953\"],[0.7777777777777778,\"#fb9f3a\"],[0.8888888888888888,\"#fdca26\"],[1.0,\"#f0f921\"]],\"type\":\"contour\"}],\"heatmapgl\":[{\"colorbar\":{\"outlinewidth\":0,\"ticks\":\"\"},\"colorscale\":[[0.0,\"#0d0887\"],[0.1111111111111111,\"#46039f\"],[0.2222222222222222,\"#7201a8\"],[0.3333333333333333,\"#9c179e\"],[0.4444444444444444,\"#bd3786\"],[0.5555555555555556,\"#d8576b\"],[0.6666666666666666,\"#ed7953\"],[0.7777777777777778,\"#fb9f3a\"],[0.8888888888888888,\"#fdca26\"],[1.0,\"#f0f921\"]],\"type\":\"heatmapgl\"}],\"heatmap\":[{\"colorbar\":{\"outlinewidth\":0,\"ticks\":\"\"},\"colorscale\":[[0.0,\"#0d0887\"],[0.1111111111111111,\"#46039f\"],[0.2222222222222222,\"#7201a8\"],[0.3333333333333333,\"#9c179e\"],[0.4444444444444444,\"#bd3786\"],[0.5555555555555556,\"#d8576b\"],[0.6666666666666666,\"#ed7953\"],[0.7777777777777778,\"#fb9f3a\"],[0.8888888888888888,\"#fdca26\"],[1.0,\"#f0f921\"]],\"type\":\"heatmap\"}],\"histogram2dcontour\":[{\"colorbar\":{\"outlinewidth\":0,\"ticks\":\"\"},\"colorscale\":[[0.0,\"#0d0887\"],[0.1111111111111111,\"#46039f\"],[0.2222222222222222,\"#7201a8\"],[0.3333333333333333,\"#9c179e\"],[0.4444444444444444,\"#bd3786\"],[0.5555555555555556,\"#d8576b\"],[0.6666666666666666,\"#ed7953\"],[0.7777777777777778,\"#fb9f3a\"],[0.8888888888888888,\"#fdca26\"],[1.0,\"#f0f921\"]],\"type\":\"histogram2dcontour\"}],\"histogram2d\":[{\"colorbar\":{\"outlinewidth\":0,\"ticks\":\"\"},\"colorscale\":[[0.0,\"#0d0887\"],[0.1111111111111111,\"#46039f\"],[0.2222222222222222,\"#7201a8\"],[0.3333333333333333,\"#9c179e\"],[0.4444444444444444,\"#bd3786\"],[0.5555555555555556,\"#d8576b\"],[0.6666666666666666,\"#ed7953\"],[0.7777777777777778,\"#fb9f3a\"],[0.8888888888888888,\"#fdca26\"],[1.0,\"#f0f921\"]],\"type\":\"histogram2d\"}],\"histogram\":[{\"marker\":{\"pattern\":{\"fillmode\":\"overlay\",\"size\":10,\"solidity\":0.2}},\"type\":\"histogram\"}],\"mesh3d\":[{\"colorbar\":{\"outlinewidth\":0,\"ticks\":\"\"},\"type\":\"mesh3d\"}],\"parcoords\":[{\"line\":{\"colorbar\":{\"outlinewidth\":0,\"ticks\":\"\"}},\"type\":\"parcoords\"}],\"pie\":[{\"automargin\":true,\"type\":\"pie\"}],\"scatter3d\":[{\"line\":{\"colorbar\":{\"outlinewidth\":0,\"ticks\":\"\"}},\"marker\":{\"colorbar\":{\"outlinewidth\":0,\"ticks\":\"\"}},\"type\":\"scatter3d\"}],\"scattercarpet\":[{\"marker\":{\"colorbar\":{\"outlinewidth\":0,\"ticks\":\"\"}},\"type\":\"scattercarpet\"}],\"scattergeo\":[{\"marker\":{\"colorbar\":{\"outlinewidth\":0,\"ticks\":\"\"}},\"type\":\"scattergeo\"}],\"scattergl\":[{\"marker\":{\"colorbar\":{\"outlinewidth\":0,\"ticks\":\"\"}},\"type\":\"scattergl\"}],\"scattermapbox\":[{\"marker\":{\"colorbar\":{\"outlinewidth\":0,\"ticks\":\"\"}},\"type\":\"scattermapbox\"}],\"scatterpolargl\":[{\"marker\":{\"colorbar\":{\"outlinewidth\":0,\"ticks\":\"\"}},\"type\":\"scatterpolargl\"}],\"scatterpolar\":[{\"marker\":{\"colorbar\":{\"outlinewidth\":0,\"ticks\":\"\"}},\"type\":\"scatterpolar\"}],\"scatter\":[{\"fillpattern\":{\"fillmode\":\"overlay\",\"size\":10,\"solidity\":0.2},\"type\":\"scatter\"}],\"scatterternary\":[{\"marker\":{\"colorbar\":{\"outlinewidth\":0,\"ticks\":\"\"}},\"type\":\"scatterternary\"}],\"surface\":[{\"colorbar\":{\"outlinewidth\":0,\"ticks\":\"\"},\"colorscale\":[[0.0,\"#0d0887\"],[0.1111111111111111,\"#46039f\"],[0.2222222222222222,\"#7201a8\"],[0.3333333333333333,\"#9c179e\"],[0.4444444444444444,\"#bd3786\"],[0.5555555555555556,\"#d8576b\"],[0.6666666666666666,\"#ed7953\"],[0.7777777777777778,\"#fb9f3a\"],[0.8888888888888888,\"#fdca26\"],[1.0,\"#f0f921\"]],\"type\":\"surface\"}],\"table\":[{\"cells\":{\"fill\":{\"color\":\"#EBF0F8\"},\"line\":{\"color\":\"white\"}},\"header\":{\"fill\":{\"color\":\"#C8D4E3\"},\"line\":{\"color\":\"white\"}},\"type\":\"table\"}]},\"layout\":{\"annotationdefaults\":{\"arrowcolor\":\"#2a3f5f\",\"arrowhead\":0,\"arrowwidth\":1},\"autotypenumbers\":\"strict\",\"coloraxis\":{\"colorbar\":{\"outlinewidth\":0,\"ticks\":\"\"}},\"colorscale\":{\"diverging\":[[0,\"#8e0152\"],[0.1,\"#c51b7d\"],[0.2,\"#de77ae\"],[0.3,\"#f1b6da\"],[0.4,\"#fde0ef\"],[0.5,\"#f7f7f7\"],[0.6,\"#e6f5d0\"],[0.7,\"#b8e186\"],[0.8,\"#7fbc41\"],[0.9,\"#4d9221\"],[1,\"#276419\"]],\"sequential\":[[0.0,\"#0d0887\"],[0.1111111111111111,\"#46039f\"],[0.2222222222222222,\"#7201a8\"],[0.3333333333333333,\"#9c179e\"],[0.4444444444444444,\"#bd3786\"],[0.5555555555555556,\"#d8576b\"],[0.6666666666666666,\"#ed7953\"],[0.7777777777777778,\"#fb9f3a\"],[0.8888888888888888,\"#fdca26\"],[1.0,\"#f0f921\"]],\"sequentialminus\":[[0.0,\"#0d0887\"],[0.1111111111111111,\"#46039f\"],[0.2222222222222222,\"#7201a8\"],[0.3333333333333333,\"#9c179e\"],[0.4444444444444444,\"#bd3786\"],[0.5555555555555556,\"#d8576b\"],[0.6666666666666666,\"#ed7953\"],[0.7777777777777778,\"#fb9f3a\"],[0.8888888888888888,\"#fdca26\"],[1.0,\"#f0f921\"]]},\"colorway\":[\"#636efa\",\"#EF553B\",\"#00cc96\",\"#ab63fa\",\"#FFA15A\",\"#19d3f3\",\"#FF6692\",\"#B6E880\",\"#FF97FF\",\"#FECB52\"],\"font\":{\"color\":\"#2a3f5f\"},\"geo\":{\"bgcolor\":\"white\",\"lakecolor\":\"white\",\"landcolor\":\"white\",\"showlakes\":true,\"showland\":true,\"subunitcolor\":\"#C8D4E3\"},\"hoverlabel\":{\"align\":\"left\"},\"hovermode\":\"closest\",\"mapbox\":{\"style\":\"light\"},\"paper_bgcolor\":\"white\",\"plot_bgcolor\":\"white\",\"polar\":{\"angularaxis\":{\"gridcolor\":\"#EBF0F8\",\"linecolor\":\"#EBF0F8\",\"ticks\":\"\"},\"bgcolor\":\"white\",\"radialaxis\":{\"gridcolor\":\"#EBF0F8\",\"linecolor\":\"#EBF0F8\",\"ticks\":\"\"}},\"scene\":{\"xaxis\":{\"backgroundcolor\":\"white\",\"gridcolor\":\"#DFE8F3\",\"gridwidth\":2,\"linecolor\":\"#EBF0F8\",\"showbackground\":true,\"ticks\":\"\",\"zerolinecolor\":\"#EBF0F8\"},\"yaxis\":{\"backgroundcolor\":\"white\",\"gridcolor\":\"#DFE8F3\",\"gridwidth\":2,\"linecolor\":\"#EBF0F8\",\"showbackground\":true,\"ticks\":\"\",\"zerolinecolor\":\"#EBF0F8\"},\"zaxis\":{\"backgroundcolor\":\"white\",\"gridcolor\":\"#DFE8F3\",\"gridwidth\":2,\"linecolor\":\"#EBF0F8\",\"showbackground\":true,\"ticks\":\"\",\"zerolinecolor\":\"#EBF0F8\"}},\"shapedefaults\":{\"line\":{\"color\":\"#2a3f5f\"}},\"ternary\":{\"aaxis\":{\"gridcolor\":\"#DFE8F3\",\"linecolor\":\"#A2B1C6\",\"ticks\":\"\"},\"baxis\":{\"gridcolor\":\"#DFE8F3\",\"linecolor\":\"#A2B1C6\",\"ticks\":\"\"},\"bgcolor\":\"white\",\"caxis\":{\"gridcolor\":\"#DFE8F3\",\"linecolor\":\"#A2B1C6\",\"ticks\":\"\"}},\"title\":{\"x\":0.05},\"xaxis\":{\"automargin\":true,\"gridcolor\":\"#EBF0F8\",\"linecolor\":\"#EBF0F8\",\"ticks\":\"\",\"title\":{\"standoff\":15},\"zerolinecolor\":\"#EBF0F8\",\"zerolinewidth\":2},\"yaxis\":{\"automargin\":true,\"gridcolor\":\"#EBF0F8\",\"linecolor\":\"#EBF0F8\",\"ticks\":\"\",\"title\":{\"standoff\":15},\"zerolinecolor\":\"#EBF0F8\",\"zerolinewidth\":2}}},\"title\":{\"text\":\"Forecast vs Actuals for 7up Free (L3)\"},\"xaxis\":{\"title\":{\"text\":\"Date\"}},\"yaxis\":{\"title\":{\"text\":\"Sales\"},\"range\":[0,116284.00258170662]},\"showlegend\":true},                        {\"responsive\": true}                    ).then(function(){\n",
              "                            \n",
              "var gd = document.getElementById('9527db59-f4f7-43c0-a197-e1cec7ab270e');\n",
              "var x = new MutationObserver(function (mutations, observer) {{\n",
              "        var display = window.getComputedStyle(gd).display;\n",
              "        if (!display || display === 'none') {{\n",
              "            console.log([gd, 'removed!']);\n",
              "            Plotly.purge(gd);\n",
              "            observer.disconnect();\n",
              "        }}\n",
              "}});\n",
              "\n",
              "// Listen for the removal of the full notebook cells\n",
              "var notebookContainer = gd.closest('#notebook-container');\n",
              "if (notebookContainer) {{\n",
              "    x.observe(notebookContainer, {childList: true});\n",
              "}}\n",
              "\n",
              "// Listen for the clearing of the current output cell\n",
              "var outputEl = gd.closest('.output');\n",
              "if (outputEl) {{\n",
              "    x.observe(outputEl, {childList: true});\n",
              "}}\n",
              "\n",
              "                        })                };                            </script>        </div>\n",
              "</body>\n",
              "</html>"
            ]
          },
          "metadata": {}
        },
        {
          "output_type": "stream",
          "name": "stdout",
          "text": [
            "\n",
            "SUBMARCA - 7up Free (L3):\n",
            "     REAL_DATE    REAL_VALUE    PREDICTION   VALUE_DIFF PREDICTION_DATE  \\\n",
            "17 2023-01-01  54525.175586  60943.975454  6418.799868      2022-12-01   \n",
            "16 2023-02-01  50344.871190  56467.241411  6122.370222      2022-12-01   \n",
            "6  2023-03-01  64655.471450  69172.941141  4517.469691      2022-12-01   \n",
            "11 2023-04-01  54815.016250  55546.758200   731.741950      2022-12-01   \n",
            "\n",
            "    DATE_DIFF_DAYS  \n",
            "17              31  \n",
            "16              62  \n",
            "6               90  \n",
            "11             121  \n",
            "\n",
            "Las predicciones óptimas se calcularon en las siguientes fechas:  ['2022-12-01']\n",
            "\n",
            "Distancia Media: 2031.29\n",
            "Desviación Estándar: 2076.47\n"
          ]
        },
        {
          "output_type": "display_data",
          "data": {
            "text/html": [
              "<html>\n",
              "<head><meta charset=\"utf-8\" /></head>\n",
              "<body>\n",
              "    <div>            <script src=\"https://cdnjs.cloudflare.com/ajax/libs/mathjax/2.7.5/MathJax.js?config=TeX-AMS-MML_SVG\"></script><script type=\"text/javascript\">if (window.MathJax && window.MathJax.Hub && window.MathJax.Hub.Config) {window.MathJax.Hub.Config({SVG: {font: \"STIX-Web\"}});}</script>                <script type=\"text/javascript\">window.PlotlyConfig = {MathJaxConfig: 'local'};</script>\n",
              "        <script charset=\"utf-8\" src=\"https://cdn.plot.ly/plotly-2.35.2.min.js\"></script>                <div id=\"9ad7cc02-e828-4545-bd6a-a4756bd6a770\" class=\"plotly-graph-div\" style=\"height:525px; width:100%;\"></div>            <script type=\"text/javascript\">                                    window.PLOTLYENV=window.PLOTLYENV || {};                                    if (document.getElementById(\"9ad7cc02-e828-4545-bd6a-a4756bd6a770\")) {                    Plotly.newPlot(                        \"9ad7cc02-e828-4545-bd6a-a4756bd6a770\",                        [{\"hovertemplate\":\"\\u003cb\\u003eReal Date:\\u003c\\u002fb\\u003e %{text}\\u003cbr\\u003e\\u003cb\\u003eReal Value:\\u003c\\u002fb\\u003e %{y}\\u003cextra\\u003e\\u003c\\u002fextra\\u003e\",\"marker\":{\"color\":\"#457b9d\",\"size\":8},\"mode\":\"lines+markers\",\"name\":\"Actual Values\",\"text\":[\"2023-01-01\",\"2023-02-01\",\"2023-03-01\",\"2023-04-01\",\"2023-05-01\",\"2023-06-01\",\"2023-07-01\",\"2023-08-01\",\"2023-09-01\",\"2023-10-01\",\"2023-11-01\",\"2023-12-01\",\"2024-01-01\",\"2024-02-01\",\"2024-03-01\",\"2024-04-01\",\"2024-05-01\",\"2024-06-01\",\"2024-07-01\",\"2024-08-01\"],\"x\":[\"2023-01-01T00:00:00\",\"2023-02-01T00:00:00\",\"2023-03-01T00:00:00\",\"2023-04-01T00:00:00\",\"2023-05-01T00:00:00\",\"2023-06-01T00:00:00\",\"2023-07-01T00:00:00\",\"2023-08-01T00:00:00\",\"2023-09-01T00:00:00\",\"2023-10-01T00:00:00\",\"2023-11-01T00:00:00\",\"2023-12-01T00:00:00\",\"2024-01-01T00:00:00\",\"2024-02-01T00:00:00\",\"2024-03-01T00:00:00\",\"2024-04-01T00:00:00\",\"2024-05-01T00:00:00\",\"2024-06-01T00:00:00\",\"2024-07-01T00:00:00\",\"2024-08-01T00:00:00\"],\"y\":[78971.96959557036,69302.9735194043,94306.65094820118,73141.16028298099,82918.33366906652,91915.88401372284,103384.94030894028,106715.95381781296,84366.48226666574,92671.3869433897,99913.5795238565,100807.92233802738,71405.76048903509,76848.37996555197,66435.80973984348,74882.99296245942,77568.360654581,79701.862588321,95936.841771572,96514.247673526],\"type\":\"scatter\"},{\"hovertemplate\":\"\\u003cb\\u003ePrediction Date:\\u003c\\u002fb\\u003e %{text}\\u003cbr\\u003e\\u003cb\\u003eValue:\\u003c\\u002fb\\u003e %{y}\\u003cextra\\u003e\\u003c\\u002fextra\\u003e\",\"marker\":{\"color\":\"#8ecae6\",\"size\":8},\"mode\":\"lines+markers\",\"name\":\"Predictions\",\"text\":[\"2022-12-01\",\"2022-12-01\",\"2022-12-01\",\"2022-12-01\",\"2022-12-01\",\"2022-12-01\",\"2022-12-01\",\"2022-12-01\",\"2022-12-01\",\"2022-12-01\",\"2022-12-01\",\"2022-12-01\",\"2022-12-01\",\"2022-12-01\",\"2022-12-01\",\"2022-12-01\",\"2022-12-01\",\"2022-12-01\",\"2022-12-01\",\"2022-12-01\"],\"x\":[\"2023-01-01T00:00:00\",\"2023-02-01T00:00:00\",\"2023-03-01T00:00:00\",\"2023-04-01T00:00:00\",\"2023-05-01T00:00:00\",\"2023-06-01T00:00:00\",\"2023-07-01T00:00:00\",\"2023-08-01T00:00:00\",\"2023-09-01T00:00:00\",\"2023-10-01T00:00:00\",\"2023-11-01T00:00:00\",\"2023-12-01T00:00:00\",\"2024-01-01T00:00:00\",\"2024-02-01T00:00:00\",\"2024-03-01T00:00:00\",\"2024-04-01T00:00:00\",\"2024-05-01T00:00:00\",\"2024-06-01T00:00:00\",\"2024-07-01T00:00:00\",\"2024-08-01T00:00:00\"],\"y\":[52156.149274496944,65063.618869695885,68081.91771190088,66646.50847605168,69313.60916397133,93070.37510637032,107335.55538137109,110108.0889691098,81380.60088270345,91072.6668867953,74526.13376089299,98946.5096626945,65557.54970504565,59416.40457759978,66053.61523489036,67012.53246650503,67061.2922344097,79278.8981339029,96219.49563323832,96340.25633923404],\"type\":\"scatter\"}],                        {\"template\":{\"data\":{\"barpolar\":[{\"marker\":{\"line\":{\"color\":\"white\",\"width\":0.5},\"pattern\":{\"fillmode\":\"overlay\",\"size\":10,\"solidity\":0.2}},\"type\":\"barpolar\"}],\"bar\":[{\"error_x\":{\"color\":\"#2a3f5f\"},\"error_y\":{\"color\":\"#2a3f5f\"},\"marker\":{\"line\":{\"color\":\"white\",\"width\":0.5},\"pattern\":{\"fillmode\":\"overlay\",\"size\":10,\"solidity\":0.2}},\"type\":\"bar\"}],\"carpet\":[{\"aaxis\":{\"endlinecolor\":\"#2a3f5f\",\"gridcolor\":\"#C8D4E3\",\"linecolor\":\"#C8D4E3\",\"minorgridcolor\":\"#C8D4E3\",\"startlinecolor\":\"#2a3f5f\"},\"baxis\":{\"endlinecolor\":\"#2a3f5f\",\"gridcolor\":\"#C8D4E3\",\"linecolor\":\"#C8D4E3\",\"minorgridcolor\":\"#C8D4E3\",\"startlinecolor\":\"#2a3f5f\"},\"type\":\"carpet\"}],\"choropleth\":[{\"colorbar\":{\"outlinewidth\":0,\"ticks\":\"\"},\"type\":\"choropleth\"}],\"contourcarpet\":[{\"colorbar\":{\"outlinewidth\":0,\"ticks\":\"\"},\"type\":\"contourcarpet\"}],\"contour\":[{\"colorbar\":{\"outlinewidth\":0,\"ticks\":\"\"},\"colorscale\":[[0.0,\"#0d0887\"],[0.1111111111111111,\"#46039f\"],[0.2222222222222222,\"#7201a8\"],[0.3333333333333333,\"#9c179e\"],[0.4444444444444444,\"#bd3786\"],[0.5555555555555556,\"#d8576b\"],[0.6666666666666666,\"#ed7953\"],[0.7777777777777778,\"#fb9f3a\"],[0.8888888888888888,\"#fdca26\"],[1.0,\"#f0f921\"]],\"type\":\"contour\"}],\"heatmapgl\":[{\"colorbar\":{\"outlinewidth\":0,\"ticks\":\"\"},\"colorscale\":[[0.0,\"#0d0887\"],[0.1111111111111111,\"#46039f\"],[0.2222222222222222,\"#7201a8\"],[0.3333333333333333,\"#9c179e\"],[0.4444444444444444,\"#bd3786\"],[0.5555555555555556,\"#d8576b\"],[0.6666666666666666,\"#ed7953\"],[0.7777777777777778,\"#fb9f3a\"],[0.8888888888888888,\"#fdca26\"],[1.0,\"#f0f921\"]],\"type\":\"heatmapgl\"}],\"heatmap\":[{\"colorbar\":{\"outlinewidth\":0,\"ticks\":\"\"},\"colorscale\":[[0.0,\"#0d0887\"],[0.1111111111111111,\"#46039f\"],[0.2222222222222222,\"#7201a8\"],[0.3333333333333333,\"#9c179e\"],[0.4444444444444444,\"#bd3786\"],[0.5555555555555556,\"#d8576b\"],[0.6666666666666666,\"#ed7953\"],[0.7777777777777778,\"#fb9f3a\"],[0.8888888888888888,\"#fdca26\"],[1.0,\"#f0f921\"]],\"type\":\"heatmap\"}],\"histogram2dcontour\":[{\"colorbar\":{\"outlinewidth\":0,\"ticks\":\"\"},\"colorscale\":[[0.0,\"#0d0887\"],[0.1111111111111111,\"#46039f\"],[0.2222222222222222,\"#7201a8\"],[0.3333333333333333,\"#9c179e\"],[0.4444444444444444,\"#bd3786\"],[0.5555555555555556,\"#d8576b\"],[0.6666666666666666,\"#ed7953\"],[0.7777777777777778,\"#fb9f3a\"],[0.8888888888888888,\"#fdca26\"],[1.0,\"#f0f921\"]],\"type\":\"histogram2dcontour\"}],\"histogram2d\":[{\"colorbar\":{\"outlinewidth\":0,\"ticks\":\"\"},\"colorscale\":[[0.0,\"#0d0887\"],[0.1111111111111111,\"#46039f\"],[0.2222222222222222,\"#7201a8\"],[0.3333333333333333,\"#9c179e\"],[0.4444444444444444,\"#bd3786\"],[0.5555555555555556,\"#d8576b\"],[0.6666666666666666,\"#ed7953\"],[0.7777777777777778,\"#fb9f3a\"],[0.8888888888888888,\"#fdca26\"],[1.0,\"#f0f921\"]],\"type\":\"histogram2d\"}],\"histogram\":[{\"marker\":{\"pattern\":{\"fillmode\":\"overlay\",\"size\":10,\"solidity\":0.2}},\"type\":\"histogram\"}],\"mesh3d\":[{\"colorbar\":{\"outlinewidth\":0,\"ticks\":\"\"},\"type\":\"mesh3d\"}],\"parcoords\":[{\"line\":{\"colorbar\":{\"outlinewidth\":0,\"ticks\":\"\"}},\"type\":\"parcoords\"}],\"pie\":[{\"automargin\":true,\"type\":\"pie\"}],\"scatter3d\":[{\"line\":{\"colorbar\":{\"outlinewidth\":0,\"ticks\":\"\"}},\"marker\":{\"colorbar\":{\"outlinewidth\":0,\"ticks\":\"\"}},\"type\":\"scatter3d\"}],\"scattercarpet\":[{\"marker\":{\"colorbar\":{\"outlinewidth\":0,\"ticks\":\"\"}},\"type\":\"scattercarpet\"}],\"scattergeo\":[{\"marker\":{\"colorbar\":{\"outlinewidth\":0,\"ticks\":\"\"}},\"type\":\"scattergeo\"}],\"scattergl\":[{\"marker\":{\"colorbar\":{\"outlinewidth\":0,\"ticks\":\"\"}},\"type\":\"scattergl\"}],\"scattermapbox\":[{\"marker\":{\"colorbar\":{\"outlinewidth\":0,\"ticks\":\"\"}},\"type\":\"scattermapbox\"}],\"scatterpolargl\":[{\"marker\":{\"colorbar\":{\"outlinewidth\":0,\"ticks\":\"\"}},\"type\":\"scatterpolargl\"}],\"scatterpolar\":[{\"marker\":{\"colorbar\":{\"outlinewidth\":0,\"ticks\":\"\"}},\"type\":\"scatterpolar\"}],\"scatter\":[{\"fillpattern\":{\"fillmode\":\"overlay\",\"size\":10,\"solidity\":0.2},\"type\":\"scatter\"}],\"scatterternary\":[{\"marker\":{\"colorbar\":{\"outlinewidth\":0,\"ticks\":\"\"}},\"type\":\"scatterternary\"}],\"surface\":[{\"colorbar\":{\"outlinewidth\":0,\"ticks\":\"\"},\"colorscale\":[[0.0,\"#0d0887\"],[0.1111111111111111,\"#46039f\"],[0.2222222222222222,\"#7201a8\"],[0.3333333333333333,\"#9c179e\"],[0.4444444444444444,\"#bd3786\"],[0.5555555555555556,\"#d8576b\"],[0.6666666666666666,\"#ed7953\"],[0.7777777777777778,\"#fb9f3a\"],[0.8888888888888888,\"#fdca26\"],[1.0,\"#f0f921\"]],\"type\":\"surface\"}],\"table\":[{\"cells\":{\"fill\":{\"color\":\"#EBF0F8\"},\"line\":{\"color\":\"white\"}},\"header\":{\"fill\":{\"color\":\"#C8D4E3\"},\"line\":{\"color\":\"white\"}},\"type\":\"table\"}]},\"layout\":{\"annotationdefaults\":{\"arrowcolor\":\"#2a3f5f\",\"arrowhead\":0,\"arrowwidth\":1},\"autotypenumbers\":\"strict\",\"coloraxis\":{\"colorbar\":{\"outlinewidth\":0,\"ticks\":\"\"}},\"colorscale\":{\"diverging\":[[0,\"#8e0152\"],[0.1,\"#c51b7d\"],[0.2,\"#de77ae\"],[0.3,\"#f1b6da\"],[0.4,\"#fde0ef\"],[0.5,\"#f7f7f7\"],[0.6,\"#e6f5d0\"],[0.7,\"#b8e186\"],[0.8,\"#7fbc41\"],[0.9,\"#4d9221\"],[1,\"#276419\"]],\"sequential\":[[0.0,\"#0d0887\"],[0.1111111111111111,\"#46039f\"],[0.2222222222222222,\"#7201a8\"],[0.3333333333333333,\"#9c179e\"],[0.4444444444444444,\"#bd3786\"],[0.5555555555555556,\"#d8576b\"],[0.6666666666666666,\"#ed7953\"],[0.7777777777777778,\"#fb9f3a\"],[0.8888888888888888,\"#fdca26\"],[1.0,\"#f0f921\"]],\"sequentialminus\":[[0.0,\"#0d0887\"],[0.1111111111111111,\"#46039f\"],[0.2222222222222222,\"#7201a8\"],[0.3333333333333333,\"#9c179e\"],[0.4444444444444444,\"#bd3786\"],[0.5555555555555556,\"#d8576b\"],[0.6666666666666666,\"#ed7953\"],[0.7777777777777778,\"#fb9f3a\"],[0.8888888888888888,\"#fdca26\"],[1.0,\"#f0f921\"]]},\"colorway\":[\"#636efa\",\"#EF553B\",\"#00cc96\",\"#ab63fa\",\"#FFA15A\",\"#19d3f3\",\"#FF6692\",\"#B6E880\",\"#FF97FF\",\"#FECB52\"],\"font\":{\"color\":\"#2a3f5f\"},\"geo\":{\"bgcolor\":\"white\",\"lakecolor\":\"white\",\"landcolor\":\"white\",\"showlakes\":true,\"showland\":true,\"subunitcolor\":\"#C8D4E3\"},\"hoverlabel\":{\"align\":\"left\"},\"hovermode\":\"closest\",\"mapbox\":{\"style\":\"light\"},\"paper_bgcolor\":\"white\",\"plot_bgcolor\":\"white\",\"polar\":{\"angularaxis\":{\"gridcolor\":\"#EBF0F8\",\"linecolor\":\"#EBF0F8\",\"ticks\":\"\"},\"bgcolor\":\"white\",\"radialaxis\":{\"gridcolor\":\"#EBF0F8\",\"linecolor\":\"#EBF0F8\",\"ticks\":\"\"}},\"scene\":{\"xaxis\":{\"backgroundcolor\":\"white\",\"gridcolor\":\"#DFE8F3\",\"gridwidth\":2,\"linecolor\":\"#EBF0F8\",\"showbackground\":true,\"ticks\":\"\",\"zerolinecolor\":\"#EBF0F8\"},\"yaxis\":{\"backgroundcolor\":\"white\",\"gridcolor\":\"#DFE8F3\",\"gridwidth\":2,\"linecolor\":\"#EBF0F8\",\"showbackground\":true,\"ticks\":\"\",\"zerolinecolor\":\"#EBF0F8\"},\"zaxis\":{\"backgroundcolor\":\"white\",\"gridcolor\":\"#DFE8F3\",\"gridwidth\":2,\"linecolor\":\"#EBF0F8\",\"showbackground\":true,\"ticks\":\"\",\"zerolinecolor\":\"#EBF0F8\"}},\"shapedefaults\":{\"line\":{\"color\":\"#2a3f5f\"}},\"ternary\":{\"aaxis\":{\"gridcolor\":\"#DFE8F3\",\"linecolor\":\"#A2B1C6\",\"ticks\":\"\"},\"baxis\":{\"gridcolor\":\"#DFE8F3\",\"linecolor\":\"#A2B1C6\",\"ticks\":\"\"},\"bgcolor\":\"white\",\"caxis\":{\"gridcolor\":\"#DFE8F3\",\"linecolor\":\"#A2B1C6\",\"ticks\":\"\"}},\"title\":{\"x\":0.05},\"xaxis\":{\"automargin\":true,\"gridcolor\":\"#EBF0F8\",\"linecolor\":\"#EBF0F8\",\"ticks\":\"\",\"title\":{\"standoff\":15},\"zerolinecolor\":\"#EBF0F8\",\"zerolinewidth\":2},\"yaxis\":{\"automargin\":true,\"gridcolor\":\"#EBF0F8\",\"linecolor\":\"#EBF0F8\",\"ticks\":\"\",\"title\":{\"standoff\":15},\"zerolinecolor\":\"#EBF0F8\",\"zerolinewidth\":2}}},\"title\":{\"text\":\"Forecast vs Actuals for 7up (L3)\"},\"xaxis\":{\"title\":{\"text\":\"Date\"}},\"yaxis\":{\"title\":{\"text\":\"Sales\"},\"range\":[0,121118.8978660208]},\"showlegend\":true},                        {\"responsive\": true}                    ).then(function(){\n",
              "                            \n",
              "var gd = document.getElementById('9ad7cc02-e828-4545-bd6a-a4756bd6a770');\n",
              "var x = new MutationObserver(function (mutations, observer) {{\n",
              "        var display = window.getComputedStyle(gd).display;\n",
              "        if (!display || display === 'none') {{\n",
              "            console.log([gd, 'removed!']);\n",
              "            Plotly.purge(gd);\n",
              "            observer.disconnect();\n",
              "        }}\n",
              "}});\n",
              "\n",
              "// Listen for the removal of the full notebook cells\n",
              "var notebookContainer = gd.closest('#notebook-container');\n",
              "if (notebookContainer) {{\n",
              "    x.observe(notebookContainer, {childList: true});\n",
              "}}\n",
              "\n",
              "// Listen for the clearing of the current output cell\n",
              "var outputEl = gd.closest('.output');\n",
              "if (outputEl) {{\n",
              "    x.observe(outputEl, {childList: true});\n",
              "}}\n",
              "\n",
              "                        })                };                            </script>        </div>\n",
              "</body>\n",
              "</html>"
            ]
          },
          "metadata": {}
        },
        {
          "output_type": "stream",
          "name": "stdout",
          "text": [
            "\n",
            "SUBMARCA - 7up (L3):\n",
            "     REAL_DATE    REAL_VALUE    PREDICTION    VALUE_DIFF PREDICTION_DATE  \\\n",
            "12 2023-01-01  78971.969596  52156.149274  26815.820321      2022-12-01   \n",
            "18 2023-02-01  69302.973519  65063.618870   4239.354650      2022-12-01   \n",
            "9  2023-03-01  94306.650948  68081.917712  26224.733236      2022-12-01   \n",
            "4  2023-04-01  73141.160283  66646.508476   6494.651807      2022-12-01   \n",
            "\n",
            "    DATE_DIFF_DAYS  \n",
            "12              31  \n",
            "18              62  \n",
            "9               90  \n",
            "4              121  \n",
            "\n",
            "Las predicciones óptimas se calcularon en las siguientes fechas:  ['2022-12-01']\n",
            "\n",
            "Distancia Media: 8031.48\n",
            "Desviación Estándar: 9063.32\n"
          ]
        },
        {
          "output_type": "display_data",
          "data": {
            "text/html": [
              "<html>\n",
              "<head><meta charset=\"utf-8\" /></head>\n",
              "<body>\n",
              "    <div>            <script src=\"https://cdnjs.cloudflare.com/ajax/libs/mathjax/2.7.5/MathJax.js?config=TeX-AMS-MML_SVG\"></script><script type=\"text/javascript\">if (window.MathJax && window.MathJax.Hub && window.MathJax.Hub.Config) {window.MathJax.Hub.Config({SVG: {font: \"STIX-Web\"}});}</script>                <script type=\"text/javascript\">window.PlotlyConfig = {MathJaxConfig: 'local'};</script>\n",
              "        <script charset=\"utf-8\" src=\"https://cdn.plot.ly/plotly-2.35.2.min.js\"></script>                <div id=\"47f5306b-5ed5-4428-8909-7f8052f7bcbd\" class=\"plotly-graph-div\" style=\"height:525px; width:100%;\"></div>            <script type=\"text/javascript\">                                    window.PLOTLYENV=window.PLOTLYENV || {};                                    if (document.getElementById(\"47f5306b-5ed5-4428-8909-7f8052f7bcbd\")) {                    Plotly.newPlot(                        \"47f5306b-5ed5-4428-8909-7f8052f7bcbd\",                        [{\"hovertemplate\":\"\\u003cb\\u003eReal Date:\\u003c\\u002fb\\u003e %{text}\\u003cbr\\u003e\\u003cb\\u003eReal Value:\\u003c\\u002fb\\u003e %{y}\\u003cextra\\u003e\\u003c\\u002fextra\\u003e\",\"marker\":{\"color\":\"#457b9d\",\"size\":8},\"mode\":\"lines+markers\",\"name\":\"Actual Values\",\"text\":[\"2023-01-01\",\"2023-02-01\",\"2023-03-01\",\"2023-04-01\",\"2023-05-01\",\"2023-06-01\",\"2023-07-01\",\"2023-08-01\",\"2023-09-01\",\"2023-10-01\",\"2023-11-01\",\"2023-12-01\",\"2024-01-01\",\"2024-02-01\",\"2024-03-01\",\"2024-04-01\",\"2024-05-01\",\"2024-06-01\",\"2024-07-01\",\"2024-08-01\"],\"x\":[\"2023-01-01T00:00:00\",\"2023-02-01T00:00:00\",\"2023-03-01T00:00:00\",\"2023-04-01T00:00:00\",\"2023-05-01T00:00:00\",\"2023-06-01T00:00:00\",\"2023-07-01T00:00:00\",\"2023-08-01T00:00:00\",\"2023-09-01T00:00:00\",\"2023-10-01T00:00:00\",\"2023-11-01T00:00:00\",\"2023-12-01T00:00:00\",\"2024-01-01T00:00:00\",\"2024-02-01T00:00:00\",\"2024-03-01T00:00:00\",\"2024-04-01T00:00:00\",\"2024-05-01T00:00:00\",\"2024-06-01T00:00:00\",\"2024-07-01T00:00:00\",\"2024-08-01T00:00:00\"],\"y\":[9208.97938049918,10132.837981585457,9426.005681457948,9617.009842166068,11759.247227955731,11845.311399723854,13255.914481677031,16355.798251764669,10634.28934295154,10942.085509666931,8034.032890992088,8591.425799032075,7392.653203701226,8003.513133044036,6855.564870062626,9613.097292765917,8909.258698302,9739.012208266,15308.024486978,16677.562291743],\"type\":\"scatter\"},{\"hovertemplate\":\"\\u003cb\\u003ePrediction Date:\\u003c\\u002fb\\u003e %{text}\\u003cbr\\u003e\\u003cb\\u003eValue:\\u003c\\u002fb\\u003e %{y}\\u003cextra\\u003e\\u003c\\u002fextra\\u003e\",\"marker\":{\"color\":\"#8ecae6\",\"size\":8},\"mode\":\"lines+markers\",\"name\":\"Predictions\",\"text\":[\"2022-12-01\",\"2022-12-01\",\"2022-12-01\",\"2022-12-01\",\"2022-12-01\",\"2022-12-01\",\"2022-12-01\",\"2022-12-01\",\"2022-12-01\",\"2022-12-01\",\"2022-12-01\",\"2022-12-01\",\"2022-12-01\",\"2022-12-01\",\"2022-12-01\",\"2022-12-01\",\"2022-12-01\",\"2022-12-01\",\"2022-12-01\",\"2022-12-01\"],\"x\":[\"2023-01-01T00:00:00\",\"2023-02-01T00:00:00\",\"2023-03-01T00:00:00\",\"2023-04-01T00:00:00\",\"2023-05-01T00:00:00\",\"2023-06-01T00:00:00\",\"2023-07-01T00:00:00\",\"2023-08-01T00:00:00\",\"2023-09-01T00:00:00\",\"2023-10-01T00:00:00\",\"2023-11-01T00:00:00\",\"2023-12-01T00:00:00\",\"2024-01-01T00:00:00\",\"2024-02-01T00:00:00\",\"2024-03-01T00:00:00\",\"2024-04-01T00:00:00\",\"2024-05-01T00:00:00\",\"2024-06-01T00:00:00\",\"2024-07-01T00:00:00\",\"2024-08-01T00:00:00\"],\"y\":[7967.645287146979,7424.886701137902,9243.717389854992,11321.486196460868,10396.63448004105,12362.611877307972,11357.26927006688,18452.46394629014,12155.534624824884,12903.852762018098,9051.488347195764,8734.295811057702,6767.738847509074,8533.810923952316,6571.191899152116,9704.755668446707,9179.760049094522,10767.819493076526,14790.724676964865,16198.330597188458],\"type\":\"scatter\"}],                        {\"template\":{\"data\":{\"barpolar\":[{\"marker\":{\"line\":{\"color\":\"white\",\"width\":0.5},\"pattern\":{\"fillmode\":\"overlay\",\"size\":10,\"solidity\":0.2}},\"type\":\"barpolar\"}],\"bar\":[{\"error_x\":{\"color\":\"#2a3f5f\"},\"error_y\":{\"color\":\"#2a3f5f\"},\"marker\":{\"line\":{\"color\":\"white\",\"width\":0.5},\"pattern\":{\"fillmode\":\"overlay\",\"size\":10,\"solidity\":0.2}},\"type\":\"bar\"}],\"carpet\":[{\"aaxis\":{\"endlinecolor\":\"#2a3f5f\",\"gridcolor\":\"#C8D4E3\",\"linecolor\":\"#C8D4E3\",\"minorgridcolor\":\"#C8D4E3\",\"startlinecolor\":\"#2a3f5f\"},\"baxis\":{\"endlinecolor\":\"#2a3f5f\",\"gridcolor\":\"#C8D4E3\",\"linecolor\":\"#C8D4E3\",\"minorgridcolor\":\"#C8D4E3\",\"startlinecolor\":\"#2a3f5f\"},\"type\":\"carpet\"}],\"choropleth\":[{\"colorbar\":{\"outlinewidth\":0,\"ticks\":\"\"},\"type\":\"choropleth\"}],\"contourcarpet\":[{\"colorbar\":{\"outlinewidth\":0,\"ticks\":\"\"},\"type\":\"contourcarpet\"}],\"contour\":[{\"colorbar\":{\"outlinewidth\":0,\"ticks\":\"\"},\"colorscale\":[[0.0,\"#0d0887\"],[0.1111111111111111,\"#46039f\"],[0.2222222222222222,\"#7201a8\"],[0.3333333333333333,\"#9c179e\"],[0.4444444444444444,\"#bd3786\"],[0.5555555555555556,\"#d8576b\"],[0.6666666666666666,\"#ed7953\"],[0.7777777777777778,\"#fb9f3a\"],[0.8888888888888888,\"#fdca26\"],[1.0,\"#f0f921\"]],\"type\":\"contour\"}],\"heatmapgl\":[{\"colorbar\":{\"outlinewidth\":0,\"ticks\":\"\"},\"colorscale\":[[0.0,\"#0d0887\"],[0.1111111111111111,\"#46039f\"],[0.2222222222222222,\"#7201a8\"],[0.3333333333333333,\"#9c179e\"],[0.4444444444444444,\"#bd3786\"],[0.5555555555555556,\"#d8576b\"],[0.6666666666666666,\"#ed7953\"],[0.7777777777777778,\"#fb9f3a\"],[0.8888888888888888,\"#fdca26\"],[1.0,\"#f0f921\"]],\"type\":\"heatmapgl\"}],\"heatmap\":[{\"colorbar\":{\"outlinewidth\":0,\"ticks\":\"\"},\"colorscale\":[[0.0,\"#0d0887\"],[0.1111111111111111,\"#46039f\"],[0.2222222222222222,\"#7201a8\"],[0.3333333333333333,\"#9c179e\"],[0.4444444444444444,\"#bd3786\"],[0.5555555555555556,\"#d8576b\"],[0.6666666666666666,\"#ed7953\"],[0.7777777777777778,\"#fb9f3a\"],[0.8888888888888888,\"#fdca26\"],[1.0,\"#f0f921\"]],\"type\":\"heatmap\"}],\"histogram2dcontour\":[{\"colorbar\":{\"outlinewidth\":0,\"ticks\":\"\"},\"colorscale\":[[0.0,\"#0d0887\"],[0.1111111111111111,\"#46039f\"],[0.2222222222222222,\"#7201a8\"],[0.3333333333333333,\"#9c179e\"],[0.4444444444444444,\"#bd3786\"],[0.5555555555555556,\"#d8576b\"],[0.6666666666666666,\"#ed7953\"],[0.7777777777777778,\"#fb9f3a\"],[0.8888888888888888,\"#fdca26\"],[1.0,\"#f0f921\"]],\"type\":\"histogram2dcontour\"}],\"histogram2d\":[{\"colorbar\":{\"outlinewidth\":0,\"ticks\":\"\"},\"colorscale\":[[0.0,\"#0d0887\"],[0.1111111111111111,\"#46039f\"],[0.2222222222222222,\"#7201a8\"],[0.3333333333333333,\"#9c179e\"],[0.4444444444444444,\"#bd3786\"],[0.5555555555555556,\"#d8576b\"],[0.6666666666666666,\"#ed7953\"],[0.7777777777777778,\"#fb9f3a\"],[0.8888888888888888,\"#fdca26\"],[1.0,\"#f0f921\"]],\"type\":\"histogram2d\"}],\"histogram\":[{\"marker\":{\"pattern\":{\"fillmode\":\"overlay\",\"size\":10,\"solidity\":0.2}},\"type\":\"histogram\"}],\"mesh3d\":[{\"colorbar\":{\"outlinewidth\":0,\"ticks\":\"\"},\"type\":\"mesh3d\"}],\"parcoords\":[{\"line\":{\"colorbar\":{\"outlinewidth\":0,\"ticks\":\"\"}},\"type\":\"parcoords\"}],\"pie\":[{\"automargin\":true,\"type\":\"pie\"}],\"scatter3d\":[{\"line\":{\"colorbar\":{\"outlinewidth\":0,\"ticks\":\"\"}},\"marker\":{\"colorbar\":{\"outlinewidth\":0,\"ticks\":\"\"}},\"type\":\"scatter3d\"}],\"scattercarpet\":[{\"marker\":{\"colorbar\":{\"outlinewidth\":0,\"ticks\":\"\"}},\"type\":\"scattercarpet\"}],\"scattergeo\":[{\"marker\":{\"colorbar\":{\"outlinewidth\":0,\"ticks\":\"\"}},\"type\":\"scattergeo\"}],\"scattergl\":[{\"marker\":{\"colorbar\":{\"outlinewidth\":0,\"ticks\":\"\"}},\"type\":\"scattergl\"}],\"scattermapbox\":[{\"marker\":{\"colorbar\":{\"outlinewidth\":0,\"ticks\":\"\"}},\"type\":\"scattermapbox\"}],\"scatterpolargl\":[{\"marker\":{\"colorbar\":{\"outlinewidth\":0,\"ticks\":\"\"}},\"type\":\"scatterpolargl\"}],\"scatterpolar\":[{\"marker\":{\"colorbar\":{\"outlinewidth\":0,\"ticks\":\"\"}},\"type\":\"scatterpolar\"}],\"scatter\":[{\"fillpattern\":{\"fillmode\":\"overlay\",\"size\":10,\"solidity\":0.2},\"type\":\"scatter\"}],\"scatterternary\":[{\"marker\":{\"colorbar\":{\"outlinewidth\":0,\"ticks\":\"\"}},\"type\":\"scatterternary\"}],\"surface\":[{\"colorbar\":{\"outlinewidth\":0,\"ticks\":\"\"},\"colorscale\":[[0.0,\"#0d0887\"],[0.1111111111111111,\"#46039f\"],[0.2222222222222222,\"#7201a8\"],[0.3333333333333333,\"#9c179e\"],[0.4444444444444444,\"#bd3786\"],[0.5555555555555556,\"#d8576b\"],[0.6666666666666666,\"#ed7953\"],[0.7777777777777778,\"#fb9f3a\"],[0.8888888888888888,\"#fdca26\"],[1.0,\"#f0f921\"]],\"type\":\"surface\"}],\"table\":[{\"cells\":{\"fill\":{\"color\":\"#EBF0F8\"},\"line\":{\"color\":\"white\"}},\"header\":{\"fill\":{\"color\":\"#C8D4E3\"},\"line\":{\"color\":\"white\"}},\"type\":\"table\"}]},\"layout\":{\"annotationdefaults\":{\"arrowcolor\":\"#2a3f5f\",\"arrowhead\":0,\"arrowwidth\":1},\"autotypenumbers\":\"strict\",\"coloraxis\":{\"colorbar\":{\"outlinewidth\":0,\"ticks\":\"\"}},\"colorscale\":{\"diverging\":[[0,\"#8e0152\"],[0.1,\"#c51b7d\"],[0.2,\"#de77ae\"],[0.3,\"#f1b6da\"],[0.4,\"#fde0ef\"],[0.5,\"#f7f7f7\"],[0.6,\"#e6f5d0\"],[0.7,\"#b8e186\"],[0.8,\"#7fbc41\"],[0.9,\"#4d9221\"],[1,\"#276419\"]],\"sequential\":[[0.0,\"#0d0887\"],[0.1111111111111111,\"#46039f\"],[0.2222222222222222,\"#7201a8\"],[0.3333333333333333,\"#9c179e\"],[0.4444444444444444,\"#bd3786\"],[0.5555555555555556,\"#d8576b\"],[0.6666666666666666,\"#ed7953\"],[0.7777777777777778,\"#fb9f3a\"],[0.8888888888888888,\"#fdca26\"],[1.0,\"#f0f921\"]],\"sequentialminus\":[[0.0,\"#0d0887\"],[0.1111111111111111,\"#46039f\"],[0.2222222222222222,\"#7201a8\"],[0.3333333333333333,\"#9c179e\"],[0.4444444444444444,\"#bd3786\"],[0.5555555555555556,\"#d8576b\"],[0.6666666666666666,\"#ed7953\"],[0.7777777777777778,\"#fb9f3a\"],[0.8888888888888888,\"#fdca26\"],[1.0,\"#f0f921\"]]},\"colorway\":[\"#636efa\",\"#EF553B\",\"#00cc96\",\"#ab63fa\",\"#FFA15A\",\"#19d3f3\",\"#FF6692\",\"#B6E880\",\"#FF97FF\",\"#FECB52\"],\"font\":{\"color\":\"#2a3f5f\"},\"geo\":{\"bgcolor\":\"white\",\"lakecolor\":\"white\",\"landcolor\":\"white\",\"showlakes\":true,\"showland\":true,\"subunitcolor\":\"#C8D4E3\"},\"hoverlabel\":{\"align\":\"left\"},\"hovermode\":\"closest\",\"mapbox\":{\"style\":\"light\"},\"paper_bgcolor\":\"white\",\"plot_bgcolor\":\"white\",\"polar\":{\"angularaxis\":{\"gridcolor\":\"#EBF0F8\",\"linecolor\":\"#EBF0F8\",\"ticks\":\"\"},\"bgcolor\":\"white\",\"radialaxis\":{\"gridcolor\":\"#EBF0F8\",\"linecolor\":\"#EBF0F8\",\"ticks\":\"\"}},\"scene\":{\"xaxis\":{\"backgroundcolor\":\"white\",\"gridcolor\":\"#DFE8F3\",\"gridwidth\":2,\"linecolor\":\"#EBF0F8\",\"showbackground\":true,\"ticks\":\"\",\"zerolinecolor\":\"#EBF0F8\"},\"yaxis\":{\"backgroundcolor\":\"white\",\"gridcolor\":\"#DFE8F3\",\"gridwidth\":2,\"linecolor\":\"#EBF0F8\",\"showbackground\":true,\"ticks\":\"\",\"zerolinecolor\":\"#EBF0F8\"},\"zaxis\":{\"backgroundcolor\":\"white\",\"gridcolor\":\"#DFE8F3\",\"gridwidth\":2,\"linecolor\":\"#EBF0F8\",\"showbackground\":true,\"ticks\":\"\",\"zerolinecolor\":\"#EBF0F8\"}},\"shapedefaults\":{\"line\":{\"color\":\"#2a3f5f\"}},\"ternary\":{\"aaxis\":{\"gridcolor\":\"#DFE8F3\",\"linecolor\":\"#A2B1C6\",\"ticks\":\"\"},\"baxis\":{\"gridcolor\":\"#DFE8F3\",\"linecolor\":\"#A2B1C6\",\"ticks\":\"\"},\"bgcolor\":\"white\",\"caxis\":{\"gridcolor\":\"#DFE8F3\",\"linecolor\":\"#A2B1C6\",\"ticks\":\"\"}},\"title\":{\"x\":0.05},\"xaxis\":{\"automargin\":true,\"gridcolor\":\"#EBF0F8\",\"linecolor\":\"#EBF0F8\",\"ticks\":\"\",\"title\":{\"standoff\":15},\"zerolinecolor\":\"#EBF0F8\",\"zerolinewidth\":2},\"yaxis\":{\"automargin\":true,\"gridcolor\":\"#EBF0F8\",\"linecolor\":\"#EBF0F8\",\"ticks\":\"\",\"title\":{\"standoff\":15},\"zerolinecolor\":\"#EBF0F8\",\"zerolinewidth\":2}}},\"title\":{\"text\":\"Forecast vs Actuals for Lipton (L3)\"},\"xaxis\":{\"title\":{\"text\":\"Date\"}},\"yaxis\":{\"title\":{\"text\":\"Sales\"},\"range\":[0,20297.710340919155]},\"showlegend\":true},                        {\"responsive\": true}                    ).then(function(){\n",
              "                            \n",
              "var gd = document.getElementById('47f5306b-5ed5-4428-8909-7f8052f7bcbd');\n",
              "var x = new MutationObserver(function (mutations, observer) {{\n",
              "        var display = window.getComputedStyle(gd).display;\n",
              "        if (!display || display === 'none') {{\n",
              "            console.log([gd, 'removed!']);\n",
              "            Plotly.purge(gd);\n",
              "            observer.disconnect();\n",
              "        }}\n",
              "}});\n",
              "\n",
              "// Listen for the removal of the full notebook cells\n",
              "var notebookContainer = gd.closest('#notebook-container');\n",
              "if (notebookContainer) {{\n",
              "    x.observe(notebookContainer, {childList: true});\n",
              "}}\n",
              "\n",
              "// Listen for the clearing of the current output cell\n",
              "var outputEl = gd.closest('.output');\n",
              "if (outputEl) {{\n",
              "    x.observe(outputEl, {childList: true});\n",
              "}}\n",
              "\n",
              "                        })                };                            </script>        </div>\n",
              "</body>\n",
              "</html>"
            ]
          },
          "metadata": {}
        },
        {
          "output_type": "stream",
          "name": "stdout",
          "text": [
            "\n",
            "SUBMARCA - Lipton (L3):\n",
            "     REAL_DATE    REAL_VALUE    PREDICTION   VALUE_DIFF PREDICTION_DATE  \\\n",
            "17 2023-01-01   9208.979380   7967.645287  1241.334093      2022-12-01   \n",
            "14 2023-02-01  10132.837982   7424.886701  2707.951280      2022-12-01   \n",
            "10 2023-03-01   9426.005681   9243.717390   182.288292      2022-12-01   \n",
            "12 2023-04-01   9617.009842  11321.486196  1704.476354      2022-12-01   \n",
            "\n",
            "    DATE_DIFF_DAYS  \n",
            "17              31  \n",
            "14              62  \n",
            "10              90  \n",
            "12             121  \n",
            "\n",
            "Las predicciones óptimas se calcularon en las siguientes fechas:  ['2022-12-01']\n",
            "\n",
            "Distancia Media: 1009.08\n",
            "Desviación Estándar: 767.11\n"
          ]
        }
      ]
    },
    {
      "cell_type": "markdown",
      "source": [
        "Con el cálculo de la distancia media entre predicciones y valores reales, se vuelve a confirmar la problemática que el modelo de predicción presenta para la submarca 7up.\n",
        "\n",
        "De acuerdo con los resultados obtenidos, se logra encontrar un patrón bastante claro en lo que respecta a la línea temporal de las predicciones más precisas. En España, para los resultados mensuales de cada submarca, se consiguió predecir el volumen de ventas con mayor tasa de éxito en el mes de diciembre del año 2022. Así, se puede estimar que los datos recogidos hasta ese momento junto a la proyección del comportamiento comercial ofrecieron las mejores condiciones para obtener un modelo predictivo adecuado y cercano a la realidad."
      ],
      "metadata": {
        "id": "85YqSwWVF-i8"
      }
    }
  ]
}